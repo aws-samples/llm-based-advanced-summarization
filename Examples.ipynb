{
 "cells": [
  {
   "cell_type": "markdown",
   "id": "1ec3045c-90d3-4920-8aa3-0350bb841540",
   "metadata": {},
   "source": [
    "# Examples\n",
    "This notebook shows examples of how to use the summazation functions found in the rest of this repo, and compares their output."
   ]
  },
  {
   "cell_type": "code",
   "execution_count": null,
   "id": "9d8c708c-1db8-4a6f-b94e-b4a3f36e4e33",
   "metadata": {
    "tags": []
   },
   "outputs": [],
   "source": [
    "#!pip install ipynb"
   ]
  },
  {
   "cell_type": "code",
   "execution_count": 2,
   "id": "01b0dd12-b8c3-44fd-8fc8-427fc43866a6",
   "metadata": {
    "tags": []
   },
   "outputs": [],
   "source": [
    "import pickle"
   ]
  },
  {
   "cell_type": "code",
   "execution_count": 3,
   "id": "58ebc137-9f6e-470b-93b7-6bcb35714707",
   "metadata": {
    "tags": []
   },
   "outputs": [],
   "source": [
    "from ipynb.fs.full.simple_summarize import stuff_it_summary, map_reduce_summary\n",
    "from ipynb.fs.full.advanced_summarize import generate_single_doc_summary, generate_multiple_docs_summary"
   ]
  },
  {
   "cell_type": "code",
   "execution_count": 28,
   "id": "dff2e170-ee1f-488f-8072-46b4e60f3600",
   "metadata": {
    "tags": []
   },
   "outputs": [
    {
     "name": "stdout",
     "output_type": "stream",
     "text": [
      "Loaded  hills.pkl\n",
      "Document length in characters: 7607\n"
     ]
    }
   ],
   "source": [
    "#for sample texts are provided in this repo, or load your own here!\n",
    "#all functions expect your document to be a single python string,\n",
    "#or an array of strings for multiple docs.\n",
    "\n",
    "text_to_open_short = 'sample texts/hills.pkl'  #2-3 page story, Hills like White Elephants\n",
    "text_to_open_mid = 'sample texts/algernon.pkl'  #short story, Flowers for Algernon\n",
    "text_to_open_long = 'sample texts/frankenstien.pkl' #short novel, Frankenstine\n",
    "text_to_open_short_factual = 'sample texts/elvis.pkl'  #longest wikipedia article, Elvis.\n",
    "text_to_open_multi_docs = 'sample texts/docs.pkl'  #a series of amazon reviews for padle ball paddles\n",
    "#switch this to any of the above.\n",
    "doc_to_open = text_to_open_short\n",
    "\n",
    "with open(doc_to_open, 'rb') as file:\n",
    "    #note that here, we're loading a single text, but the examples below require each text to be in a list.\n",
    "    doc = pickle.load(file)\n",
    "print (\"Loaded \",doc_to_open.replace(\"sample texts/\",\"\"))\n",
    "print (\"Document length in characters:\",len(doc))\n",
    "\n",
    "#set up some basic prompt options for the advanced summary functions.\n",
    "prompt_options = {}\n",
    "prompt_options['prompt_type'] = \"summary\"\n",
    "prompt_options['format_type'] = \"narrative\"\n",
    "prompt_options['manual_guidance'] = \"\"\n",
    "prompt_options['style_guide'] = \"\""
   ]
  },
  {
   "cell_type": "markdown",
   "id": "92377496-315f-4879-b410-808f1867588f",
   "metadata": {},
   "source": [
    "### Example with a single document"
   ]
  },
  {
   "cell_type": "code",
   "execution_count": 5,
   "id": "84638202-2547-4914-961c-8c38921fe4b3",
   "metadata": {
    "collapsed": true,
    "jupyter": {
     "outputs_hidden": true
    },
    "tags": []
   },
   "outputs": [
    {
     "name": "stdout",
     "output_type": "stream",
     "text": [
      " Here is a concise narrative summary of the passage:\n",
      "\n",
      "An American man and a girl named Jig are sitting outside a train station bar in Spain, waiting for a train to Madrid. It is a hot day and they order beers. Jig looks at the hills across the valley and remarks that they look like white elephants. The man dismisses her observation. \n",
      "\n",
      "They dance around an operation the man wants Jig to have, which is implied to be an abortion. He says it is simple and will make everything fine again between them, but Jig is reluctant. She asks if he will still love her and be happy if she has the operation. He says he loves her now and will love her after. \n",
      "\n",
      "Jig walks to the end of the station and looks out at the fields and mountains, saying they could have everything but instead are making it all impossible. The man tries to convince her to have the operation if it's important to her, but that he doesn't want her to do it if she doesn't want to. \n",
      "\n",
      "When he goes to move their bags, Jig asks him to stop talking about it. When he returns, she says she feels fine and they sit waiting for the train to come, not speaking further about the operation.\n",
      "CPU times: user 22.4 ms, sys: 4.51 ms, total: 26.9 ms\n",
      "Wall time: 21.2 s\n"
     ]
    }
   ],
   "source": [
    "%%time\n",
    "print (stuff_it_summary(doc))"
   ]
  },
  {
   "cell_type": "code",
   "execution_count": 6,
   "id": "22bb5502-2e49-4d0d-912e-38c0bd2b4a25",
   "metadata": {
    "collapsed": true,
    "jupyter": {
     "outputs_hidden": true
    },
    "tags": []
   },
   "outputs": [
    {
     "name": "stdout",
     "output_type": "stream",
     "text": [
      "Text was split into 2 docs\n",
      "\n",
      "\n",
      "The story depicts a complex relationship between a man and a woman traveling together. There is a disconnect between them, evident through their poor communication and disagreement over the woman's pregnancy. The two seem disillusioned with life and their relationship, searching for meaning through their transient lifestyle. As they have drinks at a train station bar, the landscape and nature surround them, contrasting with the impermanence of their hotels and trains. The references to white elephants symbolize something unwanted, likely the pregnancy. The woman grapples with the decision to have an abortion, which the man seems to want but the woman seems ambivalent about. She desires stability with the man but feels this is impossible now. There is a sense of loss - of innocence, simplicity and optimism. The couple struggles to understand each other's perspectives and find a way forward together.\n",
      "CPU times: user 155 ms, sys: 29.1 ms, total: 184 ms\n",
      "Wall time: 29.4 s\n"
     ]
    }
   ],
   "source": [
    "%%time\n",
    "print (map_reduce_summary(doc, DEBUG=True))"
   ]
  },
  {
   "cell_type": "code",
   "execution_count": 7,
   "id": "2683aabe-14e6-4ab5-8826-5b832e314a94",
   "metadata": {
    "collapsed": true,
    "jupyter": {
     "outputs_hidden": true
    },
    "tags": []
   },
   "outputs": [
    {
     "name": "stdout",
     "output_type": "stream",
     "text": [
      "Generating a new combined summary for 4 chunks.\n",
      "Partial summary chunks done!\n",
      "Creating joint summary...\n",
      "Chunk summaries token count: 1244\n",
      "Final merge of summary chunks, merging 4 summaries.\n",
      "First summary:\n",
      "A man and a woman are sitting at a table outside a train station bar in Spain, waiting for the express train from Barcelona to arrive in 40 minutes. It is very hot, so they decide to order two large beers to drink while they wait. A woman brings them the beers and felt pads to put them on the table. \n",
      "\n",
      "The girl looks across the valley at some long white hills shining in the sun and remarks that they look like white elephants. The man agrees it is a clever observation, though he has never actually seen a white elephant. The girl reflects that all they seem to do is look at things and try new drinks. \n",
      "\n",
      "She notices the bamboo bead curtain for the bar is painted with an advertisement for a drink called Anis del Toro. They order two with water. The girl tastes it and says it has a licorice taste. This makes her reflect that everything you wait a long time for ends up disappointing, like absinthe. The man tells her not to talk so negatively. She accuses him of starting the cynicism. He protests he was just trying to have fun.\n",
      "\n",
      "The man suggests they try to have a fine time together, but the girl seems unconvinced. He refers to a simple \"operation\" she could have that would \"let the air in.\" It becomes clear he is suggesting she get an abortion. The girl seems reluctant. The man assures her it is a simple operation and they will be happy again afterward like before. But the girl questions if they will really be happy. The man insists they will be fine afterward. \n",
      "\n",
      "The girl acknowledges knowing people who were happy after having abortions, but still seeks reassurance that the man will be happy and love her again if she goes through with it. He insists he loves her now, but she questions if his feelings will change after the operation. \n",
      "\n",
      "The man reiterates he doesn't want her to do it if she doesn't want to, but thinks it is for the best. The girl decides to do it because she only cares about him, not herself. The man protests that he does care about her. The girl insists she only cares about him and wants to make him happy. \n",
      "\n",
      "At this point the man says he doesn't want her to do it if she feels that way. The girl walks to the end of the station and stares at the landscape, realizing they could have everything but are making it impossible. When the man asks what she said, she repeats that they could have everything. He asserts optimistically they can have the whole world, but she disagrees. \n",
      "\n",
      "He urges her to come back in the shade and not feel that way. She claims not to feel any way, just to know things. The man reiterates he doesn't want her to do anything against her will. They agree to have another beer but he urges her to realize he doesn't want her to do anything she doesn't want to do. She says she understands but asks him to stop talking about it.\n",
      "Asking the LLM to find weaknesses in this summary...\n",
      "Questions from the LLM:\n",
      "The top 10 most important questions about this text that cannot be answered by the text itself are:\n",
      "\n",
      "1. What is the relationship between the man and woman (e.g. are they a couple, married, etc.)?\n",
      "\n",
      "2. What are their names and backgrounds? \n",
      "\n",
      "3. Why are they waiting for the train? Where are they going?\n",
      "\n",
      "4. What happened in their relationship before this conversation that has led to the topic of abortion?\n",
      "\n",
      "5. How old are the man and woman?\n",
      "\n",
      "6. What are their views on abortion? Do they have religious/moral objections?\n",
      "\n",
      "7. Whose idea was the abortion - the man's or the woman's? \n",
      "\n",
      "8. Does the woman already have children? Is this her first pregnancy?\n",
      "\n",
      "9. What is the legal status of abortion in this setting? \n",
      "\n",
      "10. How does their conversation end? Does she go through with the abortion or not?\n",
      "Generating answers using 4 chunks.\n",
      "Partial summary chunks done!\n",
      "Creating joint summary...\n",
      "Chunk summaries token count: 688\n",
      "Final merge of summary chunks, merging 4 summaries.\n",
      "Additional Details:\n",
      "A man and woman sit together at a table in a train station bar, seeming to know each other and be comfortable together as they order drinks. The woman removes her hat and places it on the table, a sign of intimacy, as they discuss trying a new alcoholic drink, showing their shared interest in new experiences. \n",
      "\n",
      "However, there are hints of disconnect between them. The woman gazes off while the man drinks his beer, and they briefly disagree about whether he has seen white elephants before. When the woman comments on things you wait a long time for tasting like licorice, the man tells her to stop, implying some conflict.\n",
      "\n",
      "It becomes clear they are in a relationship and are facing a decision about abortion, which is causing tension. The man says he does not want the woman to do anything she does not want to do, suggesting it was originally his idea. The woman seems more reluctant and unsure. References to the man loving her and wanting things to be nice again indicate previous intimacy. \n",
      "\n",
      "Their ages, relationship status, backgrounds, and views on abortion are not provided. They are simply waiting at the train station bar for a train to an unknown destination. The legality of abortion where they are is also not specified.\n",
      "\n",
      "As they wait, the man moves their bags across the station to prepare for the train and watches other people drinking. The woman says she will scream, distressed about the situation. They order drinks with water and she comments on the taste. \n",
      "\n",
      "The conversation ends without revealing if she will actually go through with the abortion or not, leaving their conflict unresolved.\n",
      "Merging details into original summary...\n",
      "A man and woman sit together at a table in a train station bar in Spain, seeming to know each other and be comfortable together as they order drinks. The woman removes her hat and places it on the table, a sign of intimacy, as they discuss trying a new alcoholic drink called Anis del Toro, showing their shared interest in new experiences. \n",
      "\n",
      "However, there are hints of disconnect between them. The woman gazes off while the man drinks his beer, and they briefly disagree about whether he has seen white elephants before. When the woman comments on things you wait a long time for tasting like licorice, the man tells her to stop, implying some conflict. \n",
      "\n",
      "It becomes clear they are in a relationship and are facing a decision about abortion, which is causing tension. The man says he does not want the woman to do anything she does not want to do, suggesting it was originally his idea that she get the abortion. The woman seems more reluctant and unsure about going through with it. References to the man loving her and wanting things to be nice again indicate previous intimacy in their relationship.\n",
      "\n",
      "As they wait for the train to arrive, the man moves their bags across the station to prepare for the train and watches other people drinking. The woman says she will scream, distressed about the abortion situation. They order more drinks with water and she comments on the licorice taste. \n",
      "\n",
      "Their ages, relationship status, backgrounds, and views on abortion are not provided. The legality of abortion where they are in Spain is also not specified. \n",
      "\n",
      "The conversation ends without revealing if she will actually go through with the abortion or not, leaving their conflict unresolved as the train is about to arrive to take them to an unknown destination.\n",
      "CPU times: user 170 ms, sys: 21.4 ms, total: 192 ms\n",
      "Wall time: 1min 27s\n"
     ]
    }
   ],
   "source": [
    "%%time\n",
    "print (generate_single_doc_summary(doc,prompt_options,AUTO_REFINE=True, DEBUG=True))"
   ]
  },
  {
   "cell_type": "markdown",
   "id": "65b9cb82-f842-44ba-855d-6285b10a4aad",
   "metadata": {},
   "source": [
    "### Example with multiple documents"
   ]
  },
  {
   "cell_type": "code",
   "execution_count": 14,
   "id": "285eafb7-f0ec-46b3-b33f-5788a8e10902",
   "metadata": {
    "tags": []
   },
   "outputs": [
    {
     "name": "stdout",
     "output_type": "stream",
     "text": [
      "Loaded  docs.pkl\n",
      "Number of documents: 10\n"
     ]
    }
   ],
   "source": [
    "#for sample texts are provided in this repo, or load your own here!\n",
    "text_to_open_multi_docs = 'sample texts/docs.pkl'  #a series of amazon reviews for padle ball paddles\n",
    "#switch this to any of the above.\n",
    "doc_to_open = text_to_open_multi_docs\n",
    "\n",
    "with open(doc_to_open, 'rb') as file:\n",
    "    #note that here, we're loading a single text, but the examples below require each text to be in a list.\n",
    "    docs = pickle.load(file)\n",
    "print (\"Loaded \",doc_to_open.replace(\"sample texts/\",\"\"))\n",
    "print (\"Number of documents:\",len(docs))\n",
    "\n",
    "#set up some basic prompt options for the advanced summary functions.\n",
    "prompt_options = {}\n",
    "prompt_options['prompt_type'] = \"summary\"\n",
    "prompt_options['format_type'] = \"narrative\"\n",
    "prompt_options['manual_guidance'] = \"\"\n",
    "prompt_options['style_guide'] = \"\"\n",
    "\n",
    "#create a list of questions for the muti-doc guided process\n",
    "questions = [ \"What is a brief, concise summary of the general sentiment towards this product?\",\n",
    "    \"What are the top three good things about this product?\",\n",
    "\"What are the top three challenges or negative comments made about this product?\"]\n",
    "\n",
    "#create a discription of this set of documents, for the multi-doc guided process.\n",
    "doc_description = \"The texts are a collection of product reviews for a specifc Pickle Ball paddle set.\""
   ]
  },
  {
   "cell_type": "code",
   "execution_count": 33,
   "id": "d68df3e5-5584-4e28-a560-069b2c51fa5d",
   "metadata": {
    "tags": []
   },
   "outputs": [],
   "source": [
    "#cram the docs into a single string, for the fuctions that only take one doc.\n",
    "doc = ', '.join(docs.values())"
   ]
  },
  {
   "cell_type": "code",
   "execution_count": 34,
   "id": "8a151c06-c142-4baa-bb94-e6a2e9904813",
   "metadata": {
    "collapsed": true,
    "jupyter": {
     "outputs_hidden": true
    },
    "tags": []
   },
   "outputs": [
    {
     "name": "stdout",
     "output_type": "stream",
     "text": [
      " Here is a concise narrative summary of the key points from the reviews:\n",
      "\n",
      "The Panel Sound pickleball paddle set receives mostly positive reviews for its quality and value. The lightweight yet durable paddles provide good control and power. The set comes with both indoor and outdoor balls, a carrying case, cooling towels, and a messenger-style gear bag for convenience. Some users mention the paddles are easy to maneuver even for beginners and petite players. \n",
      "\n",
      "However, a few users faced issues like the cooling towels being small, paddles breaking after short-term use, and quality concerns with paddles made in China. One user was unable to contact the manufacturer for warranty claims. Others mention the paddles lacked power compared to other brands.\n",
      "\n",
      "Overall, most reviews highlight the paddles' responsive construction, the variety of accessories included, and the set's versatility for both indoor and outdoor pickleball. But durability concerns, warranty issues, and paddle power are called into question by a minority of users.\n",
      "CPU times: user 25.5 ms, sys: 0 ns, total: 25.5 ms\n",
      "Wall time: 14.6 s\n"
     ]
    }
   ],
   "source": [
    "%%time\n",
    "print (stuff_it_summary(doc))"
   ]
  },
  {
   "cell_type": "code",
   "execution_count": 35,
   "id": "ebb7112d-d1bf-4661-908d-72ddf3337aec",
   "metadata": {
    "collapsed": true,
    "jupyter": {
     "outputs_hidden": true
    },
    "tags": []
   },
   "outputs": [
    {
     "name": "stdout",
     "output_type": "stream",
     "text": [
      "Text was split into 2 docs\n",
      "\n",
      "\n",
      "The Franklin Sports Pickleball Paddle Set receives mixed reviews. On the positive side, customers praise the lightweight paddles for providing good control and power on the court. The set offers versatility for different players and environments with its assortment of indoor and outdoor balls. The complete package with paddles, balls, carrying case and accessories is seen as good overall value. Beginners also find the paddles easy to maneuver. However, there are significant complaints about durability issues with the paddles breaking or coming loose quickly. Several reviewers got very little use out of the set before problems arose, leaving them dissatisfied with the purchase. A common frustration is the difficulty contacting the seller for warranty claims or returns due to unsatisfactory customer service. While the carrying case and accessories are appreciated, the core paddles themselves receive poor marks from a number of customers. Ultimately, the positives of versatility and value are outweighed for many by the negatives of paddle quality and lack of customer support.\n",
      "CPU times: user 44.8 ms, sys: 2.82 ms, total: 47.6 ms\n",
      "Wall time: 29.5 s\n"
     ]
    }
   ],
   "source": [
    "%%time\n",
    "print (map_reduce_summary(doc, DEBUG=True))"
   ]
  },
  {
   "cell_type": "code",
   "execution_count": 36,
   "id": "8657eb67-4fd1-46f1-8489-11831803523c",
   "metadata": {
    "collapsed": true,
    "jupyter": {
     "outputs_hidden": true
    },
    "tags": []
   },
   "outputs": [
    {
     "name": "stdout",
     "output_type": "stream",
     "text": [
      "Generating a new combined summary for 4 chunks.\n",
      "Partial summary chunks done!\n",
      "Creating joint summary...\n",
      "Chunk summaries token count: 839\n",
      "Final merge of summary chunks, merging 4 summaries.\n",
      "First summary:\n",
      "A customer purchased a pickleball set from Panel Sound that included lightweight fiberglass paddles, indoor and outdoor balls, a messenger-style carrying bag, cooling towels, and other accessories. Their daughter loved the set, noting how the bag kept everything organized and the paddles provided good control and power. She liked it so much they bought a second set for her to use at her grandparents' house. After 2 months, the original ball was still in good condition. The customer felt the set exceeded expectations by providing a complete package for all skill levels with the quality paddles, versatile balls, and accessories. \n",
      "\n",
      "Another customer, new to pickleball, thought it was a good value set to start with. They noted the paddles worked well for them and their husband despite size differences, though felt the instructions could be better on ball types. A third customer decided to try pickleball as its popularity rose. After browsing reviews, they ordered this set. They found the grip, case, balls, and overall product seem good but had nothing to compare it to. One customer's husband wanted the set due to the fad, and while they only used it once or twice, they liked the case and contents. They hope to use it again.  \n",
      "\n",
      "However, some customers experienced issues with the paddles coming loose or breaking. One customer used the paddles individually for 4 days before one came loose during play, and the other later also became loose and wobbly. They are frustrated because the paddles broke so quickly in less than a month of light use. They feel the paddles should have lasted longer, are too light, and lack power. The 30 day return period passed before they realized the issues, so no refund was possible. The paddles were made in China, and the manufacturer could not be contacted to honor the warranty. Amazon provided no assistance. Another customer's paddle broke in half after one use, advising people to get a different, sturdier brand. A third customer's paddle shattered inside after less than a year of use, also feeling the quality was poor. No warranty information could be found.\n",
      "Asking the LLM to find weaknesses in this summary...\n",
      "Questions from the LLM:\n",
      "1. What brand were the paddles that broke or came loose? Were they the same brand as the full set purchased?\n",
      "\n",
      "2. How often and intensely were the paddles used before they broke or came loose?\n",
      "\n",
      "3. What was the warranty period and coverage for the paddles and full set? \n",
      "\n",
      "4. What material were the paddles made from that broke or came loose?\n",
      "\n",
      "5. What was the manufacturer's response when customers tried to contact them about broken or loose paddles?\n",
      "\n",
      "6. How long after purchase did the paddles break or come loose for each customer reporting issues?\n",
      "\n",
      "7. What were the specific issues with the instructions on ball types that one customer mentioned?\n",
      "\n",
      "8. What were the differences in paddle size between the husband and wife that found the paddles still worked well?\n",
      "\n",
      "9. What features of the grip, case, and balls did the new pickleball player find good?\n",
      "\n",
      "10. How often did the customer who used the set once or twice end up using it after the initial 1-2 times?\n",
      "Generating answers using 4 chunks.\n",
      "Partial summary chunks done!\n",
      "Creating joint summary...\n",
      "Chunk summaries token count: 702\n",
      "Final merge of summary chunks, merging 4 summaries.\n",
      "Additional Details:\n",
      "The text does not specify the brand of the pickleball paddle set that was purchased and contained paddles that later broke or came loose. It also does not mention how often or intensely the paddles were used before they broke or came loose. No information is provided about the warranty period or coverage for the paddles or the full set that was purchased. The material the broken or loose paddles were made from is also not specified. The text does not indicate if customers tried to contact the manufacturer about the broken or loose paddles or what the response may have been. There are no exact timeframes given for when the paddles broke or came loose after the original purchase. One customer found the grip on the paddles, case, and balls good while another was a new player. The text does not outline any specific issues with the instructions provided on ball types. One customer was petite and not athletic while her husband was larger, but the paddles still worked well for both of them despite the size difference. No further information is given about frequency of use after the initial 1-2 times for the customer who only used the set once or twice originally.\n",
      "Merging details into original summary...\n",
      "A customer purchased a pickleball set of unknown brand from Panel Sound that included lightweight fiberglass paddles, indoor and outdoor balls, a messenger-style carrying bag, cooling towels, and other accessories. Their daughter loved the set, noting how the bag kept everything organized and the paddles provided good control and power. She liked it so much they bought a second set for her to use at her grandparents' house. After 2 months of unknown frequency of use, the original ball was still in good condition. The customer felt the set exceeded expectations by providing a complete package for all skill levels with the quality paddles, versatile balls, and accessories.  \n",
      "\n",
      "Another customer, new to pickleball, thought it was a good value set to start with. They noted the paddles worked well for them and their husband despite size differences, though felt the instructions could be better on ball types. A third customer decided to try pickleball as its popularity rose. After browsing reviews, they ordered this set. They found the grip, case, balls, and overall product seem good but had nothing to compare it to. One customer's husband wanted the set due to the fad, and while they only used it once or twice originally, they liked the case and contents. They did not provide details on frequency of use after the initial 1-2 times.  \n",
      "\n",
      "However, some customers experienced issues with the paddles of unknown material coming loose or breaking after an unspecified warranty period. One customer used the paddles individually for 4 days before one came loose during play, and the other later also became loose and wobbly. They are frustrated because the paddles broke so quickly in less than a month of light use. They feel the paddles should have lasted longer, are too light, and lack power. The 30 day return period passed before they realized the issues, so no refund was possible. The manufacturer could not be contacted to honor the unknown warranty period or coverage. Amazon provided no assistance. Another customer's paddle broke in half after one use, advising people to get a different, sturdier brand. A third customer's paddle shattered inside after less than a year of unknown frequency of use, also feeling the quality was poor. No warranty information could be found.\n",
      "CPU times: user 186 ms, sys: 10.1 ms, total: 196 ms\n",
      "Wall time: 1min 19s\n"
     ]
    }
   ],
   "source": [
    "%%time\n",
    "print (generate_single_doc_summary(doc,prompt_options,AUTO_REFINE=True, DEBUG=True))"
   ]
  },
  {
   "cell_type": "code",
   "execution_count": 15,
   "id": "89dc16ac-2ea9-4d7b-8f92-d792edb1437b",
   "metadata": {
    "tags": []
   },
   "outputs": [
    {
     "name": "stdout",
     "output_type": "stream",
     "text": [
      "Starting 30 worker threads.\n",
      "All documents have been read.  Reducing answers into the final summary...\n",
      "Combining 8 chunks.  (Currently there are 10 answers to each question.)\n",
      "Starting 6 worker threads.\n",
      "Creating the final summary for each question.\n",
      "Starting 3 worker threads.\n",
      "\n",
      "What is a brief, concise summary of the general sentiment towards this product?\n",
      "\n",
      "Based on the summaries, the Panel Sound pickleball paddle set received mixed reviews. Many customers appreciated the lightweight yet sturdy fiberglass paddles and the included accessories like the carrying case, balls, and cooling towels. The paddle set was easy to use for beginners and allowed both petite and larger players to enjoy the game. However, some customers experienced issues with paddle durability, reporting paddles breaking or becoming loose after only a short period of use. The paddles were described as lacking power and control when this happened. One customer could not find warranty information and had no support from the manufacturer. Overall, while some users were satisfied with the performance and convenience of the paddle set, the product quality and durability appears to be questionable, especially compared to other brands. The mixed experiences suggest the paddle set works for casual or new pickleball players, but those wanting a high-performing, long-lasting paddle set may need to consider other options.\n",
      "\n",
      "What are the top three good things about this product?\n",
      "\n",
      "Based on the summaries, the Panel Sound Pickleball Paddle Set has several positive features. First, the set comes with a useful messenger-style carrying bag that keeps the paddles and balls organized, enhancing portability. Second, the paddles themselves are lightweight yet sturdy, allowing for better maneuverability and control during gameplay. The responsive construction and grippy, ergonomic handles provide precise shots. Finally, the set includes a variety of indoor and outdoor balls and other accessories like cooling towels, demonstrating attention to detail and adaptability to different playing environments. The overall set seems to offer good quality and value.\n",
      "\n",
      "What are the top three challenges or negative comments made about this product?\n",
      "\n",
      "Based on the facts summarized, the top three challenges or negative comments about the Panel Sound pickleball paddle set are:\n",
      "1. The paddles broke very quickly - within 4 days for one customer and 9 months for another customer. Both reported the paddles breaking, becoming loose and wobbling during use. This indicates poor durability and quality.\n",
      "2. Customers had issues contacting the manufacturer Panel Sound for returns, refunds or warranty support. One customer could not contact them at all. Another said Panel Sound would not honor the warranty. This indicates poor customer service and difficulty getting support from the manufacturer.\n",
      "3. Multiple reviewers and customers described the Panel Sound paddles as too lightweight, having no power, and overall low quality compared to other pickleball paddle sets. One customer called the situation with Panel Sound \"disgraceful.\" This indicates the paddles do not perform well and customers are very dissatisfied with their purchase.\n",
      "In summary, the main challenges reported were the paddles breaking quickly, lack of customer support from the manufacturer, and paddles being too lightweight and low quality compared to competitors. Addressing the durability, customer service and performance of the paddles could help improve customer satisfaction.\n",
      "CPU times: user 63.5 ms, sys: 8.2 ms, total: 71.7 ms\n",
      "Wall time: 46.9 s\n"
     ]
    }
   ],
   "source": [
    "%%time\n",
    "answers = generate_multiple_docs_summary(docs, questions, doc_description, DEBUG=True)\n",
    "\n",
    "for question in answers:\n",
    "    print ()\n",
    "    print (question)\n",
    "    print ()\n",
    "    print (answers[question].replace(\"\\n\\n\",\"\\n\"))"
   ]
  },
  {
   "cell_type": "code",
   "execution_count": null,
   "id": "43d5f26d-7663-4804-9862-4e08d55b26f5",
   "metadata": {},
   "outputs": [],
   "source": []
  }
 ],
 "metadata": {
  "availableInstances": [
   {
    "_defaultOrder": 0,
    "_isFastLaunch": true,
    "category": "General purpose",
    "gpuNum": 0,
    "hideHardwareSpecs": false,
    "memoryGiB": 4,
    "name": "ml.t3.medium",
    "vcpuNum": 2
   },
   {
    "_defaultOrder": 1,
    "_isFastLaunch": false,
    "category": "General purpose",
    "gpuNum": 0,
    "hideHardwareSpecs": false,
    "memoryGiB": 8,
    "name": "ml.t3.large",
    "vcpuNum": 2
   },
   {
    "_defaultOrder": 2,
    "_isFastLaunch": false,
    "category": "General purpose",
    "gpuNum": 0,
    "hideHardwareSpecs": false,
    "memoryGiB": 16,
    "name": "ml.t3.xlarge",
    "vcpuNum": 4
   },
   {
    "_defaultOrder": 3,
    "_isFastLaunch": false,
    "category": "General purpose",
    "gpuNum": 0,
    "hideHardwareSpecs": false,
    "memoryGiB": 32,
    "name": "ml.t3.2xlarge",
    "vcpuNum": 8
   },
   {
    "_defaultOrder": 4,
    "_isFastLaunch": true,
    "category": "General purpose",
    "gpuNum": 0,
    "hideHardwareSpecs": false,
    "memoryGiB": 8,
    "name": "ml.m5.large",
    "vcpuNum": 2
   },
   {
    "_defaultOrder": 5,
    "_isFastLaunch": false,
    "category": "General purpose",
    "gpuNum": 0,
    "hideHardwareSpecs": false,
    "memoryGiB": 16,
    "name": "ml.m5.xlarge",
    "vcpuNum": 4
   },
   {
    "_defaultOrder": 6,
    "_isFastLaunch": false,
    "category": "General purpose",
    "gpuNum": 0,
    "hideHardwareSpecs": false,
    "memoryGiB": 32,
    "name": "ml.m5.2xlarge",
    "vcpuNum": 8
   },
   {
    "_defaultOrder": 7,
    "_isFastLaunch": false,
    "category": "General purpose",
    "gpuNum": 0,
    "hideHardwareSpecs": false,
    "memoryGiB": 64,
    "name": "ml.m5.4xlarge",
    "vcpuNum": 16
   },
   {
    "_defaultOrder": 8,
    "_isFastLaunch": false,
    "category": "General purpose",
    "gpuNum": 0,
    "hideHardwareSpecs": false,
    "memoryGiB": 128,
    "name": "ml.m5.8xlarge",
    "vcpuNum": 32
   },
   {
    "_defaultOrder": 9,
    "_isFastLaunch": false,
    "category": "General purpose",
    "gpuNum": 0,
    "hideHardwareSpecs": false,
    "memoryGiB": 192,
    "name": "ml.m5.12xlarge",
    "vcpuNum": 48
   },
   {
    "_defaultOrder": 10,
    "_isFastLaunch": false,
    "category": "General purpose",
    "gpuNum": 0,
    "hideHardwareSpecs": false,
    "memoryGiB": 256,
    "name": "ml.m5.16xlarge",
    "vcpuNum": 64
   },
   {
    "_defaultOrder": 11,
    "_isFastLaunch": false,
    "category": "General purpose",
    "gpuNum": 0,
    "hideHardwareSpecs": false,
    "memoryGiB": 384,
    "name": "ml.m5.24xlarge",
    "vcpuNum": 96
   },
   {
    "_defaultOrder": 12,
    "_isFastLaunch": false,
    "category": "General purpose",
    "gpuNum": 0,
    "hideHardwareSpecs": false,
    "memoryGiB": 8,
    "name": "ml.m5d.large",
    "vcpuNum": 2
   },
   {
    "_defaultOrder": 13,
    "_isFastLaunch": false,
    "category": "General purpose",
    "gpuNum": 0,
    "hideHardwareSpecs": false,
    "memoryGiB": 16,
    "name": "ml.m5d.xlarge",
    "vcpuNum": 4
   },
   {
    "_defaultOrder": 14,
    "_isFastLaunch": false,
    "category": "General purpose",
    "gpuNum": 0,
    "hideHardwareSpecs": false,
    "memoryGiB": 32,
    "name": "ml.m5d.2xlarge",
    "vcpuNum": 8
   },
   {
    "_defaultOrder": 15,
    "_isFastLaunch": false,
    "category": "General purpose",
    "gpuNum": 0,
    "hideHardwareSpecs": false,
    "memoryGiB": 64,
    "name": "ml.m5d.4xlarge",
    "vcpuNum": 16
   },
   {
    "_defaultOrder": 16,
    "_isFastLaunch": false,
    "category": "General purpose",
    "gpuNum": 0,
    "hideHardwareSpecs": false,
    "memoryGiB": 128,
    "name": "ml.m5d.8xlarge",
    "vcpuNum": 32
   },
   {
    "_defaultOrder": 17,
    "_isFastLaunch": false,
    "category": "General purpose",
    "gpuNum": 0,
    "hideHardwareSpecs": false,
    "memoryGiB": 192,
    "name": "ml.m5d.12xlarge",
    "vcpuNum": 48
   },
   {
    "_defaultOrder": 18,
    "_isFastLaunch": false,
    "category": "General purpose",
    "gpuNum": 0,
    "hideHardwareSpecs": false,
    "memoryGiB": 256,
    "name": "ml.m5d.16xlarge",
    "vcpuNum": 64
   },
   {
    "_defaultOrder": 19,
    "_isFastLaunch": false,
    "category": "General purpose",
    "gpuNum": 0,
    "hideHardwareSpecs": false,
    "memoryGiB": 384,
    "name": "ml.m5d.24xlarge",
    "vcpuNum": 96
   },
   {
    "_defaultOrder": 20,
    "_isFastLaunch": false,
    "category": "General purpose",
    "gpuNum": 0,
    "hideHardwareSpecs": true,
    "memoryGiB": 0,
    "name": "ml.geospatial.interactive",
    "supportedImageNames": [
     "sagemaker-geospatial-v1-0"
    ],
    "vcpuNum": 0
   },
   {
    "_defaultOrder": 21,
    "_isFastLaunch": true,
    "category": "Compute optimized",
    "gpuNum": 0,
    "hideHardwareSpecs": false,
    "memoryGiB": 4,
    "name": "ml.c5.large",
    "vcpuNum": 2
   },
   {
    "_defaultOrder": 22,
    "_isFastLaunch": false,
    "category": "Compute optimized",
    "gpuNum": 0,
    "hideHardwareSpecs": false,
    "memoryGiB": 8,
    "name": "ml.c5.xlarge",
    "vcpuNum": 4
   },
   {
    "_defaultOrder": 23,
    "_isFastLaunch": false,
    "category": "Compute optimized",
    "gpuNum": 0,
    "hideHardwareSpecs": false,
    "memoryGiB": 16,
    "name": "ml.c5.2xlarge",
    "vcpuNum": 8
   },
   {
    "_defaultOrder": 24,
    "_isFastLaunch": false,
    "category": "Compute optimized",
    "gpuNum": 0,
    "hideHardwareSpecs": false,
    "memoryGiB": 32,
    "name": "ml.c5.4xlarge",
    "vcpuNum": 16
   },
   {
    "_defaultOrder": 25,
    "_isFastLaunch": false,
    "category": "Compute optimized",
    "gpuNum": 0,
    "hideHardwareSpecs": false,
    "memoryGiB": 72,
    "name": "ml.c5.9xlarge",
    "vcpuNum": 36
   },
   {
    "_defaultOrder": 26,
    "_isFastLaunch": false,
    "category": "Compute optimized",
    "gpuNum": 0,
    "hideHardwareSpecs": false,
    "memoryGiB": 96,
    "name": "ml.c5.12xlarge",
    "vcpuNum": 48
   },
   {
    "_defaultOrder": 27,
    "_isFastLaunch": false,
    "category": "Compute optimized",
    "gpuNum": 0,
    "hideHardwareSpecs": false,
    "memoryGiB": 144,
    "name": "ml.c5.18xlarge",
    "vcpuNum": 72
   },
   {
    "_defaultOrder": 28,
    "_isFastLaunch": false,
    "category": "Compute optimized",
    "gpuNum": 0,
    "hideHardwareSpecs": false,
    "memoryGiB": 192,
    "name": "ml.c5.24xlarge",
    "vcpuNum": 96
   },
   {
    "_defaultOrder": 29,
    "_isFastLaunch": true,
    "category": "Accelerated computing",
    "gpuNum": 1,
    "hideHardwareSpecs": false,
    "memoryGiB": 16,
    "name": "ml.g4dn.xlarge",
    "vcpuNum": 4
   },
   {
    "_defaultOrder": 30,
    "_isFastLaunch": false,
    "category": "Accelerated computing",
    "gpuNum": 1,
    "hideHardwareSpecs": false,
    "memoryGiB": 32,
    "name": "ml.g4dn.2xlarge",
    "vcpuNum": 8
   },
   {
    "_defaultOrder": 31,
    "_isFastLaunch": false,
    "category": "Accelerated computing",
    "gpuNum": 1,
    "hideHardwareSpecs": false,
    "memoryGiB": 64,
    "name": "ml.g4dn.4xlarge",
    "vcpuNum": 16
   },
   {
    "_defaultOrder": 32,
    "_isFastLaunch": false,
    "category": "Accelerated computing",
    "gpuNum": 1,
    "hideHardwareSpecs": false,
    "memoryGiB": 128,
    "name": "ml.g4dn.8xlarge",
    "vcpuNum": 32
   },
   {
    "_defaultOrder": 33,
    "_isFastLaunch": false,
    "category": "Accelerated computing",
    "gpuNum": 4,
    "hideHardwareSpecs": false,
    "memoryGiB": 192,
    "name": "ml.g4dn.12xlarge",
    "vcpuNum": 48
   },
   {
    "_defaultOrder": 34,
    "_isFastLaunch": false,
    "category": "Accelerated computing",
    "gpuNum": 1,
    "hideHardwareSpecs": false,
    "memoryGiB": 256,
    "name": "ml.g4dn.16xlarge",
    "vcpuNum": 64
   },
   {
    "_defaultOrder": 35,
    "_isFastLaunch": false,
    "category": "Accelerated computing",
    "gpuNum": 1,
    "hideHardwareSpecs": false,
    "memoryGiB": 61,
    "name": "ml.p3.2xlarge",
    "vcpuNum": 8
   },
   {
    "_defaultOrder": 36,
    "_isFastLaunch": false,
    "category": "Accelerated computing",
    "gpuNum": 4,
    "hideHardwareSpecs": false,
    "memoryGiB": 244,
    "name": "ml.p3.8xlarge",
    "vcpuNum": 32
   },
   {
    "_defaultOrder": 37,
    "_isFastLaunch": false,
    "category": "Accelerated computing",
    "gpuNum": 8,
    "hideHardwareSpecs": false,
    "memoryGiB": 488,
    "name": "ml.p3.16xlarge",
    "vcpuNum": 64
   },
   {
    "_defaultOrder": 38,
    "_isFastLaunch": false,
    "category": "Accelerated computing",
    "gpuNum": 8,
    "hideHardwareSpecs": false,
    "memoryGiB": 768,
    "name": "ml.p3dn.24xlarge",
    "vcpuNum": 96
   },
   {
    "_defaultOrder": 39,
    "_isFastLaunch": false,
    "category": "Memory Optimized",
    "gpuNum": 0,
    "hideHardwareSpecs": false,
    "memoryGiB": 16,
    "name": "ml.r5.large",
    "vcpuNum": 2
   },
   {
    "_defaultOrder": 40,
    "_isFastLaunch": false,
    "category": "Memory Optimized",
    "gpuNum": 0,
    "hideHardwareSpecs": false,
    "memoryGiB": 32,
    "name": "ml.r5.xlarge",
    "vcpuNum": 4
   },
   {
    "_defaultOrder": 41,
    "_isFastLaunch": false,
    "category": "Memory Optimized",
    "gpuNum": 0,
    "hideHardwareSpecs": false,
    "memoryGiB": 64,
    "name": "ml.r5.2xlarge",
    "vcpuNum": 8
   },
   {
    "_defaultOrder": 42,
    "_isFastLaunch": false,
    "category": "Memory Optimized",
    "gpuNum": 0,
    "hideHardwareSpecs": false,
    "memoryGiB": 128,
    "name": "ml.r5.4xlarge",
    "vcpuNum": 16
   },
   {
    "_defaultOrder": 43,
    "_isFastLaunch": false,
    "category": "Memory Optimized",
    "gpuNum": 0,
    "hideHardwareSpecs": false,
    "memoryGiB": 256,
    "name": "ml.r5.8xlarge",
    "vcpuNum": 32
   },
   {
    "_defaultOrder": 44,
    "_isFastLaunch": false,
    "category": "Memory Optimized",
    "gpuNum": 0,
    "hideHardwareSpecs": false,
    "memoryGiB": 384,
    "name": "ml.r5.12xlarge",
    "vcpuNum": 48
   },
   {
    "_defaultOrder": 45,
    "_isFastLaunch": false,
    "category": "Memory Optimized",
    "gpuNum": 0,
    "hideHardwareSpecs": false,
    "memoryGiB": 512,
    "name": "ml.r5.16xlarge",
    "vcpuNum": 64
   },
   {
    "_defaultOrder": 46,
    "_isFastLaunch": false,
    "category": "Memory Optimized",
    "gpuNum": 0,
    "hideHardwareSpecs": false,
    "memoryGiB": 768,
    "name": "ml.r5.24xlarge",
    "vcpuNum": 96
   },
   {
    "_defaultOrder": 47,
    "_isFastLaunch": false,
    "category": "Accelerated computing",
    "gpuNum": 1,
    "hideHardwareSpecs": false,
    "memoryGiB": 16,
    "name": "ml.g5.xlarge",
    "vcpuNum": 4
   },
   {
    "_defaultOrder": 48,
    "_isFastLaunch": false,
    "category": "Accelerated computing",
    "gpuNum": 1,
    "hideHardwareSpecs": false,
    "memoryGiB": 32,
    "name": "ml.g5.2xlarge",
    "vcpuNum": 8
   },
   {
    "_defaultOrder": 49,
    "_isFastLaunch": false,
    "category": "Accelerated computing",
    "gpuNum": 1,
    "hideHardwareSpecs": false,
    "memoryGiB": 64,
    "name": "ml.g5.4xlarge",
    "vcpuNum": 16
   },
   {
    "_defaultOrder": 50,
    "_isFastLaunch": false,
    "category": "Accelerated computing",
    "gpuNum": 1,
    "hideHardwareSpecs": false,
    "memoryGiB": 128,
    "name": "ml.g5.8xlarge",
    "vcpuNum": 32
   },
   {
    "_defaultOrder": 51,
    "_isFastLaunch": false,
    "category": "Accelerated computing",
    "gpuNum": 1,
    "hideHardwareSpecs": false,
    "memoryGiB": 256,
    "name": "ml.g5.16xlarge",
    "vcpuNum": 64
   },
   {
    "_defaultOrder": 52,
    "_isFastLaunch": false,
    "category": "Accelerated computing",
    "gpuNum": 4,
    "hideHardwareSpecs": false,
    "memoryGiB": 192,
    "name": "ml.g5.12xlarge",
    "vcpuNum": 48
   },
   {
    "_defaultOrder": 53,
    "_isFastLaunch": false,
    "category": "Accelerated computing",
    "gpuNum": 4,
    "hideHardwareSpecs": false,
    "memoryGiB": 384,
    "name": "ml.g5.24xlarge",
    "vcpuNum": 96
   },
   {
    "_defaultOrder": 54,
    "_isFastLaunch": false,
    "category": "Accelerated computing",
    "gpuNum": 8,
    "hideHardwareSpecs": false,
    "memoryGiB": 768,
    "name": "ml.g5.48xlarge",
    "vcpuNum": 192
   },
   {
    "_defaultOrder": 55,
    "_isFastLaunch": false,
    "category": "Accelerated computing",
    "gpuNum": 8,
    "hideHardwareSpecs": false,
    "memoryGiB": 1152,
    "name": "ml.p4d.24xlarge",
    "vcpuNum": 96
   },
   {
    "_defaultOrder": 56,
    "_isFastLaunch": false,
    "category": "Accelerated computing",
    "gpuNum": 8,
    "hideHardwareSpecs": false,
    "memoryGiB": 1152,
    "name": "ml.p4de.24xlarge",
    "vcpuNum": 96
   }
  ],
  "instance_type": "ml.t3.medium",
  "kernelspec": {
   "display_name": "Python 3 (Data Science 3.0)",
   "language": "python",
   "name": "python3__SAGEMAKER_INTERNAL__arn:aws:sagemaker:us-east-1:081325390199:image/sagemaker-data-science-310-v1"
  },
  "language_info": {
   "codemirror_mode": {
    "name": "ipython",
    "version": 3
   },
   "file_extension": ".py",
   "mimetype": "text/x-python",
   "name": "python",
   "nbconvert_exporter": "python",
   "pygments_lexer": "ipython3",
   "version": "3.10.6"
  }
 },
 "nbformat": 4,
 "nbformat_minor": 5
}
