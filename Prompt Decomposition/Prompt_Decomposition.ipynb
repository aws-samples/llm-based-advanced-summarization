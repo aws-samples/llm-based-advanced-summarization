{
 "cells": [
  {
   "cell_type": "markdown",
   "id": "b4c5ad2e-7475-48e1-a34c-127e28bb3674",
   "metadata": {
    "tags": []
   },
   "source": [
    "# Prompt Decomposition Example\n",
    "This notebook contains examples of prompt decomposition, or taking one long prompt or task and breaking it down into smaller parts.  These smaller parts can then be run independantly, often in parallel, and often on smaller models.  This can lead to significant performance enhancements and cost savings, may increase quality, and will make your prompts much easier to maintain as the workload grows.  This is because each step can be maintained and tested independantly, and can run on different models.  You can also alter any one step without impacting all the others.\n",
    "\n",
    "Here are three common times when Prompt Decomposition can be helpful:\n",
    "\n",
    "  1)  Breaking multi-step prompts into a maintainable DAG.  This can be helpful when a prompt reads like code, with a large number of steps or if/then instructions.  Instead, consider breaking these out and generating a flow diagram, resulting in maintainable individual pieces.\n",
    "  2)  Streamlining long linear prompts.  Even where prompts have only a single logical flow, if they are long, it can help to break the flow into small, sequential steps.  These steps combined may execute faster than the long original prompt, and they can also be maintained and tested independently. \n",
    "  3) Preprocessing of RAG or context data.  For example, if context data is large, such as a long support document, consider a prompt that summarizes that content once, then future queries (from the same or different conversations) retrieve the cached summary rather than the long document. \n",
    "  \n",
    "This notebook follows this structure:\n",
    "1) Set up the envionment\n",
    "    * Functions for connecting to Bedrock, including multithreading\n",
    "    * Evaluation functions, for measuring the accuracy of each prompt\n",
    "2) Examples of decomposition\n",
    "    * Task based decomposition\n",
    "    * Volume based decomposition"
   ]
  },
  {
   "cell_type": "markdown",
   "id": "0f93e1be-d464-4f6c-8019-31e15a5450a7",
   "metadata": {
    "jp-MarkdownHeadingCollapsed": true,
    "tags": []
   },
   "source": [
    "# 1) Set up the envionment"
   ]
  },
  {
   "cell_type": "code",
   "execution_count": 6,
   "id": "d4e65081-5f5b-4153-97b8-333df3be2332",
   "metadata": {},
   "outputs": [],
   "source": [
    "#for connecting with Bedrock, use Boto3\n",
    "import boto3, time, json\n",
    "from botocore.config import Config\n",
    "\n",
    "#increase the standard time out limits in boto3, because Bedrock may take a while to respond to large requests.\n",
    "my_config = Config(\n",
    "    connect_timeout=60*5,\n",
    "    read_timeout=60*5,\n",
    ")\n",
    "bedrock = boto3.client(service_name='bedrock-runtime',config=my_config)\n",
    "bedrock_service = boto3.client(service_name='bedrock',config=my_config)"
   ]
  },
  {
   "cell_type": "code",
   "execution_count": 7,
   "id": "6675b967-5e61-48f0-bced-2faba4fa89eb",
   "metadata": {
    "tags": []
   },
   "outputs": [
    {
     "name": "stdout",
     "output_type": "stream",
     "text": [
      "Claud-v3 found!\n"
     ]
    }
   ],
   "source": [
    "#check that it's working:\n",
    "models = bedrock_service.list_foundation_models()\n",
    "for line in models[\"modelSummaries\"]:\n",
    "    #print (line[\"modelId\"])\n",
    "    pass\n",
    "if \"anthropic.claude-3\" in str(models):\n",
    "    print(\"Claud-v3 found!\")\n",
    "else:\n",
    "    print (\"Error, no model found.\")"
   ]
  },
  {
   "cell_type": "code",
   "execution_count": 8,
   "id": "ba055bcc-f414-45ef-a0f9-4b4a6a3b902b",
   "metadata": {
    "tags": []
   },
   "outputs": [],
   "source": [
    "#helper function for converting tokens to public pricing for Claude.\n",
    "input_token_haiku = 0.25/1000000\n",
    "output_token_haiku = 1.25/1000000\n",
    "input_token_sonnet = 3.00/1000000\n",
    "output_token_sonnet = 15.00/1000000\n",
    "input_token_opus = 15.00/1000000\n",
    "output_token_opus = 75.00/1000000\n",
    "def calculate_cost(usage, model):\n",
    "    '''\n",
    "    Takes the usage tokens returned by Bedrock in input and output, and coverts to cost in dollars.\n",
    "    '''\n",
    "    cost = 0\n",
    "    if model=='haiku':\n",
    "        cost+= usage['input_tokens']*input_token_haiku\n",
    "        cost+= usage['output_tokens']*output_token_haiku\n",
    "    if model=='sonnet':\n",
    "        cost+= usage['input_tokens']*input_token_sonnet\n",
    "        cost+= usage['output_tokens']*output_token_sonnet\n",
    "    if model=='opus':\n",
    "        cost+= usage['input_tokens']*input_token_opus\n",
    "        cost+= usage['output_tokens']*output_token_opus\n",
    "    return cost"
   ]
  },
  {
   "cell_type": "code",
   "execution_count": 290,
   "id": "0b3a2e45-43b6-4ac4-8240-5dc3b58ca220",
   "metadata": {
    "tags": []
   },
   "outputs": [],
   "source": [
    "MAX_ATTEMPTS = 1 #how many times to retry if Claude is not working.\n",
    "session_cache = {} #all calls are stored in the local cache.  This means subsequent calls using the same prompt will return instantly with the cached results, rather than hit Bedrock again. \n",
    "def ask_claude(messages,system=\"\", model=\"sonnet\", ignore_cache=False, DEBUG=False):\n",
    "    '''\n",
    "    Send a prompt to Bedrock, and return the response.\n",
    "    messages can be an array of role/message pairs, or a string.\n",
    "    DEBUG is used to see exactly what is being sent to and from Bedrock.\n",
    "    model can be haiku or sonnet\n",
    "    Set ignore_cache to True if you want to force a new call to Bedrock\n",
    "    '''\n",
    "    raw_prompt_text = str(messages)\n",
    "    #if the messages are just a string, convert to the Messages API format.\n",
    "    if type(messages)==str:\n",
    "        messages = [{\"role\": \"user\", \"content\": messages}]\n",
    "    \n",
    "    #build the JSON to send to Bedrock\n",
    "    prompt_json = {\n",
    "        \"system\":system,\n",
    "        \"messages\": messages,\n",
    "        \"max_tokens\": 4096, # 4096 is a hard limit to output length in Claude 3\n",
    "        \"temperature\": 0.1, #creativity on a scale from 0-1.\n",
    "        \"anthropic_version\":\"\",\n",
    "        \"top_k\": 250,\n",
    "        \"top_p\": 0.7,\n",
    "        \"stop_sequences\": [\"\\n\\nHuman:\"]\n",
    "    }\n",
    "    \n",
    "    if DEBUG: print(\"Sending:\\nSystem:\\n\",system,\"\\nMessages:\\n\",str(messages))\n",
    "    \n",
    "    #pick the correct endpoint for the model we want to use.\n",
    "    if model== \"opus\":\n",
    "        modelId = 'error'\n",
    "    elif model== \"sonnet\":\n",
    "        modelId = 'anthropic.claude-3-sonnet-20240229-v1:0'\n",
    "    elif model== \"haiku\":\n",
    "        modelId = 'anthropic.claude-3-haiku-20240307-v1:0'\n",
    "    else:\n",
    "        print (\"ERROR:  Bad model, must be opus, sonnet, or haiku.\")\n",
    "        modelId = 'error'\n",
    "    \n",
    "    #use the json+modelID to identify unique calls to Bedrock.\n",
    "    raw_prompt_json = str(prompt_json)+modelId\n",
    "    \n",
    "    #if this is already in the cashe, return data from the cache and skip Bedrock.\n",
    "    if raw_prompt_json in session_cache and not ignore_cache:\n",
    "        if DEBUG: print (\"Using results from cache, skipping Bedrock.\")\n",
    "        cached = session_cache[raw_prompt_json]\n",
    "        return [raw_prompt_text,cached[0],cached[1],cached[2],cached[3]]\n",
    "    \n",
    "    attempt = 1\n",
    "    query_time = -1\n",
    "    usage = (-1,-1)\n",
    "    while True:\n",
    "        try:\n",
    "            start_time = time.time()\n",
    "            response = bedrock.invoke_model(body=json.dumps(prompt_json), modelId=modelId, accept='application/json', contentType='application/json')\n",
    "            response_body = json.loads(response.get('body').read())\n",
    "            #print (response_body)\n",
    "            results = response_body.get(\"content\")[0].get(\"text\")\n",
    "            usage = response_body.get(\"usage\")\n",
    "            query_time = round(time.time()-start_time,2)\n",
    "            if DEBUG:print(\"Recieved:\",results)\n",
    "            break\n",
    "        except Exception as e:\n",
    "            print(\"Error with calling Bedrock: \"+str(e))\n",
    "            attempt+=1\n",
    "            if attempt>MAX_ATTEMPTS:\n",
    "                print(\"Max attempts reached!\")\n",
    "                results = str(e)\n",
    "                break\n",
    "            else:#retry in 10 seconds\n",
    "                time.sleep(10)\n",
    "    session_cache[raw_prompt_json] = [results,usage,query_time,system]\n",
    "    return [raw_prompt_text,results,usage,query_time,system]"
   ]
  },
  {
   "cell_type": "code",
   "execution_count": 10,
   "id": "f002e219-1bf7-4190-9b5e-0ca5acb28fc3",
   "metadata": {
    "tags": []
   },
   "outputs": [
    {
     "name": "stdout",
     "output_type": "stream",
     "text": [
      "System Instructions:  You always reply in Spanish.\n",
      "Prompt:  Please say the number four.\n",
      "Response:  Cuatro.\n",
      "{'input_tokens': 19, 'output_tokens': 7}\n",
      "Query time:  0.43 seconds\n",
      "Cost for running this query 1 million times: $ 13.5\n"
     ]
    }
   ],
   "source": [
    "#check that it's working:\n",
    "try:\n",
    "    query = \"Please say the number four.\"\n",
    "    system = \"You always reply in Spanish.\"\n",
    "    result = ask_claude(query,system=system,ignore_cache=True,DEBUG=False)\n",
    "    print(\"System Instructions: \",result[4])\n",
    "    print(\"Prompt: \",query)\n",
    "    print(\"Response: \",result[1])\n",
    "    print(result[2])\n",
    "    print(\"Query time: \",result[3],\"seconds\")\n",
    "    #check that cost calculation is working\n",
    "    cost = calculate_cost(result[2], 'haiku')\n",
    "    print(\"Cost for running this query 1 million times: $\",cost*1000000)\n",
    "except Exception as e:\n",
    "    print(\"Error with calling Claude: \"+str(e))"
   ]
  },
  {
   "cell_type": "markdown",
   "id": "9662d39a-1be6-468d-8c18-68d1084f6024",
   "metadata": {
    "tags": []
   },
   "source": [
    "#### Now that we have set up basic Claude connectivity, let's create a helper function for multi-threading.  This will allow us to run our evaluation tests in parallel.\n",
    "Note that Bedrock has both a requests per minute and a token per limit maximum at the account level, so make sure you don't hit that max while testing."
   ]
  },
  {
   "cell_type": "code",
   "execution_count": 11,
   "id": "36d36a19-d377-474d-a046-4584b313c60c",
   "metadata": {
    "tags": []
   },
   "outputs": [],
   "source": [
    "from queue import Queue\n",
    "from threading import Thread\n",
    "\n",
    "# Threading function for queue processing.\n",
    "def thread_request(q, result):\n",
    "    while not q.empty():\n",
    "        work = q.get()    #fetch new work from the Queue\n",
    "        try:\n",
    "            unique_id,prompt = work[1]\n",
    "            data = ask_claude(prompt,system=work[2],model=work[3],ignore_cache=work[4])\n",
    "            result[work[0]] = (unique_id,data)  #Store data back at correct index\n",
    "        except Exception as e:\n",
    "            print('Error with prompt!',str(e))\n",
    "            result[work[0]] = (str(e))\n",
    "        #signal to the queue that task has been processed\n",
    "        q.task_done()\n",
    "    return True\n",
    "\n",
    "def ask_claude_threaded(prompts,system=\"\",model=\"sonnet\",ignore_cache=False):\n",
    "    '''\n",
    "    Call ask_claude, but multi-threaded.\n",
    "    prompts should be a tuple of (unique_request_ID, prompt)\n",
    "    unique_request_ID should be a unique integer, and is used to distingish prompts if the same one is sent more than once.  (sometimes a vaild request because LLM's are non-deterministic)\n",
    "    Returns a dict of the prompts and responces.\n",
    "    '''\n",
    "    q = Queue(maxsize=0)\n",
    "    num_theads = min(50, len(prompts))\n",
    "    #Populating Queue with tasks\n",
    "    results = [{} for x in prompts];\n",
    "    #load up the queue with the promts to fetch and the index for each job (as a tuple):\n",
    "    for i in range(len(prompts)):\n",
    "        #need the index and the url in each queue item.\n",
    "        q.put((i,prompts[i],system,model,ignore_cache))\n",
    "        \n",
    "    #Starting worker threads on queue processing\n",
    "    for i in range(num_theads):\n",
    "        #print('Starting thread ', i)\n",
    "        worker = Thread(target=thread_request, args=(q,results))\n",
    "        worker.daemon = True\n",
    "        worker.start()\n",
    "\n",
    "    #now we wait until the queue has been processed\n",
    "    q.join()\n",
    "    return results"
   ]
  },
  {
   "cell_type": "code",
   "execution_count": 12,
   "id": "ecc70b33-ec10-49e3-8d5f-0cdcde538bc3",
   "metadata": {
    "tags": []
   },
   "outputs": [
    {
     "name": "stdout",
     "output_type": "stream",
     "text": [
      "Request ID#1 Uno.  Bedrock response time: 0.42 seconds.\n",
      "Request ID#2 Dos.  Bedrock response time: 0.51 seconds.\n",
      "Request ID#3 Tres.  Bedrock response time: 0.65 seconds.\n",
      "CPU times: user 52.8 ms, sys: 3.26 ms, total: 56 ms\n",
      "Wall time: 660 ms\n"
     ]
    }
   ],
   "source": [
    "%%time\n",
    "#test if our threaded Claude calls are working\n",
    "q1 = (1,[{\"role\": \"user\", \"content\": \"Please say the number one.\"}])\n",
    "q2 = (2,[{\"role\": \"user\", \"content\": \"Please say the number two.\"}])\n",
    "q3 = (3,[{\"role\": \"user\", \"content\": \"Please say the number three.\"}])\n",
    "results = ask_claude_threaded([q1,q2,q3],system=\"you only reply in spanish\",model='sonnet',ignore_cache=True)\n",
    "for r in results:\n",
    "    print(\"Request ID#\"+str(r[0]),r[1][1],\" Bedrock response time:\",r[1][3],\"seconds.\")"
   ]
  },
  {
   "cell_type": "markdown",
   "id": "b4ff4846-c795-41af-ae20-69adfe402198",
   "metadata": {
    "tags": []
   },
   "source": [
    "### Evaluation Function: evaluate_prompt()\n",
    "Our final piece of setup is an evaluation function.  It is presented in an updated form here, but please [see this blog](https://medium.com/@flux07/prompt-evaluation-systematically-testing-and-improving-your-gen-ai-prompts-at-scale-784e54efe83d) for an explication of the basic idea.  First we have a function that get_results, which is a helper function just to take a prompt template an a bunch of inputs, and generate outputs.  These outputs can be fed into our main evaluation function, evaluate_results.  This uses an LLM as judge to provide an accuracy metric, as well as reasoning for each score."
   ]
  },
  {
   "cell_type": "code",
   "execution_count": 157,
   "id": "82af5137-9187-46a1-b9c9-2713a0738fed",
   "metadata": {
    "tags": []
   },
   "outputs": [],
   "source": [
    "from bs4 import BeautifulSoup as BS, re\n",
    "\n",
    "def get_results(prompt_template,prompt_template_system, input_output,model,ignore_cache=False):\n",
    "    '''\n",
    "    Take a prompt template, and a set of inputs, and generate results for those inputs.\n",
    "    prompt_template: the template to test, {{INPUT}} where input from the gold standard set should be slotted in.\n",
    "    prompt_template_system: system prompt for the template to test\n",
    "    input_output: an array of input/output pairs, human currated \"correct\" result examples.\n",
    "    '''\n",
    "    print (\"Generating results to score...\")\n",
    "    prompts = []\n",
    "    duplicate_check = {}\n",
    "    for test_id,category,i,o in input_output:\n",
    "        if i in duplicate_check:\n",
    "            print (\"Error!  The exact same prompt has been added to the gold standard set multiple times!\")\n",
    "            print (\"Test ID %s and %s are the same prompt.\"%(test_id,duplicate_check[i]))\n",
    "            raise()\n",
    "        else:\n",
    "            duplicate_check[i] = test_id\n",
    "        prompt = prompt_template.replace(\"{{INPUT}}\",i)\n",
    "        prompts.append((test_id,prompt))\n",
    "    \n",
    "    #send all questions to Claude\n",
    "    results_to_test = ask_claude_threaded(prompts, system=prompt_template_system,model=model,ignore_cache=ignore_cache)\n",
    "    return results_to_test\n",
    "\n",
    "def evaluate_results(input_output, results_to_test, test_prompt_template,test_prompt_template_system, model_used_for_results, answer_tag, threshhold = 80, print_out=False):\n",
    "    '''\n",
    "    Using LLM as Judge, score the prompt.\n",
    "    input_output: an array of input/output pairs, human currated \"correct\" result examples.\n",
    "    results_to_test: results from sending a bunch of prompts to ask_claude_threaded.\n",
    "    test_prompt_template: prompt to use LLM as Judge, including {{OUTPUT}} for sloting in the output to test, and {{GOLD_OUTPUT}} for sloting in the gold standard result.\n",
    "    test_prompt_template_system: system prompt for the LLM as judge\n",
    "    model_used_for_results is the model that was used to generate these results, used to calculate cost.\n",
    "    NOTE: Sonnet is always used to evaluate the results.\n",
    "    answer_tag is the tag inside the prompt response that should be pulled out and considered to be the answer.  (this allows you to have things like 'reasoning' which does not get scored.)\n",
    "    threshhold: from 0-100, how high score should be to be counted as passing.\n",
    "    print_out: True to print a few statistics about the results.\n",
    "    '''\n",
    "    #build a dic for storing our results\n",
    "    test_id2results = {}\n",
    "    for test_id,category,i,o in input_output:\n",
    "        test_id2results[test_id] = [category,i,o]\n",
    "    \n",
    "    prompts_to_score = []\n",
    "    prompt_times = []\n",
    "    prompt_cost = []\n",
    "    for this_result in results_to_test:\n",
    "        test_id = this_result[0]\n",
    "        prompt = this_result[1][0]\n",
    "        result = this_result[1][1]\n",
    "        usage = this_result[1][2]\n",
    "        time = this_result[1][3]\n",
    "        prompt_times.append(time)\n",
    "        prompt_cost.append(calculate_cost(usage, model_used_for_results))\n",
    "        raw_result = result\n",
    "        if \"<\"+answer_tag+\">\" in result:#strip the result down to the contents of the correct tag, if present.\n",
    "            result = re.search(\"<\"+answer_tag+\">(.+?)</\"+answer_tag+\">\",result.replace(\"\\n\",\"\")).group(1)\n",
    "        prompt_reason = \"\"\n",
    "        if \"<reason>\" in raw_result:#strip the result down to the contents of the correct tag, if present.\n",
    "            prompt_reason = re.search(\"<reason>(.+?)</reason>\",raw_result.replace(\"\\n\",\"\")).group(1)\n",
    "        test_id2results[test_id].append(result)\n",
    "        test_id2results[test_id].append(prompt_reason)\n",
    "        test_prompt = test_prompt_template.replace(\"{{GOLD_OUTPUT}}\",result).replace(\"{{OUTPUT}}\",test_id2results[test_id][2])\n",
    "        prompts_to_score.append((test_id,test_prompt))\n",
    "    \n",
    "    average_time = round(sum(prompt_times)/len(prompt_times),2)\n",
    "    total_cost = sum(prompt_cost)\n",
    "    print (\"Average response time was %s seconds.\"%(average_time))\n",
    "    print (\"Total cost before scoring: $%s\"%(round(total_cost,4)))\n",
    "    print (\"Scoring results...\")\n",
    "    #send all results to Claude\n",
    "    scored_results = ask_claude_threaded(prompts_to_score, system=test_prompt_template_system)\n",
    "\n",
    "    \n",
    "    scores = []\n",
    "    total_scored = 0\n",
    "    total_passed = 0\n",
    "    average_score = 0\n",
    "    category_scores = {}\n",
    "    for this_result in scored_results:\n",
    "        test_id = this_result[0]\n",
    "        prompt = this_result[1][0]\n",
    "        response = this_result[1][1]\n",
    "        usage = this_result[1][2]\n",
    "        query_time = this_result[1][3]\n",
    "        category,i,o,a,prompt_reason = test_id2results[test_id]\n",
    "\n",
    "        soup = BS(response)\n",
    "        score = soup.find('score').text\n",
    "        reason = soup.find('reason').text\n",
    "        average_score+=int(score)\n",
    "        passed = True\n",
    "        if int(score)<threshhold:\n",
    "            passed = False\n",
    "            \n",
    "        #keep track for printing locally\n",
    "        total_scored+=1\n",
    "        if passed: total_passed+=1\n",
    "        \n",
    "        if category in category_scores:\n",
    "            category_scores[category].append(int(score))\n",
    "        else:\n",
    "            category_scores[category] = [int(score)]\n",
    "        \n",
    "        scores.append([category,i,o,a,score,reason,passed,prompt_reason])\n",
    "    average_score = round(average_score/total_scored,2)\n",
    "    if print_out:\n",
    "        print(\"Total inputs:\",total_scored)\n",
    "        print(\"Total Correct:\",total_passed)\n",
    "        print(\"Accuracy:\",round(total_passed/total_scored,2)*100,\"%\")\n",
    "        #print(\"Average Score:\",average_score)\n",
    "        \n",
    "        categories = list(category_scores.keys())\n",
    "        categories.sort()\n",
    "        print (\"Category Scores:\")\n",
    "        for cat in categories:\n",
    "            print(\"  \"+cat+\":\",round(sum(category_scores[cat])/len(category_scores[cat]),2))\n",
    "    return scores"
   ]
  },
  {
   "cell_type": "markdown",
   "id": "abc0cb22-d6b7-44e9-b451-5dd11cea93fd",
   "metadata": {
    "tags": []
   },
   "source": [
    "# 2) Examples of decomposition"
   ]
  },
  {
   "cell_type": "markdown",
   "id": "785edc91-6184-429f-9420-ce6bfdadac0b",
   "metadata": {
    "tags": []
   },
   "source": [
    "## 2a) Task Based Decomposition\n",
    "\n",
    "For this example, we consider a system that is intended to give recommendations for summer camps.  A parent can send in their child's interests, age, and required date for camp.  The system should then check for avalaible camps for that age and date, and create a recommendation based on the child's interest.  For this example, we are provided a list of 20 summer camps, and a list of 25 potential queries, along with the \"correct\" camp to reccomend for each query.  The correct camps were hand currated by a human, in order to insure they are correct.  Here is a diagram of the basic system:\n",
    "\n",
    "![system](full_task.png)\n",
    "\n",
    "And here is a decomposition of the system into three steps:\n",
    "\n",
    "![Decomposed System](decomposed_task.png)\n",
    "\n",
    "Here, we've broken the system into 3 steps:\n",
    "1. Extract information, in this case the child's age, the date requests for camp, and the dates and age ranges that camps are offered for.\n",
    "2. Find available camps by matching the child's age and date request to camps that accept that age on that date.\n",
    "3. Based on the list of camps that are available for the child, recommend a camp based on their interests.\n",
    "\n",
    "Note that LLM's are language models, not math models.  Something as simple as \"Is 7 bigger than 3\" should always be done by a program that can do math, and never left to an LLM.  By breaking down the task as shown above, we can do the 2.0 step of finding the correct camps in python, rather than depending on the LLM to calculate ranges.  \n",
    "\n",
    "Skipping to the end, here are our results:\n",
    "\n",
    "![results 1](results_example_1.png)\n",
    "\n",
    "Not bad!  Using this method, we are able to rocket accuracy up to 100%, and cut costs as well.\n",
    "\n",
    "Here is the list of camps:"
   ]
  },
  {
   "cell_type": "code",
   "execution_count": 214,
   "id": "ac5c5e6c-d3d0-4a85-9ff1-c5a2e434fa54",
   "metadata": {
    "jupyter": {
     "source_hidden": true
    },
    "tags": []
   },
   "outputs": [],
   "source": [
    "camps = \"\"\"<camp>\n",
    "<name>Magical Unicorn Adventure Camp</name>\n",
    "<date>June 12th - June 23rd</date>\n",
    "<age_group>6 - 10 years old</age_group>\n",
    "<description>Embark on a enchanting journey into the realm of unicorns! Children will learn about these mystical creatures, create unicorn-themed crafts, and even go on a quest to find a real unicorn in our enchanted forest.  This camp does not include any myths or other types of magic, and really only focuses on unicorns.</description>\n",
    "</camp>\n",
    "\n",
    "<camp>\n",
    "<name>Rocket Science Camp</name>\n",
    "<date>July 3rd - July 14th</date>\n",
    "<age_group>10 - 14 years old</age_group>\n",
    "<description>Blast off into the fascinating world of rocket science! Campers will learn about aerodynamics, propulsion systems, and the principles of space flight. They'll also get to design and launch their own model rockets.</description>\n",
    "</camp>\n",
    "\n",
    "<camp>\n",
    "<name>Culinary Creations Camp</name>\n",
    "<date>June 19th - June 30th</date>\n",
    "<age_group>8 - 12 years old</age_group>\n",
    "<description>Unleash your inner chef at this delectable camp! Young foodies will learn essential cooking skills, explore various cuisines, and create mouthwatering dishes to share with their families.</description>\n",
    "</camp>\n",
    "\n",
    "<camp>\n",
    "<name>Wizard Academy</name>\n",
    "<date>July 17th - July 28th</date>\n",
    "<age_group>7 - 11 years old</age_group>\n",
    "<description>Prepare to enter the magical realm of wizardry! Campers will learn the art of potion-making, wand-crafting, and even engage in friendly duels to hone their spellcasting abilities.  This is a pure fantasy based camp, perfect for kids that like reading fantasy books.</description>\n",
    "</camp>\n",
    "\n",
    "<camp>\n",
    "<name>Coding Creators Camp</name>\n",
    "<date>August 7th - August 18th</date>\n",
    "<age_group>11 - 15 years old</age_group>\n",
    "<description>Dive into the world of coding and technology! Campers will learn programming languages, develop their own games and apps, and explore the exciting possibilities of coding.</description>\n",
    "</camp>\n",
    "\n",
    "<camp>\n",
    "<name>Wilderness Explorers Camp</name>\n",
    "<date>June 26th - July 7th</date>\n",
    "<age_group>9 - 13 years old</age_group>\n",
    "<description>Embrace the great outdoors at this adventurous camp! Campers will learn survival skills, navigate through hiking trails, participate in team-building activities, and experience the thrill of camping under the stars.</description>\n",
    "</camp>\n",
    "\n",
    "<camp>\n",
    "<name>Artistic Expressions Camp</name>\n",
    "<date>July 31st - August 11th</date>\n",
    "<age_group>6 - 10 years old</age_group>\n",
    "<description>Unleash your creative side at this artistic haven! Young artists will explore various mediums such as painting, sculpture, and photography, while learning from professional artists and expressing their unique visions.</description>\n",
    "</camp>\n",
    "\n",
    "<camp>\n",
    "<name>Robotics Innovators Camp</name>\n",
    "<date>August 14th - August 25th</date>\n",
    "<age_group>12 - 16 years old</age_group>\n",
    "<description>Dive into the fascinating world of robotics! Campers will learn about robotics principles, programming, and mechatronics. They'll also get to design, build, and program their own robots to compete in exciting challenges.</description>\n",
    "</camp>\n",
    "\n",
    "<camp>\n",
    "<name>Storytellers Camp</name>\n",
    "<date>July 10th - July 21st</date>\n",
    "<age_group>8 - 12 years old</age_group>\n",
    "<description>Ignite your imagination and unleash your storytelling skills! Campers will explore various writing genres, create their own characters and worlds, and bring their stories to life through performance and illustration.</description>\n",
    "</camp>\n",
    "\n",
    "<camp>\n",
    "<name>Eco-Warriors Camp</name>\n",
    "<date>August 21st - September 1st</date>\n",
    "<age_group>10 - 14 years old</age_group>\n",
    "<description>Become an eco-warrior and learn about environmental conservation! Campers will participate in eco-friendly activities, learn about sustainable practices, and engage in hands-on projects to protect and preserve our planet.</description>\n",
    "</camp>\n",
    "\n",
    "<camp>\n",
    "<name>Jedi Training Academy</name>\n",
    "<date>June 12th - June 23rd</date>\n",
    "<age_group>7 - 12 years old</age_group>\n",
    "<description>Calling all aspiring Jedi Knights! In this camp, young Padawans will learn the ways of the Force, master lightsaber techniques, and embark on epic adventures to restore peace and balance to the galaxy.  This camp is all about sci-fi and Jedi, there is no magic or traditional fantasy elements.</description>\n",
    "</camp>\n",
    "\n",
    "<camp>\n",
    "<name>Spy Kids Camp</name>\n",
    "<date>July 3rd - July 14th</date>\n",
    "<age_group>9 - 13 years old</age_group>\n",
    "<description>Unlock your inner secret agent at this thrilling camp! Campers will learn espionage skills, code-breaking techniques, and even participate in exciting undercover missions to foil dastardly plots.</description>\n",
    "</camp>\n",
    "\n",
    "<camp>\n",
    "<name>Circus Spectacular</name>\n",
    "<date>June 19th - June 30th</date>\n",
    "<age_group>6 - 10 years old</age_group>\n",
    "<description>Step right up and join the circus! Young performers will learn acrobatics, juggling, clowning, and other circus arts from professional instructors, culminating in an amazing end-of-camp show.</description>\n",
    "</camp>\n",
    "\n",
    "<camp>\n",
    "<name>Futuristic Inventors Camp</name>\n",
    "<date>July 17th - July 28th</date>\n",
    "<age_group>11 - 15 years old</age_group>\n",
    "<description>Explore the cutting-edge world of future technology! Campers will learn about emerging technologies, design futuristic inventions, and even build working prototypes using 3D printing and other advanced tools.</description>\n",
    "</camp>\n",
    "\n",
    "<camp>\n",
    "<name>Mythological Adventures</name>\n",
    "<date>August 7th - August 18th</date>\n",
    "<age_group>8 - 12 years old</age_group>\n",
    "<description>Embark on a journey through the captivating realms of mythology! Campers will explore real ancient legends, create their own mythical creatures, and reenact epic battles between gods and monsters.  This is focused on the real global history of myths, and not the more fantastical elements of the stories.</description>\n",
    "</camp>\n",
    "\n",
    "<camp>\n",
    "<name>Extreme Sports Camp</name>\n",
    "<date>June 26th - July 7th</date>\n",
    "<age_group>12 - 16 years old</age_group>\n",
    "<description>Unleash your adventurous spirit at this adrenaline-pumping camp! Campers will have the opportunity to try extreme sports like rock climbing, skateboarding, BMX biking, and more, under the guidance of experienced instructors.</description>\n",
    "</camp>\n",
    "\n",
    "<camp>\n",
    "<name>Musical Theatre Extravaganza</name>\n",
    "<date>July 31st - August 11th</date>\n",
    "<age_group>10 - 14 years old</age_group>\n",
    "<description>Lights, camera, action! This camp is a musical theatre lover's dream. Campers will learn singing, acting, and dancing techniques, and work together to stage a spectacular Broadway-style production.</description>\n",
    "</camp>\n",
    "\n",
    "<camp>\n",
    "<name>Entrepreneurial Sharks</name>\n",
    "<date>August 14th - August 25th</date>\n",
    "<age_group>13 - 17 years old</age_group>\n",
    "<description>Dive into the world of business and entrepreneurship! Campers will learn essential skills like marketing, finance, and pitching ideas. They'll also have the opportunity to develop and present their own business plans to a panel of \"shark\" investors.</description>\n",
    "</camp>\n",
    "\n",
    "<camp>\n",
    "<name>Forensic Detectives Camp</name>\n",
    "<date>July 10th - July 21st</date>\n",
    "<age_group>10 - 14 years old</age_group>\n",
    "<description>Calling all aspiring crime scene investigators! At this camp, young detectives will learn about forensic science techniques, analyze evidence, and solve thrilling mock criminal cases.</description>\n",
    "</camp>\n",
    "\n",
    "<camp>\n",
    "<name>World Explorers Camp</name>\n",
    "<date>August 21st - September 1st</date>\n",
    "<age_group>8 - 12 years old</age_group>\n",
    "<description>Embark on a global adventure without leaving camp! Campers will explore different cultures, languages, customs, and cuisines from around the world, making it a truly enriching and educational experience.</description>\n",
    "</camp>\n",
    "\"\"\""
   ]
  },
  {
   "cell_type": "code",
   "execution_count": 215,
   "id": "739733e9-ea33-4f02-952d-f341e15563d4",
   "metadata": {
    "tags": []
   },
   "outputs": [],
   "source": [
    "#orginize the info about each summer camp, for easy recall later.\n",
    "from bs4 import BeautifulSoup\n",
    "soup = BeautifulSoup(camps, \"html.parser\")\n",
    "camp_data = soup.findAll(\"camp\")\n",
    "camp_dict = {}\n",
    "camp_o = []\n",
    "for camp in camp_data:\n",
    "    date = camp.findAll(\"date\")[0].text\n",
    "    age = camp.findAll(\"age_group\")[0].text\n",
    "    name = camp.findAll(\"name\")[0].text\n",
    "    desc = camp.findAll(\"description\")[0].text\n",
    "    camp = {}\n",
    "    camp[\"date\"]=date\n",
    "    camp[\"age\"]=age\n",
    "    camp[\"desc\"]=desc\n",
    "    camp_dict[name]=camp\n",
    "    camp_o.append((date,age,name))\n",
    "camp_o.sort()\n",
    "for c in camp_o:\n",
    "    pass#print(str(c)[1:-1])"
   ]
  },
  {
   "cell_type": "markdown",
   "id": "44458049-4e15-4e70-904f-5c8fd2e17f14",
   "metadata": {},
   "source": [
    "Like every good Generative AI project, we will start by setting up our test cases so that we can measure the impact and quality of everything else we do.  (More information on the prompt evaluation used here can be found in [this blog](https://medium.com/@flux07/prompt-evaluation-systematically-testing-and-improving-your-gen-ai-prompts-at-scale-784e54efe83d))  Note that this notebook contains a significantly updates system for evaluation, so please only use that blog as a reference for the idea of prompt evaluation."
   ]
  },
  {
   "cell_type": "code",
   "execution_count": 216,
   "id": "9bd8c52b-c385-43bf-8cb4-ee1e995f7aa3",
   "metadata": {
    "tags": []
   },
   "outputs": [
    {
     "name": "stdout",
     "output_type": "stream",
     "text": [
      "25 test cases created.\n"
     ]
    }
   ],
   "source": [
    "\"\"\"gold standard test cases.  The format is category, input, correct output.\n",
    "Note that test cases should try to cover every major use case, as well as edge cases.\n",
    "Categories we include here are:\n",
    "  - basic use case.  Age and date range work, and the ask is clearly for a single camp.\n",
    "  - second_pick.  Ask is for a camp that is out of range, but includes a second option that is in range.\n",
    "  - age  child is too old or yound for camp\n",
    "  - time The ask is for a time outside of when camps are offered.\n",
    "  - indirect_time The desired date is asked for indirectly\n",
    "  - indirect_age The disited age is asked for indirectly.\n",
    "\"\"\"\n",
    "test_cases = [\n",
    "   [1,\"basic\",\"My 6-year-old daughter loves all things creative and artistic. She's always drawing, painting, or making crafts. We're looking for a summer camp on August 1st that would allow her to explore her artistic talents and express her creativity. Could you recommend a camp that would be a good fit for her interests and age?\",\"Artistic Expressions Camp\"],\n",
    "   [2,\"basic\",\"My 6-year-old son is fascinated by the circus and loves to perform silly tricks and jokes. He has a natural flair for entertaining others. We're looking for a camp on June 20th that could nurture his interest in circus arts and allow him to explore his creative side. Could you recommend a suitable camp for him?\",\"Circus Spectacular\"],\n",
    "   [3,\"basic\",\"My 7-year-old son is fascinated by magic and fantasy stories. He loves reading about wizards, casting spells, and going on magical adventures. We're looking for a camp on July 22nd that could fuel his imagination and allow him to explore the world of wizardry in a fun and engaging way.\",\"Wizard Academy\"],\n",
    "   [4,\"basic\",\"My 8-year-old daughter is a budding artist who loves to express herself through various creative mediums like painting, drawing, and sculpting. We're looking for a summer camp on August 2nd that can nurture her artistic talents and provide her with an opportunity to explore different art forms under the guidance of experienced instructors. Can you recommend a suitable camp for her?\",\"Artistic Expressions Camp\"],\n",
    "   [5,\"basic\",\"My 10-year-old daughter is absolutely enchanted by the world of unicorns and all things magical. She loves crafting, exploring nature, and immersing herself in fantastical stories. I'm looking for a camp on June 20th that would cater to her interests and allow her to unleash her imagination in a whimsical setting.\",\"Magical Unicorn Adventure Camp\"],\n",
    "   [6,\"second_pick\",\"My 10-year-old son is fascinated by robots and loves to program.  I really need somewhere he can learn about innovating with robots. He also reads about mythical creatures when he’s bored. We're looking for a summer camp on August 9th that could build his ability to innovate. Could you recommend a suitable camp for him?\",\"Mythological Adventures\"],\n",
    "   [7,\"second_pick\",\"My 11-year-old daughter is passionate about singing, acting, and dancing. Her dream is to perform in the circus!  She loves clowns so much.  We are looking for a camp during the week of August 11th that would allow her to explore her interests further and potentially participate in a production. Can you recommend a suitable camp for her?\",\"Musical Theatre Extravaganza\"],\n",
    "   [8,\"second_pick\",\"My 16-year-old son is interested in attending a summer camp on August 19th. He has a keen interest in extreme sports, he loves soccer and football.  When not having fun with extreem sports, he's always coming up with ideas for new products or services. Could you recommend a camp that would allow him to explore these interests and develop his skills?\",\"Entrepreneurial Sharks\"],\n",
    "   [9,\"second_pick\",\"My 17-year-old son is fascinated by technology and has a keen interest in robotics. He once built a whole robot from a box of spare parts while in a cave in the desert!  He'll be available on August 20th, and we're looking for a camp that would allow him to explore his passion for building and programming robots. When the power is out, he also loves making up wth new ideas for how to sell robots.  Could you recommend a suitable camp that aligns with his interests and the desired date?\",\"Entrepreneurial Sharks\"],\n",
    "   [10,\"age\",\"My 5-year-old daughter is fascinated by unicorns and all things magical. She has a vivid imagination and loves creating her own stories and adventures. We're looking for a camp on July 4th that caters to her interests and allows her to explore her creativity in a fun and engaging way.\",\"Sorry, we do not have any summer camps that match your request.\"],\n",
    "   [11,\"age\",\"My 5-year-old daughter is very imaginative and loves anything related to magic and fantasy. We're looking for a camp on August 11th that could spark her creativity and allow her to explore her interests in a fun and engaging way.\",\"Sorry, we do not have any summer camps that match your request.\"],\n",
    "   [12,\"age\",\"My 18-year-old son is interested in attending a summer camp on June 10th. He has a keen interest in entrepreneurship, business, and pitching ideas to potential investors. Could you recommend a camp that aligns with his interests and age group?\",\"Sorry, we do not have any summer camps that match your request.\"],\n",
    "   [13,\"age\",\"My 18-year-old son is interested in starting new businesses. He would love to attend a camp on August 14th that aligns with his interests and allows him to explore cutting-edge concepts while also having fun.\",\"Sorry, we do not have any summer camps that match your request.\"],\n",
    "   [14,\"time\",\"My 10-year-old son is really interested in science and technology. He loves building things and learning about how things work. We're looking for a camp on June 10th that could nurture his curiosity and allow him to explore his interests in a fun and engaging way.\",\"Sorry, we do not have any summer camps that match your request.\"],\n",
    "   [15,\"time\",\"My 17-year-old son is really interested in starting new businesses. He loves building things and learning about how things work. We're looking for a camp on July 20th that could nurture his curiosity and allow him to explore his interests in a fun and engaging way.\",\"Sorry, we do not have any summer camps that match your request.\"],\n",
    "   [16,\"time\",\"My 7-year-old son is available on August 12th, and he's absolutely fascinated by anything related to magic, fantasy, and mythical creatures. Could you recommend a camp that aligns with his interests and the available dates?\",\"Sorry, we do not have any summer camps that match your request.\"],\n",
    "   [17,\"time\",\"My 6-year-old son is really interested in fantasy and magic. He loves stories about wizards, unicorns, and mythical creatures. We're looking for a camp on July 20th that could spark his imagination and allow him to explore these interests in a fun and engaging way.\",\"Sorry, we do not have any summer camps that match your request.\"],\n",
    "   [18,\"indirect_time\",\"My 6-year-old daughter loves all things creative and artistic. She's always drawing, painting, or making crafts. We're looking for a summer camp two days before August 3st that would allow her to explore her artistic talents and express her creativity. Could you recommend a camp that would be a good fit for her interests and age?\",\"Artistic Expressions Camp\"],\n",
    "   [19,\"indirect_time\",\"My 6-year-old son is fascinated by the circus and loves to perform silly tricks and jokes. He has a natural flair for entertaining others. We're looking for a camp a week after June 13th that could nurture his interest in circus arts and allow him to explore his creative side. Could you recommend a suitable camp for him?\",\"Circus Spectacular\"],\n",
    "   [20,\"indirect_time\",\"My 7-year-old son is fascinated by magic and fantasy stories. He loves reading about wizards, casting spells, and going on magical adventures. We're looking for a camp a month after June 22nd that could fuel his imagination and allow him to explore the world of wizardry in a fun and engaging way.\",\"Wizard Academy\"],\n",
    "   [21,\"indirect_time\",\"My 8-year-old daughter is a budding artist who loves to express herself through various creative mediums like painting, drawing, and sculpting. We're looking for a summer camp the day before August 3rd that can nurture her artistic talents and provide her with an opportunity to explore different art forms under the guidance of experienced instructors. Can you recommend a suitable camp for her?\",\"Artistic Expressions Camp\"],\n",
    "   [22,\"indirect_age\",\"My 5-year-old daughter has a birthday May 3rd this year, and loves all things creative and artistic. She's always drawing, painting, or making crafts. We're looking for a summer camp on August 1st that would allow her to explore her artistic talents and express her creativity. Could you recommend a camp that would be a good fit for her interests and age?\",\"Artistic Expressions Camp\"],\n",
    "   [23,\"indirect_age\",\"My older son is 7, and my younger is 6.  I need a camp for the younger one, he is fascinated by the circus and loves to perform silly tricks and jokes. He has a natural flair for entertaining others. We're looking for a camp on June 20th that could nurture his interest in circus arts and allow him to explore his creative side. Could you recommend a suitable camp for him?\",\"Circus Spectacular\"],\n",
    "   [24,\"indirect_age\",\"My 6-year-old son is going the have a wizard themed birthday tomorow.  He is fascinated by magic and fantasy stories. He loves reading about wizards, casting spells, and going on magical adventures. We're looking for a camp on July 22nd that could fuel his imagination and allow him to explore the world of wizardry in a fun and engaging way.\",\"Wizard Academy\"],\n",
    "   [25,\"indirect_age\",\"I have two boys, 5 and 10, and a daughter who is 8.  My daughter is a budding artist who loves to express herself through various creative mediums like painting, drawing, and sculpting. We're looking for a summer camp on August 2nd that can nurture her artistic talents and provide her with an opportunity to explore different art forms under the guidance of experienced instructors. Can you recommend a suitable camp for her?\",\"Artistic Expressions Camp\"]\n",
    "]\n",
    "print (\"%s test cases created.\"%len(test_cases))"
   ]
  },
  {
   "cell_type": "markdown",
   "id": "43fa45e6-03ce-4877-b50d-3d5301125701",
   "metadata": {},
   "source": [
    "Next, we create the prompt that will attempt to solve the entire task in a single step."
   ]
  },
  {
   "cell_type": "code",
   "execution_count": 217,
   "id": "ec8562ca-9f9f-480f-9ee9-666cc166308d",
   "metadata": {
    "tags": []
   },
   "outputs": [],
   "source": [
    "prompt_template_system = \"\"\"You are a summer camp advisor, in charge of placing kids into summer camps based on their interest.\n",
    "Here is the list of summer camps that are avalaible this summer:\n",
    "{{CAMPS}}\n",
    "It is critical that kids are only placed in camps approved for their age.\n",
    "It is critical that kids only join camps that are offered on the day they are requesting.\n",
    "Every camp offers single day drop in any day in its date range.\n",
    "If no camp can be found for the age and date requested, please say \"Sorry, we do not have any summer camps that match your request.\"\n",
    "\"\"\"\n",
    "prompt_template_system = prompt_template_system.replace(\"{{CAMPS}}\",camps)\n",
    "prompt_template = \"\"\"Here is a request from a parent:\n",
    "<text>\n",
    "{{INPUT}}\n",
    "</text>\n",
    "Which camp do you recommend?  Put \"Sorry, we do not have any summer camps that match your request.\" or the camp name in 'camp' XML tags, and your reasoning in 'reason' tags.\n",
    "\"\"\""
   ]
  },
  {
   "cell_type": "code",
   "execution_count": 291,
   "id": "c82b7378-9728-49d4-b8ba-b9a02f9bc710",
   "metadata": {
    "tags": []
   },
   "outputs": [
    {
     "name": "stdout",
     "output_type": "stream",
     "text": [
      "<camp>Artistic Expressions Camp</camp>\n",
      "<reason>The Artistic Expressions Camp, scheduled from July 31st to August 11th, is a perfect fit for your 6-year-old daughter's interests and age. This camp is designed for children aged 6 to 10 years old and allows them to explore various artistic mediums such as painting, sculpture, and photography. With professional artists as instructors, your daughter will have the opportunity to unleash her creativity and express her unique artistic vision. Since August 1st falls within the camp's date range, she can attend as a single-day drop-in participant.</reason>\n"
     ]
    }
   ],
   "source": [
    "#Test that the prompt is working\n",
    "text = \"My 6-year-old daughter loves all things creative and artistic. She's always drawing, painting, or making crafts. We're looking for a summer camp on August 1st that would allow her to explore her artistic talents and express her creativity. Could you recommend a camp that would be a good fit for her interests and age?\"\n",
    "result = ask_claude(prompt_template.replace(\"{{INPUT}}\",text),system=prompt_template_system)\n",
    "print (result[1])"
   ]
  },
  {
   "cell_type": "markdown",
   "id": "8df54ccb-dad0-4ba4-8558-775202a081a7",
   "metadata": {},
   "source": [
    "In order to measure accuracy, we will be using an LLM to judge.  In this case, we have a straight forward answer matching problem - matching the expected camp name with the camp suggested by running the prompt.  In particular, this is a pass / fail, so we create a judge prompt that will give a score of 100 to matches, and 0 to wrong answers."
   ]
  },
  {
   "cell_type": "code",
   "execution_count": 219,
   "id": "75d09d52-55da-4ef5-91cb-ea203e72ea44",
   "metadata": {
    "tags": []
   },
   "outputs": [],
   "source": [
    "test_prompt_template_system = \"\"\"You are a detail oriented teacher.  \n",
    "\n",
    "You are grading an exam, looking at a correct answer and a student submitted answer.  Your goal is to score the student answer based on how close it is to the correct answer.\n",
    "\n",
    "This is a pass/fail test.  If the two answers are basically the same, the score should be 100.\n",
    "Minor things like punctuation, capitilization, or spelling should not impact the score.\n",
    "If the two answers are different, then the score should be 0.\n",
    "Please you your score in a 'score' XML tag, and any reasoning in a 'reason' XML tag.\n",
    "\"\"\"\n",
    "test_prompt_template = \"\"\"\n",
    "Please score this submission.\n",
    "Here is the correct answer:\n",
    "<correct_answer>{{GOLD_OUTPUT}}</correct_answer>\n",
    "Here is the student's answer:\n",
    "<student_answer>{{OUTPUT}}</student_answer>\"\"\""
   ]
  },
  {
   "cell_type": "code",
   "execution_count": 292,
   "id": "d5cb4901-c0d9-4ac0-bf84-830ad6de3b48",
   "metadata": {
    "tags": []
   },
   "outputs": [
    {
     "name": "stdout",
     "output_type": "stream",
     "text": [
      "Sonnet:\n",
      "Generating results to score...\n",
      "Average response time was 4.38 seconds.\n",
      "Total cost before scoring: $0.2387\n",
      "Scoring results...\n",
      "Total inputs: 25\n",
      "Total Correct: 15\n",
      "Accuracy: 60.0 %\n",
      "Category Scores:\n",
      "  age: 25.0\n",
      "  basic: 100.0\n",
      "  indirect_age: 100.0\n",
      "  indirect_time: 100.0\n",
      "  second_pick: 25.0\n",
      "  time: 0.0\n",
      "Haiku:\n",
      "Generating results to score...\n",
      "Average response time was 1.84 seconds.\n",
      "Total cost before scoring: $0.0199\n",
      "Scoring results...\n",
      "Total inputs: 25\n",
      "Total Correct: 16\n",
      "Accuracy: 64.0 %\n",
      "Category Scores:\n",
      "  age: 75.0\n",
      "  basic: 100.0\n",
      "  indirect_age: 75.0\n",
      "  indirect_time: 100.0\n",
      "  second_pick: 25.0\n",
      "  time: 0.0\n"
     ]
    }
   ],
   "source": [
    "#let's run the tests!  We run with both Haiku and Sonnet so that we can compare results using different models.  \n",
    "answer_tag = 'camp'\n",
    "print (\"Sonnet:\")\n",
    "results_to_test = get_results(prompt_template,prompt_template_system, test_cases,model=\"sonnet\", ignore_cache = False)\n",
    "scores = evaluate_results(test_cases, results_to_test, test_prompt_template,test_prompt_template_system, \"sonnet\", answer_tag, threshhold = 80, print_out=True)\n",
    "print (\"Haiku:\")\n",
    "results_to_test = get_results(prompt_template,prompt_template_system, test_cases, model=\"haiku\")\n",
    "scores_haiku = evaluate_results(test_cases, results_to_test, test_prompt_template,test_prompt_template_system, \"haiku\", answer_tag, threshhold = 80, print_out=True)"
   ]
  },
  {
   "cell_type": "markdown",
   "id": "e569e656-1c11-48b9-9186-a1b455ab2d0b",
   "metadata": {},
   "source": [
    "#### Interesting!  Our accuracy averaged around 60%.  Notice that both Haiku and Sonnet generated about the same accuracy for this task, sometimes with Haiku even doing slightly better!  This underscores the importance of always testing and evaluating for the correct size model for your task.  It also shows that this accuracy metrics are estimates.\n",
    "\n",
    "Let's take a quick peek at where the prompt got things wrong, which can help give ideas about what might be imporved next time."
   ]
  },
  {
   "cell_type": "code",
   "execution_count": 293,
   "id": "a9ab30a9-669f-4b0a-b1e1-1659c2078467",
   "metadata": {
    "tags": []
   },
   "outputs": [
    {
     "name": "stdout",
     "output_type": "stream",
     "text": [
      "\n",
      "Category: second_pick Score: 0\n",
      "Question: My 10-year-old son is fascinated by robots and loves to program.  I really need somewhere he can learn about innovating with robots. He also reads about mythical creatures when he’s bored. We're looking for a summer camp on August 9th that could build his ability to innovate. Could you recommend a suitable camp for him?\n",
      "Gold Ans: Mythological Adventures\n",
      "LLM  Ans: Robotics Innovators Camp\n",
      "LLM's reasoning:\n",
      "The Robotics Innovators Camp is a perfect fit for your 10-year-old son's interests in robots and programming. The camp runs from August 14th to August 25th, which includes August 9th, the date you requested. According to the description, campers will learn about robotics principles, programming, and mechatronics, as well as design, build, and program their own robots. This camp aligns with your son's fascination with robots and his desire to learn about innovation. Additionally, the age group of 12-16 years old is suitable for your 10-year-old son.\n",
      "_________________\n",
      "\n",
      "Category: age Score: 0\n",
      "Question: My 5-year-old daughter is very imaginative and loves anything related to magic and fantasy. We're looking for a camp on August 11th that could spark her creativity and allow her to explore her interests in a fun and engaging way.\n",
      "Gold Ans: Sorry, we do not have any summer camps that match your request.\n",
      "LLM  Ans: Wizard Academy\n",
      "LLM's reasoning:\n",
      "The Wizard Academy camp, offered from July 17th - July 28th, is a perfect fit for a 5-year-old girl interested in magic and fantasy. Although the camp dates do not include August 11th, the camp offers single day drop-in options on any day within its date range. This camp will allow your daughter to explore the magical realm of wizardry, learn potion-making, wand-crafting, and engage in friendly duels, sparking her creativity and imagination in a fun and engaging way.\n",
      "_________________\n",
      "\n",
      "Category: time Score: 0\n",
      "Question: My 10-year-old son is really interested in science and technology. He loves building things and learning about how things work. We're looking for a camp on June 10th that could nurture his curiosity and allow him to explore his interests in a fun and engaging way.\n",
      "Gold Ans: Sorry, we do not have any summer camps that match your request.\n",
      "LLM  Ans: Rocket Science Camp\n",
      "LLM's reasoning:\n",
      "The Rocket Science Camp from July 3rd - July 14th is a perfect fit for a 10-year-old interested in science and technology. Although the camp dates don't exactly match June 10th, this camp offers single day drop-ins on any day within its date range. Your son will have the opportunity to learn about aerodynamics, propulsion systems, and space flight principles, as well as design and launch his own model rockets. This hands-on experience will nurture his curiosity and allow him to explore his interests in a fun and engaging way.\n",
      "_________________\n",
      "\n"
     ]
    }
   ],
   "source": [
    "already_done = []\n",
    "for category, question,correct_answer,prompt_answer,score,reason,passed,prompt_reason in scores:\n",
    "    if int(score)>=50:continue\n",
    "    if category in already_done:continue #look at one example per category\n",
    "    already_done.append(category)\n",
    "    print ()\n",
    "    print (\"Category:\",category,\"Score:\",score)\n",
    "    print (\"Question:\",question)\n",
    "    print (\"Gold Ans:\",correct_answer)\n",
    "    print (\"LLM  Ans:\",prompt_answer.strip())\n",
    "    print (\"LLM's reasoning:\\n\"+prompt_reason)\n",
    "    print (\"_________________\")\n",
    "print (\"\")"
   ]
  },
  {
   "cell_type": "markdown",
   "id": "6e1b4bbd-83bf-45ca-9073-29d824d0f968",
   "metadata": {
    "tags": []
   },
   "source": [
    "## Now, let's decompose this task, and increase the quality of our results.\n",
    "Original task:\n",
    "\n",
    "  - Task 1: Read in parent's request -> produce a recommendation\n",
    "\n",
    "Decomposed task:\n",
    "\n",
    "  - Task 1: Read in parent's request -> extract required age and date\n",
    "  - prep task:  One time, extract the date and age requirments for each camp.  We reuse these extracted dates for all requests.\n",
    "  - Task 2: For a given age and date -> extract a list of matching camps\n",
    "  - Task 3: From a list of matching camps -> produce a recommendation.\n",
    "\n",
    "Let's create 2 seperate prompts, one for Step 1, and another for Step 3.  Step 2 is a simple range compare, so we can use Python for that.  We will also create test cases for each step, so that we can monitor the accuracy of each step.\n"
   ]
  },
  {
   "cell_type": "markdown",
   "id": "71e1ef4c-bef9-4454-86a6-0c97b906b610",
   "metadata": {
    "tags": []
   },
   "source": [
    "#### Step 1: Extract the request age and date information"
   ]
  },
  {
   "cell_type": "code",
   "execution_count": 222,
   "id": "60b15c44-a209-4358-8401-4b28ad661cbb",
   "metadata": {},
   "outputs": [],
   "source": [
    "test_cases_step_1 = [\n",
    "   [1,\"basic\",\"My 6-year-old daughter loves all things creative and artistic. She's always drawing, painting, or making crafts. We're looking for a summer camp on August 1st that would allow her to explore her artistic talents and express her creativity. Could you recommend a camp that would be a good fit for her interests and age?\",\"6,20250801\"],\n",
    "   [2,\"basic\",\"My 6-year-old son is fascinated by the circus and loves to perform silly tricks and jokes. He has a natural flair for entertaining others. We're looking for a camp on June 20th that could nurture his interest in circus arts and allow him to explore his creative side. Could you recommend a suitable camp for him?\",\"6,20250620\"],\n",
    "   [3,\"basic\",\"My 7-year-old son is fascinated by magic and fantasy stories. He loves reading about wizards, casting spells, and going on magical adventures. We're looking for a camp on July 22nd that could fuel his imagination and allow him to explore the world of wizardry in a fun and engaging way.\",\"7,20250722\"],\n",
    "   [4,\"basic\",\"My 8-year-old daughter is a budding artist who loves to express herself through various creative mediums like painting, drawing, and sculpting. We're looking for a summer camp on August 2nd that can nurture her artistic talents and provide her with an opportunity to explore different art forms under the guidance of experienced instructors. Can you recommend a suitable camp for her?\",\"8,20250802\"],\n",
    "   [5,\"basic\",\"My 10-year-old daughter is absolutely enchanted by the world of unicorns and all things magical. She loves crafting, exploring nature, and immersing herself in fantastical stories. I'm looking for a camp on June 20th that would cater to her interests and allow her to unleash her imagination in a whimsical setting.\",\"10,20250620\"],\n",
    "   [6,\"second_pick\",\"My 10-year-old son is fascinated by robots and loves to program.  I really need somewhere he can learn about innovating with robots. He also reads about mythical creatures when he’s bored. We're looking for a summer camp on August 9th that could build his ability to innovate. Could you recommend a suitable camp for him?\",\"10,20250809\"],\n",
    "   [7,\"second_pick\",\"My 11-year-old daughter is passionate about singing, acting, and dancing. Her dream is to perform in the circus!  She loves clowns so much.  We are looking for a camp during the week of August 11th that would allow her to explore her interests further and potentially participate in a production. Can you recommend a suitable camp for her?\",\"11,20250811\"],\n",
    "   [8,\"second_pick\",\"My 16-year-old son is interested in attending a summer camp on August 19th. He has a keen interest in extreme sports, he loves soccer and football.  When not having fun with extreem sports, he's always coming up with ideas for new products or services. Could you recommend a camp that would allow him to explore these interests and develop his skills?\",\"16,20250819\"],\n",
    "   [9,\"second_pick\",\"My 17-year-old son is fascinated by technology and has a keen interest in robotics. He once built a whole robot from a box of spare parts while in a cave in the desert!  He'll be available on August 20th, and we're looking for a camp that would allow him to explore his passion for building and programming robots. When the power is out, he also loves making up wth new ideas for how to sell robots.  Could you recommend a suitable camp that aligns with his interests and the desired date?\",\"17,20250820\"],\n",
    "   [10,\"age\",\"My 5-year-old daughter is fascinated by unicorns and all things magical. She has a vivid imagination and loves creating her own stories and adventures. We're looking for a camp on July 4th that caters to her interests and allows her to explore her creativity in a fun and engaging way.\",\"5,20250704\"],\n",
    "   [11,\"age\",\"My 5-year-old daughter is very imaginative and loves anything related to magic and fantasy. We're looking for a camp on August 11th that could spark her creativity and allow her to explore her interests in a fun and engaging way.\",\"5,20250811\"],\n",
    "   [12,\"age\",\"My 18-year-old son is interested in attending a summer camp on June 10th. He has a keen interest in entrepreneurship, business, and pitching ideas to potential investors. Could you recommend a camp that aligns with his interests and age group?\",\"18,20250610\"],\n",
    "   [13,\"age\",\"My 18-year-old son is interested in starting new businesses. He would love to attend a camp on August 14th that aligns with his interests and allows him to explore cutting-edge concepts while also having fun.\",\"18,20250814\"],\n",
    "   [14,\"time\",\"My 10-year-old son is really interested in science and technology. He loves building things and learning about how things work. We're looking for a camp on June 10th that could nurture his curiosity and allow him to explore his interests in a fun and engaging way.\",\"10,20250610\"],\n",
    "   [15,\"time\",\"My 17-year-old son is really interested in starting new businesses. He loves building things and learning about how things work. We're looking for a camp on July 20th that could nurture his curiosity and allow him to explore his interests in a fun and engaging way.\",\"17,20250720\"],\n",
    "   [16,\"time\",\"My 7-year-old son is available on August 12th, and he's absolutely fascinated by anything related to magic, fantasy, and mythical creatures. Could you recommend a camp that aligns with his interests and the available dates?\",\"7,20250812\"],\n",
    "   [17,\"time\",\"My 6-year-old son is really interested in fantasy and magic. He loves stories about wizards, unicorns, and mythical creatures. We're looking for a camp on July 20th that could spark his imagination and allow him to explore these interests in a fun and engaging way.\",\"6,20250720\"],\n",
    "   [18,\"indirect_time\",\"My 6-year-old daughter loves all things creative and artistic. She's always drawing, painting, or making crafts. We're looking for a summer camp two days before August 3st that would allow her to explore her artistic talents and express her creativity. Could you recommend a camp that would be a good fit for her interests and age?\",\"6,20250801\"],\n",
    "   [19,\"indirect_time\",\"My 6-year-old son is fascinated by the circus and loves to perform silly tricks and jokes. He has a natural flair for entertaining others. We're looking for a camp a week after June 13th that could nurture his interest in circus arts and allow him to explore his creative side. Could you recommend a suitable camp for him?\",\"6,20250620\"],\n",
    "   [20,\"indirect_time\",\"My 7-year-old son is fascinated by magic and fantasy stories. He loves reading about wizards, casting spells, and going on magical adventures. We're looking for a camp a month after June 22nd that could fuel his imagination and allow him to explore the world of wizardry in a fun and engaging way.\",\"7,20250722\"],\n",
    "   [21,\"indirect_time\",\"My 8-year-old daughter is a budding artist who loves to express herself through various creative mediums like painting, drawing, and sculpting. We're looking for a summer camp the day before August 3rd that can nurture her artistic talents and provide her with an opportunity to explore different art forms under the guidance of experienced instructors. Can you recommend a suitable camp for her?\",\"8,20250802\"],\n",
    "   [22,\"indirect_age\",\"My 5-year-old daughter has a birthday May 3rd this year, and loves all things creative and artistic. She's always drawing, painting, or making crafts. We're looking for a summer camp on August 1st that would allow her to explore her artistic talents and express her creativity. Could you recommend a camp that would be a good fit for her interests and age?\",\"6,20250801\"],\n",
    "   [23,\"indirect_age\",\"My older son is 7, and my younger is 6.  I need a camp for the younger one, he is fascinated by the circus and loves to perform silly tricks and jokes. He has a natural flair for entertaining others. We're looking for a camp on June 20th that could nurture his interest in circus arts and allow him to explore his creative side. Could you recommend a suitable camp for him?\",\"6,20250620\"],\n",
    "   [24,\"indirect_age\",\"My 6-year-old son is going the have a wizard themed birthday tomorow.  He is fascinated by magic and fantasy stories. He loves reading about wizards, casting spells, and going on magical adventures. We're looking for a camp on July 22nd that could fuel his imagination and allow him to explore the world of wizardry in a fun and engaging way.\",\"7,20250722\"],\n",
    "   [25,\"indirect_age\",\"I have two boys, 5 and 10, and a daughter who is 8.  My daughter is a budding artist who loves to express herself through various creative mediums like painting, drawing, and sculpting. We're looking for a summer camp on August 2nd that can nurture her artistic talents and provide her with an opportunity to explore different art forms under the guidance of experienced instructors. Can you recommend a suitable camp for her?\",\"8,20250802\"]\n",
    "]"
   ]
  },
  {
   "cell_type": "code",
   "execution_count": 223,
   "id": "cfb62987-b53d-4ab1-a7ce-6872af3ea597",
   "metadata": {
    "tags": []
   },
   "outputs": [],
   "source": [
    "prompt_template_step_1_system = \"\"\"You are detail oriented data extraction expert.\n",
    "Your job is to examine a short message which is a request from a parent for summer camp advice, and extract the age of the child and desired date for camp.\n",
    "First, extract the exact age mentioned in the request, and check to see if a birthday is mentioned.  Write your answer in a 'temp' XML tag, in the format (age,True/False birthday mentioned.)\n",
    "Only when a birthday is stated, and the birthday is before the requested date of camp, add one to the value in 'temp' and consider that to be the new age.\n",
    "Age is of critical importance to the process, so you must never assume or guess when a birthday is.  Instead, you must always use the exact age given by the parent, except when a pre-camp birthday is explictly mentioned.\n",
    "Next, inside an 'answer' XML tag, write the requested age and date as \"age,date\"\n",
    "Finally, include your reasoning in 'reason' tags.\n",
    "The date should be in YYYYMMDD format, and the current year is 2025.\n",
    "\"\"\"\n",
    "prompt_template_step_1 = \"\"\"Here is a message for data extraction:\n",
    "<text>\n",
    "{{INPUT}}\n",
    "</text>\n",
    "\"\"\""
   ]
  },
  {
   "cell_type": "code",
   "execution_count": 224,
   "id": "f9be1084-a5f0-4906-a566-62a9e1039ce4",
   "metadata": {
    "tags": []
   },
   "outputs": [
    {
     "name": "stdout",
     "output_type": "stream",
     "text": [
      "<temp>6,False</temp>\n",
      "<answer>6,20250801</answer>\n",
      "<reason>\n",
      "The parent explicitly states that their child is 6 years old, with no mention of an upcoming birthday before the requested camp date of around August 1st. Therefore, the age to consider for camp recommendations is 6. The requested date of around August 1st is interpreted as August 1, 2025 in the YYYYMMDD format.\n",
      "</reason>\n"
     ]
    }
   ],
   "source": [
    "text = \"My 6-year-old daughter loves all things creative and artistic. She's always drawing, painting, or making crafts. We're looking for a summer camp around August 1st that would allow her to explore her artistic talents and express her creativity. Could you recommend a camp that would be a good fit for her interests and age?\"\n",
    "result = ask_claude(prompt_template_step_1.replace(\"{{INPUT}}\",text),system=prompt_template_step_1_system)\n",
    "print (result[1])"
   ]
  },
  {
   "cell_type": "code",
   "execution_count": 286,
   "id": "c6ce6dfa-6ac5-49d6-aa6f-f04c7eff199b",
   "metadata": {
    "tags": []
   },
   "outputs": [
    {
     "name": "stdout",
     "output_type": "stream",
     "text": [
      "Sonnet:\n",
      "Generating results to score...\n",
      "Average response time was 2.58 seconds.\n",
      "Total cost before scoring: $0.0655\n",
      "Scoring results...\n",
      "Total inputs: 25\n",
      "Total Correct: 25\n",
      "Accuracy: 100.0 %\n",
      "Category Scores:\n",
      "  age: 100.0\n",
      "  basic: 100.0\n",
      "  indirect_age: 100.0\n",
      "  indirect_time: 100.0\n",
      "  second_pick: 100.0\n",
      "  time: 100.0\n",
      "Haiku:\n",
      "Generating results to score...\n",
      "Average response time was 1.41 seconds.\n",
      "Total cost before scoring: $0.0047\n",
      "Scoring results...\n",
      "Total inputs: 25\n",
      "Total Correct: 21\n",
      "Accuracy: 84.0 %\n",
      "Category Scores:\n",
      "  age: 100.0\n",
      "  basic: 100.0\n",
      "  indirect_age: 75.0\n",
      "  indirect_time: 25.0\n",
      "  second_pick: 100.0\n",
      "  time: 100.0\n"
     ]
    }
   ],
   "source": [
    "#we can use the same testing prompts as we did before.\n",
    "answer_tag = 'answer'\n",
    "print (\"Sonnet:\")\n",
    "results_to_test = get_results(prompt_template_step_1,prompt_template_step_1_system, test_cases_step_1,model=\"sonnet\", ignore_cache = False)\n",
    "scores = evaluate_results(test_cases_step_1,results_to_test, test_prompt_template,test_prompt_template_system, \"sonnet\", answer_tag, threshhold = 80, print_out=True)\n",
    "print (\"Haiku:\")\n",
    "results_to_test = get_results(prompt_template_step_1,prompt_template_step_1_system, test_cases_step_1, model=\"haiku\",ignore_cache=False)\n",
    "scores_haiku = evaluate_results(test_cases_step_1, results_to_test, test_prompt_template,test_prompt_template_system, \"haiku\", answer_tag, threshhold = 80, print_out=True)"
   ]
  },
  {
   "cell_type": "markdown",
   "id": "969f29ef-b5f5-481f-b89e-450d62a13b10",
   "metadata": {},
   "source": [
    "Accuracy on this first step looks pretty good - Sonnet gave us 100%, or if we don't need it to be quite that high, we could use Haiku and get most of the way there."
   ]
  },
  {
   "cell_type": "code",
   "execution_count": 226,
   "id": "3f4a75f4-ff2f-48ea-9cf6-ff837404032c",
   "metadata": {
    "tags": []
   },
   "outputs": [],
   "source": [
    "#pack up these answers for use in the next step.\n",
    "question2ID = {}\n",
    "for test_id,cat,i,o in test_cases_step_1:\n",
    "    question2ID[i]=test_id\n",
    "testID2age_date = {}\n",
    "for category, question,correct_answer,prompt_answer,score,reason,passed,prompt_reason in scores:\n",
    "    testID2age_date[question2ID[question]] = prompt_answer"
   ]
  },
  {
   "cell_type": "code",
   "execution_count": 227,
   "id": "5b2295ca-9f64-4de6-aadb-153527e1938a",
   "metadata": {
    "tags": []
   },
   "outputs": [
    {
     "name": "stdout",
     "output_type": "stream",
     "text": [
      "\n",
      "Category: basic Score: 0\n",
      "Question: My 6-year-old son is fascinated by the circus and loves to perform silly tricks and jokes. He has a natural flair for entertaining others. We're looking for a camp on June 20th that could nurture his interest in circus arts and allow him to explore his creative side. Could you recommend a suitable camp for him?\n",
      "Gold Ans: 6,20250620\n",
      "LLM  Ans: 7,20250620\n",
      "LLM's reasoning:\n",
      "The message states that the child is 6 years old, and does not mention a birthday. Therefore, the age is 6. The requested date for the camp is June 20, 2025.\n",
      "_________________\n",
      "\n",
      "Category: indirect_time Score: 0\n",
      "Question: My 6-year-old daughter loves all things creative and artistic. She's always drawing, painting, or making crafts. We're looking for a summer camp two days before August 3st that would allow her to explore her artistic talents and express her creativity. Could you recommend a camp that would be a good fit for her interests and age?\n",
      "Gold Ans: 6,20250801\n",
      "LLM  Ans: 7,20250801\n",
      "LLM's reasoning:\n",
      "The message states that the child is 6 years old. However, it also mentions that the camp is requested for two days before August 3rd, which is August 1st, 2025. Since the message does not explicitly state the child's birthday, we must use the exact age provided, which is 6 years old. Therefore, the recommended age for the camp is 7 years old, as the child will have their 7th birthday before the requested camp date.\n",
      "_________________\n",
      "\n"
     ]
    }
   ],
   "source": [
    "#take a peak at one of the wrong answers in each category, so that we can see the LLM's reasoning.\n",
    "already_done = []\n",
    "for category, question,correct_answer,prompt_answer,score,reason,passed,prompt_reason in scores_haiku:\n",
    "    if int(score)>=50:continue\n",
    "    if category in already_done:continue #look at one example per category\n",
    "    already_done.append(category)\n",
    "    print ()\n",
    "    print (\"Category:\",category,\"Score:\",score)\n",
    "    print (\"Question:\",question)\n",
    "    print (\"Gold Ans:\",correct_answer)\n",
    "    print (\"LLM  Ans:\",prompt_answer.strip())\n",
    "    print (\"LLM's reasoning:\\n\"+prompt_reason)\n",
    "    print (\"_________________\")\n",
    "print (\"\")"
   ]
  },
  {
   "cell_type": "markdown",
   "id": "07210866-f626-42c5-9169-da1b45cab0c5",
   "metadata": {
    "tags": []
   },
   "source": [
    "#### Step 2: Extract and compare the camp date and age information\n",
    "Start with the gold standard set:"
   ]
  },
  {
   "cell_type": "code",
   "execution_count": 228,
   "id": "fb79d366-e48b-4cba-bb85-e9152d3bff60",
   "metadata": {
    "jupyter": {
     "source_hidden": true
    },
    "tags": []
   },
   "outputs": [],
   "source": [
    "test_cases_step_2 = [\n",
    "   [1,\"basic\",\"\"\"<camp>\n",
    "<name>Magical Unicorn Adventure Camp</name>\n",
    "<date>June 12th - June 23rd</date>\n",
    "<age_group>6 - 10 years old</age_group>\n",
    "<description>Embark on a enchanting journey into the realm of unicorns! Children will learn about these mystical creatures, create unicorn-themed crafts, and even go on a quest to find a real unicorn in our enchanted forest.  This camp does not include any myths or other types of magic, and really only focuses on unicorns.</description>\n",
    "</camp>\"\"\",\"[6,10,20250612,20250623]\"],\n",
    "   [2,\"basic\",\"\"\"<camp>\n",
    "<name>Rocket Science Camp</name>\n",
    "<date>July 3rd - July 14th</date>\n",
    "<age_group>10 - 14 years old</age_group>\n",
    "<description>Blast off into the fascinating world of rocket science! Campers will learn about aerodynamics, propulsion systems, and the principles of space flight. They'll also get to design and launch their own model rockets.</description>\n",
    "</camp>\"\"\",\"[10,14,20250703,20250714]\"],\n",
    "   [3,\"basic\",\"\"\"<camp>\n",
    "<name>Culinary Creations Camp</name>\n",
    "<date>June 19th - June 30th</date>\n",
    "<age_group>8 - 12 years old</age_group>\n",
    "<description>Unleash your inner chef at this delectable camp! Young foodies will learn essential cooking skills, explore various cuisines, and create mouthwatering dishes to share with their families.</description>\n",
    "</camp>\"\"\",\"[8,12,20250619,20250630]\"],\n",
    "   [4,\"basic\",\"\"\"<camp>\n",
    "<name>Wizard Academy</name>\n",
    "<date>July 17th - July 28th</date>\n",
    "<age_group>7 - 11 years old</age_group>\n",
    "<description>Prepare to enter the magical realm of wizardry! Campers will learn the art of potion-making, wand-crafting, and even engage in friendly duels to hone their spellcasting abilities.  This is a pure fantasy based camp, perfect for kids that like reading fantasy books.</description>\n",
    "</camp>\"\"\",\"[7,11,20250717,20250728]\"],\n",
    "   [5,\"basic\",\"\"\"<camp>\n",
    "<name>Coding Creators Camp</name>\n",
    "<date>August 7th - August 18th</date>\n",
    "<age_group>11 - 15 years old</age_group>\n",
    "<description>Dive into the world of coding and technology! Campers will learn programming languages, develop their own games and apps, and explore the exciting possibilities of coding.</description>\n",
    "</camp>\"\"\",\"[11,15,20250807,20250818]\"],\n",
    "   [6,\"basic\",\"\"\"<camp>\n",
    "<name>Wilderness Explorers Camp</name>\n",
    "<date>June 26th - July 7th</date>\n",
    "<age_group>9 - 13 years old</age_group>\n",
    "<description>Embrace the great outdoors at this adventurous camp! Campers will learn survival skills, navigate through hiking trails, participate in team-building activities, and experience the thrill of camping under the stars.</description>\n",
    "</camp>\"\"\",\"[9,13,20250626,20250707]\"],\n",
    "   [7,\"basic\",\"\"\"<camp>\n",
    "<name>Artistic Expressions Camp</name>\n",
    "<date>July 31st - August 11th</date>\n",
    "<age_group>6 - 10 years old</age_group>\n",
    "<description>Unleash your creative side at this artistic haven! Young artists will explore various mediums such as painting, sculpture, and photography, while learning from professional artists and expressing their unique visions.</description>\n",
    "</camp>\"\"\",\"[6,10,20250731,20250811]\"],\n",
    "   [8,\"basic\",\"\"\"<camp>\n",
    "<name>Robotics Innovators Camp</name>\n",
    "<date>August 14th - August 25th</date>\n",
    "<age_group>12 - 16 years old</age_group>\n",
    "<description>Dive into the fascinating world of robotics! Campers will learn about robotics principles, programming, and mechatronics. They'll also get to design, build, and program their own robots to compete in exciting challenges.</description>\n",
    "</camp>\"\"\",\"[12,16,20250814,20250825]\"],\n",
    "   [9,\"basic\",\"\"\"<camp>\n",
    "<name>Storytellers Camp</name>\n",
    "<date>July 10th - July 21st</date>\n",
    "<age_group>8 - 12 years old</age_group>\n",
    "<description>Ignite your imagination and unleash your storytelling skills! Campers will explore various writing genres, create their own characters and worlds, and bring their stories to life through performance and illustration.</description>\n",
    "</camp>\"\"\",\"[8,12,20250710,20250721]\"],\n",
    "   [10,\"basic\",\"\"\"<camp>\n",
    "<name>Eco-Warriors Camp</name>\n",
    "<date>August 21st - September 1st</date>\n",
    "<age_group>10 - 14 years old</age_group>\n",
    "<description>Become an eco-warrior and learn about environmental conservation! Campers will participate in eco-friendly activities, learn about sustainable practices, and engage in hands-on projects to protect and preserve our planet.</description>\n",
    "</camp>\"\"\",\"[10,14,20250821,20250901]\"],\n",
    "   [11,\"basic\",\"\"\"<camp>\n",
    "<name>Jedi Training Academy</name>\n",
    "<date>June 12th - June 23rd</date>\n",
    "<age_group>7 - 12 years old</age_group>\n",
    "<description>Calling all aspiring Jedi Knights! In this camp, young Padawans will learn the ways of the Force, master lightsaber techniques, and embark on epic adventures to restore peace and balance to the galaxy.  This camp is all about sci-fi and Jedi, there is no magic or traditional fantasy elements.</description>\n",
    "</camp>\"\"\",\"[7,12,20250612,20250623]\"],\n",
    "   [12,\"basic\",\"\"\"<camp>\n",
    "<name>Spy Kids Camp</name>\n",
    "<date>July 3rd - July 14th</date>\n",
    "<age_group>9 - 13 years old</age_group>\n",
    "<description>Unlock your inner secret agent at this thrilling camp! Campers will learn espionage skills, code-breaking techniques, and even participate in exciting undercover missions to foil dastardly plots.</description>\n",
    "</camp>\"\"\",\"[9,13,20250703,20250714]\"],\n",
    "   [13,\"basic\",\"\"\"<camp>\n",
    "<name>Circus Spectacular</name>\n",
    "<date>June 19th - June 30th</date>\n",
    "<age_group>6 - 10 years old</age_group>\n",
    "<description>Step right up and join the circus! Young performers will learn acrobatics, juggling, clowning, and other circus arts from professional instructors, culminating in an amazing end-of-camp show.</description>\n",
    "</camp>\"\"\",\"[6,10,20250619,20250630]\"],\n",
    "   [14,\"basic\",\"\"\"<camp>\n",
    "<name>Futuristic Inventors Camp</name>\n",
    "<date>July 17th - July 28th</date>\n",
    "<age_group>11 - 15 years old</age_group>\n",
    "<description>Explore the cutting-edge world of future technology! Campers will learn about emerging technologies, design futuristic inventions, and even build working prototypes using 3D printing and other advanced tools.</description>\n",
    "</camp>\"\"\",\"[11,15,20250717,20250728]\"],\n",
    "   [15,\"basic\",\"\"\"<camp>\n",
    "<name>Mythological Adventures</name>\n",
    "<date>August 7th - August 18th</date>\n",
    "<age_group>8 - 12 years old</age_group>\n",
    "<description>Embark on a journey through the captivating realms of mythology! Campers will explore real ancient legends, create their own mythical creatures, and reenact epic battles between gods and monsters.  This is focused on the real global history of myths, and not the more fantastical elements of the stories.</description>\n",
    "</camp>\"\"\",\"[8,12,20250807,20250818]\"],\n",
    "   [16,\"basic\",\"\"\"<camp>\n",
    "<name>Extreme Sports Camp</name>\n",
    "<date>June 26th - July 7th</date>\n",
    "<age_group>12 - 16 years old</age_group>\n",
    "<description>Unleash your adventurous spirit at this adrenaline-pumping camp! Campers will have the opportunity to try extreme sports like rock climbing, skateboarding, BMX biking, and more, under the guidance of experienced instructors.</description>\n",
    "</camp>\"\"\",\"[12,16,20250626,20250707]\"],\n",
    "   [17,\"basic\",\"\"\"<camp>\n",
    "<name>Musical Theatre Extravaganza</name>\n",
    "<date>July 31st - August 11th</date>\n",
    "<age_group>10 - 14 years old</age_group>\n",
    "<description>Lights, camera, action! This camp is a musical theatre lover's dream. Campers will learn singing, acting, and dancing techniques, and work together to stage a spectacular Broadway-style production.</description>\n",
    "</camp>\"\"\",\"[10,14,20250731,20250811]\"],\n",
    "   [18,\"basic\",\"\"\"<camp>\n",
    "<name>Entrepreneurial Sharks</name>\n",
    "<date>August 14th - August 25th</date>\n",
    "<age_group>13 - 17 years old</age_group>\n",
    "<description>Dive into the world of business and entrepreneurship! Campers will learn essential skills like marketing, finance, and pitching ideas. They'll also have the opportunity to develop and present their own business plans to a panel of \"shark\" investors.</description>\n",
    "</camp>\"\"\",\"[13,17,20250814,20250825]\"],\n",
    "   [19,\"basic\",\"\"\"<camp>\n",
    "<name>Forensic Detectives Camp</name>\n",
    "<date>July 10th - July 21st</date>\n",
    "<age_group>10 - 14 years old</age_group>\n",
    "<description>Calling all aspiring crime scene investigators! At this camp, young detectives will learn about forensic science techniques, analyze evidence, and solve thrilling mock criminal cases.</description>\n",
    "</camp>\"\"\",\"[10,14,20250710,20250721]\"],\n",
    "   [20,\"basic\",\"\"\"<camp>\n",
    "<name>World Explorers Camp</name>\n",
    "<date>August 21st - September 1st</date>\n",
    "<age_group>8 - 12 years old</age_group>\n",
    "<description>Embark on a global adventure without leaving camp! Campers will explore different cultures, languages, customs, and cuisines from around the world, making it a truly enriching and educational experience.</description>\n",
    "</camp>\n",
    "\"\"\",\"[8,12,20250821,20250901]\"]\n",
    "]\n",
    "\n",
    "#store camps in a dict for later.\n",
    "campID2camp = {}\n",
    "for campID, cat,camp,out in test_cases_step_2:\n",
    "    campID2camp[campID]=camp"
   ]
  },
  {
   "cell_type": "code",
   "execution_count": 229,
   "id": "872bfcff-71d8-4bcd-a4fe-66149cb03366",
   "metadata": {
    "tags": []
   },
   "outputs": [],
   "source": [
    "prompt_template_step_2_system = \"\"\"You are a data extraction expert.\n",
    "You will be given information about a summer camp.\n",
    "Your task is to find information about the targeted age group for the camp, and the start and end dates.\n",
    "Your answer should be a list inside an 'answer' XML tag.\n",
    "The list should have the format [youngest age, oldest age, start date, end date].\n",
    "All dates should be in YYYYMMDD format, and the current year is 2025.\n",
    "\"\"\"\n",
    "prompt_template_step_2 = \"\"\"Here is infomation about a summer camp:\n",
    "<text>\n",
    "{{INPUT}}\n",
    "</text>\n",
    "\"\"\""
   ]
  },
  {
   "cell_type": "code",
   "execution_count": 230,
   "id": "738c13ca-4527-46e0-9367-23f81daf0779",
   "metadata": {
    "tags": []
   },
   "outputs": [
    {
     "name": "stdout",
     "output_type": "stream",
     "text": [
      "<answer>[8, 12, 20250821, 20250901]</answer>\n"
     ]
    }
   ],
   "source": [
    "text = \"\"\"<camp><name>World Explorers Camp</name>\n",
    "<date>August 21st - September 1st</date>\n",
    "<age_group>8 - 12 years old</age_group>\n",
    "<description>Embark on a global adventure without leaving camp! Campers will explore different cultures, languages, customs, and cuisines from around the world, making it a truly enriching and educational experience.</description>\n",
    "</camp>\"\"\"\n",
    "result = ask_claude(prompt_template_step_2.replace(\"{{INPUT}}\",text),system=prompt_template_step_2_system)\n",
    "print (result[1])"
   ]
  },
  {
   "cell_type": "code",
   "execution_count": 231,
   "id": "c7f621d3-4b00-4cd9-b643-e1f7c5b76f63",
   "metadata": {
    "tags": []
   },
   "outputs": [
    {
     "name": "stdout",
     "output_type": "stream",
     "text": [
      "Sonnet:\n",
      "Generating results to score...\n",
      "Average response time was 1.13 seconds.\n",
      "Total cost before scoring: $0.0212\n",
      "Scoring results...\n",
      "Total inputs: 20\n",
      "Total Correct: 20\n",
      "Accuracy: 100.0 %\n",
      "Category Scores:\n",
      "  basic: 100.0\n",
      "Haiku:\n",
      "Generating results to score...\n",
      "Average response time was 0.61 seconds.\n",
      "Total cost before scoring: $0.0019\n",
      "Scoring results...\n",
      "Total inputs: 20\n",
      "Total Correct: 20\n",
      "Accuracy: 100.0 %\n",
      "Category Scores:\n",
      "  basic: 100.0\n"
     ]
    }
   ],
   "source": [
    "#we can use the same testing prompt as before.\n",
    "answer_tag = 'answer'\n",
    "print (\"Sonnet:\")\n",
    "results_to_test = get_results(prompt_template_step_2,prompt_template_step_2_system, test_cases_step_2,model=\"sonnet\", ignore_cache = False)\n",
    "scores = evaluate_results(test_cases_step_2, results_to_test, test_prompt_template,test_prompt_template_system, \"sonnet\", answer_tag, threshhold = 80, print_out=True)\n",
    "print (\"Haiku:\")\n",
    "results_to_test = get_results(prompt_template_step_2,prompt_template_step_2_system, test_cases_step_2, model=\"haiku\",ignore_cache= False)\n",
    "scores_haiku = evaluate_results(test_cases_step_2, results_to_test, test_prompt_template,test_prompt_template_system, \"haiku\", answer_tag, threshhold = 80, print_out=True)"
   ]
  },
  {
   "cell_type": "markdown",
   "id": "b7c346af-002d-43f7-a531-5ca219ce48bf",
   "metadata": {},
   "source": [
    "This task was pretty easy, and even Haiku gave us 100% accuracy.  No need to use larger models here!"
   ]
  },
  {
   "cell_type": "code",
   "execution_count": 232,
   "id": "6e9ccc07-3a6a-4854-8694-157424f875f3",
   "metadata": {
    "tags": []
   },
   "outputs": [],
   "source": [
    "#pack up these answers for use in the next step.\n",
    "camp2campID = {}\n",
    "for test_id,cat,i,o in test_cases_step_2:\n",
    "    camp2campID[i]=test_id\n",
    "campID2age_date = {}\n",
    "for category, question,correct_answer,prompt_answer,score,reason,passed,prompt_reason in scores_haiku:\n",
    "    campID2age_date[camp2campID[question]] = prompt_answer"
   ]
  },
  {
   "cell_type": "markdown",
   "id": "fd166c8c-0a1f-4036-b60d-4602ee6cbfb0",
   "metadata": {},
   "source": [
    "#### Step 3: Generate the final recommendation\n",
    "For this step, we'll do the exact same thing we did in the original pre-decomposed prompt, except we will use the information from steps 1 and 2 to limit the number of camp options passed to the LLM."
   ]
  },
  {
   "cell_type": "markdown",
   "id": "9b35f8c9-02ce-4a07-8745-9d33e06045dc",
   "metadata": {},
   "source": [
    "#### First, we move the list of camps from the system prompt to the user prompt, because the list is different for each request."
   ]
  },
  {
   "cell_type": "code",
   "execution_count": 241,
   "id": "4547fee7-4367-4aee-a56c-296211603015",
   "metadata": {
    "tags": []
   },
   "outputs": [],
   "source": [
    "prompt_template_decomposed_system = \"\"\"You are a summer camp advisor, in charge of placing kids into summer camps based on their interest.\n",
    "If no camp can be found for the age and date requested, please say \"Sorry, we do not have any summer camps that match your request.\"\n",
    "You will be given a list of summer camps that a director has already approved as possible options based on age and date.\n",
    "You may safely ignore any age and date information, and instead focus on reccomending the camp that is best aligned with the child's interest.\n",
    "\"\"\"\n",
    "prompt_template_decomposed = \"\"\"\n",
    "Here is the list of summer camps that are avalaible for this request:\n",
    "<camps>\n",
    "{{CAMPS}}\n",
    "</camps>\n",
    "Here is a request from a parent:\n",
    "<text>\n",
    "{{INPUT}}\n",
    "</text>\n",
    "Which camp do you recommend?  Put \"Sorry, we do not have any summer camps that match your request.\" or the camp name in 'camp' XML tags, and your reasoning in 'reason' tags.\n",
    "\"\"\""
   ]
  },
  {
   "cell_type": "code",
   "execution_count": 234,
   "id": "7b566dd0-55d7-4ba8-b8f9-1cee3aad9e42",
   "metadata": {
    "tags": []
   },
   "outputs": [
    {
     "name": "stdout",
     "output_type": "stream",
     "text": [
      "<camp>Sorry, we do not have any summer camps that match your request.</camp>\n",
      "<reason>Based on the list provided, there are no summer camps available that match the requested date and age for your 6-year-old daughter who is interested in creative and artistic activities like drawing, painting, and crafts. The list indicates that no camps match this particular request.</reason>\n"
     ]
    }
   ],
   "source": [
    "#quick test to see if it's working:\n",
    "text = \"My 6-year-old daughter loves all things creative and artistic. She's always drawing, painting, or making crafts. We're looking for a summer camp around August 1st that would allow her to explore her artistic talents and express her creativity. Could you recommend a camp that would be a good fit for her interests and age?\"\n",
    "camps = \"No camps match this request\"\n",
    "result = ask_claude(prompt_template_decomposed.replace(\"{{INPUT}}\",text).replace(\"{{CAMPS}}\",camps),system=prompt_template_decomposed_system)\n",
    "print (result[1])"
   ]
  },
  {
   "cell_type": "code",
   "execution_count": 235,
   "id": "ab34a888-676e-45dc-8064-9d090da44797",
   "metadata": {
    "tags": []
   },
   "outputs": [],
   "source": [
    "#create a get results function, but tweaked to accept camps and the input question\n",
    "#this is very simular to the get_results function used everywhere else in this notebook.\n",
    "def get_results_decomposed(camps,prompt_template,prompt_template_system, input_output,model,ignore_cache=False):\n",
    "    '''\n",
    "    Take a prompt template, and a set of inputs, and generate results for those inputs.\n",
    "    prompt_template: the template to test, {{INPUT}} where input from the gold standard set should be slotted in.\n",
    "    prompt_template_system: system prompt for the template to test\n",
    "    input_output: an array of input/output pairs, human currated \"correct\" result examples.\n",
    "    camps: a dict of [test_id] to string of camps that fit the question with that test ID.\n",
    "    '''\n",
    "    print (\"Generating results to score...\")\n",
    "    prompts = []\n",
    "    duplicate_check = {}\n",
    "    for test_id,category,i,o in input_output:\n",
    "        if i in duplicate_check:\n",
    "            print (\"Error!  The exact same prompt has been added to the gold standard set multiple times!\")\n",
    "            print (\"Test ID %s and %s are the same prompt.\"%(test_id,duplicate_check[i]))\n",
    "            raise()\n",
    "        else:\n",
    "            duplicate_check[i] = test_id\n",
    "        \n",
    "        #pull out the date and age information from the camp listing, since we don't need it anymore.\n",
    "        this_camp = camps[test_id]\n",
    "        if \"<date>\" in this_camp:\n",
    "            this_camp = this_camp[:this_camp.index(\"<date>\")]+this_camp[this_camp.index(\"</age_group>\")+13:]\n",
    "        prompt = prompt_template.replace(\"{{INPUT}}\",i).replace(\"{{CAMPS}}\",this_camp)\n",
    "        #print (prompt)\n",
    "        prompts.append((test_id,prompt))\n",
    "    \n",
    "    #send all questions to Claude\n",
    "    results_to_test = ask_claude_threaded(prompts, system=prompt_template_system,model=model,ignore_cache=ignore_cache)\n",
    "    return results_to_test"
   ]
  },
  {
   "cell_type": "code",
   "execution_count": 236,
   "id": "a097b1c1-28a9-46d0-9d87-b0fed64d9536",
   "metadata": {
    "tags": []
   },
   "outputs": [],
   "source": [
    "#generate the list of camps that work for each request in the gold standard set.\n",
    "#this object will be passed to our tweaked generate results function.\n",
    "camps = {}\n",
    "\n",
    "for test_id,category,i,o in test_cases_3:\n",
    "    #get the requested age and date for this camp\n",
    "    age_date = testID2age_date[test_id]\n",
    "    this_age = int(age_date.split(',')[0])\n",
    "    this_date = int(age_date.split(',')[1])\n",
    "    #find the matching camps\n",
    "    this_camp = []\n",
    "    for campID in campID2age_date:\n",
    "        age_date = campID2age_date[campID]\n",
    "        age_date = age_date.replace(\"[\",'').replace(\"]\",'').split(',')\n",
    "        low_age = int(age_date[0])\n",
    "        high_age = int(age_date[1])\n",
    "        low_date = int(age_date[2])\n",
    "        high_date = int(age_date[3])\n",
    "        \n",
    "        if this_age>=low_age and this_age<=high_age and this_date>=low_date and this_date<=high_date:\n",
    "            this_camp.append(campID2camp[campID])\n",
    "    this_camp = \"\\n\".join(this_camp).strip()\n",
    "    if len(this_camp)<1:\n",
    "        this_camp = \"No camps match this request.\"\n",
    "    camps[test_id] = this_camp"
   ]
  },
  {
   "cell_type": "code",
   "execution_count": 287,
   "id": "7fd2017f-44c1-4bca-bcab-8eec24f32824",
   "metadata": {
    "tags": []
   },
   "outputs": [
    {
     "name": "stdout",
     "output_type": "stream",
     "text": [
      "Haiku:\n",
      "Generating results to score...\n",
      "Average response time was 2.0 seconds.\n",
      "Total cost before scoring: $0.0062\n",
      "Scoring results...\n",
      "Total inputs: 25\n",
      "Total Correct: 21\n",
      "Accuracy: 84.0 %\n",
      "Category Scores:\n",
      "  age: 75.0\n",
      "  basic: 100.0\n",
      "  indirect_age: 100.0\n",
      "  indirect_time: 100.0\n",
      "  second_pick: 75.0\n",
      "  time: 50.0\n",
      "Sonnet:\n",
      "Generating results to score...\n",
      "Average response time was 2.47 seconds.\n",
      "Total cost before scoring: $0.0702\n",
      "Scoring results...\n",
      "Total inputs: 25\n",
      "Total Correct: 25\n",
      "Accuracy: 100.0 %\n",
      "Category Scores:\n",
      "  age: 100.0\n",
      "  basic: 100.0\n",
      "  indirect_age: 100.0\n",
      "  indirect_time: 100.0\n",
      "  second_pick: 100.0\n",
      "  time: 100.0\n"
     ]
    }
   ],
   "source": [
    "answer_tag = 'camp'\n",
    "print (\"Haiku:\")\n",
    "results_to_test = get_results_decomposed(camps,prompt_template_decomposed,prompt_template_decomposed_system, test_cases, model=\"haiku\")\n",
    "scores_haiku = evaluate_results(test_cases, results_to_test, test_prompt_template,test_prompt_template_system, \"haiku\", answer_tag, threshhold = 80, print_out=True)\n",
    "print (\"Sonnet:\")\n",
    "results_to_test = get_results_decomposed(camps,prompt_template_decomposed,prompt_template_decomposed_system, test_cases,model=\"sonnet\", ignore_cache = False)\n",
    "scores = evaluate_results(test_cases, results_to_test, test_prompt_template,test_prompt_template_system, \"sonnet\", answer_tag, threshhold = 80, print_out=True)"
   ]
  },
  {
   "cell_type": "markdown",
   "id": "ef6aca52-b4f0-46fa-a94c-9006524bef2b",
   "metadata": {},
   "source": [
    "And there we go!  We can get up to 100% accuracy for the entire system by using Sonnet on this step."
   ]
  },
  {
   "cell_type": "code",
   "execution_count": 243,
   "id": "dd2917d5-06ce-4430-9178-8c45eaa331eb",
   "metadata": {
    "tags": []
   },
   "outputs": [
    {
     "name": "stdout",
     "output_type": "stream",
     "text": [
      "\n",
      "Category: second_pick Score: 0\n",
      "Question: My 11-year-old daughter is passionate about singing, acting, and dancing. Her dream is to perform in the circus!  She loves clowns so much.  We are looking for a camp during the week of August 11th that would allow her to explore her interests further and potentially participate in a production. Can you recommend a suitable camp for her?\n",
      "Gold Ans: Musical Theatre Extravaganza\n",
      "LLM  Ans: Sorry, we do not have any summer camps that match your request.\n",
      "LLM's reasoning:\n",
      "The available summer camps do not include any that focus on circus performance or clowning, which are the specific interests mentioned in the request. The closest match is the \"Musical Theatre Extravaganza\" camp, but it does not cover circus-related activities. Additionally, the requested camp dates of the week of August 11th do not align with the available camps, which run from July 31st to August 11th or August 7th to August 18th.\n",
      "_________________\n",
      "\n",
      "Category: time Score: 0\n",
      "Question: My 10-year-old son is really interested in science and technology. He loves building things and learning about how things work. We're looking for a camp on June 10th that could nurture his curiosity and allow him to explore his interests in a fun and engaging way.\n",
      "Gold Ans: Sorry, we do not have any summer camps that match your request.\n",
      "LLM  Ans: Science and Technology Camp\n",
      "LLM's reasoning:\n",
      "The description provided indicates that your 10-year-old son is interested in science and technology, with a love for building and learning about how things work. The Science and Technology Camp would be an excellent fit, as it would allow him to explore his interests in a fun and engaging way, nurturing his curiosity through hands-on activities and experiments.\n",
      "_________________\n",
      "\n"
     ]
    }
   ],
   "source": [
    "#take a peek at the ones Haiku got wrong.\n",
    "already_done = []\n",
    "for category, question,correct_answer,prompt_answer,score,reason,passed,prompt_reason in scores_haiku:\n",
    "    if int(score)>=50:continue\n",
    "    if category in already_done:continue #look at one example per category\n",
    "    already_done.append(category)\n",
    "    print ()\n",
    "    print (\"Category:\",category,\"Score:\",score)\n",
    "    print (\"Question:\",question)\n",
    "    print (\"Gold Ans:\",correct_answer)\n",
    "    print (\"LLM  Ans:\",prompt_answer.strip())\n",
    "    print (\"LLM's reasoning:\\n\"+prompt_reason)\n",
    "    print (\"_________________\")\n",
    "print (\"\")"
   ]
  },
  {
   "cell_type": "markdown",
   "id": "2b26801b-1da5-4bc9-bc4e-5fdd77db20b0",
   "metadata": {
    "tags": []
   },
   "source": [
    "## 2b) Volume based decomposition\n",
    "Here we'll consider an example use case of a user who would like to undersand how many unique characters are in a novel, and learn a bit about the three most common characters.\n",
    "\n",
    "Jumping straight to the results, by breaking down this task, it runs around twice as fast, and accuracy improves slightly as well.  (Here accuracy is based on the 12 characters identified in the Frankenstein Cliff notes.)\n",
    "![results_2](results_example_2.png)\n",
    "\n",
    "We start by downloading the novel.  For this example we use Frankenstein by Mary Shelley, as it is in public domain."
   ]
  },
  {
   "cell_type": "code",
   "execution_count": 244,
   "id": "c8ce4203-a672-43ec-9d45-d9f3c84c3548",
   "metadata": {
    "tags": []
   },
   "outputs": [],
   "source": [
    "import requests, re\n",
    "from bs4 import BeautifulSoup "
   ]
  },
  {
   "cell_type": "code",
   "execution_count": 245,
   "id": "3573c8e5-9d04-437e-a0b4-f5c530591913",
   "metadata": {
    "tags": []
   },
   "outputs": [],
   "source": [
    "#grab the text from the Gutenberg project, a collection of public domain works.\n",
    "#We use Beautiful Soup to parse the HTML of the webpage.\n",
    "url = \"https://www.gutenberg.org/files/84/84-h/84-h.htm\"\n",
    "response = requests.get(url)\n",
    "soup = BeautifulSoup(response.text, 'html.parser')\n",
    "raw_full_text_webpage = soup.text"
   ]
  },
  {
   "cell_type": "code",
   "execution_count": 246,
   "id": "a425cf36-5bc9-4715-9639-2cf0aafd32cb",
   "metadata": {
    "tags": []
   },
   "outputs": [
    {
     "name": "stdout",
     "output_type": "stream",
     "text": [
      "Approximate word count: 76553\n",
      "Approximate page count: 153\n"
     ]
    }
   ],
   "source": [
    "#Cut the top and bottom of the webpage so that we only have the text of the book.\n",
    "raw_full_text = raw_full_text_webpage[raw_full_text_webpage.index(\"Letter 1\\n\\nTo Mrs. Saville, England.\"):raw_full_text_webpage.index(\"*** END OF THE PROJECT GUTENBERG EBOOK FRANKENSTEIN ***\")].replace(\"\\r\\n\",\" \").replace(\"\\n\", \" \")\n",
    "#encode some misc unicode charaters.\n",
    "full_text = raw_full_text.encode('raw_unicode_escape').decode()\n",
    "#show that we found the expected length\n",
    "words_count = len(full_text.split(\" \"))\n",
    "pages_count = int(words_count/500)#quick estimate, real page count is dependant on page and font size.\n",
    "print (\"Approximate word count:\",words_count)\n",
    "print (\"Approximate page count:\",pages_count)"
   ]
  },
  {
   "cell_type": "markdown",
   "id": "2982aa16-8f91-49f2-a5b4-14a8182d10c3",
   "metadata": {},
   "source": [
    "### Now that we have our novel, let's try to find all the unique characters with a single prompt."
   ]
  },
  {
   "cell_type": "code",
   "execution_count": 279,
   "id": "e8518fc8-561b-4141-a990-528f18f34b4f",
   "metadata": {
    "tags": []
   },
   "outputs": [],
   "source": [
    "long_prompt_template = \"\"\"Consider the following novel:\n",
    "<novel>\n",
    "{{NOVEL}}\n",
    "</novel>\n",
    "\n",
    "How many unique characters are there with at least one spoken line of dialog?  Please also provide a brief description of only the top three most common characters, each in separate paragraphs. \n",
    "Only count charaters that have at least one spoken line of dialog.\n",
    "\"\"\"\n",
    "\n",
    "long_prompt = long_prompt_template.replace(\"{{NOVEL}}\",full_text)"
   ]
  },
  {
   "cell_type": "code",
   "execution_count": 280,
   "id": "bf7d679c-9a1a-46b9-b8eb-9fd7bf3a3d81",
   "metadata": {
    "tags": []
   },
   "outputs": [
    {
     "name": "stdout",
     "output_type": "stream",
     "text": [
      "Time at Bedrock:  40.25 sec\n",
      "Tokens:  98219\n",
      "Cost: $ 0.2972\n",
      "Response from model:\n",
      "Based on the novel, there are 7 unique characters that have at least one spoken line of dialog:\n",
      "\n",
      "1. Victor Frankenstein: The protagonist and narrator for most of the novel. He is a scientist who creates a hideous but sentient creature, leading to tragic consequences.\n",
      "\n",
      "2. The Creature/Monster: Frankenstein's creation, who narrates parts of the story. Initially seeking companionship and acceptance, he becomes vengeful and murderous after being rejected by his creator and society.\n",
      "\n",
      "3. Robert Walton: The explorer who rescues Victor Frankenstein and to whom Frankenstein narrates his story. He has a few spoken lines towards the end of the novel.\n",
      "\n",
      "4. Elizabeth Lavenza: Victor Frankenstein's adopted sister and fiancée. She has a few spoken lines, including a letter she writes to Victor.\n",
      "\n",
      "5. Alphonse Frankenstein: Victor Frankenstein's father, who has a few spoken lines.\n",
      "\n",
      "6. Henry Clerval: Victor Frankenstein's close friend, who has a few spoken lines.\n",
      "\n",
      "7. Felix: A character mentioned in the Creature's narrative, who has a few spoken lines.\n"
     ]
    }
   ],
   "source": [
    "long_response = ask_claude(long_prompt, model=\"sonnet\",ignore_cache=False)\n",
    "print(\"Time at Bedrock: \",long_response[3],\"sec\")\n",
    "print(\"Tokens: \",long_response[2][\"input_tokens\"]+long_response[2][\"output_tokens\"])\n",
    "print(\"Cost: $\",round(calculate_cost(long_response[2],\"sonnet\"),4))\n",
    "print(\"Response from model:\")\n",
    "print(long_response[1])"
   ]
  },
  {
   "cell_type": "markdown",
   "id": "50fe75e7-432c-4764-bef0-46ed14dd979c",
   "metadata": {},
   "source": [
    "### Not bad!  93K tokens processed in about 40 seconds.  Let's see if we can make that faster and cheaper using prompt decomposition.\n",
    "### We'll divide the novel into thirds, run each third in parallel, then write a fourth prompt to combine the results."
   ]
  },
  {
   "cell_type": "code",
   "execution_count": 253,
   "id": "f29a01a5-0f19-4fbe-a5db-a86607d3e329",
   "metadata": {
    "tags": []
   },
   "outputs": [],
   "source": [
    "short_prompt_template = \"\"\"Consider the following portion of a novel:\n",
    "<novel>\n",
    "{{NOVEL}}\n",
    "</novel>\n",
    "\n",
    "Please provide a list of unique characters, each in a character tag.  Inside the character tag should be a name tag with their name,\n",
    "a count tag with an exact count of times they appear, and a description tag with a brief description of that character.\n",
    "Only count charaters that have at least one spoken line of dialog.\n",
    "\"\"\"\n",
    "\n",
    "#let's cut the novel into thirds.\n",
    "third = int(len(full_text)/3)\n",
    "short_prompt_1 = (1,short_prompt_template.replace(\"{{NOVEL}}\",full_text[:third]))\n",
    "short_prompt_2 = (2,short_prompt_template.replace(\"{{NOVEL}}\",full_text[third:third+third]))\n",
    "short_prompt_3 = (3,short_prompt_template.replace(\"{{NOVEL}}\",full_text[third+third:]))"
   ]
  },
  {
   "cell_type": "markdown",
   "id": "a8494205-5ae6-4fd6-9f87-345aa5d36b5b",
   "metadata": {},
   "source": [
    "### Now let's run these three prompts in parallel"
   ]
  },
  {
   "cell_type": "code",
   "execution_count": 283,
   "id": "f2ca0d24-c013-4af4-a647-7ac0e426886b",
   "metadata": {
    "tags": []
   },
   "outputs": [
    {
     "name": "stdout",
     "output_type": "stream",
     "text": [
      "Average time at Bedrock:  15.95 sec\n",
      "Total Cost: $ 0.3136\n",
      "Example Output:\n",
      "Here is a list of unique characters with their names, counts, and descriptions, for characters that have at least one spoken line of dialog:\n",
      "\n",
      "<character>\n",
      "  <name>Victor Frankenstein</name>\n",
      "  <count>1</count>\n",
      "  <description>The narrator and protagonist, a scientist who creates a hideous monster.</description>\n",
      "</character>\n",
      "\n",
      "<character>\n",
      "  <name>Elizabeth Lavenza</name>\n",
      "  <count>2</count>\n",
      "  <description>Victor's cousin and adopted sister, who he loves.</description>\n",
      "</character>\n",
      "\n",
      "<character>\n",
      "  <name>Alphonse Frankenstein</name>\n",
      "  <count>1</count>\n",
      "  <description>Victor's father.</description>\n",
      "</character>\n",
      "\n",
      "<character>\n",
      "  <name>Justine Moritz</name>\n",
      "  <count>2</count>\n",
      "  <description>A kind servant  ...\n"
     ]
    }
   ],
   "source": [
    "short_responces = ask_claude_threaded([short_prompt_1,short_prompt_2,short_prompt_3],model='sonnet',ignore_cache=False)\n",
    "time_1 = short_responces[0][1][3]\n",
    "time_2 = short_responces[1][1][3]\n",
    "time_3 = short_responces[2][1][3]\n",
    "average_time = round((time_1+time_2+time_3)/3,2)\n",
    "print(\"Average time at Bedrock: \",average_time,\"sec\")\n",
    "total_cost_shorts = round(calculate_cost(short_responces[0][1][2],\"sonnet\")+calculate_cost(short_responces[1][1][2],\"sonnet\")+calculate_cost(short_responces[2][1][2],\"sonnet\"),4)\n",
    "print(\"Total Cost: $\",total_cost_shorts)\n",
    "\n",
    "#show the reply from one of the three prompts\n",
    "print(\"Example Output:\")\n",
    "print(short_responces[0][1][1][:700]+\" ...\")"
   ]
  },
  {
   "cell_type": "markdown",
   "id": "395a8345-7e65-42e4-a030-37e079c9869b",
   "metadata": {},
   "source": [
    "### So far it's looking good!  We've processed the whole novel in around 17 seconds, down from 42.  Let's make a final call to get a final result that matches our original long prompt."
   ]
  },
  {
   "cell_type": "code",
   "execution_count": 261,
   "id": "f49b632f-8909-4eeb-b247-9e2dcbb2669f",
   "metadata": {},
   "outputs": [],
   "source": [
    "final_prompt_template = \"\"\"Consider the following list of charaters from a novel.  Each entry contains the character's name,\n",
    "a count of the number of times they appeared, and a brief description of that charater:\n",
    "<characters>\n",
    "{{CHARACTERS}}\n",
    "</characters>\n",
    "Some charaters may be listed more than once.  Use the name and description to determine that two entries are the same, \n",
    "and if they are, sum their count to support your responce.\n",
    "\n",
    "How many unique characters are there?  Please also provide a brief description of the top three most common characters in separate paragraphs. \n",
    "\"\"\"\n",
    "\n",
    "characters = short_responces[0][1][1]+short_responces[1][1][1]+short_responces[2][1][1]\n",
    "\n",
    "final_prompt = final_prompt_template.replace(\"{{CHARACTERS}}\",characters)"
   ]
  },
  {
   "cell_type": "code",
   "execution_count": 284,
   "id": "a6e003ef-8553-4c1e-b2f9-39e72a5a85bf",
   "metadata": {
    "tags": []
   },
   "outputs": [
    {
     "name": "stdout",
     "output_type": "stream",
     "text": [
      "Final step time was 4.06 seconds.\n",
      "Total time for decomposed task was 20.01 seconds.\n",
      "Total cost for decomposed task was $0.3215.\n",
      "Final response from decomposed task:\n",
      "Based on the provided list of characters, there are 9 unique characters:\n",
      "\n",
      "1. Victor Frankenstein\n",
      "2. The creature/monster/daemon/fiend\n",
      "3. Elizabeth Lavenza\n",
      "4. Henry Clerval\n",
      "5. Alphonse Frankenstein\n",
      "6. Justine Moritz\n",
      "7. M. Waldman\n",
      "8. M. Krempe\n",
      "9. William Frankenstein\n",
      "\n",
      "The top three most common characters are:\n",
      "\n",
      "Victor Frankenstein: The protagonist and narrator, a young scientist who creates a hideous sapient creature in an unorthodox scientific experiment. He appears many times throughout the novel as the central character.\n",
      "\n",
      "The creature/monster/daemon/fiend: The hideous but intelligent being created by Victor Frankenstein, who demands that Victor create a female companion for him. He appears many times as the antagonist, seeking revenge against his creator for abandoning him.\n",
      "\n",
      "Robert Walton: The explorer who rescues Frankenstein and records his story. He appears 16 times in the novel, serving as the frame narrative for Frankenstein's tale.\n"
     ]
    }
   ],
   "source": [
    "final_response = ask_claude(final_prompt, model=\"sonnet\")\n",
    "time_final_step = final_response[3]\n",
    "print(\"Final step time was %s seconds.\"%final_response[3])\n",
    "print(\"Total time for decomposed task was %s seconds.\"%(round(final_response[3]+average_time,2)))\n",
    "print(\"Total cost for decomposed task was $%s.\"%(total_cost_shorts+round(calculate_cost(final_response[2],\"sonnet\"),4)))\n",
    "print(\"Final response from decomposed task:\")\n",
    "print(final_response[1])"
   ]
  },
  {
   "cell_type": "markdown",
   "id": "1824c0df-796e-4daa-8200-27ca955773c1",
   "metadata": {},
   "source": [
    "### Results: Decomposition is twice as fast!\n",
    "This final prompt took about 5 seconds to run.  The original long prompt took 42 seconds to run, and our decomposed version took 17s + 5, or 22 seconds total.  Almost twice as fast to do the same amount work!\n",
    "Note that the decomposed version actually found more characters.  It is somewhat common that the quality will improve with smaller, more focused prompts, because the LLM can focus more when the prompt is smaller.  Now go forth and decompose!\n",
    "\n",
    "![Decompose](decompose.png)"
   ]
  },
  {
   "cell_type": "code",
   "execution_count": null,
   "id": "1be90f21-9ad4-4d6f-8504-9ed04d8ecd8d",
   "metadata": {},
   "outputs": [],
   "source": []
  }
 ],
 "metadata": {
  "availableInstances": [
   {
    "_defaultOrder": 0,
    "_isFastLaunch": true,
    "category": "General purpose",
    "gpuNum": 0,
    "hideHardwareSpecs": false,
    "memoryGiB": 4,
    "name": "ml.t3.medium",
    "vcpuNum": 2
   },
   {
    "_defaultOrder": 1,
    "_isFastLaunch": false,
    "category": "General purpose",
    "gpuNum": 0,
    "hideHardwareSpecs": false,
    "memoryGiB": 8,
    "name": "ml.t3.large",
    "vcpuNum": 2
   },
   {
    "_defaultOrder": 2,
    "_isFastLaunch": false,
    "category": "General purpose",
    "gpuNum": 0,
    "hideHardwareSpecs": false,
    "memoryGiB": 16,
    "name": "ml.t3.xlarge",
    "vcpuNum": 4
   },
   {
    "_defaultOrder": 3,
    "_isFastLaunch": false,
    "category": "General purpose",
    "gpuNum": 0,
    "hideHardwareSpecs": false,
    "memoryGiB": 32,
    "name": "ml.t3.2xlarge",
    "vcpuNum": 8
   },
   {
    "_defaultOrder": 4,
    "_isFastLaunch": true,
    "category": "General purpose",
    "gpuNum": 0,
    "hideHardwareSpecs": false,
    "memoryGiB": 8,
    "name": "ml.m5.large",
    "vcpuNum": 2
   },
   {
    "_defaultOrder": 5,
    "_isFastLaunch": false,
    "category": "General purpose",
    "gpuNum": 0,
    "hideHardwareSpecs": false,
    "memoryGiB": 16,
    "name": "ml.m5.xlarge",
    "vcpuNum": 4
   },
   {
    "_defaultOrder": 6,
    "_isFastLaunch": false,
    "category": "General purpose",
    "gpuNum": 0,
    "hideHardwareSpecs": false,
    "memoryGiB": 32,
    "name": "ml.m5.2xlarge",
    "vcpuNum": 8
   },
   {
    "_defaultOrder": 7,
    "_isFastLaunch": false,
    "category": "General purpose",
    "gpuNum": 0,
    "hideHardwareSpecs": false,
    "memoryGiB": 64,
    "name": "ml.m5.4xlarge",
    "vcpuNum": 16
   },
   {
    "_defaultOrder": 8,
    "_isFastLaunch": false,
    "category": "General purpose",
    "gpuNum": 0,
    "hideHardwareSpecs": false,
    "memoryGiB": 128,
    "name": "ml.m5.8xlarge",
    "vcpuNum": 32
   },
   {
    "_defaultOrder": 9,
    "_isFastLaunch": false,
    "category": "General purpose",
    "gpuNum": 0,
    "hideHardwareSpecs": false,
    "memoryGiB": 192,
    "name": "ml.m5.12xlarge",
    "vcpuNum": 48
   },
   {
    "_defaultOrder": 10,
    "_isFastLaunch": false,
    "category": "General purpose",
    "gpuNum": 0,
    "hideHardwareSpecs": false,
    "memoryGiB": 256,
    "name": "ml.m5.16xlarge",
    "vcpuNum": 64
   },
   {
    "_defaultOrder": 11,
    "_isFastLaunch": false,
    "category": "General purpose",
    "gpuNum": 0,
    "hideHardwareSpecs": false,
    "memoryGiB": 384,
    "name": "ml.m5.24xlarge",
    "vcpuNum": 96
   },
   {
    "_defaultOrder": 12,
    "_isFastLaunch": false,
    "category": "General purpose",
    "gpuNum": 0,
    "hideHardwareSpecs": false,
    "memoryGiB": 8,
    "name": "ml.m5d.large",
    "vcpuNum": 2
   },
   {
    "_defaultOrder": 13,
    "_isFastLaunch": false,
    "category": "General purpose",
    "gpuNum": 0,
    "hideHardwareSpecs": false,
    "memoryGiB": 16,
    "name": "ml.m5d.xlarge",
    "vcpuNum": 4
   },
   {
    "_defaultOrder": 14,
    "_isFastLaunch": false,
    "category": "General purpose",
    "gpuNum": 0,
    "hideHardwareSpecs": false,
    "memoryGiB": 32,
    "name": "ml.m5d.2xlarge",
    "vcpuNum": 8
   },
   {
    "_defaultOrder": 15,
    "_isFastLaunch": false,
    "category": "General purpose",
    "gpuNum": 0,
    "hideHardwareSpecs": false,
    "memoryGiB": 64,
    "name": "ml.m5d.4xlarge",
    "vcpuNum": 16
   },
   {
    "_defaultOrder": 16,
    "_isFastLaunch": false,
    "category": "General purpose",
    "gpuNum": 0,
    "hideHardwareSpecs": false,
    "memoryGiB": 128,
    "name": "ml.m5d.8xlarge",
    "vcpuNum": 32
   },
   {
    "_defaultOrder": 17,
    "_isFastLaunch": false,
    "category": "General purpose",
    "gpuNum": 0,
    "hideHardwareSpecs": false,
    "memoryGiB": 192,
    "name": "ml.m5d.12xlarge",
    "vcpuNum": 48
   },
   {
    "_defaultOrder": 18,
    "_isFastLaunch": false,
    "category": "General purpose",
    "gpuNum": 0,
    "hideHardwareSpecs": false,
    "memoryGiB": 256,
    "name": "ml.m5d.16xlarge",
    "vcpuNum": 64
   },
   {
    "_defaultOrder": 19,
    "_isFastLaunch": false,
    "category": "General purpose",
    "gpuNum": 0,
    "hideHardwareSpecs": false,
    "memoryGiB": 384,
    "name": "ml.m5d.24xlarge",
    "vcpuNum": 96
   },
   {
    "_defaultOrder": 20,
    "_isFastLaunch": false,
    "category": "General purpose",
    "gpuNum": 0,
    "hideHardwareSpecs": true,
    "memoryGiB": 0,
    "name": "ml.geospatial.interactive",
    "supportedImageNames": [
     "sagemaker-geospatial-v1-0"
    ],
    "vcpuNum": 0
   },
   {
    "_defaultOrder": 21,
    "_isFastLaunch": true,
    "category": "Compute optimized",
    "gpuNum": 0,
    "hideHardwareSpecs": false,
    "memoryGiB": 4,
    "name": "ml.c5.large",
    "vcpuNum": 2
   },
   {
    "_defaultOrder": 22,
    "_isFastLaunch": false,
    "category": "Compute optimized",
    "gpuNum": 0,
    "hideHardwareSpecs": false,
    "memoryGiB": 8,
    "name": "ml.c5.xlarge",
    "vcpuNum": 4
   },
   {
    "_defaultOrder": 23,
    "_isFastLaunch": false,
    "category": "Compute optimized",
    "gpuNum": 0,
    "hideHardwareSpecs": false,
    "memoryGiB": 16,
    "name": "ml.c5.2xlarge",
    "vcpuNum": 8
   },
   {
    "_defaultOrder": 24,
    "_isFastLaunch": false,
    "category": "Compute optimized",
    "gpuNum": 0,
    "hideHardwareSpecs": false,
    "memoryGiB": 32,
    "name": "ml.c5.4xlarge",
    "vcpuNum": 16
   },
   {
    "_defaultOrder": 25,
    "_isFastLaunch": false,
    "category": "Compute optimized",
    "gpuNum": 0,
    "hideHardwareSpecs": false,
    "memoryGiB": 72,
    "name": "ml.c5.9xlarge",
    "vcpuNum": 36
   },
   {
    "_defaultOrder": 26,
    "_isFastLaunch": false,
    "category": "Compute optimized",
    "gpuNum": 0,
    "hideHardwareSpecs": false,
    "memoryGiB": 96,
    "name": "ml.c5.12xlarge",
    "vcpuNum": 48
   },
   {
    "_defaultOrder": 27,
    "_isFastLaunch": false,
    "category": "Compute optimized",
    "gpuNum": 0,
    "hideHardwareSpecs": false,
    "memoryGiB": 144,
    "name": "ml.c5.18xlarge",
    "vcpuNum": 72
   },
   {
    "_defaultOrder": 28,
    "_isFastLaunch": false,
    "category": "Compute optimized",
    "gpuNum": 0,
    "hideHardwareSpecs": false,
    "memoryGiB": 192,
    "name": "ml.c5.24xlarge",
    "vcpuNum": 96
   },
   {
    "_defaultOrder": 29,
    "_isFastLaunch": true,
    "category": "Accelerated computing",
    "gpuNum": 1,
    "hideHardwareSpecs": false,
    "memoryGiB": 16,
    "name": "ml.g4dn.xlarge",
    "vcpuNum": 4
   },
   {
    "_defaultOrder": 30,
    "_isFastLaunch": false,
    "category": "Accelerated computing",
    "gpuNum": 1,
    "hideHardwareSpecs": false,
    "memoryGiB": 32,
    "name": "ml.g4dn.2xlarge",
    "vcpuNum": 8
   },
   {
    "_defaultOrder": 31,
    "_isFastLaunch": false,
    "category": "Accelerated computing",
    "gpuNum": 1,
    "hideHardwareSpecs": false,
    "memoryGiB": 64,
    "name": "ml.g4dn.4xlarge",
    "vcpuNum": 16
   },
   {
    "_defaultOrder": 32,
    "_isFastLaunch": false,
    "category": "Accelerated computing",
    "gpuNum": 1,
    "hideHardwareSpecs": false,
    "memoryGiB": 128,
    "name": "ml.g4dn.8xlarge",
    "vcpuNum": 32
   },
   {
    "_defaultOrder": 33,
    "_isFastLaunch": false,
    "category": "Accelerated computing",
    "gpuNum": 4,
    "hideHardwareSpecs": false,
    "memoryGiB": 192,
    "name": "ml.g4dn.12xlarge",
    "vcpuNum": 48
   },
   {
    "_defaultOrder": 34,
    "_isFastLaunch": false,
    "category": "Accelerated computing",
    "gpuNum": 1,
    "hideHardwareSpecs": false,
    "memoryGiB": 256,
    "name": "ml.g4dn.16xlarge",
    "vcpuNum": 64
   },
   {
    "_defaultOrder": 35,
    "_isFastLaunch": false,
    "category": "Accelerated computing",
    "gpuNum": 1,
    "hideHardwareSpecs": false,
    "memoryGiB": 61,
    "name": "ml.p3.2xlarge",
    "vcpuNum": 8
   },
   {
    "_defaultOrder": 36,
    "_isFastLaunch": false,
    "category": "Accelerated computing",
    "gpuNum": 4,
    "hideHardwareSpecs": false,
    "memoryGiB": 244,
    "name": "ml.p3.8xlarge",
    "vcpuNum": 32
   },
   {
    "_defaultOrder": 37,
    "_isFastLaunch": false,
    "category": "Accelerated computing",
    "gpuNum": 8,
    "hideHardwareSpecs": false,
    "memoryGiB": 488,
    "name": "ml.p3.16xlarge",
    "vcpuNum": 64
   },
   {
    "_defaultOrder": 38,
    "_isFastLaunch": false,
    "category": "Accelerated computing",
    "gpuNum": 8,
    "hideHardwareSpecs": false,
    "memoryGiB": 768,
    "name": "ml.p3dn.24xlarge",
    "vcpuNum": 96
   },
   {
    "_defaultOrder": 39,
    "_isFastLaunch": false,
    "category": "Memory Optimized",
    "gpuNum": 0,
    "hideHardwareSpecs": false,
    "memoryGiB": 16,
    "name": "ml.r5.large",
    "vcpuNum": 2
   },
   {
    "_defaultOrder": 40,
    "_isFastLaunch": false,
    "category": "Memory Optimized",
    "gpuNum": 0,
    "hideHardwareSpecs": false,
    "memoryGiB": 32,
    "name": "ml.r5.xlarge",
    "vcpuNum": 4
   },
   {
    "_defaultOrder": 41,
    "_isFastLaunch": false,
    "category": "Memory Optimized",
    "gpuNum": 0,
    "hideHardwareSpecs": false,
    "memoryGiB": 64,
    "name": "ml.r5.2xlarge",
    "vcpuNum": 8
   },
   {
    "_defaultOrder": 42,
    "_isFastLaunch": false,
    "category": "Memory Optimized",
    "gpuNum": 0,
    "hideHardwareSpecs": false,
    "memoryGiB": 128,
    "name": "ml.r5.4xlarge",
    "vcpuNum": 16
   },
   {
    "_defaultOrder": 43,
    "_isFastLaunch": false,
    "category": "Memory Optimized",
    "gpuNum": 0,
    "hideHardwareSpecs": false,
    "memoryGiB": 256,
    "name": "ml.r5.8xlarge",
    "vcpuNum": 32
   },
   {
    "_defaultOrder": 44,
    "_isFastLaunch": false,
    "category": "Memory Optimized",
    "gpuNum": 0,
    "hideHardwareSpecs": false,
    "memoryGiB": 384,
    "name": "ml.r5.12xlarge",
    "vcpuNum": 48
   },
   {
    "_defaultOrder": 45,
    "_isFastLaunch": false,
    "category": "Memory Optimized",
    "gpuNum": 0,
    "hideHardwareSpecs": false,
    "memoryGiB": 512,
    "name": "ml.r5.16xlarge",
    "vcpuNum": 64
   },
   {
    "_defaultOrder": 46,
    "_isFastLaunch": false,
    "category": "Memory Optimized",
    "gpuNum": 0,
    "hideHardwareSpecs": false,
    "memoryGiB": 768,
    "name": "ml.r5.24xlarge",
    "vcpuNum": 96
   },
   {
    "_defaultOrder": 47,
    "_isFastLaunch": false,
    "category": "Accelerated computing",
    "gpuNum": 1,
    "hideHardwareSpecs": false,
    "memoryGiB": 16,
    "name": "ml.g5.xlarge",
    "vcpuNum": 4
   },
   {
    "_defaultOrder": 48,
    "_isFastLaunch": false,
    "category": "Accelerated computing",
    "gpuNum": 1,
    "hideHardwareSpecs": false,
    "memoryGiB": 32,
    "name": "ml.g5.2xlarge",
    "vcpuNum": 8
   },
   {
    "_defaultOrder": 49,
    "_isFastLaunch": false,
    "category": "Accelerated computing",
    "gpuNum": 1,
    "hideHardwareSpecs": false,
    "memoryGiB": 64,
    "name": "ml.g5.4xlarge",
    "vcpuNum": 16
   },
   {
    "_defaultOrder": 50,
    "_isFastLaunch": false,
    "category": "Accelerated computing",
    "gpuNum": 1,
    "hideHardwareSpecs": false,
    "memoryGiB": 128,
    "name": "ml.g5.8xlarge",
    "vcpuNum": 32
   },
   {
    "_defaultOrder": 51,
    "_isFastLaunch": false,
    "category": "Accelerated computing",
    "gpuNum": 1,
    "hideHardwareSpecs": false,
    "memoryGiB": 256,
    "name": "ml.g5.16xlarge",
    "vcpuNum": 64
   },
   {
    "_defaultOrder": 52,
    "_isFastLaunch": false,
    "category": "Accelerated computing",
    "gpuNum": 4,
    "hideHardwareSpecs": false,
    "memoryGiB": 192,
    "name": "ml.g5.12xlarge",
    "vcpuNum": 48
   },
   {
    "_defaultOrder": 53,
    "_isFastLaunch": false,
    "category": "Accelerated computing",
    "gpuNum": 4,
    "hideHardwareSpecs": false,
    "memoryGiB": 384,
    "name": "ml.g5.24xlarge",
    "vcpuNum": 96
   },
   {
    "_defaultOrder": 54,
    "_isFastLaunch": false,
    "category": "Accelerated computing",
    "gpuNum": 8,
    "hideHardwareSpecs": false,
    "memoryGiB": 768,
    "name": "ml.g5.48xlarge",
    "vcpuNum": 192
   },
   {
    "_defaultOrder": 55,
    "_isFastLaunch": false,
    "category": "Accelerated computing",
    "gpuNum": 8,
    "hideHardwareSpecs": false,
    "memoryGiB": 1152,
    "name": "ml.p4d.24xlarge",
    "vcpuNum": 96
   },
   {
    "_defaultOrder": 56,
    "_isFastLaunch": false,
    "category": "Accelerated computing",
    "gpuNum": 8,
    "hideHardwareSpecs": false,
    "memoryGiB": 1152,
    "name": "ml.p4de.24xlarge",
    "vcpuNum": 96
   },
   {
    "_defaultOrder": 57,
    "_isFastLaunch": false,
    "category": "Accelerated computing",
    "gpuNum": 0,
    "hideHardwareSpecs": false,
    "memoryGiB": 32,
    "name": "ml.trn1.2xlarge",
    "vcpuNum": 8
   },
   {
    "_defaultOrder": 58,
    "_isFastLaunch": false,
    "category": "Accelerated computing",
    "gpuNum": 0,
    "hideHardwareSpecs": false,
    "memoryGiB": 512,
    "name": "ml.trn1.32xlarge",
    "vcpuNum": 128
   },
   {
    "_defaultOrder": 59,
    "_isFastLaunch": false,
    "category": "Accelerated computing",
    "gpuNum": 0,
    "hideHardwareSpecs": false,
    "memoryGiB": 512,
    "name": "ml.trn1n.32xlarge",
    "vcpuNum": 128
   }
  ],
  "instance_type": "ml.t3.medium",
  "kernelspec": {
   "display_name": "Python 3 (Data Science 3.0)",
   "language": "python",
   "name": "python3__SAGEMAKER_INTERNAL__arn:aws:sagemaker:us-east-1:081325390199:image/sagemaker-data-science-310-v1"
  },
  "language_info": {
   "codemirror_mode": {
    "name": "ipython",
    "version": 3
   },
   "file_extension": ".py",
   "mimetype": "text/x-python",
   "name": "python",
   "nbconvert_exporter": "python",
   "pygments_lexer": "ipython3",
   "version": "3.10.6"
  }
 },
 "nbformat": 4,
 "nbformat_minor": 5
}
