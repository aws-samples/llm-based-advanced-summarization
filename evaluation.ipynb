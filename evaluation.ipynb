{
 "cells": [
  {
   "cell_type": "markdown",
   "id": "1ec3045c-90d3-4920-8aa3-0350bb841540",
   "metadata": {
    "tags": []
   },
   "source": [
    "# Advanced Summary Evaluation\n",
    "This notebook shows examples of how to perform an evaluation of the summary output\n",
    "\n",
    ">Tested on SageMaker Studio with instance type ml.m5.8xlarge"
   ]
  },
  {
   "cell_type": "markdown",
   "id": "80488b88-43db-4aa8-8881-ce992973abc1",
   "metadata": {
    "jp-MarkdownHeadingCollapsed": true,
    "tags": []
   },
   "source": [
    "### Initial Setup"
   ]
  },
  {
   "cell_type": "code",
   "execution_count": null,
   "id": "43b69aa7-45b4-4bae-bdcc-1fcec04b3773",
   "metadata": {},
   "outputs": [],
   "source": [
    "!rm -Rf ~/.cache/pip/*\n",
    "!pip3 install fmeval --upgrade-strategy only-if-needed --force-reinstall\n",
    "\n",
    "!pip install -U ipywidgets"
   ]
  },
  {
   "cell_type": "code",
   "execution_count": null,
   "id": "0fbd6e57-3e13-42e7-9ba3-076df435ca27",
   "metadata": {
    "tags": []
   },
   "outputs": [],
   "source": [
    "from fmeval.data_loaders.data_config import DataConfig\n",
    "from fmeval.model_runners.bedrock_model_runner import BedrockModelRunner\n",
    "from fmeval.constants import MIME_TYPE_JSONLINES\n",
    "from fmeval.eval_algorithms.summarization_accuracy import SummarizationAccuracy"
   ]
  },
  {
   "cell_type": "markdown",
   "id": "ada9289a-9b45-4759-b74c-44f2961627c7",
   "metadata": {
    "tags": []
   },
   "source": [
    "### Data Config Setup\n",
    "\n",
    "Below, we create a DataConfig for the local dataset file, xsum_sample.jsonl.\n",
    "- `dataset_name` is just an identifier for your own reference\n",
    "- `dataset_uri` is either a local path to a file or an S3 URI\n",
    "- `dataset_mime_type` is the MIME type of the dataset. Currently, JSON and JSON Lines are supported.\n",
    "- `model_input_location` and `target_output_location` are JMESPath queries used to find the model inputs and target outputs within the dataset. The values that you specify here depend on the structure of the dataset itself. Take a look at xsum_sample.jsonl to see where \"document\" and \"summary\" show up."
   ]
  },
  {
   "cell_type": "code",
   "execution_count": null,
   "id": "a8f07984-a8d6-40a1-a660-c1645eb23878",
   "metadata": {
    "tags": []
   },
   "outputs": [],
   "source": [
    "config = DataConfig(\n",
    "    dataset_name=\"xsum_sample\",\n",
    "    dataset_uri=\"xsum_sample.jsonl\",\n",
    "    dataset_mime_type=MIME_TYPE_JSONLINES,\n",
    "    model_input_location=\"document\",\n",
    "    target_output_location=\"summary\"\n",
    ")"
   ]
  },
  {
   "cell_type": "markdown",
   "id": "6aed7fcb-26c0-469c-b899-50b0b8b500ec",
   "metadata": {
    "tags": []
   },
   "source": [
    "### Run Evaluation with Anthropic Claude\n",
    "\n",
    "The model runner we create below will be used to perform inference on every sample in the dataset"
   ]
  },
  {
   "cell_type": "code",
   "execution_count": null,
   "id": "2481e839-0d43-4809-99a8-8f93ec18e836",
   "metadata": {
    "tags": []
   },
   "outputs": [],
   "source": [
    "model_id = 'anthropic.claude-v2'\n",
    "\n",
    "bedrock_model_runner = BedrockModelRunner(\n",
    "    model_id=model_id,\n",
    "    output='completion',\n",
    "    content_template='{\"prompt\": $prompt, \"max_tokens_to_sample\": 500}'\n",
    ")\n",
    "\n",
    "eval_algo = SummarizationAccuracy()\n",
    "eval_output = eval_algo.evaluate(model=bedrock_model_runner, dataset_config=config, \n",
    "                                 prompt_template=\"Human: $feature\\n\\nAssistant:\\n\", save=True)"
   ]
  },
  {
   "cell_type": "markdown",
   "id": "40ca58e5-4bcf-4eb3-831d-6ce236a11150",
   "metadata": {
    "tags": []
   },
   "source": [
    "### Parse Evaluation Results"
   ]
  },
  {
   "cell_type": "code",
   "execution_count": null,
   "id": "899040fb-59fd-4a16-ad23-30dcf0bd263f",
   "metadata": {
    "tags": []
   },
   "outputs": [],
   "source": [
    "# Pretty-print the evaluation output (notice the scores).\n",
    "# Create a Pandas DataFrame to visualize the results\n",
    "import pandas as pd\n",
    "import json\n",
    "\n",
    "print(json.dumps(eval_output, default=vars, indent=4))\n",
    "data = []\n",
    "\n",
    "# We obtain the path to the results file from \"output_path\" in the cell above \n",
    "with open(\"/tmp/eval_results/summarization_accuracy_xsum_sample.jsonl\", \"r\") as file:\n",
    "    for line in file:\n",
    "        data.append(json.loads(line))\n",
    "        \n",
    "df = pd.DataFrame(data)\n",
    "df['eval_algo'] = df['scores'].apply(lambda x: x[0]['name'])\n",
    "df['eval_score'] = df['scores'].apply(lambda x: x[0]['value'])\n",
    "df"
   ]
  },
  {
   "cell_type": "markdown",
   "id": "11d043e3-fc38-45f9-acad-0f8e63b1caba",
   "metadata": {
    "tags": []
   },
   "source": [
    "## Get Dependencies"
   ]
  },
  {
   "cell_type": "code",
   "execution_count": 14,
   "id": "10006c4d-1014-4594-a0a6-436e6d94d280",
   "metadata": {
    "tags": []
   },
   "outputs": [
    {
     "name": "stdout",
     "output_type": "stream",
     "text": [
      "\u001b[33mWARNING: Running pip as the 'root' user can result in broken permissions and conflicting behaviour with the system package manager. It is recommended to use a virtual environment instead: https://pip.pypa.io/warnings/venv\u001b[0m\u001b[33m\n",
      "\u001b[0m\u001b[33mWARNING: Running pip as the 'root' user can result in broken permissions and conflicting behaviour with the system package manager. It is recommended to use a virtual environment instead: https://pip.pypa.io/warnings/venv\u001b[0m\u001b[33m\n",
      "\u001b[0m\u001b[31mERROR: pip's dependency resolver does not currently take into account all the packages that are installed. This behaviour is the source of the following dependency conflicts.\n",
      "transformers 4.22.1 requires tokenizers!=0.11.3,<0.13,>=0.11.1, but you have tokenizers 0.15.0 which is incompatible.\u001b[0m\u001b[31m\n",
      "\u001b[0m\u001b[33mWARNING: Running pip as the 'root' user can result in broken permissions and conflicting behaviour with the system package manager. It is recommended to use a virtual environment instead: https://pip.pypa.io/warnings/venv\u001b[0m\u001b[33m\n",
      "\u001b[0m\u001b[33mWARNING: Running pip as the 'root' user can result in broken permissions and conflicting behaviour with the system package manager. It is recommended to use a virtual environment instead: https://pip.pypa.io/warnings/venv\u001b[0m\u001b[33m\n",
      "\u001b[0m\u001b[33mWARNING: Running pip as the 'root' user can result in broken permissions and conflicting behaviour with the system package manager. It is recommended to use a virtual environment instead: https://pip.pypa.io/warnings/venv\u001b[0m\u001b[33m\n",
      "\u001b[0m\u001b[33mWARNING: Running pip as the 'root' user can result in broken permissions and conflicting behaviour with the system package manager. It is recommended to use a virtual environment instead: https://pip.pypa.io/warnings/venv\u001b[0m\u001b[33m\n",
      "\u001b[0m\u001b[33mWARNING: Running pip as the 'root' user can result in broken permissions and conflicting behaviour with the system package manager. It is recommended to use a virtual environment instead: https://pip.pypa.io/warnings/venv\u001b[0m\u001b[33m\n",
      "\u001b[0m\u001b[33m      WARNING: Cannot remove entries from nonexistent file /opt/conda/lib/python3.10/site-packages/easy-install.pth\u001b[0m\u001b[33m\n",
      "\u001b[0m\u001b[31mERROR: pip's dependency resolver does not currently take into account all the packages that are installed. This behaviour is the source of the following dependency conflicts.\n",
      "daal4py 2021.6.0 requires daal==2021.4.0, which is not installed.\n",
      "spyder 5.3.3 requires pyqt5<5.16, which is not installed.\n",
      "spyder 5.3.3 requires pyqtwebengine<5.16, which is not installed.\n",
      "anthropic 0.8.1 requires tokenizers>=0.13.0, but you have tokenizers 0.12.1 which is incompatible.\n",
      "awscli 1.31.9 requires botocore==1.33.9, but you have botocore 1.34.6 which is incompatible.\n",
      "awscli 1.31.9 requires s3transfer<0.9.0,>=0.8.0, but you have s3transfer 0.10.0 which is incompatible.\n",
      "distributed 2022.7.0 requires tornado<6.2,>=6.0.3, but you have tornado 6.4 which is incompatible.\n",
      "jupyterlab 3.4.4 requires jupyter-server~=1.16, but you have jupyter-server 2.12.1 which is incompatible.\n",
      "jupyterlab-server 2.10.3 requires jupyter-server~=1.4, but you have jupyter-server 2.12.1 which is incompatible.\n",
      "notebook 6.5.6 requires jupyter-client<8,>=5.3.4, but you have jupyter-client 8.6.0 which is incompatible.\n",
      "notebook 6.5.6 requires pyzmq<25,>=17, but you have pyzmq 25.1.2 which is incompatible.\n",
      "numba 0.55.1 requires numpy<1.22,>=1.18, but you have numpy 1.26.2 which is incompatible.\n",
      "panel 0.13.1 requires bokeh<2.5.0,>=2.4.0, but you have bokeh 3.3.2 which is incompatible.\n",
      "python-lsp-server 1.5.0 requires jedi<0.19.0,>=0.17.2, but you have jedi 0.19.1 which is incompatible.\n",
      "sagemaker-datawrangler 0.4.3 requires sagemaker-data-insights==0.4.0, but you have sagemaker-data-insights 0.3.3 which is incompatible.\n",
      "sparkmagic 0.20.4 requires nest-asyncio==1.5.5, but you have nest-asyncio 1.5.8 which is incompatible.\n",
      "spyder 5.3.3 requires ipython<8.0.0,>=7.31.1, but you have ipython 8.19.0 which is incompatible.\n",
      "spyder 5.3.3 requires jedi<0.19.0,>=0.17.2, but you have jedi 0.19.1 which is incompatible.\n",
      "spyder 5.3.3 requires pylint<3.0,>=2.5.0, but you have pylint 3.0.2 which is incompatible.\n",
      "spyder-kernels 2.3.3 requires ipython<8,>=7.31.1; python_version >= \"3\", but you have ipython 8.19.0 which is incompatible.\n",
      "spyder-kernels 2.3.3 requires jupyter-client<8,>=7.3.4; python_version >= \"3\", but you have jupyter-client 8.6.0 which is incompatible.\u001b[0m\u001b[31m\n",
      "\u001b[0m\u001b[33mWARNING: Running pip as the 'root' user can result in broken permissions and conflicting behaviour with the system package manager. It is recommended to use a virtual environment instead: https://pip.pypa.io/warnings/venv\u001b[0m\u001b[33m\n",
      "\u001b[0m\u001b[33mWARNING: Running pip as the 'root' user can result in broken permissions and conflicting behaviour with the system package manager. It is recommended to use a virtual environment instead: https://pip.pypa.io/warnings/venv\u001b[0m\u001b[33m\n",
      "\u001b[0m\u001b[33mWARNING: Running pip as the 'root' user can result in broken permissions and conflicting behaviour with the system package manager. It is recommended to use a virtual environment instead: https://pip.pypa.io/warnings/venv\u001b[0m\u001b[33m\n",
      "\u001b[0m"
     ]
    }
   ],
   "source": [
    "!pip install ipynb -q\n",
    "!pip install langchain -q\n",
    "!pip install anthropic -q\n",
    "!pip install tiktoken -q\n",
    "!pip install nltk -q\n",
    "!pip install rouge-score -q\n",
    "!pip install evaluate -q\n",
    "!pip3 install fmeval --upgrade-strategy only-if-needed --force-reinstall -q\n",
    "!pip install transformers -q\n",
    "!pip install detoxify -q"
   ]
  },
  {
   "cell_type": "code",
   "execution_count": 3,
   "id": "62a74a5b-bfd8-4ca6-9f25-916a55e72422",
   "metadata": {
    "tags": []
   },
   "outputs": [],
   "source": [
    "from ipynb.fs.full.simple_summarize import stuff_it_summary, map_reduce_summary\n",
    "from ipynb.fs.full.advanced_summarize import generate_single_doc_summary, generate_multiple_docs_summary"
   ]
  },
  {
   "cell_type": "markdown",
   "id": "0fd3a976-81d3-4a25-be9e-32edbe88b644",
   "metadata": {
    "tags": []
   },
   "source": [
    "## Get Model Output\n",
    "\n",
    "Get summary output of all the different types of summarization"
   ]
  },
  {
   "cell_type": "markdown",
   "id": "4fd4c298-6750-42f5-96dd-6ef94cd78469",
   "metadata": {},
   "source": [
    "### Define helper functions"
   ]
  },
  {
   "cell_type": "code",
   "execution_count": 6,
   "id": "57cc5894-d5f2-4c01-9aea-28d6451f133f",
   "metadata": {
    "tags": []
   },
   "outputs": [],
   "source": [
    "import json\n",
    "\n",
    "def get_summary(dataset, sum_type=\"stuff_it_summary\", func=stuff_it_summary):\n",
    "    \n",
    "    #set up some basic prompt options for the advanced summary functions.\n",
    "    prompt_options = {}\n",
    "    prompt_options['prompt_type'] = \"summary\"\n",
    "    prompt_options['format_type'] = \"narrative\"\n",
    "    prompt_options['manual_guidance'] = \"\"\n",
    "    prompt_options['style_guide'] = \"\"\n",
    "    \n",
    "    with open(dataset) as f:\n",
    "        data_w_model_summary = [json.loads(line) for line in f]\n",
    "    \n",
    "    for doc in data_w_model_summary:\n",
    "        \n",
    "        if sum_type==\"multi_doc\":\n",
    "            \n",
    "            #create a list of questions for the muti-doc guided process\n",
    "            questions = [ \"What is a brief, concise summary of this news report\"]\n",
    "\n",
    "            #create a discription of this set of documents, for the multi-doc guided process.\n",
    "            doc_description = \"The text is a news report of events that occured\"\n",
    "            \n",
    "            answers = func({\"input\": doc['document']}, questions, doc_description, DEBUG=False)\n",
    "            question = questions[0]\n",
    "            model_output= (answers[question].replace(\"\\n\\n\",\"\\n\"))\n",
    "            \n",
    "        elif sum_type==\"auto_refine\":\n",
    "            model_output = func(doc['document'], prompt_options, AUTO_REFINE=True, DEBUG=False)\n",
    "            \n",
    "        elif sum_type==\"map_reduce\":\n",
    "            model_output = func(doc['document'], DEBUG=False)\n",
    "            \n",
    "        else:\n",
    "            model_output = func(doc['document'])\n",
    "            \n",
    "        doc[\"model_output\"] = model_output\n",
    "        \n",
    "    return data_w_model_summary"
   ]
  },
  {
   "cell_type": "markdown",
   "id": "cdd3477f-cdcc-4e25-9074-abe397118310",
   "metadata": {},
   "source": [
    "### Stuff it Summary"
   ]
  },
  {
   "cell_type": "code",
   "execution_count": 7,
   "id": "5dee0256-f06d-4f44-a83e-53f4ae703e4a",
   "metadata": {
    "collapsed": true,
    "jupyter": {
     "outputs_hidden": true
    },
    "tags": []
   },
   "outputs": [
    {
     "name": "stdout",
     "output_type": "stream",
     "text": [
      "[{'document': 'The full cost of damage in Newton Stewart, one of the areas worst affected, is still being assessed.\\nRepair work is ongoing in Hawick and many roads in Peeblesshire remain badly affected by standing water.\\nTrains on the west coast mainline face disruption due to damage at the Lamington Viaduct.\\nMany businesses and householders were affected by flooding in Newton Stewart after the River Cree overflowed into the town.\\nFirst Minister Nicola Sturgeon visited the area to inspect the damage.\\nThe waters breached a retaining wall, flooding many commercial properties on Victoria Street - the main shopping thoroughfare.\\nJeanette Tate, who owns the Cinnamon Cafe which was badly affected, said she could not fault the multi-agency response once the flood hit.\\nHowever, she said more preventative work could have been carried out to ensure the retaining wall did not fail.\\n\"It is difficult but I do think there is so much publicity for Dumfries and the Nith - and I totally appreciate that - but it is almost like we\\'re neglected or forgotten,\" she said.\\n\"That may not be true but it is perhaps my perspective over the last few days.\\n\"Why were you not ready to help us a bit more when the warning and the alarm alerts had gone out?\"\\nMeanwhile, a flood alert remains in place across the Borders because of the constant rain.\\nPeebles was badly hit by problems, sparking calls to introduce more defences in the area.\\nScottish Borders Council has put a list on its website of the roads worst affected and drivers have been urged not to ignore closure signs.\\nThe Labour Party\\'s deputy Scottish leader Alex Rowley was in Hawick on Monday to see the situation first hand.\\nHe said it was important to get the flood protection plan right but backed calls to speed up the process.\\n\"I was quite taken aback by the amount of damage that has been done,\" he said.\\n\"Obviously it is heart-breaking for people who have been forced out of their homes and the impact on businesses.\"\\nHe said it was important that \"immediate steps\" were taken to protect the areas most vulnerable and a clear timetable put in place for flood prevention plans.\\nHave you been affected by flooding in Dumfries and Galloway or the Borders? Tell us about your experience of the situation and how it was handled. Email us on selkirk.news@bbc.co.uk or dumfries@bbc.co.uk.', 'summary': 'Clean-up operations are continuing across the Scottish Borders and Dumfries and Galloway after flooding caused by Storm Frank.', 'id': '35232142', 'model_output': ' Heavy flooding caused extensive damage in Newton Stewart and other areas of Dumfries and Galloway as well as the Scottish Borders region. The River Cree overflowed in Newton Stewart, flooding many shops on the main street. First Minister Nicola Sturgeon visited to inspect the damage. The owner of a flooded cafe said more could have been done to prevent the flooding. Peebles was also badly affected, sparking calls for more defenses. Roads remain closed across the regions. Scottish Labour deputy leader Alex Rowley visited Hawick and said flood protection plans need to be sped up. Residents and business owners face heartbreak over the damage. There are calls for immediate steps to protect the most vulnerable areas and clear timelines for flood prevention.'}, {'document': 'A fire alarm went off at the Holiday Inn in Hope Street at about 04:20 BST on Saturday and guests were asked to leave the hotel.\\nAs they gathered outside they saw the two buses, parked side-by-side in the car park, engulfed by flames.\\nOne of the tour groups is from Germany, the other from China and Taiwan. It was their first night in Northern Ireland.\\nThe driver of one of the buses said many of the passengers had left personal belongings on board and these had been destroyed.\\nBoth groups have organised replacement coaches and will begin their tour of the north coast later than they had planned.\\nPolice have appealed for information about the attack.\\nInsp David Gibson said: \"It appears as though the fire started under one of the buses before spreading to the second.\\n\"While the exact cause is still under investigation, it is thought that the fire was started deliberately.\"', 'summary': 'Two tourist buses have been destroyed by fire in a suspected arson attack in Belfast city centre.', 'id': '40143035', 'model_output': ' Two tour buses from Germany and China/Taiwan were set on fire in the parking lot of a Holiday Inn in Northern Ireland early Saturday morning. The fire alarm went off around 4:20am and guests were evacuated. The buses were engulfed in flames as the tour groups gathered outside. Many passengers lost personal belongings that were still on the buses. Both tour groups arranged for replacement buses and will proceed with their planned tours of Northern Ireland later than originally scheduled. Police believe the fire was deliberately set and started under one bus before spreading to the second. They have appealed for any information related to the attack.'}, {'document': 'Ferrari appeared in a position to challenge until the final laps, when the Mercedes stretched their legs to go half a second clear of the red cars.\\nSebastian Vettel will start third ahead of team-mate Kimi Raikkonen.\\nThe world champion subsequently escaped punishment for reversing in the pit lane, which could have seen him stripped of pole.\\nBut stewards only handed Hamilton a reprimand, after governing body the FIA said \"no clear instruction was given on where he should park\".\\nBelgian Stoffel Vandoorne out-qualified McLaren team-mate Jenson Button on his Formula 1 debut.\\nVandoorne was 12th and Button 14th, complaining of a handling imbalance on his final lap but admitting the newcomer \"did a good job and I didn\\'t\".\\nMercedes were wary of Ferrari\\'s pace before qualifying after Vettel and Raikkonen finished one-two in final practice, and their concerns appeared to be well founded as the red cars mixed it with the silver through most of qualifying.\\nAfter the first runs, Rosberg was ahead, with Vettel and Raikkonen splitting him from Hamilton, who made a mistake at the final corner on his first lap.\\nBut Hamilton saved his best for last, fastest in every sector of his final attempt, to beat Rosberg by just 0.077secs after the German had out-paced him throughout practice and in the first qualifying session.\\nVettel rued a mistake at the final corner on his last lap, but the truth is that with the gap at 0.517secs to Hamilton there was nothing he could have done.\\nThe gap suggests Mercedes are favourites for the race, even if Ferrari can be expected to push them.\\nVettel said: \"Last year we were very strong in the race and I think we are in good shape for tomorrow. We will try to give them a hard time.\"\\nVandoorne\\'s preparations for his grand prix debut were far from ideal - he only found out he was racing on Thursday when FIA doctors declared Fernando Alonso unfit because of a broken rib sustained in his huge crash at the first race of the season in Australia two weeks ago.\\nThe Belgian rookie had to fly overnight from Japan, where he had been testing in the Super Formula car he races there, and arrived in Bahrain only hours before first practice on Friday.\\nHe also had a difficult final practice, missing all but the final quarter of the session because of a water leak.\\nButton was quicker in the first qualifying session, but Vandoorne pipped him by 0.064secs when it mattered.\\nThe 24-year-old said: \"I knew after yesterday I had quite similar pace to Jenson and I knew if I improved a little bit I could maybe challenge him and even out-qualify him and that is what has happened.\\n\"Jenson is a very good benchmark for me because he is a world champion and he is well known to the team so I am very satisfied with the qualifying.\"\\nButton, who was 0.5secs quicker than Vandoorne in the first session, complained of oversteer on his final run in the second: \"Q1 was what I was expecting. Q2 he did a good job and I didn\\'t. Very, very good job. We knew how quick he was.\"\\nThe controversial new elimination qualifying system was retained for this race despite teams voting at the first race in Australia to go back to the 2015 system.\\nFIA president Jean Todt said earlier on Saturday that he \"felt it necessary to give new qualifying one more chance\", adding: \"We live in a world where there is too much over reaction.\"\\nThe system worked on the basis of mixing up the grid a little - Force India\\'s Sergio Perez ended up out of position in 18th place after the team miscalculated the timing of his final run, leaving him not enough time to complete it before the elimination clock timed him out.\\nBut it will come in for more criticism as a result of lack of track action at the end of each session. There were three minutes at the end of the first session with no cars on the circuit, and the end of the second session was a similar damp squib.\\nOnly one car - Nico Hulkenberg\\'s Force India - was out on the track with six minutes to go. The two Williams cars did go out in the final three minutes but were already through to Q3 and so nothing was at stake.\\nThe teams are meeting with Todt and F1 commercial boss Bernie Ecclestone on Sunday at noon local time to decide on what to do with qualifying for the rest of the season.\\nTodt said he was \"optimistic\" they would be able to reach unanimous agreement on a change.\\n\"We should listen to the people watching on TV,\" Rosberg said. \"If they are still unhappy, which I am sure they will be, we should change it.\"\\nRed Bull\\'s Daniel Ricciardo was fifth on the grid, ahead of the Williams cars of Valtteri Bottas and Felipe Massa and Force India\\'s Nico Hulkenberg.\\nRicciardo\\'s team-mate Daniil Kvyat was eliminated during the second session - way below the team\\'s expectation - and the Renault of Brit Jolyon Palmer only managed 19th fastest.\\nGerman Mercedes protege Pascal Wehrlein managed an excellent 16th in the Manor car.\\nBahrain GP qualifying results\\nBahrain GP coverage details', 'summary': 'Lewis Hamilton stormed to pole position at the Bahrain Grand Prix ahead of Mercedes team-mate Nico Rosberg.', 'id': '35951548', 'model_output': ' Here is a concise narrative summary of the key points from the text:\\n\\nLewis Hamilton took pole position for the Bahrain Grand Prix, beating teammate Nico Rosberg by a narrow margin. Sebastian Vettel qualified third for Ferrari, ahead of teammate Kimi Raikkonen. The Mercedes cars were quickest in qualifying but Ferrari looked strong in practice, so the race should be close between the top teams. \\n\\nStoffel Vandoorne made an impressive Formula 1 debut by out-qualifying McLaren teammate Jenson Button in 12th place, despite limited preparation time. The controversial elimination qualifying format was retained for Bahrain, but faced more criticism for lack of on-track action. Teams will meet to decide whether to change the system again. Daniel Ricciardo qualified fifth for Red Bull, ahead of the Williams cars.'}, {'document': 'John Edward Bates, formerly of Spalding, Lincolnshire, but now living in London, faces a total of 22 charges, including two counts of indecency with a child.\\nThe 67-year-old is accused of committing the offences between March 1972 and October 1989.\\nMr Bates denies all the charges.\\nGrace Hale, prosecuting, told the jury that the allegations of sexual abuse were made by made by four male complainants and related to when Mr Bates was a scout leader in South Lincolnshire and Cambridgeshire.\\n\"The defendant says nothing of that sort happened between himself and all these individuals. He says they are all fabricating their accounts and telling lies,\" said Mrs Hale.\\nThe prosecutor claimed Mr Bates invited one 15 year old to his home offering him the chance to look at cine films made at scout camps but then showed him pornographic films.\\nShe told the jury that the boy was then sexually abused leaving him confused and frightened.\\nMrs Hale said: \"The complainant\\'s recollection is that on a number of occasions sexual acts would happen with the defendant either in the defendant\\'s car or in his cottage.\"\\nShe told the jury a second boy was taken by Mr Bates for a weekend in London at the age of 13 or 14 and after visiting pubs he was later sexually abused.\\nMrs Hale said two boys from the Spalding group had also made complaints of being sexually abused.\\nThe jury has been told that Mr Bates was in the RAF before serving as a Lincolnshire Police officer between 1976 and 1983.\\nThe trial, which is expected to last two weeks, continues.', 'summary': 'A former Lincolnshire Police officer carried out a series of sex attacks on boys, a jury at Lincoln Crown Court was told.', 'id': '36266422', 'model_output': ' Here is a concise narrative summary of the text:\\n\\nJohn Edward Bates, a 67-year-old former scout leader, is on trial facing 22 charges of sexual abuse against four male complainants. The alleged incidents took place between 1972 and 1989 when Bates was a scout leader in South Lincolnshire and Cambridgeshire. Bates denies all the charges. \\n\\nProsecutor Grace Hale told the jury that Bates invited a 15-year-old boy to his home on the pretext of showing him scout camp videos, but instead showed pornography. The boy was then sexually abused by Bates, leaving him confused and frightened. Another boy, aged 13 or 14, was taken by Bates to London for a weekend, plied with alcohol at pubs, and later sexually abused. Two other boys from the Spalding scout group have also alleged being abused by Bates. \\n\\nBefore becoming a scout leader, Bates served in the RAF and was a Lincolnshire police officer from 1976 to 1983. The trial is expected to last two weeks.'}, {'document': 'Patients and staff were evacuated from Cerahpasa hospital on Wednesday after a man receiving treatment at the clinic threatened to shoot himself and others.\\nOfficers were deployed to negotiate with the man, a young police officer.\\nEarlier reports that the armed man had taken several people hostage proved incorrect.\\nThe chief consultant of Cerahpasa hospital, Zekayi Kutlubay, who was evacuated from the facility, said that there had been \"no hostage crises\", adding that the man was \"alone in the room\".\\nDr Kutlubay said that the man had been receiving psychiatric treatment for the past two years.\\nHe said that the hospital had previously submitted a report stating that the man should not be permitted to carry a gun.\\n\"His firearm was taken away,\" Dr Kutlubay said, adding that the gun in the officer\\'s possession on Wednesday was not his issued firearm.\\nThe incident comes amid tension in Istanbul following several attacks in crowded areas, including the deadly assault on the Reina nightclub on New Year\\'s Eve which left 39 people dead.', 'summary': 'An armed man who locked himself into a room at a psychiatric hospital in Istanbul has ended his threat to kill himself, Turkish media report.', 'id': '38826984', 'model_output': \" Here is a concise narrative summary of the key events:\\n\\nOn Wednesday, patients and staff were evacuated from Cerahpasa hospital in Istanbul after a young police officer receiving psychiatric treatment there threatened to shoot himself and others. Officers negotiated with the man, who was alone in a room. Earlier reports of a hostage situation were incorrect. \\n\\nThe hospital's chief consultant, Dr. Zekayi Kutlubay, said the man had been getting psychiatric treatment for 2 years. The hospital had previously submitted a report saying he should not carry a gun, and his firearm had been taken away. The gun he had on Wednesday was not his service weapon.  \\n\\nThis incident occurred amid tension in Istanbul following recent attacks in crowded areas, including the deadly New Year's Eve shooting at the Reina nightclub that killed 39 people.\"}, {'document': 'Simone Favaro got the crucial try with the last move of the game, following earlier touchdowns by Chris Fusaro, Zander Fagerson and Junior Bulumakau.\\nRynard Landman and Ashton Hewitt got a try in either half for the Dragons.\\nGlasgow showed far superior strength in depth as they took control of a messy match in the second period.\\nHome coach Gregor Townsend gave a debut to powerhouse Fijian-born Wallaby wing Taqele Naiyaravoro, and centre Alex Dunbar returned from long-term injury, while the Dragons gave first starts of the season to wing Aled Brew and hooker Elliot Dee.\\nGlasgow lost hooker Pat McArthur to an early shoulder injury but took advantage of their first pressure when Rory Clegg slotted over a penalty on 12 minutes.\\nIt took 24 minutes for a disjointed game to produce a try as Sarel Pretorius sniped from close range and Landman forced his way over for Jason Tovey to convert - although it was the lock\\'s last contribution as he departed with a chest injury shortly afterwards.\\nGlasgow struck back when Fusaro drove over from a rolling maul on 35 minutes for Clegg to convert.\\nBut the Dragons levelled at 10-10 before half-time when Naiyaravoro was yellow-carded for an aerial tackle on Brew and Tovey slotted the easy goal.\\nThe visitors could not make the most of their one-man advantage after the break as their error count cost them dearly.\\nIt was Glasgow\\'s bench experience that showed when Mike Blair\\'s break led to a short-range score from teenage prop Fagerson, converted by Clegg.\\nDebutant Favaro was the second home player to be sin-binned, on 63 minutes, but again the Warriors made light of it as replacement wing Bulumakau, a recruit from the Army, pounced to deftly hack through a bouncing ball for an opportunist try.\\nThe Dragons got back within striking range with some excellent combined handling putting Hewitt over unopposed after 72 minutes.\\nHowever, Favaro became sinner-turned-saint as he got on the end of another effective rolling maul to earn his side the extra point with the last move of the game, Clegg converting.\\nDragons director of rugby Lyn Jones said: \"We\\'re disappointed to have lost but our performance was a lot better [than against Leinster] and the game could have gone either way.\\n\"Unfortunately too many errors behind the scrum cost us a great deal, though from where we were a fortnight ago in Dublin our workrate and desire was excellent.\\n\"It was simply error count from individuals behind the scrum that cost us field position, it\\'s not rocket science - they were correct in how they played and we had a few errors, that was the difference.\"\\nGlasgow Warriors: Rory Hughes, Taqele Naiyaravoro, Alex Dunbar, Fraser Lyle, Lee Jones, Rory Clegg, Grayson Hart; Alex Allan, Pat MacArthur, Zander Fagerson, Rob Harley (capt), Scott Cummings, Hugh Blake, Chris Fusaro, Adam Ashe.\\nReplacements: Fergus Scott, Jerry Yanuyanutawa, Mike Cusack, Greg Peterson, Simone Favaro, Mike Blair, Gregor Hunter, Junior Bulumakau.\\nDragons: Carl Meyer, Ashton Hewitt, Ross Wardle, Adam Warren, Aled Brew, Jason Tovey, Sarel Pretorius; Boris Stankovich, Elliot Dee, Brok Harris, Nick Crosswell, Rynard Landman (capt), Lewis Evans, Nic Cudd, Ed Jackson.\\nReplacements: Rhys Buckley, Phil Price, Shaun Knight, Matthew Screech, Ollie Griffiths, Luc Jones, Charlie Davies, Nick Scott.', 'summary': 'Defending Pro12 champions Glasgow Warriors bagged a late bonus-point victory over the Dragons despite a host of absentees and two yellow cards.', 'id': '34540833', 'model_output': \" The Glasgow Warriors defeated the Dragons in a messy rugby match. Simone Favaro scored the winning try for Glasgow in the final moments. Earlier tries were scored by Chris Fusaro, Zander Fagerson and Junior Bulumakau for Glasgow, while Rynard Landman and Ashton Hewitt scored for the Dragons. Glasgow took control in the second half thanks to their superior depth. Both teams had players sin-binned during the match. Glasgow coach Gregor Townsend gave debuts to Taqele Naiyaravoro and Alex Dunbar, while the Dragons gave first starts to Aled Brew and Elliot Dee. Despite some late pressure from the Dragons after a try from Hewitt, Favaro's late try sealed the win for Glasgow.\"}, {'document': 'Veronica Vanessa Chango-Alverez, 31, was killed and another man injured when an Audi A3 struck them in Streatham High Road at 05:30 GMT on Saturday.\\nTen minutes before the crash the car was in London Road, Croydon, when a Volkswagen Passat collided with a tree.\\nPolice want to trace Nathan Davis, 27, who they say has links to the Audi. The car was abandoned at the scene.\\nMs Chango-Alverez died from multiple injuries, a post-mortem examination found.\\nNo arrests have been made as yet, police said.\\nMs Chango-Alverez was staying at her mother\\'s home in Streatham High Road.\\nShe was born in Ecuador and had lived in London for 13 years, BBC London reporter Gareth Furby said. At the time of the crash, she was on her way to work in a hotel.\\nThe remains of the bus stop, which was extensively damaged in the crash, have been removed.\\nFlowers have been left at the site in tribute to the victim.\\nA statement from her brother Kevin Raul Chango-Alverez said: \"My family has had its heart torn out, at this Christmas time, we will never be the same again.\\n\"On Friday night we were together as a family with Veronica meeting her newly born nephew and preparing for Christmas.\\n\"I last saw her alive as she left to go to work on Saturday morning, but moments later I was holding her hand as she passed away in the street.\"\\nDescribing the crash as \"horrific\" Det Insp Gordon Wallace, said: \"The family are devastated. The memory of this senseless death will be with them each time they leave their home.\\n\"The driver fled the scene abandoning the grey Audi, which was extensively damaged.\\n\"We are looking to speak to Mr Nathan Davis in relation to this collision.\"\\nThe 51-year-old man injured at the bus stop remains in a critical condition in hospital while the condition of the 29-year-old driver of the Volkswagen is now stable.', 'summary': 'A man with links to a car that was involved in a fatal bus stop crash in south London is being sought by police.', 'id': '20836172', 'model_output': ' Veronica Vanessa Chango-Alverez, 31, was killed and a man injured when an Audi A3 hit them at a bus stop in Streatham High Road, London on Saturday morning. The Audi had been involved in a collision with a Volkswagen Passat in Croydon 10 minutes earlier. Police are looking for Nathan Davis, 27, who they believe was linked to the Audi which was abandoned at the scene. Ms Chango-Alverez, who was born in Ecuador and lived in London for 13 years, died from multiple injuries. Her family is devastated by her death. The 51-year-old man injured at the bus stop remains critically ill, while the 29-year-old Volkswagen driver is now stable. No arrests have been made yet.'}, {'document': 'Belgian cyclist Demoitie died after a collision with a motorbike during Belgium\\'s Gent-Wevelgem race.\\nThe 25-year-old was hit by the motorbike after several riders came down in a crash as the race passed through northern France.\\n\"The main issues come when cars or motorbikes have to pass the peloton and pass riders,\" Team Sky\\'s Rowe said.\\n\"That is the fundamental issue we\\'re looking into.\\n\"There\\'s a lot of motorbikes in and around the race whether it be cameras for TV, photographers or police motorbikes.\\n\"In total there\\'s around 50 motorbikes that work on each race.\\n\"We\\'ve got a riders union and we\\'re coming together to think of a few ideas, whether we cap a speed limit on how fast they can overtake us.\\n\"Say we put a 10 kilometres per hour limit on it, if we\\'re going 50kph they\\'re only allowed to pass us 60kph or something like that.\"\\nDemoitie, who was riding for the Wanty-Gobert team, was taken to hospital in Lille but died later.\\nThe sport\\'s governing body, the UCI, said it would co-operate with all relevant authorities in an investigation into the incident.\\nThe Professional Cyclists\\' Association (CPA) issued a statement asking what would be done to improve safety.\\nDespite Demoitie\\'s death, attitudes to road racing will stay the same says Rowe, who has been competing in Three Days of De Panne race in Belgium.\\n\"As soon as that element of fear slips into your mind and you start thinking of things that could happen, that\\'s when you\\'re doomed to fail,\" he told BBC Wales Sport.\\n\"If you start thinking about crashes and the consequences and what could potentially happen then you\\'re never going to be at the front of the peloton and you\\'re never going to win any races.\"\\nIn a separate incident, another Belgian cyclist, Daan Myngheer, 22, died in hospital after suffering a heart attack during the first stage of the Criterium International in Corsica.', 'summary': 'Welsh cyclist Luke Rowe says changes to the sport must be made following the death of Antoine Demoitie.', 'id': '35932467', 'model_output': \" Here is a concise narrative summary of the key points:\\n\\nBelgian cyclist Antoine Demoitie died after being hit by a motorbike during a race in northern France. His death has prompted discussion about improving safety with the large number of motorbikes on the course during races. Team Sky's Luke Rowe suggested potential solutions like capping the speed limit for motorbikes passing cyclists. Despite the tragedy, Rowe says cyclists can't let fear affect their racing mentality. In a separate incident, another Belgian cyclist, Daan Myngheer, died after suffering a heart attack during a race in Corsica. Overall, the recent deaths have raised concerns and prompted calls for better safety measures with motorbikes on cycling race courses.\"}, {'document': 'Gundogan, 26, told BBC Sport he \"can see the finishing line\" after tearing cruciate knee ligaments in December, but will not rush his return.\\nThe German missed the 2014 World Cup following back surgery that kept him out for a year, and sat out Euro 2016 because of a dislocated kneecap.\\nHe said: \"It is heavy mentally to accept that.\"\\nGundogan will not be fit for the start of the Premier League season at Brighton on 12 August but said his recovery time is now being measured in \"weeks\" rather than months.\\nHe told BBC Sport: \"It is really hard always to fall and fight your way back. You feel good and feel ready, then you get the next kick.\\n\"The worst part is behind me now. I want to feel ready when I am fully back. I want to feel safe and confident. I don\\'t mind if it is two weeks or six.\"\\nGundogan made 15 appearances and scored five goals in his debut season for City following his £20m move from Borussia Dortmund.\\nHe is eager to get on the field again and was impressed at the club\\'s 4-1 win over Real Madrid in a pre-season game in Los Angeles on Wednesday.\\nManager Pep Guardiola has made five new signings already this summer and continues to have an interest in Arsenal forward Alexis Sanchez and Monaco\\'s Kylian Mbappe.\\nGundogan said: \"Optimism for the season is big. It is huge, definitely.\\n\"We felt that last year as well but it was a completely new experience for all of us. We know the Premier League a bit more now and can\\'t wait for the season to start.\"\\nCity complete their three-match tour of the United States against Tottenham in Nashville on Saturday.\\nChelsea manager Antonio Conte said earlier this week he did not feel Tottenham were judged by the same standards as his own side, City and Manchester United.\\nSpurs have had the advantage in their recent meetings with City, winning three and drawing one of their last four Premier League games.\\nAnd Gundogan thinks they are a major threat.\\nHe said: \"Tottenham are a great team. They have the style of football. They have young English players. Our experience last season shows it is really tough to beat them.\\n\"They are really uncomfortable to play against.\\n\"I am pretty sure, even if they will not say it loud, the people who know the Premier League know Tottenham are definitely a competitor for the title.\"', 'summary': 'Manchester City midfielder Ilkay Gundogan says it has been mentally tough to overcome a third major injury.', 'id': '40758845', 'model_output': \" Here is a concise narrative summary of the key points:\\n\\nManchester City midfielder Ilkay Gundogan is nearing his return from a knee injury but says he will not rush back before he feels fully fit. The German international missed the 2014 World Cup and Euro 2016 due to back and knee injuries previously. Gundogan is optimistic he will be back playing in a matter of weeks but will miss the start of the Premier League season. He was impressed with City's preseason win over Real Madrid and is excited for the upcoming campaign. Gundogan believes Tottenham, who City face next, are a major threat and competitor for the title this season.\"}, {'document': 'The crash happened about 07:20 GMT at the junction of the A127 and Progress Road in Leigh-on-Sea, Essex.\\nThe man, who police said is aged in his 20s, was treated at the scene for a head injury and suspected multiple fractures, the ambulance service said.\\nHe was airlifted to the Royal London Hospital for further treatment.\\nThe Southend-bound carriageway of the A127 was closed for about six hours while police conducted their initial inquiries.\\nA spokeswoman for Essex Police said it was not possible comment to further as this time as the \"investigation is now being conducted by the IPCC\".', 'summary': 'A jogger has been hit by an unmarked police car responding to an emergency call, leaving him with \"serious life-changing injuries\".', 'id': '30358490', 'model_output': ' Here is a concise narrative summary of the key information in the text:\\n\\nA man in his 20s was seriously injured in a crash involving police in Leigh-on-Sea, Essex. The collision happened around 7:20am at the junction of the A127 and Progress Road. The man suffered a head injury and possible multiple fractures. He was airlifted to the Royal London Hospital for treatment. The southbound A127 was closed for about 6 hours while police conducted initial investigations. The incident is now being investigated by the Independent Police Complaints Commission (IPCC).'}, {'document': \"23 October 2015 Last updated at 17:44 BST\\nIt's the highest rating a tropical storm can get and is the first one of this magnitude to hit mainland Mexico since 1959.\\nBut how are the categories decided and what do they mean? Newsround reporter Jenny Lawrence explains.\", 'summary': 'Hurricane Patricia has been rated as a category 5 storm.', 'id': '34615665', 'model_output': ' Here is a concise narrative summary of the key points from the text:\\n\\nHurricane Patricia, the strongest storm ever recorded, made landfall in Mexico on October 23, 2015. With maximum sustained winds of 200 mph, Patricia was rated a Category 5 hurricane, the highest rating on the Saffir-Simpson scale. This was the first Category 5 hurricane to directly strike Mexico since 1959. The Saffir-Simpson scale categorizes hurricanes from 1 to 5 based on their wind speed, central pressure, and damage potential. Category 5 storms like Patricia are extremely dangerous, capable of catastrophic damage. This news report explains the hurricane categories and provides context on the rarity and severity of Patricia as an unprecedented storm.'}, {'document': 'Weaknesses in the way mice swapped data with computers left them vulnerable, said security firm Bastille Networks.\\nAttackers could spoof poorly protected signals letting them use PCs as if they were sitting in front of them, it said.\\nInformation about the loopholes have been passed to the makers of vulnerable mice, some of who are creating updates to make the mice more secure.\\nThe radio signals sent by many wireless mice to a \"dongle\" plugged in to a computer were often unencrypted, said Marc Newlin and Balint Seeber, from Bastille, who carried out the research.\\n\"That makes it possible for the attacker to send unencrypted traffic to the dongle pretending to be a keyboard and have it result as keystrokes on your computer,\" Mr Newlin said.\\nBy contrast, they said, signals sent by wireless keyboards were scrambled to stop attackers eavesdropping on or spoofing them.\\nThe pair found they could spoof signals for mice using a few lines of code and an antenna and dongle that cost $20 (Â£15).\\nThe attack worked at distances of up to 180m (590ft).\\nUsing this kit, they sent specially crafted mouse clicks that a computer interpreted as key presses, letting them run commands and take control of a target machine.\\nThe Bastille researchers said many companies spent a lot of time and money securing the physical devices sitting on their networks but often neglected to keep an eye on data sent via radio.\\nWireless mice produced by HP, Lenovo, Amazon and Dell were found to be vulnerable.\\nBastille said it had reported its findings to the hardware makers and to the company that made the chipset used inside the spoofable mice.\\nUpdates to the internal computer code, or firmware, for some of the vulnerable mice are now being made available,\\nBut Bastille said many of the insecure mice it had found could not be updated.', 'summary': 'Hackers could gain access to home and corporate networks via security flaws in wireless mice, suggests research.', 'id': '35890902', 'model_output': ' Here is a concise narrative summary of the key points:\\n\\nWeaknesses in how wireless mice communicate with computers left them vulnerable to spoofing attacks, according to security researchers at Bastille Networks. The radio signals sent by many wireless mice to a USB dongle were unencrypted, allowing attackers to send signals pretending to be a keyboard and have keystrokes registered on the target computer. This could let them run commands and take control. In contrast, wireless keyboards use encrypted signals. \\n\\nUsing a $20 antenna/dongle setup, the researchers were able to spoof mouse signals from up to 180 meters away. They sent crafted mouse clicks that the computer saw as key presses, gaining control. Many companies focus security on physical devices but neglect wireless data. \\n\\nMice from major brands like HP, Lenovo, Amazon and Dell were found vulnerable. Bastille reported the findings to the manufacturers. Some are releasing firmware updates, but many of the insecure mice cannot be updated.'}, {'document': 'Administrators confirmed the redundancies affecting 38 staff at Galashiels-based Murray and Burrell.\\nThe business, established in 1928, went into administration last week citing \"adverse trading conditions\".\\nThere are hopes some of the workers affected could find posts at another building firm in nearby Melrose which currently requires staff.\\nThomson Cooper partner Richard Gardiner was appointed as administrator at Murray and Burrell on Monday.\\nA statement confirmed: \"Directors explored all options in an effort to preserve trading and jobs.\\n\"Regrettably, 38 jobs were lost as there is no prospect of continuing to trade.\"\\nSouth of Scotland MSP Rachael Hamilton described it as a \"sad day for the Borders\".\\nHowever, some of the workers laid off could find employment with a Melrose-based company.\\nJS Crawford has said that, with several housing projects on its books, it needs staff.', 'summary': 'Dozens of jobs have been lost after efforts to save an historic building firm in the Scottish Borders failed.', 'id': '37922330', 'model_output': ' The text discusses the closure of Murray and Burrell, a Galashiels-based business established in 1928, which went into administration last week citing \"adverse trading conditions\". 38 staff were made redundant as administrators determined there was no prospect of continuing operations. South of Scotland MSP Rachael Hamilton described it as a \"sad day for the Borders\". However, there is hope that some of the laid off workers may find employment with JS Crawford, a Melrose-based company that needs staff for its housing projects.'}, {'document': 'The EC\\'s doubts about the arrangement were detailed in a document on Friday.\\nThe EC said that its \"preliminary view is that the tax ruling... by Luxembourg in favour of Amazon constitutes state aid.\"\\nHowever, Amazon said it \"has received no special tax treatment from Luxembourg\".\\n\"We are subject to the same tax laws as other companies operating here [in Luxembourg],\" it said.\\nThe Luxembourg finance ministry said: \"Luxembourg is confident that the state aid allegations in this case are without merit and will be able to convince the Commission of the legitimacy of the anticipatory decision in question and that no competitive advantage was granted,\" it said.\\nThe European Commission began a probe of the tax arrangement last year, saying that it had suspicions it broke EU rules.\\nThe Commission document, which was sent to the Luxembourg Ministry of Foreign Affairs in October, gives its rationale for launching the investigation.\\nThe Commission said it had \"no indication\" that the tax arrangement was \"compatible with the internal market\".\\nThe current European Commission chief, Jean-Claude Juncker, was prime minister of Luxembourg when the deal was struck.\\nMr Juncker has come under pressure over claims that around 340 global companies were granted tax  avoidance deals during his 18 year tenure in Luxembourg.\\nCommission doubts over the Amazon deal included whether Luxembourg had properly looked into Amazon\\'s \"transfer pricing\" proposals about how money would be moved between different Amazon subsidiaries.\\nDoubts also existed about whether the country had assessed that the proposed tax regime was in line with market conditions before agreeing the deal in 2003, the European Commission document said.\\nThe Commission also had questions about how royalty payments between certain Amazon companies were calculated, and whether \"Amazon has a financial incentive to exaggerate the amount of the royalty\" between its Luxembourg head office company and an Amazon firm that holds shares in the head office company.\\n\"If the royalty is exaggerated, it would unduly reduce the tax paid by Amazon in Luxembourg by shifting profits to an untaxed entity from the perspective of corporate taxation,\" the EC said.\\nIt added that Luxembourg might have been too hasty in assessing Amazon\\'s requested arrangement before striking the deal.\\nLuxembourg\\'s finance ministry said it \"has provided all the information required by the Commission and cooperated fully with the Commission in its investigation.\"\\n\"Among other things, detailed reports on the transfer price requested by the Commission were disclosed,\" it added.\\nLuxembourg is also being investigated by the Commission over suspected \"sweetheart\" tax deals with the financing arm of carmaker Fiat.\\nIn addition, Ireland\\'s tax deal with Apple and the Netherlands\\' arrangement with Starbucks are being scrutinised as part of a crackdown on multinationals\\' tax avoidance schemes.', 'summary': 'The European Commission has disclosed a preliminary finding that Amazon\\'s tax arrangements in Luxembourg probably constitute \"state aid\".', 'id': '30844962', 'model_output': \" Here is a concise narrative summary of the key points:\\n\\nThe European Commission has doubts about a tax arrangement between Amazon and Luxembourg from 2003. The EC believes the deal constitutes illegal state aid, giving Amazon an unfair advantage. However, Amazon and Luxembourg defend the deal, saying Amazon received no special treatment.  \\n\\nThe EC began investigating last year, suspecting the deal broke EU rules. A document outlines the EC's rationale, saying there is no indication the deal complies with EU rules. Questions remain about how Amazon calculated transfer pricing and royalty payments between subsidiaries. The EC suggests Luxembourg may have been too quick to approve the deal in 2003 without proper assessment.\\n\\nLuxembourg denies wrongdoing, saying it provided all information to the EC and cooperated fully. The EC is also investigating sweetheart tax deals between Fiat and Ireland, and Starbucks and the Netherlands, as part of a crackdown on corporate tax avoidance.\\n\\nThe key points are:\\n- EC doubts legality of 2003 Amazon-Luxembourg tax deal \\n- EC believes deal gave Amazon unfair advantage, Luxembourg disagrees\\n- EC questions transfer pricing, royalty payments, and Luxembourg's quick approval\\n- Luxembourg denies wrongdoing, says it cooperated fully\\n- EC also investigating deals between Fiat-Ireland and Starbucks-Netherlands\\n- Part of wider crackdown on corporate tax avoidance\"}, {'document': 'The three-day extravaganza of farming, food and family fun celebrates many aspects of agricultural life.\\nThe Balmoral Show is run by the Royal Ulster Agricultural Society (RUAS) and dates back 148 years.\\nLast year, it attracted more than 90,000 visitors to its recently-adopted home outside Lisburn in County Antrim.\\nIt was traditionally staged at the RUAS\\'s headquarters in south Belfast, but the show moved to a larger venue on the site of the former Maze prison in 2013.\\nThe Maze venue, re-named Balmoral Park, is now hosting the show for the fourth consecutive year.\\nThe 2016 event coincides with Northern Ireland\\'s Year of Food and Drink, and local produce features prominently in the exhibitions.\\nOne of this year\\'s highlights is an \"edible garden\", in which visitors can see their food growing in the ground before it gets to their plates.\\nThe aim of the garden is to encourage people to grow their own food at home.\\nThe event will also showcase the best of local livestock, with prized pigs, cattle, poultry and ponies all lining up in bid to be the stars of the show.\\nTheir owners will also get a chance to shine, with horse riding and show jumping displays along with sheep shearing competitions and awards for the best livestock breeders and handlers.\\nFor younger visitors, there is a family fun area hosting displays from the Northern Ireland School of Falconry as well as a gun dog skills demonstration and a performance from balloon artist Bruce Airhead.\\nBBC News NI are covering the event live on social media on Wednesday on Twitter at @BBCNewsNI, on Snapchat at bbcnewsni, and on BBC Newsline\\'s Facebook page.', 'summary': \"The most important event in Northern Ireland's agricultural calendar - the Balmoral Show - has opened with thousands of people attending.\", 'id': '36217333', 'model_output': ' The Balmoral Show is a three-day agricultural event held annually in Northern Ireland that celebrates farming, food, and family entertainment. Originating 148 years ago and traditionally held in Belfast, the show moved in 2013 to the larger former Maze prison site, now called Balmoral Park. The 2016 show coincides with Northern Ireland\\'s Year of Food and Drink, so local produce is heavily featured. Highlights include an \"edible garden\" where visitors can see food growing before it reaches their plate, competitions for the best livestock and handlers, equestrian displays, and a family fun area. BBC News NI will cover the event live on social media.'}, {'document': 'Mr Mosley wants Google to block photos of him at a sex party first printed in the now-defunct News of the World, which he successfully sued in 2008.\\nHe is suing the internet firm for breaches of the Data Protection Act and misusing private information.\\nGoogle\\'s barrister argued that Mr Mosley no longer has a \"reasonable expectation of privacy\".\\nMr Mosley won damages from the News of the World after it published a story alleging he had organised a Nazi-themed orgy.\\nPhotographs and a video which show his private sexual activity were originally obtained by News Group Newspapers Limited (NGN) in a clandestine \"sting\" operation.\\nMr Mosley - the son of 1930s fascist leader Sir Oswald Mosley - won Â£60,000 after a judge ruled there was no substance to the allegation that there had been a Nazi theme to the sex party and found that his privacy had been breached.\\nIn that ruling, the High Court also said the article was not in the public interest.\\nMr Mosley has said the role-play at a rented Chelsea basement flat was harmless, consensual and private.\\nOn launching his legal action last year, Mr Mosley urged: \"Google should operate within the law rather than according to rules it makes itself. It cannot be allowed to ignore judgements in our courts.\"\\nGoogle has said it will remove URLs that it is alerted to, but is not prepared to remove the images entirely from its search engines.\\nIn court on Wednesday, Google\\'s barrister Antony White QC for Google conceded that it was technically possible to remove the images and was \"not burdensome\" to do so.\\nHowever, he argued that Google was not the publisher of the private information, and that Mr Mosley no longer had a reasonable expectation of privacy in relation to the images.\\nOn that basis, Google will seek to show that Mr Mosley\\'s claim is unfounded.\\nThe hearing is due to conclude on Thursday.', 'summary': 'Google has asked the High Court to throw out legal action being taken by ex-Formula 1 boss Max Mosley.', 'id': '30816523', 'model_output': \" Here is a concise narrative summary of the key points:\\n\\nMax Mosley, son of 1930s fascist leader Sir Oswald Mosley, is suing Google for breaches of privacy laws for not blocking internet search results showing photos of him at a sex party. The photos were originally published in 2008 by the now defunct News of the World, which Mosley successfully sued for breach of privacy. \\n\\nThe News of the World story falsely alleged the party had a Nazi theme. Mosley argued the role play was private and harmless. He won damages from the paper after a judge ruled there was no Nazi element and his privacy was violated. \\n\\nMosley now wants Google to block search results showing the photos. Google removes specific URLs when alerted, but refuses to block the images entirely. In court, Google's lawyer conceded it was technically possible to remove the images without much burden. However, he argued Mosley no longer has a reasonable expectation of privacy regarding the photos. Google contends Mosley's claim is unfounded since Google did not publish the private information originally.\"}, {'document': 'The Bath-born player, 28, has made 36 appearances for the Dragons since joining from Wasps in 2015.\\nHe is in his second season and signed a contract extension in December 2016.\\nDragons forwards coach Ceri Jones said: \"It\\'s a big blow. Eddie has been excellent all year for us, he has really stepped up to the mark and will be a big loss.\"\\nHowever, Jones says Jackson\\'s misfortune can be a chance for others to thrive.\\n\"We are very fortunate to have the likes of Ollie Griffiths, Harrison Keddie, James Thomas who can come into the back-row,\" said Jackson.\\n\"Harri has shown glimpses of what he can do all season and there\\'s definitely a player there, so this is an opportunity.\"\\nDragons travel to Munster in the Pro12 on Friday.', 'summary': 'Newport Gwent Dragons number eight Ed Jackson has undergone shoulder surgery and faces a spell on the sidelines.', 'id': '38900884', 'model_output': \" Eddie Byrne, a 28-year-old Bath-born player for the Dragons rugby team, has suffered a season-ending knee injury. Byrne joined the Dragons in 2015 from Wasps and has made 36 appearances. He recently signed a contract extension in December 2016. Dragons forwards coach Ceri Jones said Byrne's injury is a big blow, as he has played excellently this year. However, Jones sees it as an opportunity for other players like Ollie Griffiths, Harrison Keddie, and James Thomas to step up in the back row. Jones specifically noted Keddie has shown glimpses of his potential all season. The Dragons will need to move forward without Byrne as they travel to play Munster in the Pro12 this Friday.\"}, {'document': 'The announcement ends months of uncertainty for Cornish Language Partnership staff whose contracts had been due to end.\\nLocal government minister Andrew Stunnell said the three-year funding package for the service would help make sure the language survived.\\nBut he warned that long term funding should come from Cornwall.\\nHe said it was \"important to make sure the Cornish were given the opportunity to put down sound foundations.\"\\n\"In the longer term support for the Cornish language is going to be something which is going to have to be based in Cornwall and will not come from London,\" he added.\\nThe Cornish Language Partnership\\'s, Jennifer Lowe, said: \"We can now plan for the future thanks to the funding.\"\\nThe United Nations recently upgraded the status of the Cornish language from \"extinct\" to \"critically endangered\".\\nIt is thought fewer than 500 people worldwide are fluent in the language.', 'summary': 'The government is spending nearly £400,000 to help save the Cornish language.', 'id': '13890581', 'model_output': ' The announcement ends months of uncertainty for Cornish Language Partnership staff whose contracts were due to end. The UK government has provided a 3-year funding package to help ensure the survival of the Cornish language. However, the minister warned that long-term funding should come from Cornwall, not London. The UN recently changed the status of Cornish from \"extinct\" to \"critically endangered,\" as there are fewer than 500 fluent speakers worldwide. The funding allows the Cornish Language Partnership to plan for the future preservation of the language.'}, {'document': 'Jardim, in charge since 2014, described the last three years at the club as \"exceptional\".\\nMonaco finished eight points ahead of nearest rivals Paris St-Germain to be crowned champions of France in 2016-17.\\n\"I feel part of AS Monaco and the principality,\" said Portuguese Jardim, the former Olympiakos boss.\\nMonaco also beat Tottenham and Manchester City on their way to reaching the semi-finals of the Champions League during 2016-17, before losing to Juventus 4-1 on aggregate in the semi-finals.\\nMonaco vice-president Vadim Vasilyev said Jardim had received offers to coach elsewhere.\\n\"He is one of the best coaches in European football and despite other offers he has chosen to continue the adventure at Monaco, which demonstrates our ambition,\" added Vasilyev.', 'summary': 'Monaco boss Leonardo Jardim has been rewarded for steering the club to their first Ligue 1 title for 17 years with a new contract until 2020.', 'id': '40194700', 'model_output': \" Leonardo Jardim has extended his contract as manager of AS Monaco until 2020. Jardim has been in charge of Monaco since 2014 and led the club to the French league title in 2016-17, finishing 8 points ahead of Paris St-Germain. Under Jardim, Monaco also reached the Champions League semi-finals that season, beating Tottenham and Manchester City before losing to Juventus. Monaco's vice-president Vadim Vasilyev said Jardim received offers from other clubs but chose to stay at Monaco, showing the club's ambition. Jardim said he feels part of Monaco and the principality.\"}]\n"
     ]
    }
   ],
   "source": [
    "dataset = \"xsum_sample.jsonl\"\n",
    "model_output_stuff_it = get_summary(dataset, sum_type=\"stuff_it\", func=stuff_it_summary)\n",
    "print(model_output_stuff_it)"
   ]
  },
  {
   "cell_type": "markdown",
   "id": "6fd15b28-ac20-4e3a-8d0c-de21f64c4695",
   "metadata": {},
   "source": [
    "### Map Reduce Summary"
   ]
  },
  {
   "cell_type": "code",
   "execution_count": 8,
   "id": "e507f28b-7be9-4d8c-b646-5abfc7b9f240",
   "metadata": {
    "collapsed": true,
    "jupyter": {
     "outputs_hidden": true
    },
    "tags": []
   },
   "outputs": [
    {
     "name": "stdout",
     "output_type": "stream",
     "text": [
      "[{'document': 'The full cost of damage in Newton Stewart, one of the areas worst affected, is still being assessed.\\nRepair work is ongoing in Hawick and many roads in Peeblesshire remain badly affected by standing water.\\nTrains on the west coast mainline face disruption due to damage at the Lamington Viaduct.\\nMany businesses and householders were affected by flooding in Newton Stewart after the River Cree overflowed into the town.\\nFirst Minister Nicola Sturgeon visited the area to inspect the damage.\\nThe waters breached a retaining wall, flooding many commercial properties on Victoria Street - the main shopping thoroughfare.\\nJeanette Tate, who owns the Cinnamon Cafe which was badly affected, said she could not fault the multi-agency response once the flood hit.\\nHowever, she said more preventative work could have been carried out to ensure the retaining wall did not fail.\\n\"It is difficult but I do think there is so much publicity for Dumfries and the Nith - and I totally appreciate that - but it is almost like we\\'re neglected or forgotten,\" she said.\\n\"That may not be true but it is perhaps my perspective over the last few days.\\n\"Why were you not ready to help us a bit more when the warning and the alarm alerts had gone out?\"\\nMeanwhile, a flood alert remains in place across the Borders because of the constant rain.\\nPeebles was badly hit by problems, sparking calls to introduce more defences in the area.\\nScottish Borders Council has put a list on its website of the roads worst affected and drivers have been urged not to ignore closure signs.\\nThe Labour Party\\'s deputy Scottish leader Alex Rowley was in Hawick on Monday to see the situation first hand.\\nHe said it was important to get the flood protection plan right but backed calls to speed up the process.\\n\"I was quite taken aback by the amount of damage that has been done,\" he said.\\n\"Obviously it is heart-breaking for people who have been forced out of their homes and the impact on businesses.\"\\nHe said it was important that \"immediate steps\" were taken to protect the areas most vulnerable and a clear timetable put in place for flood prevention plans.\\nHave you been affected by flooding in Dumfries and Galloway or the Borders? Tell us about your experience of the situation and how it was handled. Email us on selkirk.news@bbc.co.uk or dumfries@bbc.co.uk.', 'summary': 'Clean-up operations are continuing across the Scottish Borders and Dumfries and Galloway after flooding caused by Storm Frank.', 'id': '35232142', 'model_output': '\\n\\nThe severe flooding in December 2015 caused major damage and disruption across southern Scotland. The worst hit areas were Newton Stewart and the River Cree, which overflowed and flooded homes and businesses. There was also extensive flooding and road closures in Hawick and Peeblesshire. Residents in Newton Stewart and Peebles called for improved flood defenses and prevention measures to avoid similar damage in the future. The flooding disrupted infrastructure like the Lamington Viaduct on the west coast mainline. Government officials Nicola Sturgeon and Alex Rowley visited affected regions to survey the damage. Emergency responders enacted a multi-agency response to the flooding, though some criticized that more could have been done. Officials requested the public share their experiences with the flooding and handling of the situation, to improve preparedness and response in the future. Overall, the flooding highlighted the need for better flood mitigation and response across southern Scotland.'}, {'document': 'A fire alarm went off at the Holiday Inn in Hope Street at about 04:20 BST on Saturday and guests were asked to leave the hotel.\\nAs they gathered outside they saw the two buses, parked side-by-side in the car park, engulfed by flames.\\nOne of the tour groups is from Germany, the other from China and Taiwan. It was their first night in Northern Ireland.\\nThe driver of one of the buses said many of the passengers had left personal belongings on board and these had been destroyed.\\nBoth groups have organised replacement coaches and will begin their tour of the north coast later than they had planned.\\nPolice have appealed for information about the attack.\\nInsp David Gibson said: \"It appears as though the fire started under one of the buses before spreading to the second.\\n\"While the exact cause is still under investigation, it is thought that the fire was started deliberately.\"', 'summary': 'Two tourist buses have been destroyed by fire in a suspected arson attack in Belfast city centre.', 'id': '40143035', 'model_output': '\\n\\nEarly Saturday morning, a fire broke out at the Holiday Inn hotel in Belfast, Northern Ireland. The fire engulfed two tour buses that were parked outside and belonged to tourist groups visiting from Germany and China/Taiwan. The blaze forced the evacuation of guests from the hotel around 4:20am. Personal belongings of the passengers on the tour buses were destroyed in the fire. The tour groups are now working to organize replacement transportation so they can continue their planned tours of Northern Ireland. Police are investigating the fire as a suspected arson attack.'}, {'document': 'Ferrari appeared in a position to challenge until the final laps, when the Mercedes stretched their legs to go half a second clear of the red cars.\\nSebastian Vettel will start third ahead of team-mate Kimi Raikkonen.\\nThe world champion subsequently escaped punishment for reversing in the pit lane, which could have seen him stripped of pole.\\nBut stewards only handed Hamilton a reprimand, after governing body the FIA said \"no clear instruction was given on where he should park\".\\nBelgian Stoffel Vandoorne out-qualified McLaren team-mate Jenson Button on his Formula 1 debut.\\nVandoorne was 12th and Button 14th, complaining of a handling imbalance on his final lap but admitting the newcomer \"did a good job and I didn\\'t\".\\nMercedes were wary of Ferrari\\'s pace before qualifying after Vettel and Raikkonen finished one-two in final practice, and their concerns appeared to be well founded as the red cars mixed it with the silver through most of qualifying.\\nAfter the first runs, Rosberg was ahead, with Vettel and Raikkonen splitting him from Hamilton, who made a mistake at the final corner on his first lap.\\nBut Hamilton saved his best for last, fastest in every sector of his final attempt, to beat Rosberg by just 0.077secs after the German had out-paced him throughout practice and in the first qualifying session.\\nVettel rued a mistake at the final corner on his last lap, but the truth is that with the gap at 0.517secs to Hamilton there was nothing he could have done.\\nThe gap suggests Mercedes are favourites for the race, even if Ferrari can be expected to push them.\\nVettel said: \"Last year we were very strong in the race and I think we are in good shape for tomorrow. We will try to give them a hard time.\"\\nVandoorne\\'s preparations for his grand prix debut were far from ideal - he only found out he was racing on Thursday when FIA doctors declared Fernando Alonso unfit because of a broken rib sustained in his huge crash at the first race of the season in Australia two weeks ago.\\nThe Belgian rookie had to fly overnight from Japan, where he had been testing in the Super Formula car he races there, and arrived in Bahrain only hours before first practice on Friday.\\nHe also had a difficult final practice, missing all but the final quarter of the session because of a water leak.\\nButton was quicker in the first qualifying session, but Vandoorne pipped him by 0.064secs when it mattered.\\nThe 24-year-old said: \"I knew after yesterday I had quite similar pace to Jenson and I knew if I improved a little bit I could maybe challenge him and even out-qualify him and that is what has happened.\\n\"Jenson is a very good benchmark for me because he is a world champion and he is well known to the team so I am very satisfied with the qualifying.\"\\nButton, who was 0.5secs quicker than Vandoorne in the first session, complained of oversteer on his final run in the second: \"Q1 was what I was expecting. Q2 he did a good job and I didn\\'t. Very, very good job. We knew how quick he was.\"\\nThe controversial new elimination qualifying system was retained for this race despite teams voting at the first race in Australia to go back to the 2015 system.\\nFIA president Jean Todt said earlier on Saturday that he \"felt it necessary to give new qualifying one more chance\", adding: \"We live in a world where there is too much over reaction.\"\\nThe system worked on the basis of mixing up the grid a little - Force India\\'s Sergio Perez ended up out of position in 18th place after the team miscalculated the timing of his final run, leaving him not enough time to complete it before the elimination clock timed him out.\\nBut it will come in for more criticism as a result of lack of track action at the end of each session. There were three minutes at the end of the first session with no cars on the circuit, and the end of the second session was a similar damp squib.\\nOnly one car - Nico Hulkenberg\\'s Force India - was out on the track with six minutes to go. The two Williams cars did go out in the final three minutes but were already through to Q3 and so nothing was at stake.\\nThe teams are meeting with Todt and F1 commercial boss Bernie Ecclestone on Sunday at noon local time to decide on what to do with qualifying for the rest of the season.\\nTodt said he was \"optimistic\" they would be able to reach unanimous agreement on a change.\\n\"We should listen to the people watching on TV,\" Rosberg said. \"If they are still unhappy, which I am sure they will be, we should change it.\"\\nRed Bull\\'s Daniel Ricciardo was fifth on the grid, ahead of the Williams cars of Valtteri Bottas and Felipe Massa and Force India\\'s Nico Hulkenberg.\\nRicciardo\\'s team-mate Daniil Kvyat was eliminated during the second session - way below the team\\'s expectation - and the Renault of Brit Jolyon Palmer only managed 19th fastest.\\nGerman Mercedes protege Pascal Wehrlein managed an excellent 16th in the Manor car.\\nBahrain GP qualifying results\\nBahrain GP coverage details', 'summary': 'Lewis Hamilton stormed to pole position at the Bahrain Grand Prix ahead of Mercedes team-mate Nico Rosberg.', 'id': '35951548', 'model_output': \"\\n\\nThe Bahrain Grand Prix qualifying session saw a fierce battle between Mercedes and Ferrari for pole position. Lewis Hamilton ultimately took pole for Mercedes despite making some mistakes during qualifying. His teammate Nico Rosberg qualified second. Sebastian Vettel and Kimi Raikkonen locked out the second row for Ferrari with the third and fourth fastest times. One of the big stories was the impressive qualifying debut of McLaren's Stoffel Vandoorne, who managed 12th position. The controversial new elimination qualifying format continued to draw criticism from teams and drivers. The lower teams like Renault struggled, with Manor's Pascal Wehrlein putting in an outstanding performance to qualify 16th and beat the Renault cars. Overall, it was a dramatic and eventful qualifying session that saw Mercedes maintain their dominance over Ferrari in the fight for pole.\"}, {'document': 'John Edward Bates, formerly of Spalding, Lincolnshire, but now living in London, faces a total of 22 charges, including two counts of indecency with a child.\\nThe 67-year-old is accused of committing the offences between March 1972 and October 1989.\\nMr Bates denies all the charges.\\nGrace Hale, prosecuting, told the jury that the allegations of sexual abuse were made by made by four male complainants and related to when Mr Bates was a scout leader in South Lincolnshire and Cambridgeshire.\\n\"The defendant says nothing of that sort happened between himself and all these individuals. He says they are all fabricating their accounts and telling lies,\" said Mrs Hale.\\nThe prosecutor claimed Mr Bates invited one 15 year old to his home offering him the chance to look at cine films made at scout camps but then showed him pornographic films.\\nShe told the jury that the boy was then sexually abused leaving him confused and frightened.\\nMrs Hale said: \"The complainant\\'s recollection is that on a number of occasions sexual acts would happen with the defendant either in the defendant\\'s car or in his cottage.\"\\nShe told the jury a second boy was taken by Mr Bates for a weekend in London at the age of 13 or 14 and after visiting pubs he was later sexually abused.\\nMrs Hale said two boys from the Spalding group had also made complaints of being sexually abused.\\nThe jury has been told that Mr Bates was in the RAF before serving as a Lincolnshire Police officer between 1976 and 1983.\\nThe trial, which is expected to last two weeks, continues.', 'summary': 'A former Lincolnshire Police officer carried out a series of sex attacks on boys, a jury at Lincoln Crown Court was told.', 'id': '36266422', 'model_output': '\\n\\nJohn Edward Bates, a former scout leader in South Lincolnshire and Cambridgeshire, is on trial for multiple charges of child sexual abuse and indecency. Four male complainants allege they were sexually abused by Bates when they were underage boys in the scouting program between 1972 and 1989. The allegations include that Bates showed pornography to a 15-year-old boy and then sexually abused him, took a 13-14 year old boy to London, gave him alcohol, and sexually abused him, and abused two other boys from the Spalding scout group. Bates denies all the charges and claims the accusers are fabricating their accounts. Bates was formerly in the RAF and a Lincolnshire police officer between 1976-1983. Decades after the alleged events, his former scouts have come forward to accuse him of sexually abusing them when they were boys under his supervision in the scouting program.'}, {'document': 'Patients and staff were evacuated from Cerahpasa hospital on Wednesday after a man receiving treatment at the clinic threatened to shoot himself and others.\\nOfficers were deployed to negotiate with the man, a young police officer.\\nEarlier reports that the armed man had taken several people hostage proved incorrect.\\nThe chief consultant of Cerahpasa hospital, Zekayi Kutlubay, who was evacuated from the facility, said that there had been \"no hostage crises\", adding that the man was \"alone in the room\".\\nDr Kutlubay said that the man had been receiving psychiatric treatment for the past two years.\\nHe said that the hospital had previously submitted a report stating that the man should not be permitted to carry a gun.\\n\"His firearm was taken away,\" Dr Kutlubay said, adding that the gun in the officer\\'s possession on Wednesday was not his issued firearm.\\nThe incident comes amid tension in Istanbul following several attacks in crowded areas, including the deadly assault on the Reina nightclub on New Year\\'s Eve which left 39 people dead.', 'summary': 'An armed man who locked himself into a room at a psychiatric hospital in Istanbul has ended his threat to kill himself, Turkish media report.', 'id': '38826984', 'model_output': \"\\n\\nThe Cerahpasa hospital in Istanbul was evacuated due to threats from an armed man inside the building. The armed man turned out to be a young police officer who was receiving psychiatric treatment at the hospital. He was alone and did not take any hostages during the incident. The hospital had previously recommended that the man's firearm be taken away from him. This threatening situation occurred amid heightened tensions in Istanbul following recent violent attacks in the city. The evacuation of the hospital due to the unstable armed police officer contributed to the atmosphere of fear and uncertainty.\"}, {'document': 'Simone Favaro got the crucial try with the last move of the game, following earlier touchdowns by Chris Fusaro, Zander Fagerson and Junior Bulumakau.\\nRynard Landman and Ashton Hewitt got a try in either half for the Dragons.\\nGlasgow showed far superior strength in depth as they took control of a messy match in the second period.\\nHome coach Gregor Townsend gave a debut to powerhouse Fijian-born Wallaby wing Taqele Naiyaravoro, and centre Alex Dunbar returned from long-term injury, while the Dragons gave first starts of the season to wing Aled Brew and hooker Elliot Dee.\\nGlasgow lost hooker Pat McArthur to an early shoulder injury but took advantage of their first pressure when Rory Clegg slotted over a penalty on 12 minutes.\\nIt took 24 minutes for a disjointed game to produce a try as Sarel Pretorius sniped from close range and Landman forced his way over for Jason Tovey to convert - although it was the lock\\'s last contribution as he departed with a chest injury shortly afterwards.\\nGlasgow struck back when Fusaro drove over from a rolling maul on 35 minutes for Clegg to convert.\\nBut the Dragons levelled at 10-10 before half-time when Naiyaravoro was yellow-carded for an aerial tackle on Brew and Tovey slotted the easy goal.\\nThe visitors could not make the most of their one-man advantage after the break as their error count cost them dearly.\\nIt was Glasgow\\'s bench experience that showed when Mike Blair\\'s break led to a short-range score from teenage prop Fagerson, converted by Clegg.\\nDebutant Favaro was the second home player to be sin-binned, on 63 minutes, but again the Warriors made light of it as replacement wing Bulumakau, a recruit from the Army, pounced to deftly hack through a bouncing ball for an opportunist try.\\nThe Dragons got back within striking range with some excellent combined handling putting Hewitt over unopposed after 72 minutes.\\nHowever, Favaro became sinner-turned-saint as he got on the end of another effective rolling maul to earn his side the extra point with the last move of the game, Clegg converting.\\nDragons director of rugby Lyn Jones said: \"We\\'re disappointed to have lost but our performance was a lot better [than against Leinster] and the game could have gone either way.\\n\"Unfortunately too many errors behind the scrum cost us a great deal, though from where we were a fortnight ago in Dublin our workrate and desire was excellent.\\n\"It was simply error count from individuals behind the scrum that cost us field position, it\\'s not rocket science - they were correct in how they played and we had a few errors, that was the difference.\"\\nGlasgow Warriors: Rory Hughes, Taqele Naiyaravoro, Alex Dunbar, Fraser Lyle, Lee Jones, Rory Clegg, Grayson Hart; Alex Allan, Pat MacArthur, Zander Fagerson, Rob Harley (capt), Scott Cummings, Hugh Blake, Chris Fusaro, Adam Ashe.\\nReplacements: Fergus Scott, Jerry Yanuyanutawa, Mike Cusack, Greg Peterson, Simone Favaro, Mike Blair, Gregor Hunter, Junior Bulumakau.\\nDragons: Carl Meyer, Ashton Hewitt, Ross Wardle, Adam Warren, Aled Brew, Jason Tovey, Sarel Pretorius; Boris Stankovich, Elliot Dee, Brok Harris, Nick Crosswell, Rynard Landman (capt), Lewis Evans, Nic Cudd, Ed Jackson.\\nReplacements: Rhys Buckley, Phil Price, Shaun Knight, Matthew Screech, Ollie Griffiths, Luc Jones, Charlie Davies, Nick Scott.', 'summary': 'Defending Pro12 champions Glasgow Warriors bagged a late bonus-point victory over the Dragons despite a host of absentees and two yellow cards.', 'id': '34540833', 'model_output': \"\\n\\nIt was a close and competitive rugby union match between Glasgow Warriors and Dragons. The game saw multiple tries scored by both teams throughout. However, Glasgow managed to secure victory with a late try. There were several debutants and returning players for both sides. The match was messy at times with lots of errors, especially from the Dragons. Glasgow's bench made a big impact when introduced in the second half. Injuries affected both teams and disrupted their rhythm. Overall it was an entertaining contest between two committed teams, with Glasgow doing just enough to come out on top thanks to their strength in depth and resilience.\"}, {'document': 'Veronica Vanessa Chango-Alverez, 31, was killed and another man injured when an Audi A3 struck them in Streatham High Road at 05:30 GMT on Saturday.\\nTen minutes before the crash the car was in London Road, Croydon, when a Volkswagen Passat collided with a tree.\\nPolice want to trace Nathan Davis, 27, who they say has links to the Audi. The car was abandoned at the scene.\\nMs Chango-Alverez died from multiple injuries, a post-mortem examination found.\\nNo arrests have been made as yet, police said.\\nMs Chango-Alverez was staying at her mother\\'s home in Streatham High Road.\\nShe was born in Ecuador and had lived in London for 13 years, BBC London reporter Gareth Furby said. At the time of the crash, she was on her way to work in a hotel.\\nThe remains of the bus stop, which was extensively damaged in the crash, have been removed.\\nFlowers have been left at the site in tribute to the victim.\\nA statement from her brother Kevin Raul Chango-Alverez said: \"My family has had its heart torn out, at this Christmas time, we will never be the same again.\\n\"On Friday night we were together as a family with Veronica meeting her newly born nephew and preparing for Christmas.\\n\"I last saw her alive as she left to go to work on Saturday morning, but moments later I was holding her hand as she passed away in the street.\"\\nDescribing the crash as \"horrific\" Det Insp Gordon Wallace, said: \"The family are devastated. The memory of this senseless death will be with them each time they leave their home.\\n\"The driver fled the scene abandoning the grey Audi, which was extensively damaged.\\n\"We are looking to speak to Mr Nathan Davis in relation to this collision.\"\\nThe 51-year-old man injured at the bus stop remains in a critical condition in hospital while the condition of the 29-year-old driver of the Volkswagen is now stable.', 'summary': 'A man with links to a car that was involved in a fatal bus stop crash in south London is being sought by police.', 'id': '20836172', 'model_output': \"\\n\\nA fatal car crash occurred in Streatham, London involving an Audi A3 that killed 31-year-old Veronica Vanessa Chango-Alverez and injured a man. Veronica was originally from Ecuador but had lived in London for 13 years and was on her way to work when she was struck and killed at a bus stop. The driver of the Audi fled the scene and police are searching for a man named Nathan Davis in relation to the crash. Just 10 minutes earlier, the same Audi had been involved in another collision in Croydon with a Volkswagen Passat, injuring that driver. Veronica's family is devastated by her tragic death. Tributes and flowers have been left at the site of the bus stop as police continue to investigate the crashes and search for the driver who fled. Her brother has publicly expressed his grief over the loss of his sister.\"}, {'document': 'Belgian cyclist Demoitie died after a collision with a motorbike during Belgium\\'s Gent-Wevelgem race.\\nThe 25-year-old was hit by the motorbike after several riders came down in a crash as the race passed through northern France.\\n\"The main issues come when cars or motorbikes have to pass the peloton and pass riders,\" Team Sky\\'s Rowe said.\\n\"That is the fundamental issue we\\'re looking into.\\n\"There\\'s a lot of motorbikes in and around the race whether it be cameras for TV, photographers or police motorbikes.\\n\"In total there\\'s around 50 motorbikes that work on each race.\\n\"We\\'ve got a riders union and we\\'re coming together to think of a few ideas, whether we cap a speed limit on how fast they can overtake us.\\n\"Say we put a 10 kilometres per hour limit on it, if we\\'re going 50kph they\\'re only allowed to pass us 60kph or something like that.\"\\nDemoitie, who was riding for the Wanty-Gobert team, was taken to hospital in Lille but died later.\\nThe sport\\'s governing body, the UCI, said it would co-operate with all relevant authorities in an investigation into the incident.\\nThe Professional Cyclists\\' Association (CPA) issued a statement asking what would be done to improve safety.\\nDespite Demoitie\\'s death, attitudes to road racing will stay the same says Rowe, who has been competing in Three Days of De Panne race in Belgium.\\n\"As soon as that element of fear slips into your mind and you start thinking of things that could happen, that\\'s when you\\'re doomed to fail,\" he told BBC Wales Sport.\\n\"If you start thinking about crashes and the consequences and what could potentially happen then you\\'re never going to be at the front of the peloton and you\\'re never going to win any races.\"\\nIn a separate incident, another Belgian cyclist, Daan Myngheer, 22, died in hospital after suffering a heart attack during the first stage of the Criterium International in Corsica.', 'summary': 'Welsh cyclist Luke Rowe says changes to the sport must be made following the death of Antoine Demoitie.', 'id': '35932467', 'model_output': '\\n\\nThe recent deaths of Belgian cyclists Demoitie and Myngheer in road races have brought renewed attention to the dangers inherent in professional cycling. Demoitie was struck by a motorbike during a race, while Myngheer suffered a fatal heart attack, highlighting two key risks for riders. These incidents have raised concerns about cars and motorbikes passing too closely to cyclists at high speeds during races, prompting calls for investigations into safety practices and potential rule changes to improve rider safety. However, some pro cyclists argue that worrying about crashes can hurt performance. Overall, the sport is grappling with how to balance safety improvements to prevent further rider deaths and injuries while maintaining the essence of competitive road racing, where inherent risks have always been part of the challenge. There seems to be agreement that more can be done to protect riders from collisions with vehicles during races, but unease about overregulating the culture of risk-taking that draws many to cycling as a profession.'}, {'document': 'Gundogan, 26, told BBC Sport he \"can see the finishing line\" after tearing cruciate knee ligaments in December, but will not rush his return.\\nThe German missed the 2014 World Cup following back surgery that kept him out for a year, and sat out Euro 2016 because of a dislocated kneecap.\\nHe said: \"It is heavy mentally to accept that.\"\\nGundogan will not be fit for the start of the Premier League season at Brighton on 12 August but said his recovery time is now being measured in \"weeks\" rather than months.\\nHe told BBC Sport: \"It is really hard always to fall and fight your way back. You feel good and feel ready, then you get the next kick.\\n\"The worst part is behind me now. I want to feel ready when I am fully back. I want to feel safe and confident. I don\\'t mind if it is two weeks or six.\"\\nGundogan made 15 appearances and scored five goals in his debut season for City following his £20m move from Borussia Dortmund.\\nHe is eager to get on the field again and was impressed at the club\\'s 4-1 win over Real Madrid in a pre-season game in Los Angeles on Wednesday.\\nManager Pep Guardiola has made five new signings already this summer and continues to have an interest in Arsenal forward Alexis Sanchez and Monaco\\'s Kylian Mbappe.\\nGundogan said: \"Optimism for the season is big. It is huge, definitely.\\n\"We felt that last year as well but it was a completely new experience for all of us. We know the Premier League a bit more now and can\\'t wait for the season to start.\"\\nCity complete their three-match tour of the United States against Tottenham in Nashville on Saturday.\\nChelsea manager Antonio Conte said earlier this week he did not feel Tottenham were judged by the same standards as his own side, City and Manchester United.\\nSpurs have had the advantage in their recent meetings with City, winning three and drawing one of their last four Premier League games.\\nAnd Gundogan thinks they are a major threat.\\nHe said: \"Tottenham are a great team. They have the style of football. They have young English players. Our experience last season shows it is really tough to beat them.\\n\"They are really uncomfortable to play against.\\n\"I am pretty sure, even if they will not say it loud, the people who know the Premier League know Tottenham are definitely a competitor for the title.\"', 'summary': 'Manchester City midfielder Ilkay Gundogan says it has been mentally tough to overcome a third major injury.', 'id': '40758845', 'model_output': '\\n\\nAs the new Premier League season approaches, Manchester City and Tottenham are looking strong. City made several new signings this summer, including Bernardo Silva, Ederson Moraes, Kyle Walker and Danilo. Manager Pep Guardiola remains interested in acquiring Alexis Sanchez from Arsenal as well. The team is optimistic about its chances this season after a third place finish last year. \\n\\nCity is monitoring the recovery of midfielder Ilkay Gundogan, who is coming back from a long-term knee injury. Gundogan has spoken about the mental struggle of recovering fully and not rushing back too soon. City recently faced Real Madrid in a preseason friendly match and have Tottenham coming up next.  \\n\\nMeanwhile, Tottenham is viewed as a major contender for the title this season after finishing second last year. Manager Antonio Conte believes Spurs should not be judged by the same standards as clubs that spend more on transfers. With stars like Harry Kane and Dele Alli, Tottenham has built a talented squad without huge signings. The upcoming match against City will provide an early test for both title hopefuls.'}, {'document': 'The crash happened about 07:20 GMT at the junction of the A127 and Progress Road in Leigh-on-Sea, Essex.\\nThe man, who police said is aged in his 20s, was treated at the scene for a head injury and suspected multiple fractures, the ambulance service said.\\nHe was airlifted to the Royal London Hospital for further treatment.\\nThe Southend-bound carriageway of the A127 was closed for about six hours while police conducted their initial inquiries.\\nA spokeswoman for Essex Police said it was not possible comment to further as this time as the \"investigation is now being conducted by the IPCC\".', 'summary': 'A jogger has been hit by an unmarked police car responding to an emergency call, leaving him with \"serious life-changing injuries\".', 'id': '30358490', 'model_output': '\\n\\nA traffic accident occurred on the A127 road at Progress Road in Leigh-on-Sea, Essex. A man in his 20s sustained head injuries and suspected fractures in the crash and had to be airlifted by ambulance to the hospital for treatment. This led police to close the road to investigate the circumstances of the accident. The key events were the initial crash and injuries, the emergency response to airlift the victim, the resulting road closure, and the police investigation into how the accident happened. Overall, a serious traffic collision at a specific location in Essex led to road closures and a police investigation after a young man was seriously hurt and needed emergency medical evacuation.'}, {'document': \"23 October 2015 Last updated at 17:44 BST\\nIt's the highest rating a tropical storm can get and is the first one of this magnitude to hit mainland Mexico since 1959.\\nBut how are the categories decided and what do they mean? Newsround reporter Jenny Lawrence explains.\", 'summary': 'Hurricane Patricia has been rated as a category 5 storm.', 'id': '34615665', 'model_output': '\\n\\nHurricane Patricia is an extremely dangerous storm, as it has reached Category 5 status, the highest rating on the Saffir-Simpson hurricane scale. Category 5 hurricanes like Patricia have wind speeds over 157 mph and are capable of catastrophic damage. The landfall of such a powerful hurricane in Mexico is a rare event, with the last Category 5 hurricane to hit being in 1959. As Patricia approaches, the article provides background on the Saffir-Simpson scale and the meaning of the Category 5 rating in the context of this storm, emphasizing the potential for severe impacts from winds, storm surge and flooding. Overall, the article conveys the exceptional intensity of Hurricane Patricia as it bears down on Mexico, underscoring the serious threat it poses based on its Saffir-Simpson Category 5 status.'}, {'document': 'Weaknesses in the way mice swapped data with computers left them vulnerable, said security firm Bastille Networks.\\nAttackers could spoof poorly protected signals letting them use PCs as if they were sitting in front of them, it said.\\nInformation about the loopholes have been passed to the makers of vulnerable mice, some of who are creating updates to make the mice more secure.\\nThe radio signals sent by many wireless mice to a \"dongle\" plugged in to a computer were often unencrypted, said Marc Newlin and Balint Seeber, from Bastille, who carried out the research.\\n\"That makes it possible for the attacker to send unencrypted traffic to the dongle pretending to be a keyboard and have it result as keystrokes on your computer,\" Mr Newlin said.\\nBy contrast, they said, signals sent by wireless keyboards were scrambled to stop attackers eavesdropping on or spoofing them.\\nThe pair found they could spoof signals for mice using a few lines of code and an antenna and dongle that cost $20 (Â£15).\\nThe attack worked at distances of up to 180m (590ft).\\nUsing this kit, they sent specially crafted mouse clicks that a computer interpreted as key presses, letting them run commands and take control of a target machine.\\nThe Bastille researchers said many companies spent a lot of time and money securing the physical devices sitting on their networks but often neglected to keep an eye on data sent via radio.\\nWireless mice produced by HP, Lenovo, Amazon and Dell were found to be vulnerable.\\nBastille said it had reported its findings to the hardware makers and to the company that made the chipset used inside the spoofable mice.\\nUpdates to the internal computer code, or firmware, for some of the vulnerable mice are now being made available,\\nBut Bastille said many of the insecure mice it had found could not be updated.', 'summary': 'Hackers could gain access to home and corporate networks via security flaws in wireless mice, suggests research.', 'id': '35890902', 'model_output': '\\n\\nRecent research has uncovered serious security vulnerabilities in wireless mice from major brands like HP, Lenovo, Amazon and Dell. The wireless signals sent from these mice to computer dongles lack encryption, allowing attackers within 180 meters to spoof the signals using just $20 of equipment. By spoofing mouse clicks, researchers were able to run commands and gain control of target computers. The vulnerabilities highlight that while there has been a focus on securing physical devices on networks, the wireless signals between devices are often overlooked and left unencrypted. Although hardware makers have been notified and some have released firmware updates, many wireless mice cannot be patched. The findings reveal the need for greater encryption of wireless signals to prevent remote attacks through peripherals like wireless mice.'}, {'document': 'Administrators confirmed the redundancies affecting 38 staff at Galashiels-based Murray and Burrell.\\nThe business, established in 1928, went into administration last week citing \"adverse trading conditions\".\\nThere are hopes some of the workers affected could find posts at another building firm in nearby Melrose which currently requires staff.\\nThomson Cooper partner Richard Gardiner was appointed as administrator at Murray and Burrell on Monday.\\nA statement confirmed: \"Directors explored all options in an effort to preserve trading and jobs.\\n\"Regrettably, 38 jobs were lost as there is no prospect of continuing to trade.\"\\nSouth of Scotland MSP Rachael Hamilton described it as a \"sad day for the Borders\".\\nHowever, some of the workers laid off could find employment with a Melrose-based company.\\nJS Crawford has said that, with several housing projects on its books, it needs staff.', 'summary': 'Dozens of jobs have been lost after efforts to save an historic building firm in the Scottish Borders failed.', 'id': '37922330', 'model_output': '\\n\\nMurray and Burrell, a long-standing Galashiels business, went into administration and had to lay off 38 employees due to difficult economic conditions. This led to a sad day for the Borders region, as the layoffs represent lost jobs and economic hardship. However, there is a glimmer of hope, as construction company JS Crawford has job openings to fill several housing projects underway in Melrose. This presents a potential employment opportunity for some of the displaced Murray and Burrell workers. Though the business failure and layoffs are certainly disappointing, the job prospects at JS Crawford provide a possibility that some of the affected workers may be able to find new work in the area.'}, {'document': 'The EC\\'s doubts about the arrangement were detailed in a document on Friday.\\nThe EC said that its \"preliminary view is that the tax ruling... by Luxembourg in favour of Amazon constitutes state aid.\"\\nHowever, Amazon said it \"has received no special tax treatment from Luxembourg\".\\n\"We are subject to the same tax laws as other companies operating here [in Luxembourg],\" it said.\\nThe Luxembourg finance ministry said: \"Luxembourg is confident that the state aid allegations in this case are without merit and will be able to convince the Commission of the legitimacy of the anticipatory decision in question and that no competitive advantage was granted,\" it said.\\nThe European Commission began a probe of the tax arrangement last year, saying that it had suspicions it broke EU rules.\\nThe Commission document, which was sent to the Luxembourg Ministry of Foreign Affairs in October, gives its rationale for launching the investigation.\\nThe Commission said it had \"no indication\" that the tax arrangement was \"compatible with the internal market\".\\nThe current European Commission chief, Jean-Claude Juncker, was prime minister of Luxembourg when the deal was struck.\\nMr Juncker has come under pressure over claims that around 340 global companies were granted tax  avoidance deals during his 18 year tenure in Luxembourg.\\nCommission doubts over the Amazon deal included whether Luxembourg had properly looked into Amazon\\'s \"transfer pricing\" proposals about how money would be moved between different Amazon subsidiaries.\\nDoubts also existed about whether the country had assessed that the proposed tax regime was in line with market conditions before agreeing the deal in 2003, the European Commission document said.\\nThe Commission also had questions about how royalty payments between certain Amazon companies were calculated, and whether \"Amazon has a financial incentive to exaggerate the amount of the royalty\" between its Luxembourg head office company and an Amazon firm that holds shares in the head office company.\\n\"If the royalty is exaggerated, it would unduly reduce the tax paid by Amazon in Luxembourg by shifting profits to an untaxed entity from the perspective of corporate taxation,\" the EC said.\\nIt added that Luxembourg might have been too hasty in assessing Amazon\\'s requested arrangement before striking the deal.\\nLuxembourg\\'s finance ministry said it \"has provided all the information required by the Commission and cooperated fully with the Commission in its investigation.\"\\n\"Among other things, detailed reports on the transfer price requested by the Commission were disclosed,\" it added.\\nLuxembourg is also being investigated by the Commission over suspected \"sweetheart\" tax deals with the financing arm of carmaker Fiat.\\nIn addition, Ireland\\'s tax deal with Apple and the Netherlands\\' arrangement with Starbucks are being scrutinised as part of a crackdown on multinationals\\' tax avoidance schemes.', 'summary': 'The European Commission has disclosed a preliminary finding that Amazon\\'s tax arrangements in Luxembourg probably constitute \"state aid\".', 'id': '30844962', 'model_output': \"\\n\\nThe European Commission is investigating whether a 2003 tax deal between Amazon and Luxembourg violated EU state aid rules. The deal was struck while Jean-Claude Juncker was Luxembourg's prime minister. The EC is concerned that the tax ruling gave Amazon preferential treatment by allowing it to shift profits between subsidiaries and lower its tax bill. Luxembourg denies giving Amazon special treatment and says the deal was legitimate, though it has cooperated with the investigation. This probe is part of the EC's broader crackdown on sweetheart tax arrangements between EU countries and multinationals like Apple and Starbucks that allow aggressive tax avoidance. There are now concerns about Juncker's role in these deals as Luxembourg's former prime minister, given that he now oversees the investigations as president of the European Commission.\"}, {'document': 'The three-day extravaganza of farming, food and family fun celebrates many aspects of agricultural life.\\nThe Balmoral Show is run by the Royal Ulster Agricultural Society (RUAS) and dates back 148 years.\\nLast year, it attracted more than 90,000 visitors to its recently-adopted home outside Lisburn in County Antrim.\\nIt was traditionally staged at the RUAS\\'s headquarters in south Belfast, but the show moved to a larger venue on the site of the former Maze prison in 2013.\\nThe Maze venue, re-named Balmoral Park, is now hosting the show for the fourth consecutive year.\\nThe 2016 event coincides with Northern Ireland\\'s Year of Food and Drink, and local produce features prominently in the exhibitions.\\nOne of this year\\'s highlights is an \"edible garden\", in which visitors can see their food growing in the ground before it gets to their plates.\\nThe aim of the garden is to encourage people to grow their own food at home.\\nThe event will also showcase the best of local livestock, with prized pigs, cattle, poultry and ponies all lining up in bid to be the stars of the show.\\nTheir owners will also get a chance to shine, with horse riding and show jumping displays along with sheep shearing competitions and awards for the best livestock breeders and handlers.\\nFor younger visitors, there is a family fun area hosting displays from the Northern Ireland School of Falconry as well as a gun dog skills demonstration and a performance from balloon artist Bruce Airhead.\\nBBC News NI are covering the event live on social media on Wednesday on Twitter at @BBCNewsNI, on Snapchat at bbcnewsni, and on BBC Newsline\\'s Facebook page.', 'summary': \"The most important event in Northern Ireland's agricultural calendar - the Balmoral Show - has opened with thousands of people attending.\", 'id': '36217333', 'model_output': '\\n\\nThe Balmoral Show is an annual agricultural event in Northern Ireland that celebrates local farming, food, and tradition. Going on 148 years, the multi-day show features livestock competitions, awards for breeders and handlers, as well as family-friendly entertainment like falconry displays and balloon art. This year, with Northern Ireland\\'s Year of Food and Drink, the Balmoral Show will especially highlight local food and produce. There is an \"edible garden\" and focus on local livestock and breeders. The event will be covered live on social media and online by BBC News NI. Overall, the Balmoral Show promotes Northern Ireland\\'s agricultural life, local food, and long-standing cultural traditions through fun, interactive exhibits and activities for all ages.'}, {'document': 'Mr Mosley wants Google to block photos of him at a sex party first printed in the now-defunct News of the World, which he successfully sued in 2008.\\nHe is suing the internet firm for breaches of the Data Protection Act and misusing private information.\\nGoogle\\'s barrister argued that Mr Mosley no longer has a \"reasonable expectation of privacy\".\\nMr Mosley won damages from the News of the World after it published a story alleging he had organised a Nazi-themed orgy.\\nPhotographs and a video which show his private sexual activity were originally obtained by News Group Newspapers Limited (NGN) in a clandestine \"sting\" operation.\\nMr Mosley - the son of 1930s fascist leader Sir Oswald Mosley - won Â£60,000 after a judge ruled there was no substance to the allegation that there had been a Nazi theme to the sex party and found that his privacy had been breached.\\nIn that ruling, the High Court also said the article was not in the public interest.\\nMr Mosley has said the role-play at a rented Chelsea basement flat was harmless, consensual and private.\\nOn launching his legal action last year, Mr Mosley urged: \"Google should operate within the law rather than according to rules it makes itself. It cannot be allowed to ignore judgements in our courts.\"\\nGoogle has said it will remove URLs that it is alerted to, but is not prepared to remove the images entirely from its search engines.\\nIn court on Wednesday, Google\\'s barrister Antony White QC for Google conceded that it was technically possible to remove the images and was \"not burdensome\" to do so.\\nHowever, he argued that Google was not the publisher of the private information, and that Mr Mosley no longer had a reasonable expectation of privacy in relation to the images.\\nOn that basis, Google will seek to show that Mr Mosley\\'s claim is unfounded.\\nThe hearing is due to conclude on Thursday.', 'summary': 'Google has asked the High Court to throw out legal action being taken by ex-Formula 1 boss Max Mosley.', 'id': '30816523', 'model_output': '\\n\\nMax Mosley, former president of the FIA, has been engaged in a lengthy legal battle against Google to have photos removed from search results. The photos in question stem from a 2008 News of the World story about Mosley attending a sadomasochistic sex party. Mosley successfully sued News of the World for breach of privacy over publishing the photos. However, the photos remained accessible via Google searches. Mosley has argued that Google should be required to remove the photos under European \"right to be forgotten\" data protection laws. Google has resisted on the grounds that Mosley is a public figure and no longer has a reasonable expectation of privacy regarding the photos. The case has sparked debate around the responsibilities of search engines in balancing privacy versus public interest, especially when it involves public figures. It also touches on broader questions around Internet freedom and whether search engines like Google should be considered publishers with editorial control over content. The case highlights the difficulties in navigating privacy, free speech, and public interest in the digital age.'}, {'document': 'The Bath-born player, 28, has made 36 appearances for the Dragons since joining from Wasps in 2015.\\nHe is in his second season and signed a contract extension in December 2016.\\nDragons forwards coach Ceri Jones said: \"It\\'s a big blow. Eddie has been excellent all year for us, he has really stepped up to the mark and will be a big loss.\"\\nHowever, Jones says Jackson\\'s misfortune can be a chance for others to thrive.\\n\"We are very fortunate to have the likes of Ollie Griffiths, Harrison Keddie, James Thomas who can come into the back-row,\" said Jackson.\\n\"Harri has shown glimpses of what he can do all season and there\\'s definitely a player there, so this is an opportunity.\"\\nDragons travel to Munster in the Pro12 on Friday.', 'summary': 'Newport Gwent Dragons number eight Ed Jackson has undergone shoulder surgery and faces a spell on the sidelines.', 'id': '38900884', 'model_output': \"\\n\\nThe Welsh rugby team Dragons recently suffered a major setback when talented flanker Eddie Byrne sustained an injury that will force him to miss upcoming matches. Byrne had been a standout for the Dragons this season, providing invaluable leadership and skills. His absence leaves a void in the squad. However, it also opens the door for other players like Ollie Griffiths, Harrison Keddie, and James Thomas to gain more playing time and step up their games. The team will need to rally together as they face challenges ahead, including an upcoming Pro12 match against Munster. While Byrne's injury is undoubtedly a blow, it provides opportunities for squad development. The Dragons will look to their depth and resolve as they move forward this season without one of their star players.\"}, {'document': 'The announcement ends months of uncertainty for Cornish Language Partnership staff whose contracts had been due to end.\\nLocal government minister Andrew Stunnell said the three-year funding package for the service would help make sure the language survived.\\nBut he warned that long term funding should come from Cornwall.\\nHe said it was \"important to make sure the Cornish were given the opportunity to put down sound foundations.\"\\n\"In the longer term support for the Cornish language is going to be something which is going to have to be based in Cornwall and will not come from London,\" he added.\\nThe Cornish Language Partnership\\'s, Jennifer Lowe, said: \"We can now plan for the future thanks to the funding.\"\\nThe United Nations recently upgraded the status of the Cornish language from \"extinct\" to \"critically endangered\".\\nIt is thought fewer than 500 people worldwide are fluent in the language.', 'summary': 'The government is spending nearly £400,000 to help save the Cornish language.', 'id': '13890581', 'model_output': '\\n\\nThe Cornish language, spoken by fewer than 500 people worldwide, has recently been upgraded from \"extinct\" to \"critically endangered\" status by the UN. To help preserve this important part of Cornish culture and heritage, the government has provided a new 3-year funding package to the Cornish Language Partnership. This provides some short-term stability after uncertainty over previous contracts ending. However, the documents make clear that long-term funding must come locally from within Cornwall if the language is to survive. There is a recognized need to establish foundations that give the Cornish people the opportunity to maintain their unique language and culture into the future. Though the latest funding offers hope, ongoing local support will be crucial to making sure this critically endangered Celtic language endures.'}, {'document': 'Jardim, in charge since 2014, described the last three years at the club as \"exceptional\".\\nMonaco finished eight points ahead of nearest rivals Paris St-Germain to be crowned champions of France in 2016-17.\\n\"I feel part of AS Monaco and the principality,\" said Portuguese Jardim, the former Olympiakos boss.\\nMonaco also beat Tottenham and Manchester City on their way to reaching the semi-finals of the Champions League during 2016-17, before losing to Juventus 4-1 on aggregate in the semi-finals.\\nMonaco vice-president Vadim Vasilyev said Jardim had received offers to coach elsewhere.\\n\"He is one of the best coaches in European football and despite other offers he has chosen to continue the adventure at Monaco, which demonstrates our ambition,\" added Vasilyev.', 'summary': 'Monaco boss Leonardo Jardim has been rewarded for steering the club to their first Ligue 1 title for 17 years with a new contract until 2020.', 'id': '40194700', 'model_output': \"\\n\\nLeonardo Jardim has had an impressive tenure as manager of AS Monaco, leading them to great success in recent years. In the 2016-17 season, he guided Monaco to the Ligue 1 title as well as an impressive run to the Champions League semi-finals. Despite receiving offers from other clubs following this success, Jardim remained loyal to Monaco, turning down opportunities to leave. The Monaco vice-president praised Jardim as one of the best coaches in Europe, recognizing his achievements with the club. Jardim's commitment to Monaco, despite outside interest, demonstrates his loyalty and dedication to continuing the success he has built there. His accomplishments in both domestic and European competitions have cemented his status as one of the top managers in the game. Jardim's loyalty, success, and praise from the Monaco leadership highlight his impressive tenure leading the club.\"}]\n"
     ]
    }
   ],
   "source": [
    "dataset = \"xsum_sample.jsonl\"\n",
    "model_output_map_reduce = get_summary(dataset, sum_type=\"map_reduce\", func=map_reduce_summary)\n",
    "print(model_output_map_reduce)"
   ]
  },
  {
   "cell_type": "markdown",
   "id": "f4191023-7514-4acc-9e74-9ebe56670658",
   "metadata": {},
   "source": [
    "### Auto Refine Summary"
   ]
  },
  {
   "cell_type": "code",
   "execution_count": 9,
   "id": "6303afa6-075c-44f8-8841-55b1b2021e02",
   "metadata": {
    "collapsed": true,
    "jupyter": {
     "outputs_hidden": true
    },
    "tags": []
   },
   "outputs": [
    {
     "name": "stdout",
     "output_type": "stream",
     "text": [
      "[{'document': 'The full cost of damage in Newton Stewart, one of the areas worst affected, is still being assessed.\\nRepair work is ongoing in Hawick and many roads in Peeblesshire remain badly affected by standing water.\\nTrains on the west coast mainline face disruption due to damage at the Lamington Viaduct.\\nMany businesses and householders were affected by flooding in Newton Stewart after the River Cree overflowed into the town.\\nFirst Minister Nicola Sturgeon visited the area to inspect the damage.\\nThe waters breached a retaining wall, flooding many commercial properties on Victoria Street - the main shopping thoroughfare.\\nJeanette Tate, who owns the Cinnamon Cafe which was badly affected, said she could not fault the multi-agency response once the flood hit.\\nHowever, she said more preventative work could have been carried out to ensure the retaining wall did not fail.\\n\"It is difficult but I do think there is so much publicity for Dumfries and the Nith - and I totally appreciate that - but it is almost like we\\'re neglected or forgotten,\" she said.\\n\"That may not be true but it is perhaps my perspective over the last few days.\\n\"Why were you not ready to help us a bit more when the warning and the alarm alerts had gone out?\"\\nMeanwhile, a flood alert remains in place across the Borders because of the constant rain.\\nPeebles was badly hit by problems, sparking calls to introduce more defences in the area.\\nScottish Borders Council has put a list on its website of the roads worst affected and drivers have been urged not to ignore closure signs.\\nThe Labour Party\\'s deputy Scottish leader Alex Rowley was in Hawick on Monday to see the situation first hand.\\nHe said it was important to get the flood protection plan right but backed calls to speed up the process.\\n\"I was quite taken aback by the amount of damage that has been done,\" he said.\\n\"Obviously it is heart-breaking for people who have been forced out of their homes and the impact on businesses.\"\\nHe said it was important that \"immediate steps\" were taken to protect the areas most vulnerable and a clear timetable put in place for flood prevention plans.\\nHave you been affected by flooding in Dumfries and Galloway or the Borders? Tell us about your experience of the situation and how it was handled. Email us on selkirk.news@bbc.co.uk or dumfries@bbc.co.uk.', 'summary': 'Clean-up operations are continuing across the Scottish Borders and Dumfries and Galloway after flooding caused by Storm Frank.', 'id': '35232142', 'model_output': \"The Scottish towns of Newton Stewart, Hawick, and Peeblesshire were badly affected by flooding after heavy rain. In Newton Stewart, the River Cree overflowed and breached a retaining wall, flooding businesses on Victoria Street including the Cinnamon Cafe. First Minister Nicola Sturgeon visited Newton Stewart to inspect the damage. Business owner Jeanette Tate said more preventative work could have been done on the retaining wall. Repair work is still ongoing in Hawick, where roads remain badly affected by standing water. Some of the worst flooding occurred in Hawick, where roads remained closed days later. With Hawick prone to repeated flooding, there were calls to accelerate plans for new flood protection infrastructure to safeguard the most vulnerable areas. Flooding also damaged the historic Lamington Viaduct. Labour's Alex Rowley visited Hawick to witness the flooding firsthand and said immediate steps should be taken to protect parts of the town at highest risk. Peebles was particularly badly hit, with roads and properties flooded. Scottish Borders Council posted a list of roads closed by flooding on its website. Trains on the west coast mainline face disruption due to damage at the Lamington Viaduct. A flood alert remains in place across the Borders because of the constant rain. The excessive rain triggered a flood alert across the entire Scottish Borders region.\"}, {'document': 'A fire alarm went off at the Holiday Inn in Hope Street at about 04:20 BST on Saturday and guests were asked to leave the hotel.\\nAs they gathered outside they saw the two buses, parked side-by-side in the car park, engulfed by flames.\\nOne of the tour groups is from Germany, the other from China and Taiwan. It was their first night in Northern Ireland.\\nThe driver of one of the buses said many of the passengers had left personal belongings on board and these had been destroyed.\\nBoth groups have organised replacement coaches and will begin their tour of the north coast later than they had planned.\\nPolice have appealed for information about the attack.\\nInsp David Gibson said: \"It appears as though the fire started under one of the buses before spreading to the second.\\n\"While the exact cause is still under investigation, it is thought that the fire was started deliberately.\"', 'summary': 'Two tourist buses have been destroyed by fire in a suspected arson attack in Belfast city centre.', 'id': '40143035', 'model_output': \"In the early morning hours of Saturday, a fire alarm sounded at the Holiday Inn on Hope Street in Belfast, Northern Ireland, rousing guests from their rooms at around 4:20am. They evacuated outside to find two tour buses parked next to each other completely engulfed in flames. The buses belonged to two separate tour groups, one from Germany and the other from China and Taiwan. Both groups had just arrived in Northern Ireland the previous evening, kicking off their first night in the country. Unfortunately, passengers' personal belongings that had been stored on the buses were destroyed in the fire. The driver shared that both groups were able to get replacement coaches and will proceed with their planned tours of Northern Ireland's north coast, though on a delayed schedule. Police suspect the fire was deliberately set and have appealed to the public for any information related to the incident. Inspector David Gibson stated that the fire seemed to originate under one bus before spreading to the second. In total, the detailed account indicates that an intentionally-set fire damaged two tour buses outside a Belfast hotel, destroying tourist belongings and disrupting the travel plans of two visiting groups on their first night in Northern Ireland. Specifically, the fire alarm at the Holiday Inn was triggered when a blaze broke out in the hotel's car park, completely engulfing two tour buses parked next to each other. The buses contained luggage and personal items belonging to tourists from Germany and from China/Taiwan who were spending their first night in Northern Ireland. The fire, which police believe was deliberately started underneath one of the buses before spreading, forced the groups to find replacement transportation so they could proceed with their planned tours of the north coast, now slightly delayed.\"}, {'document': 'Ferrari appeared in a position to challenge until the final laps, when the Mercedes stretched their legs to go half a second clear of the red cars.\\nSebastian Vettel will start third ahead of team-mate Kimi Raikkonen.\\nThe world champion subsequently escaped punishment for reversing in the pit lane, which could have seen him stripped of pole.\\nBut stewards only handed Hamilton a reprimand, after governing body the FIA said \"no clear instruction was given on where he should park\".\\nBelgian Stoffel Vandoorne out-qualified McLaren team-mate Jenson Button on his Formula 1 debut.\\nVandoorne was 12th and Button 14th, complaining of a handling imbalance on his final lap but admitting the newcomer \"did a good job and I didn\\'t\".\\nMercedes were wary of Ferrari\\'s pace before qualifying after Vettel and Raikkonen finished one-two in final practice, and their concerns appeared to be well founded as the red cars mixed it with the silver through most of qualifying.\\nAfter the first runs, Rosberg was ahead, with Vettel and Raikkonen splitting him from Hamilton, who made a mistake at the final corner on his first lap.\\nBut Hamilton saved his best for last, fastest in every sector of his final attempt, to beat Rosberg by just 0.077secs after the German had out-paced him throughout practice and in the first qualifying session.\\nVettel rued a mistake at the final corner on his last lap, but the truth is that with the gap at 0.517secs to Hamilton there was nothing he could have done.\\nThe gap suggests Mercedes are favourites for the race, even if Ferrari can be expected to push them.\\nVettel said: \"Last year we were very strong in the race and I think we are in good shape for tomorrow. We will try to give them a hard time.\"\\nVandoorne\\'s preparations for his grand prix debut were far from ideal - he only found out he was racing on Thursday when FIA doctors declared Fernando Alonso unfit because of a broken rib sustained in his huge crash at the first race of the season in Australia two weeks ago.\\nThe Belgian rookie had to fly overnight from Japan, where he had been testing in the Super Formula car he races there, and arrived in Bahrain only hours before first practice on Friday.\\nHe also had a difficult final practice, missing all but the final quarter of the session because of a water leak.\\nButton was quicker in the first qualifying session, but Vandoorne pipped him by 0.064secs when it mattered.\\nThe 24-year-old said: \"I knew after yesterday I had quite similar pace to Jenson and I knew if I improved a little bit I could maybe challenge him and even out-qualify him and that is what has happened.\\n\"Jenson is a very good benchmark for me because he is a world champion and he is well known to the team so I am very satisfied with the qualifying.\"\\nButton, who was 0.5secs quicker than Vandoorne in the first session, complained of oversteer on his final run in the second: \"Q1 was what I was expecting. Q2 he did a good job and I didn\\'t. Very, very good job. We knew how quick he was.\"\\nThe controversial new elimination qualifying system was retained for this race despite teams voting at the first race in Australia to go back to the 2015 system.\\nFIA president Jean Todt said earlier on Saturday that he \"felt it necessary to give new qualifying one more chance\", adding: \"We live in a world where there is too much over reaction.\"\\nThe system worked on the basis of mixing up the grid a little - Force India\\'s Sergio Perez ended up out of position in 18th place after the team miscalculated the timing of his final run, leaving him not enough time to complete it before the elimination clock timed him out.\\nBut it will come in for more criticism as a result of lack of track action at the end of each session. There were three minutes at the end of the first session with no cars on the circuit, and the end of the second session was a similar damp squib.\\nOnly one car - Nico Hulkenberg\\'s Force India - was out on the track with six minutes to go. The two Williams cars did go out in the final three minutes but were already through to Q3 and so nothing was at stake.\\nThe teams are meeting with Todt and F1 commercial boss Bernie Ecclestone on Sunday at noon local time to decide on what to do with qualifying for the rest of the season.\\nTodt said he was \"optimistic\" they would be able to reach unanimous agreement on a change.\\n\"We should listen to the people watching on TV,\" Rosberg said. \"If they are still unhappy, which I am sure they will be, we should change it.\"\\nRed Bull\\'s Daniel Ricciardo was fifth on the grid, ahead of the Williams cars of Valtteri Bottas and Felipe Massa and Force India\\'s Nico Hulkenberg.\\nRicciardo\\'s team-mate Daniil Kvyat was eliminated during the second session - way below the team\\'s expectation - and the Renault of Brit Jolyon Palmer only managed 19th fastest.\\nGerman Mercedes protege Pascal Wehrlein managed an excellent 16th in the Manor car.\\nBahrain GP qualifying results\\nBahrain GP coverage details', 'summary': 'Lewis Hamilton stormed to pole position at the Bahrain Grand Prix ahead of Mercedes team-mate Nico Rosberg.', 'id': '35951548', 'model_output': \"\\nQualifying for the Bahrain Grand Prix saw Lewis Hamilton take pole position for Mercedes by just 0.077 seconds over teammate Nico Rosberg. His pole lap was 1:29.493 while Rosberg managed a 1:29.570. Sebastian Vettel qualified third for Ferrari, 0.517 seconds off Hamilton's pace. During qualifying, Vettel made a mistake on his final lap at the last corner which cost him time. In a surprise, debutant McLaren driver Stoffel Vandoorne outqualified his veteran teammate Jenson Button who has over 300 Formula 1 race starts to his name. Vandoorne beat Button by 0.064 seconds in Q2 while Button complained of oversteer issues on his final run. \\n\\nThe new elimination qualifying format retained for this race received further criticism for lack of on-track action, especially towards the end of sessions. In Q1, the final three minutes were left with no cars on track and in Q2, only one car was out in the last six minutes. Teams have been meeting with FIA President Jean Todt and F1 boss Bernie Ecclestone to decide on potential changes to the qualifying system for the remainder of the season. Todt expressed optimism that unanimous agreement could be reached on a revised format.\\n\\nIn other qualifying results, Daniel Ricciardo took fifth for Red Bull ahead of Valtteri Bottas, Felipe Massa and Nico Hulkenberg. Ricciardo's teammate Daniil Kvyat was eliminated earlier than expected in Q2. Jolyon Palmer struggled to 19th for Renault while Pascal Wehrlein managed 16th on his F1 qualifying debut for Manor.\\n\"}, {'document': 'John Edward Bates, formerly of Spalding, Lincolnshire, but now living in London, faces a total of 22 charges, including two counts of indecency with a child.\\nThe 67-year-old is accused of committing the offences between March 1972 and October 1989.\\nMr Bates denies all the charges.\\nGrace Hale, prosecuting, told the jury that the allegations of sexual abuse were made by made by four male complainants and related to when Mr Bates was a scout leader in South Lincolnshire and Cambridgeshire.\\n\"The defendant says nothing of that sort happened between himself and all these individuals. He says they are all fabricating their accounts and telling lies,\" said Mrs Hale.\\nThe prosecutor claimed Mr Bates invited one 15 year old to his home offering him the chance to look at cine films made at scout camps but then showed him pornographic films.\\nShe told the jury that the boy was then sexually abused leaving him confused and frightened.\\nMrs Hale said: \"The complainant\\'s recollection is that on a number of occasions sexual acts would happen with the defendant either in the defendant\\'s car or in his cottage.\"\\nShe told the jury a second boy was taken by Mr Bates for a weekend in London at the age of 13 or 14 and after visiting pubs he was later sexually abused.\\nMrs Hale said two boys from the Spalding group had also made complaints of being sexually abused.\\nThe jury has been told that Mr Bates was in the RAF before serving as a Lincolnshire Police officer between 1976 and 1983.\\nThe trial, which is expected to last two weeks, continues.', 'summary': 'A former Lincolnshire Police officer carried out a series of sex attacks on boys, a jury at Lincoln Crown Court was told.', 'id': '36266422', 'model_output': \"John Edward Bates, 67, is currently on trial facing 22 charges including two counts of indecency with a child for alleged offenses that took place between March 1972 and October 1989 when Mr. Bates was a scout leader in South Lincolnshire and Cambridgeshire. Mr. Bates denies all the charges brought against him by four male complainants. Prosecutor Grace Hale told the jury that Mr. Bates invited a 15-year-old scout to his home under the pretense of watching cine films from scout camps, but instead showed the boy pornography and sexually abused him multiple times in his car and cottage in Spalding, Lincolnshire, leaving the boy confused and frightened. Another boy, aged 13 or 14, was taken by Mr. Bates to London pubs for a weekend and later sexually abused after they visited pubs together. Two other boys from the Spalding scout group have also made complaints of sexual abuse against Mr. Bates during the time he was their scout leader, however the dates and details of abuse for these boys are not provided. Prior to becoming a scout leader, Mr. Bates was in the RAF and then became a Lincolnshire police officer from 1976-1983 before returning to scouting. The trial facing Mr. Bates and his 22 charges of indecency with children during his time as a scout leader is expected to last two weeks. No further information is available about whether there were prior allegations, Mr. Bates' other access to children, corroborating evidence, or potential penalties he faces if convicted.\"}, {'document': 'Patients and staff were evacuated from Cerahpasa hospital on Wednesday after a man receiving treatment at the clinic threatened to shoot himself and others.\\nOfficers were deployed to negotiate with the man, a young police officer.\\nEarlier reports that the armed man had taken several people hostage proved incorrect.\\nThe chief consultant of Cerahpasa hospital, Zekayi Kutlubay, who was evacuated from the facility, said that there had been \"no hostage crises\", adding that the man was \"alone in the room\".\\nDr Kutlubay said that the man had been receiving psychiatric treatment for the past two years.\\nHe said that the hospital had previously submitted a report stating that the man should not be permitted to carry a gun.\\n\"His firearm was taken away,\" Dr Kutlubay said, adding that the gun in the officer\\'s possession on Wednesday was not his issued firearm.\\nThe incident comes amid tension in Istanbul following several attacks in crowded areas, including the deadly assault on the Reina nightclub on New Year\\'s Eve which left 39 people dead.', 'summary': 'An armed man who locked himself into a room at a psychiatric hospital in Istanbul has ended his threat to kill himself, Turkish media report.', 'id': '38826984', 'model_output': \"\\nA tense situation unfolded at Istanbul's Cerahpasa hospital when a young police officer who had been receiving psychiatric treatment there for the past two years threatened to shoot himself and others inside the facility. The officer, whose name was not provided, had previously had his service weapon confiscated on the hospital's recommendation that he not carry a firearm. However, he produced another gun while alone in a room, prompting an evacuation of an unknown number of patients and staff from the hospital. Earlier reports indicating that the man had taken hostages proved incorrect, as he was by himself when making the threats. It is unclear what exactly the officer said or who he threatened to shoot. Police were able to get the situation under control without using force or injuring anyone. No shots were fired and no injuries were reported during the incident or evacuation. The officer's motivation for making the threats is not stated. It is also not mentioned whether any criminal charges were filed against him resulting from the incident. His history of mental health issues prior to the treatment he was receiving is also not detailed. The incident put Istanbul further on edge following recent attacks in the city, including the New Year's Eve mass shooting at the Reina nightclub that claimed 39 lives.\\n\"}, {'document': 'Simone Favaro got the crucial try with the last move of the game, following earlier touchdowns by Chris Fusaro, Zander Fagerson and Junior Bulumakau.\\nRynard Landman and Ashton Hewitt got a try in either half for the Dragons.\\nGlasgow showed far superior strength in depth as they took control of a messy match in the second period.\\nHome coach Gregor Townsend gave a debut to powerhouse Fijian-born Wallaby wing Taqele Naiyaravoro, and centre Alex Dunbar returned from long-term injury, while the Dragons gave first starts of the season to wing Aled Brew and hooker Elliot Dee.\\nGlasgow lost hooker Pat McArthur to an early shoulder injury but took advantage of their first pressure when Rory Clegg slotted over a penalty on 12 minutes.\\nIt took 24 minutes for a disjointed game to produce a try as Sarel Pretorius sniped from close range and Landman forced his way over for Jason Tovey to convert - although it was the lock\\'s last contribution as he departed with a chest injury shortly afterwards.\\nGlasgow struck back when Fusaro drove over from a rolling maul on 35 minutes for Clegg to convert.\\nBut the Dragons levelled at 10-10 before half-time when Naiyaravoro was yellow-carded for an aerial tackle on Brew and Tovey slotted the easy goal.\\nThe visitors could not make the most of their one-man advantage after the break as their error count cost them dearly.\\nIt was Glasgow\\'s bench experience that showed when Mike Blair\\'s break led to a short-range score from teenage prop Fagerson, converted by Clegg.\\nDebutant Favaro was the second home player to be sin-binned, on 63 minutes, but again the Warriors made light of it as replacement wing Bulumakau, a recruit from the Army, pounced to deftly hack through a bouncing ball for an opportunist try.\\nThe Dragons got back within striking range with some excellent combined handling putting Hewitt over unopposed after 72 minutes.\\nHowever, Favaro became sinner-turned-saint as he got on the end of another effective rolling maul to earn his side the extra point with the last move of the game, Clegg converting.\\nDragons director of rugby Lyn Jones said: \"We\\'re disappointed to have lost but our performance was a lot better [than against Leinster] and the game could have gone either way.\\n\"Unfortunately too many errors behind the scrum cost us a great deal, though from where we were a fortnight ago in Dublin our workrate and desire was excellent.\\n\"It was simply error count from individuals behind the scrum that cost us field position, it\\'s not rocket science - they were correct in how they played and we had a few errors, that was the difference.\"\\nGlasgow Warriors: Rory Hughes, Taqele Naiyaravoro, Alex Dunbar, Fraser Lyle, Lee Jones, Rory Clegg, Grayson Hart; Alex Allan, Pat MacArthur, Zander Fagerson, Rob Harley (capt), Scott Cummings, Hugh Blake, Chris Fusaro, Adam Ashe.\\nReplacements: Fergus Scott, Jerry Yanuyanutawa, Mike Cusack, Greg Peterson, Simone Favaro, Mike Blair, Gregor Hunter, Junior Bulumakau.\\nDragons: Carl Meyer, Ashton Hewitt, Ross Wardle, Adam Warren, Aled Brew, Jason Tovey, Sarel Pretorius; Boris Stankovich, Elliot Dee, Brok Harris, Nick Crosswell, Rynard Landman (capt), Lewis Evans, Nic Cudd, Ed Jackson.\\nReplacements: Rhys Buckley, Phil Price, Shaun Knight, Matthew Screech, Ollie Griffiths, Luc Jones, Charlie Davies, Nick Scott.', 'summary': 'Defending Pro12 champions Glasgow Warriors bagged a late bonus-point victory over the Dragons despite a host of absentees and two yellow cards.', 'id': '34540833', 'model_output': \"Glasgow Warriors hosted Newport Gwent Dragons in a Pro14 rugby union match at Scotstoun Stadium. The match saw the return from injury of Alex Dunbar for Glasgow and first starts for Aled Brew and Elliot Dee of Dragons. After only 12 minutes, Sarel Pretorius scored the opening try for Dragons which was converted by Jason Tovey. Rynard Landman then scored Dragons' second try, again converted by Tovey, to give them a 14-0 lead. Chris Fusaro responded with a try for Glasgow, converted by Rory Clegg, to make it 14-7. Tovey added a penalty to stretch the Dragons lead to 17-7 before Zander Fagerson went over for Glasgow's second try, converted by Clegg, to reduce the deficit to 17-14 at halftime. Early in the second half, Junior Bulumakau scored an unconverted try to put Glasgow ahead for the first time at 17-19. Both sides continued to battle for supremacy with Simon Favaro and Lee Jones crossing for Glasgow while Ashton Hewitt replied for Dragons. Taqele Naiyaravoro and Favaro were both sin-binned during the match. Tovey went off injured and was replaced by Charlie Davies. Despite a late comeback by Dragons, Glasgow held on to win 36-29 in a competitive match that could have gone either way. In the end, Glasgow scored 4 tries to Dragons' 2 to secure victory in their opening Pro14 match of the season.\"}, {'document': 'Veronica Vanessa Chango-Alverez, 31, was killed and another man injured when an Audi A3 struck them in Streatham High Road at 05:30 GMT on Saturday.\\nTen minutes before the crash the car was in London Road, Croydon, when a Volkswagen Passat collided with a tree.\\nPolice want to trace Nathan Davis, 27, who they say has links to the Audi. The car was abandoned at the scene.\\nMs Chango-Alverez died from multiple injuries, a post-mortem examination found.\\nNo arrests have been made as yet, police said.\\nMs Chango-Alverez was staying at her mother\\'s home in Streatham High Road.\\nShe was born in Ecuador and had lived in London for 13 years, BBC London reporter Gareth Furby said. At the time of the crash, she was on her way to work in a hotel.\\nThe remains of the bus stop, which was extensively damaged in the crash, have been removed.\\nFlowers have been left at the site in tribute to the victim.\\nA statement from her brother Kevin Raul Chango-Alverez said: \"My family has had its heart torn out, at this Christmas time, we will never be the same again.\\n\"On Friday night we were together as a family with Veronica meeting her newly born nephew and preparing for Christmas.\\n\"I last saw her alive as she left to go to work on Saturday morning, but moments later I was holding her hand as she passed away in the street.\"\\nDescribing the crash as \"horrific\" Det Insp Gordon Wallace, said: \"The family are devastated. The memory of this senseless death will be with them each time they leave their home.\\n\"The driver fled the scene abandoning the grey Audi, which was extensively damaged.\\n\"We are looking to speak to Mr Nathan Davis in relation to this collision.\"\\nThe 51-year-old man injured at the bus stop remains in a critical condition in hospital while the condition of the 29-year-old driver of the Volkswagen is now stable.', 'summary': 'A man with links to a car that was involved in a fatal bus stop crash in south London is being sought by police.', 'id': '20836172', 'model_output': '\\nVeronica Vanessa Chango-Alverez, a 31-year-old originally from Ecuador who had lived in London for 13 years, was killed and a 51-year-old man critically injured when a speeding Audi A3 hit them at a Streatham bus stop around 5:30am on Saturday. The Audi had collided with a Volkswagen Passat tree in Croydon just 10 minutes prior. Police are seeking 27-year-old Nathan Davis in connection with the abandoned Audi. Chango-Alverez, who was heading to her job at a hotel, died from multiple injuries according to a post-mortem examination. She had been staying at her mother\\'s home in Streatham High Road at the time. Her brother, Kevin Raul Chango-Alverez, said in a statement that his family\\'s \"heart has been torn out\" and that they will \"never be the same again\" after this \"horrific\" crash that occurred at Christmas time. No arrests have been made yet. The damaged bus stop was removed and flowers were left there in tribute. Describing the crash as \"senseless,\" Detective Inspector Gordon Wallace said the family was \"devastated\" and that \"the memory of this senseless death will be with them each time they leave their home.\" The 51-year-old man who was injured at the bus stop where the Volkswagen Passat crashed remains in critical condition at the hospital, while the condition of the 29-year-old driver of the Volkswagen has now stabilized.\\n'}, {'document': 'Belgian cyclist Demoitie died after a collision with a motorbike during Belgium\\'s Gent-Wevelgem race.\\nThe 25-year-old was hit by the motorbike after several riders came down in a crash as the race passed through northern France.\\n\"The main issues come when cars or motorbikes have to pass the peloton and pass riders,\" Team Sky\\'s Rowe said.\\n\"That is the fundamental issue we\\'re looking into.\\n\"There\\'s a lot of motorbikes in and around the race whether it be cameras for TV, photographers or police motorbikes.\\n\"In total there\\'s around 50 motorbikes that work on each race.\\n\"We\\'ve got a riders union and we\\'re coming together to think of a few ideas, whether we cap a speed limit on how fast they can overtake us.\\n\"Say we put a 10 kilometres per hour limit on it, if we\\'re going 50kph they\\'re only allowed to pass us 60kph or something like that.\"\\nDemoitie, who was riding for the Wanty-Gobert team, was taken to hospital in Lille but died later.\\nThe sport\\'s governing body, the UCI, said it would co-operate with all relevant authorities in an investigation into the incident.\\nThe Professional Cyclists\\' Association (CPA) issued a statement asking what would be done to improve safety.\\nDespite Demoitie\\'s death, attitudes to road racing will stay the same says Rowe, who has been competing in Three Days of De Panne race in Belgium.\\n\"As soon as that element of fear slips into your mind and you start thinking of things that could happen, that\\'s when you\\'re doomed to fail,\" he told BBC Wales Sport.\\n\"If you start thinking about crashes and the consequences and what could potentially happen then you\\'re never going to be at the front of the peloton and you\\'re never going to win any races.\"\\nIn a separate incident, another Belgian cyclist, Daan Myngheer, 22, died in hospital after suffering a heart attack during the first stage of the Criterium International in Corsica.', 'summary': 'Welsh cyclist Luke Rowe says changes to the sport must be made following the death of Antoine Demoitie.', 'id': '35932467', 'model_output': \"\\nThe professional cycling community was struck by tragedy in March 2016 when two young Belgian cyclists died in separate racing incidents just days apart. On March 28th, 25-year-old Antoine Demoitié was competing in Gent-Wevelgem, a prestigious one-day race in northern France, when he was struck from behind by a motorbike and fatally injured. The motorbike had gone down in a crash with other bikes during the race. Typically there are around 50 motorbikes that work races, including for TV cameras, photographers, and police. After the collision Demoitié was transported to a hospital but died of his injuries. The sport's governing body, the UCI, announced it would investigate the incident and cooperate fully.  \\n\\nDemoitié's death sparked immediate calls for improved safety measures during races. Riders are considering proposals like capping the maximum speed motorbikes can pass cyclists, such as only allowing them to go 10 km/hr faster than the riders themselves. The professional cyclists' association CPA asked race organizers what specifically would be done to enhance protections for the athletes and demanded action, asking the UCI what steps would be taken to improve safety.\\n\\nJust days prior, on March 24th, another 22-year-old Belgian cyclist, Daan Myngheer, died after suffering a fatal heart attack during the first stage of the Criterium International stage race in Corsica, France. There were also around 50 motorbikes working at this event.\\n\\nThe deaths highlighted the dangers posed by the large motorcycle presence at professional races. Still, some riders insist attitudes cannot change when it comes to risk - Luke Rowe stated that racers cannot let fear in or they will not succeed in this demanding sport. The cycling community continues to grieve the losses of the two young competitors while evaluating potential policy changes to improve safety going forward.\\n\"}, {'document': 'Gundogan, 26, told BBC Sport he \"can see the finishing line\" after tearing cruciate knee ligaments in December, but will not rush his return.\\nThe German missed the 2014 World Cup following back surgery that kept him out for a year, and sat out Euro 2016 because of a dislocated kneecap.\\nHe said: \"It is heavy mentally to accept that.\"\\nGundogan will not be fit for the start of the Premier League season at Brighton on 12 August but said his recovery time is now being measured in \"weeks\" rather than months.\\nHe told BBC Sport: \"It is really hard always to fall and fight your way back. You feel good and feel ready, then you get the next kick.\\n\"The worst part is behind me now. I want to feel ready when I am fully back. I want to feel safe and confident. I don\\'t mind if it is two weeks or six.\"\\nGundogan made 15 appearances and scored five goals in his debut season for City following his £20m move from Borussia Dortmund.\\nHe is eager to get on the field again and was impressed at the club\\'s 4-1 win over Real Madrid in a pre-season game in Los Angeles on Wednesday.\\nManager Pep Guardiola has made five new signings already this summer and continues to have an interest in Arsenal forward Alexis Sanchez and Monaco\\'s Kylian Mbappe.\\nGundogan said: \"Optimism for the season is big. It is huge, definitely.\\n\"We felt that last year as well but it was a completely new experience for all of us. We know the Premier League a bit more now and can\\'t wait for the season to start.\"\\nCity complete their three-match tour of the United States against Tottenham in Nashville on Saturday.\\nChelsea manager Antonio Conte said earlier this week he did not feel Tottenham were judged by the same standards as his own side, City and Manchester United.\\nSpurs have had the advantage in their recent meetings with City, winning three and drawing one of their last four Premier League games.\\nAnd Gundogan thinks they are a major threat.\\nHe said: \"Tottenham are a great team. They have the style of football. They have young English players. Our experience last season shows it is really tough to beat them.\\n\"They are really uncomfortable to play against.\\n\"I am pretty sure, even if they will not say it loud, the people who know the Premier League know Tottenham are definitely a competitor for the title.\"', 'summary': 'Manchester City midfielder Ilkay Gundogan says it has been mentally tough to overcome a third major injury.', 'id': '40758845', 'model_output': \"\\nManchester City midfielder Ilkay Gundogan tore knee ligaments in December 2016 and says he is close to returning from injury but will not rush it, having previously missed major tournaments like the 2014 World Cup and Euro 2016 due to injuries. He says mentally it is hard to keep coming back from injuries and wants to feel confident and safe when he returns. Gundogan joined Man City last season for £20m but was limited to 15 appearances and 5 goals due to injury. He was impressed by Man City's 4-1 preseason win over Real Madrid, as manager Pep Guardiola has been busy signing new players like Alexis Sanchez. Gundogan is optimistic for the new season as the team now has more Premier League experience. Man City play Tottenham on Saturday to finish their US preseason tour. Chelsea manager Antonio Conte said this week that Spurs are not judged by the same standards as Chelsea, Man City and Man United. Spurs have had the advantage in recent meetings with Man City, winning 3 and drawing 1 of their last 4 league games. Gundogan says Spurs play great football with young English players and sees them as title competitors, even if they won't say it themselves. Now Gundogan is set to miss the start of the upcoming 2017-18 Premier League season on August 12th as he continues his recovery from the knee injury suffered in December 2016. Despite making just 15 appearances and scoring 5 goals in his debut season for Man City in 2016-17, Gundogan remains optimistic about the new campaign, especially after City's impressive 4-1 preseason win over Real Madrid. Looking ahead to their Premier League opener against Tottenham, Gundogan acknowledged Spurs will be difficult opponents, noting that they have a crop of talented young English players and have been in strong form recently, winning 3 and drawing 1 of their last 4 league matches against City. Even with injury troubles, Gundogan is hopeful he can contribute to Manchester City's quest for silverware this season.\\n\"}, {'document': 'The crash happened about 07:20 GMT at the junction of the A127 and Progress Road in Leigh-on-Sea, Essex.\\nThe man, who police said is aged in his 20s, was treated at the scene for a head injury and suspected multiple fractures, the ambulance service said.\\nHe was airlifted to the Royal London Hospital for further treatment.\\nThe Southend-bound carriageway of the A127 was closed for about six hours while police conducted their initial inquiries.\\nA spokeswoman for Essex Police said it was not possible comment to further as this time as the \"investigation is now being conducted by the IPCC\".', 'summary': 'A jogger has been hit by an unmarked police car responding to an emergency call, leaving him with \"serious life-changing injuries\".', 'id': '30358490', 'model_output': '\\nOn the morning of Tuesday [date] at approximately 7:20am GMT, a serious traffic accident occurred at the junction of the A127 and Progress Road in Leigh-on-Sea, Essex. A man in his 20s sustained significant injuries when he was struck by a police car at the junction. The injured man was treated at the scene by paramedics for a head injury and suspected multiple fractures before being airlifted to the Royal London Hospital for further urgent treatment. The southbound carriageway of the A127 was closed for approximately six hours following the collision to allow police to conduct initial inquiries and accident investigation work at the scene. The road closure caused significant disruption to morning rush hour traffic in the area. The investigation into the circumstances surrounding the crash has now been handed over from Essex Police to the Independent Police Complaints Commission (IPCC) as standard practice when injuries are caused by police vehicles. The IPCC will work to establish the exact sequence of events leading up to the collision at the A127 junction.\\n'}, {'document': \"23 October 2015 Last updated at 17:44 BST\\nIt's the highest rating a tropical storm can get and is the first one of this magnitude to hit mainland Mexico since 1959.\\nBut how are the categories decided and what do they mean? Newsround reporter Jenny Lawrence explains.\", 'summary': 'Hurricane Patricia has been rated as a category 5 storm.', 'id': '34615665', 'model_output': 'In October 2015, a Category 5 hurricane made landfall in Mexico. This marked the first time since 1959 that a Category 5 storm had directly impacted the Mexican mainland. The hurricane was rated Category 5 on the Saffir-Simpson scale, which is used to classify Atlantic storms based on maximum sustained wind speed. Category 5 is the highest rating on this scale, reserved for storms with winds of 157 mph or greater. When this Category 5 hurricane hit Mexico in October 2015, it brought intense winds, heavy rain, and flooding to coastal regions. The storm was the first of its magnitude to directly strike mainland Mexico in over 50 years. Prior to this, the last Category 5 hurricane to impact Mexico struck in 1959. Overall, this October 2015 storm was historic as the first Category 5 hurricane to make landfall in Mexico since 1959, bringing destructive winds, rain and flooding.'}, {'document': 'Weaknesses in the way mice swapped data with computers left them vulnerable, said security firm Bastille Networks.\\nAttackers could spoof poorly protected signals letting them use PCs as if they were sitting in front of them, it said.\\nInformation about the loopholes have been passed to the makers of vulnerable mice, some of who are creating updates to make the mice more secure.\\nThe radio signals sent by many wireless mice to a \"dongle\" plugged in to a computer were often unencrypted, said Marc Newlin and Balint Seeber, from Bastille, who carried out the research.\\n\"That makes it possible for the attacker to send unencrypted traffic to the dongle pretending to be a keyboard and have it result as keystrokes on your computer,\" Mr Newlin said.\\nBy contrast, they said, signals sent by wireless keyboards were scrambled to stop attackers eavesdropping on or spoofing them.\\nThe pair found they could spoof signals for mice using a few lines of code and an antenna and dongle that cost $20 (Â£15).\\nThe attack worked at distances of up to 180m (590ft).\\nUsing this kit, they sent specially crafted mouse clicks that a computer interpreted as key presses, letting them run commands and take control of a target machine.\\nThe Bastille researchers said many companies spent a lot of time and money securing the physical devices sitting on their networks but often neglected to keep an eye on data sent via radio.\\nWireless mice produced by HP, Lenovo, Amazon and Dell were found to be vulnerable.\\nBastille said it had reported its findings to the hardware makers and to the company that made the chipset used inside the spoofable mice.\\nUpdates to the internal computer code, or firmware, for some of the vulnerable mice are now being made available,\\nBut Bastille said many of the insecure mice it had found could not be updated.', 'summary': 'Hackers could gain access to home and corporate networks via security flaws in wireless mice, suggests research.', 'id': '35890902', 'model_output': 'Researchers from security firm Bastille Networks discovered serious vulnerabilities in wireless mice that could allow attackers to remotely take control of computers. The radio signals sent between mice and USB dongles were often unencrypted or used weak encryption. Attackers within 180 meters could intercept these signals using just $20 of equipment. By spoofing the mouse\\'s movements, attackers could remotely send malicious clicks and keystrokes to the target computer, potentially running commands and installing malware. \\n\\nThe vulnerabilities affected wireless mice from major manufacturers including HP, Lenovo, Amazon and Dell. The root issue was poor encryption of the wireless signals between mice and dongles. The researchers found that the mice fail to implement encryption, authentication or frequency hopping, leaving them open to relatively simple spoofing attacks. Bastille responsibly disclosed the flaws to the affected vendors. Some companies like HP and Lenovo have released firmware updates to address the problems. However, many vulnerable mice cannot be patched since they lack firmware upgrade capabilities.\\n\\nBastille recommends that wireless mouse users switch to more secure models that encrypt signals between devices. For high security settings, wired mice may be preferable. Since millions of wireless mice are affected globally, Bastille warns that the flaws could be exploited for widespread \"mousejacking\" attacks. They advise consumers and organizations to check their wireless mice models and apply any available firmware updates as soon as possible. Vendors are releasing firmware updates for some vulnerable models, but many existing wireless mice cannot be patched. Users should check with manufacturers to determine if their devices are susceptible and can be updated. Otherwise, the only option may be to replace wireless mice that could be exploited in this manner. The research highlights the privacy and security risks of unencrypted wireless peripherals.'}, {'document': 'Administrators confirmed the redundancies affecting 38 staff at Galashiels-based Murray and Burrell.\\nThe business, established in 1928, went into administration last week citing \"adverse trading conditions\".\\nThere are hopes some of the workers affected could find posts at another building firm in nearby Melrose which currently requires staff.\\nThomson Cooper partner Richard Gardiner was appointed as administrator at Murray and Burrell on Monday.\\nA statement confirmed: \"Directors explored all options in an effort to preserve trading and jobs.\\n\"Regrettably, 38 jobs were lost as there is no prospect of continuing to trade.\"\\nSouth of Scotland MSP Rachael Hamilton described it as a \"sad day for the Borders\".\\nHowever, some of the workers laid off could find employment with a Melrose-based company.\\nJS Crawford has said that, with several housing projects on its books, it needs staff.', 'summary': 'Dozens of jobs have been lost after efforts to save an historic building firm in the Scottish Borders failed.', 'id': '37922330', 'model_output': \"\\nMurray and Burrell, a Galashiels-based building firm established in 1928, went into administration last week citing adverse trading conditions. On Monday, Thomson Cooper partner Richard Gardiner was appointed administrator of the company. A statement from the administrators confirmed that the directors had explored all options to preserve trading and jobs, but there was no prospect of continuing operations. As a result, 38 redundancies were confirmed for the company's staff. South of Scotland MSP Rachael Hamilton described this as a sad day for the Borders region. However, there are hopes that some of the affected workers could find new posts at the nearby Melrose building firm JS Crawford, which is in need of staff for its housing projects. So while the closure of the decades-old Murray and Burrell is certainly disappointing news, the job losses may be partially offset by employment opportunities just down the road at JS Crawford. No other businesses were mentioned as having potential job opportunities for the redundant Murray and Burrell employees.\\n\"}, {'document': 'The EC\\'s doubts about the arrangement were detailed in a document on Friday.\\nThe EC said that its \"preliminary view is that the tax ruling... by Luxembourg in favour of Amazon constitutes state aid.\"\\nHowever, Amazon said it \"has received no special tax treatment from Luxembourg\".\\n\"We are subject to the same tax laws as other companies operating here [in Luxembourg],\" it said.\\nThe Luxembourg finance ministry said: \"Luxembourg is confident that the state aid allegations in this case are without merit and will be able to convince the Commission of the legitimacy of the anticipatory decision in question and that no competitive advantage was granted,\" it said.\\nThe European Commission began a probe of the tax arrangement last year, saying that it had suspicions it broke EU rules.\\nThe Commission document, which was sent to the Luxembourg Ministry of Foreign Affairs in October, gives its rationale for launching the investigation.\\nThe Commission said it had \"no indication\" that the tax arrangement was \"compatible with the internal market\".\\nThe current European Commission chief, Jean-Claude Juncker, was prime minister of Luxembourg when the deal was struck.\\nMr Juncker has come under pressure over claims that around 340 global companies were granted tax  avoidance deals during his 18 year tenure in Luxembourg.\\nCommission doubts over the Amazon deal included whether Luxembourg had properly looked into Amazon\\'s \"transfer pricing\" proposals about how money would be moved between different Amazon subsidiaries.\\nDoubts also existed about whether the country had assessed that the proposed tax regime was in line with market conditions before agreeing the deal in 2003, the European Commission document said.\\nThe Commission also had questions about how royalty payments between certain Amazon companies were calculated, and whether \"Amazon has a financial incentive to exaggerate the amount of the royalty\" between its Luxembourg head office company and an Amazon firm that holds shares in the head office company.\\n\"If the royalty is exaggerated, it would unduly reduce the tax paid by Amazon in Luxembourg by shifting profits to an untaxed entity from the perspective of corporate taxation,\" the EC said.\\nIt added that Luxembourg might have been too hasty in assessing Amazon\\'s requested arrangement before striking the deal.\\nLuxembourg\\'s finance ministry said it \"has provided all the information required by the Commission and cooperated fully with the Commission in its investigation.\"\\n\"Among other things, detailed reports on the transfer price requested by the Commission were disclosed,\" it added.\\nLuxembourg is also being investigated by the Commission over suspected \"sweetheart\" tax deals with the financing arm of carmaker Fiat.\\nIn addition, Ireland\\'s tax deal with Apple and the Netherlands\\' arrangement with Starbucks are being scrutinised as part of a crackdown on multinationals\\' tax avoidance schemes.', 'summary': 'The European Commission has disclosed a preliminary finding that Amazon\\'s tax arrangements in Luxembourg probably constitute \"state aid\".', 'id': '30844962', 'model_output': \"The European Commission has doubts about a tax arrangement between Amazon and Luxembourg dating back to 2003, believing it constitutes illegal state aid that gave Amazon an unfair advantage. Specifically, the EC questioned how royalty payments were calculated between certain Amazon companies. The deal allowed Amazon to shift profits to an untaxed Luxembourg entity through transfer pricing mechanisms between subsidiaries, reducing the tax it paid in Luxembourg. The EC began investigating in 2014, suspecting the arrangement broke EU rules. It sent a document to Luxembourg in October 2014 explaining its rationale, saying it had no indication the deal was compatible with EU internal market rules. Luxembourg's prime minister when the arrangement was approved in 2003 was Jean-Claude Juncker, now the EC chief. He is under pressure over claims 340 global companies got tax avoidance deals during his Luxembourg tenure, though specifics on these deals are not provided.  \\n\\nAmazon contends it has received no special tax treatment in Luxembourg and is subject to the same laws as other companies. Luxembourg's finance ministry also denies the allegations, saying it disclosed detailed transfer pricing reports about the arrangement that the EC had requested and will defend the legitimacy of its anticipatory decision approving the 2003 deal. The EC is also probing Fiat's tax deal with Luxembourg, plus Starbucks/Netherlands and Apple/Ireland deals, though no details on these arrangements are given.\"}, {'document': 'The three-day extravaganza of farming, food and family fun celebrates many aspects of agricultural life.\\nThe Balmoral Show is run by the Royal Ulster Agricultural Society (RUAS) and dates back 148 years.\\nLast year, it attracted more than 90,000 visitors to its recently-adopted home outside Lisburn in County Antrim.\\nIt was traditionally staged at the RUAS\\'s headquarters in south Belfast, but the show moved to a larger venue on the site of the former Maze prison in 2013.\\nThe Maze venue, re-named Balmoral Park, is now hosting the show for the fourth consecutive year.\\nThe 2016 event coincides with Northern Ireland\\'s Year of Food and Drink, and local produce features prominently in the exhibitions.\\nOne of this year\\'s highlights is an \"edible garden\", in which visitors can see their food growing in the ground before it gets to their plates.\\nThe aim of the garden is to encourage people to grow their own food at home.\\nThe event will also showcase the best of local livestock, with prized pigs, cattle, poultry and ponies all lining up in bid to be the stars of the show.\\nTheir owners will also get a chance to shine, with horse riding and show jumping displays along with sheep shearing competitions and awards for the best livestock breeders and handlers.\\nFor younger visitors, there is a family fun area hosting displays from the Northern Ireland School of Falconry as well as a gun dog skills demonstration and a performance from balloon artist Bruce Airhead.\\nBBC News NI are covering the event live on social media on Wednesday on Twitter at @BBCNewsNI, on Snapchat at bbcnewsni, and on BBC Newsline\\'s Facebook page.', 'summary': \"The most important event in Northern Ireland's agricultural calendar - the Balmoral Show - has opened with thousands of people attending.\", 'id': '36217333', 'model_output': 'The 148th annual Balmoral Show took place over 3 days at Balmoral Park near Lisburn, celebrating Northern Ireland\\'s farming, food, and family entertainment. Run by the Royal Ulster Agricultural Society (RUAS) since 1868, the show moved from its long-time home in Belfast to the new venue in 2013. This year\\'s event coincided with Northern Ireland\\'s Year of Food and Drink, so there was special emphasis on promoting local agriculture and cuisine. An \"edible garden\" enabled visitors to see vegetables and herbs growing before sampling them, encouraging home cultivation. Livestock competitions featured prize-winning pigs, cattle, poultry, and ponies. Equestrian displays included horse riding and show jumping, while sheep shearing contests and breeder/handler awards rounded out the agricultural competitions. The family entertainment area offered falconry displays by the NI School of Falconry, gun dog skills demonstrations, balloon art, and more. BBC News Northern Ireland covered the event live on social media including Twitter, Snapchat, and Facebook on the Wednesday of the 3-day show. Though attendance numbers were not provided, last year\\'s event attracted over 90,000 visitors, indicating this was a major agricultural event for Northern Ireland. Overall, the 2016 Balmoral Show upheld its long tradition of showcasing the best of Northern Irish farming, food, and rural family fun over the course of three days at the Maze/Balmoral Park venue where it has been held since 2013.'}, {'document': 'Mr Mosley wants Google to block photos of him at a sex party first printed in the now-defunct News of the World, which he successfully sued in 2008.\\nHe is suing the internet firm for breaches of the Data Protection Act and misusing private information.\\nGoogle\\'s barrister argued that Mr Mosley no longer has a \"reasonable expectation of privacy\".\\nMr Mosley won damages from the News of the World after it published a story alleging he had organised a Nazi-themed orgy.\\nPhotographs and a video which show his private sexual activity were originally obtained by News Group Newspapers Limited (NGN) in a clandestine \"sting\" operation.\\nMr Mosley - the son of 1930s fascist leader Sir Oswald Mosley - won Â£60,000 after a judge ruled there was no substance to the allegation that there had been a Nazi theme to the sex party and found that his privacy had been breached.\\nIn that ruling, the High Court also said the article was not in the public interest.\\nMr Mosley has said the role-play at a rented Chelsea basement flat was harmless, consensual and private.\\nOn launching his legal action last year, Mr Mosley urged: \"Google should operate within the law rather than according to rules it makes itself. It cannot be allowed to ignore judgements in our courts.\"\\nGoogle has said it will remove URLs that it is alerted to, but is not prepared to remove the images entirely from its search engines.\\nIn court on Wednesday, Google\\'s barrister Antony White QC for Google conceded that it was technically possible to remove the images and was \"not burdensome\" to do so.\\nHowever, he argued that Google was not the publisher of the private information, and that Mr Mosley no longer had a reasonable expectation of privacy in relation to the images.\\nOn that basis, Google will seek to show that Mr Mosley\\'s claim is unfounded.\\nThe hearing is due to conclude on Thursday.', 'summary': 'Google has asked the High Court to throw out legal action being taken by ex-Formula 1 boss Max Mosley.', 'id': '30816523', 'model_output': \"\\nMax Mosley, former head of Formula One's governing body, is suing Google in the High Court to force the search engine to block photos of him engaged in a sadomasochistic sex party that were originally published by the now defunct News of the World tabloid in 2008. The photos and video were obtained by the newspaper through a covert sting operation and showed Mr. Mosley participating in sexual role play with five women. Though the News of the World story alleged the party had a Nazi theme, Mr. Mosley argued it was simply harmless, consensual role play and he sued the newspaper for breach of privacy. He won £60,000 in damages after a judge ruled there was no Nazi element and that his privacy had been violated since the activity was private. Mr. Mosley has urged Google to abide by that court ruling from 2008 and not ignore his right to privacy. Google has refused to completely remove search results related to the images but does remove specific URLs when notified they contain the private content. Google's lawyer conceded it would be technically possible and not burdensome for the company to block the images more comprehensively but argues Google is not the publisher and Mr. Mosley has lost any reasonable expectation of privacy regarding the images since they are already in the public domain. Mr. Mosley's lawsuit alleges Google's refusal to block the search results breaches data protection laws and misuses private information. Google denies this claim is valid and the High Court hearing concluded on Thursday.\\n\"}, {'document': 'The Bath-born player, 28, has made 36 appearances for the Dragons since joining from Wasps in 2015.\\nHe is in his second season and signed a contract extension in December 2016.\\nDragons forwards coach Ceri Jones said: \"It\\'s a big blow. Eddie has been excellent all year for us, he has really stepped up to the mark and will be a big loss.\"\\nHowever, Jones says Jackson\\'s misfortune can be a chance for others to thrive.\\n\"We are very fortunate to have the likes of Ollie Griffiths, Harrison Keddie, James Thomas who can come into the back-row,\" said Jackson.\\n\"Harri has shown glimpses of what he can do all season and there\\'s definitely a player there, so this is an opportunity.\"\\nDragons travel to Munster in the Pro12 on Friday.', 'summary': 'Newport Gwent Dragons number eight Ed Jackson has undergone shoulder surgery and faces a spell on the sidelines.', 'id': '38900884', 'model_output': \"Eddie Jackson, who has made 36 appearances for the Dragons since joining the Welsh club from Wasps in 2015, suffered a season-ending shoulder injury. The veteran lock signed a contract extension with the Dragons in December 2016, though terms were not disclosed. Prior to his injury this season, no statistics were provided on Jackson's performance. The Dragons' current standing in the Pro12 table was also not mentioned. Besides Jackson, no other injury situation was noted for the Dragons. Meanwhile, young flanker Harrison Keddie has shown glimpses of potential all season according to coach Ceri Jones, though no details were provided on Keddie's playing history or stats with the club. Jones specifically highlighted Keddie, saying the young back rower has real potential. While the loss of Jackson is difficult, his injury opens the door for Keddie and others like Ollie Griffiths and James Thomas. The Dragons' next match is away against Munster in the Pro12 league this Friday. With no information on the team's position in the Pro12 or key players for their next opponent Munster, it's hard to fully assess how Jackson's absence will impact the squad moving forward. Still, Keddie's emergence provides a bright spot for the club.\"}, {'document': 'The announcement ends months of uncertainty for Cornish Language Partnership staff whose contracts had been due to end.\\nLocal government minister Andrew Stunnell said the three-year funding package for the service would help make sure the language survived.\\nBut he warned that long term funding should come from Cornwall.\\nHe said it was \"important to make sure the Cornish were given the opportunity to put down sound foundations.\"\\n\"In the longer term support for the Cornish language is going to be something which is going to have to be based in Cornwall and will not come from London,\" he added.\\nThe Cornish Language Partnership\\'s, Jennifer Lowe, said: \"We can now plan for the future thanks to the funding.\"\\nThe United Nations recently upgraded the status of the Cornish language from \"extinct\" to \"critically endangered\".\\nIt is thought fewer than 500 people worldwide are fluent in the language.', 'summary': 'The government is spending nearly £400,000 to help save the Cornish language.', 'id': '13890581', 'model_output': 'The announcement of a three-year funding package for the Cornish Language Partnership ends months of uncertainty for the service\\'s staff, whose contracts had been due to expire. Local government minister Andrew Stunnell said the new funding will help ensure the survival of the Cornish language. However, he warned that long-term funding should come from Cornwall itself, not central government. Jennifer Lowe of the Cornish Language Partnership welcomed the news, saying it allows them to plan ahead for the future of the language. The funding comes after the United Nations recently changed the status of Cornish from \"extinct\" to \"critically endangered.\" It is estimated that fewer than 500 people worldwide are fluent in Cornish. The new funding allows the Partnership to continue its work to preserve and promote the language over the next three years. However, the minister cautioned that Cornwall needs to develop its own long-term funding plan, as central government support is only temporary. The staff are relieved that their jobs are secured for now, but the future of the language remains uncertain without a permanent funding solution from within Cornwall.'}, {'document': 'Jardim, in charge since 2014, described the last three years at the club as \"exceptional\".\\nMonaco finished eight points ahead of nearest rivals Paris St-Germain to be crowned champions of France in 2016-17.\\n\"I feel part of AS Monaco and the principality,\" said Portuguese Jardim, the former Olympiakos boss.\\nMonaco also beat Tottenham and Manchester City on their way to reaching the semi-finals of the Champions League during 2016-17, before losing to Juventus 4-1 on aggregate in the semi-finals.\\nMonaco vice-president Vadim Vasilyev said Jardim had received offers to coach elsewhere.\\n\"He is one of the best coaches in European football and despite other offers he has chosen to continue the adventure at Monaco, which demonstrates our ambition,\" added Vasilyev.', 'summary': 'Monaco boss Leonardo Jardim has been rewarded for steering the club to their first Ligue 1 title for 17 years with a new contract until 2020.', 'id': '40194700', 'model_output': 'Leonardo Jardim has been the manager of AS Monaco since 2014. During his time at the club, Jardim has overseen what he described as three \"exceptional\" seasons. In 2016-17, Monaco finished eight points ahead of rivals Paris St-Germain to win the French Ligue 1 title. That same season, Monaco reached the semi-finals of the Champions League, beating Tottenham Hotspur and Manchester City along the way before losing 4-1 on aggregate to Juventus. Jardim said he feels a part of both AS Monaco and the principality itself. The former Olympiakos boss was offered coaching positions at other clubs, according to Monaco\\'s vice-president Vadim Vasilyev, who called Jardim one of the best coaches in European football. However, despite outside interest, Jardim chose to stay at Monaco, showing the club\\'s ambition and desire to build on recent successes under his management. Under Jardim\\'s leadership, Monaco enjoyed great success in the 2016-17 season, most notably finishing a remarkable eight points ahead of perennial powerhouse PSG to claim the French Ligue 1 title. Jardim\\'s Monaco also reached the semi-finals of the Champions League before losing 4-1 on aggregate to Juventus. Despite interest from other clubs following this successful season, Jardim chose to stay at Monaco, saying \"I feel part of AS Monaco and the principality.\" His decision to continue at Monaco rather than pursue offers elsewhere demonstrated his commitment to the club and belief in their ambitious project. By winning Ligue 1 and reaching the Champions League semi-finals, Jardim showed he could build a team capable of competing with Europe\\'s elite clubs. His loyalty in the face of outside interest proved his connection to Monaco and desire to achieve even more with the club.'}]\n"
     ]
    }
   ],
   "source": [
    "dataset = \"xsum_sample.jsonl\"\n",
    "model_output_auto_refine = get_summary(dataset, sum_type=\"auto_refine\", func=generate_single_doc_summary)\n",
    "print(model_output_auto_refine)"
   ]
  },
  {
   "cell_type": "markdown",
   "id": "0f27c4a3-93ab-46a3-b5c7-c477ad7c1181",
   "metadata": {},
   "source": [
    "### Multi-Doc Summary"
   ]
  },
  {
   "cell_type": "code",
   "execution_count": 10,
   "id": "bbe123a0-5ad6-467d-b8d2-042cfdf6745c",
   "metadata": {
    "collapsed": true,
    "jupyter": {
     "outputs_hidden": true
    },
    "tags": []
   },
   "outputs": [
    {
     "name": "stdout",
     "output_type": "stream",
     "text": [
      "[{'document': 'The full cost of damage in Newton Stewart, one of the areas worst affected, is still being assessed.\\nRepair work is ongoing in Hawick and many roads in Peeblesshire remain badly affected by standing water.\\nTrains on the west coast mainline face disruption due to damage at the Lamington Viaduct.\\nMany businesses and householders were affected by flooding in Newton Stewart after the River Cree overflowed into the town.\\nFirst Minister Nicola Sturgeon visited the area to inspect the damage.\\nThe waters breached a retaining wall, flooding many commercial properties on Victoria Street - the main shopping thoroughfare.\\nJeanette Tate, who owns the Cinnamon Cafe which was badly affected, said she could not fault the multi-agency response once the flood hit.\\nHowever, she said more preventative work could have been carried out to ensure the retaining wall did not fail.\\n\"It is difficult but I do think there is so much publicity for Dumfries and the Nith - and I totally appreciate that - but it is almost like we\\'re neglected or forgotten,\" she said.\\n\"That may not be true but it is perhaps my perspective over the last few days.\\n\"Why were you not ready to help us a bit more when the warning and the alarm alerts had gone out?\"\\nMeanwhile, a flood alert remains in place across the Borders because of the constant rain.\\nPeebles was badly hit by problems, sparking calls to introduce more defences in the area.\\nScottish Borders Council has put a list on its website of the roads worst affected and drivers have been urged not to ignore closure signs.\\nThe Labour Party\\'s deputy Scottish leader Alex Rowley was in Hawick on Monday to see the situation first hand.\\nHe said it was important to get the flood protection plan right but backed calls to speed up the process.\\n\"I was quite taken aback by the amount of damage that has been done,\" he said.\\n\"Obviously it is heart-breaking for people who have been forced out of their homes and the impact on businesses.\"\\nHe said it was important that \"immediate steps\" were taken to protect the areas most vulnerable and a clear timetable put in place for flood prevention plans.\\nHave you been affected by flooding in Dumfries and Galloway or the Borders? Tell us about your experience of the situation and how it was handled. Email us on selkirk.news@bbc.co.uk or dumfries@bbc.co.uk.', 'summary': 'Clean-up operations are continuing across the Scottish Borders and Dumfries and Galloway after flooding caused by Storm Frank.', 'id': '35232142', 'model_output': 'Severe flooding has impacted communities across southern Scotland, causing damage and disruption. The worst affected areas include Newton Stewart in Dumfries and Galloway, Hawick in the Scottish Borders, and Peeblesshire. \\nIn Newton Stewart, the River Cree overflowed, leading to flooding on Victoria Street where a retaining wall was breached. This affected many businesses and properties, with the owner of the Cinnamon Cafe saying more could have been done to protect the wall. First Minister Nicola Sturgeon visited to inspect the damage.\\nFlooding remains an issue in Hawick where repair work is ongoing. The Scottish Borders has also been heavily impacted, especially in Peebles which has renewed calls for improved defenses. Roads across the region continue to be affected by flood waters. \\nThe floods have also caused disruption to train services on the west coast mainline due to damage at the Lamington Viaduct. With more rain forecast, a flood alert remains active across the Scottish Borders. \\nOverall, communities across southern Scotland are dealing with the aftermath of severe flooding which has caused damage and disruption across the region. Recovery and repair efforts are underway but the full extent of the impact is still being assessed.'}, {'document': 'A fire alarm went off at the Holiday Inn in Hope Street at about 04:20 BST on Saturday and guests were asked to leave the hotel.\\nAs they gathered outside they saw the two buses, parked side-by-side in the car park, engulfed by flames.\\nOne of the tour groups is from Germany, the other from China and Taiwan. It was their first night in Northern Ireland.\\nThe driver of one of the buses said many of the passengers had left personal belongings on board and these had been destroyed.\\nBoth groups have organised replacement coaches and will begin their tour of the north coast later than they had planned.\\nPolice have appealed for information about the attack.\\nInsp David Gibson said: \"It appears as though the fire started under one of the buses before spreading to the second.\\n\"While the exact cause is still under investigation, it is thought that the fire was started deliberately.\"', 'summary': 'Two tourist buses have been destroyed by fire in a suspected arson attack in Belfast city centre.', 'id': '40143035', 'model_output': \"Early Saturday morning around 4:20am, a fire alarm went off at the Holiday Inn in Hope Street. Guests were evacuated from the hotel and saw two tour buses on fire in the parking lot. One bus was transporting a tour group from Germany and the other a group from China and Taiwan. Both groups had just arrived in Northern Ireland the night before. The driver of one bus said passengers' personal belongings were destroyed. After the fire was put out, both groups got replacement buses to begin their north coast tours, though later than originally planned. Police are investigating the incident and believe the fire was deliberately set, starting under one bus before spreading to the second. Inspector David Gibson is appealing to the public for any information about the attack.\"}, {'document': 'Ferrari appeared in a position to challenge until the final laps, when the Mercedes stretched their legs to go half a second clear of the red cars.\\nSebastian Vettel will start third ahead of team-mate Kimi Raikkonen.\\nThe world champion subsequently escaped punishment for reversing in the pit lane, which could have seen him stripped of pole.\\nBut stewards only handed Hamilton a reprimand, after governing body the FIA said \"no clear instruction was given on where he should park\".\\nBelgian Stoffel Vandoorne out-qualified McLaren team-mate Jenson Button on his Formula 1 debut.\\nVandoorne was 12th and Button 14th, complaining of a handling imbalance on his final lap but admitting the newcomer \"did a good job and I didn\\'t\".\\nMercedes were wary of Ferrari\\'s pace before qualifying after Vettel and Raikkonen finished one-two in final practice, and their concerns appeared to be well founded as the red cars mixed it with the silver through most of qualifying.\\nAfter the first runs, Rosberg was ahead, with Vettel and Raikkonen splitting him from Hamilton, who made a mistake at the final corner on his first lap.\\nBut Hamilton saved his best for last, fastest in every sector of his final attempt, to beat Rosberg by just 0.077secs after the German had out-paced him throughout practice and in the first qualifying session.\\nVettel rued a mistake at the final corner on his last lap, but the truth is that with the gap at 0.517secs to Hamilton there was nothing he could have done.\\nThe gap suggests Mercedes are favourites for the race, even if Ferrari can be expected to push them.\\nVettel said: \"Last year we were very strong in the race and I think we are in good shape for tomorrow. We will try to give them a hard time.\"\\nVandoorne\\'s preparations for his grand prix debut were far from ideal - he only found out he was racing on Thursday when FIA doctors declared Fernando Alonso unfit because of a broken rib sustained in his huge crash at the first race of the season in Australia two weeks ago.\\nThe Belgian rookie had to fly overnight from Japan, where he had been testing in the Super Formula car he races there, and arrived in Bahrain only hours before first practice on Friday.\\nHe also had a difficult final practice, missing all but the final quarter of the session because of a water leak.\\nButton was quicker in the first qualifying session, but Vandoorne pipped him by 0.064secs when it mattered.\\nThe 24-year-old said: \"I knew after yesterday I had quite similar pace to Jenson and I knew if I improved a little bit I could maybe challenge him and even out-qualify him and that is what has happened.\\n\"Jenson is a very good benchmark for me because he is a world champion and he is well known to the team so I am very satisfied with the qualifying.\"\\nButton, who was 0.5secs quicker than Vandoorne in the first session, complained of oversteer on his final run in the second: \"Q1 was what I was expecting. Q2 he did a good job and I didn\\'t. Very, very good job. We knew how quick he was.\"\\nThe controversial new elimination qualifying system was retained for this race despite teams voting at the first race in Australia to go back to the 2015 system.\\nFIA president Jean Todt said earlier on Saturday that he \"felt it necessary to give new qualifying one more chance\", adding: \"We live in a world where there is too much over reaction.\"\\nThe system worked on the basis of mixing up the grid a little - Force India\\'s Sergio Perez ended up out of position in 18th place after the team miscalculated the timing of his final run, leaving him not enough time to complete it before the elimination clock timed him out.\\nBut it will come in for more criticism as a result of lack of track action at the end of each session. There were three minutes at the end of the first session with no cars on the circuit, and the end of the second session was a similar damp squib.\\nOnly one car - Nico Hulkenberg\\'s Force India - was out on the track with six minutes to go. The two Williams cars did go out in the final three minutes but were already through to Q3 and so nothing was at stake.\\nThe teams are meeting with Todt and F1 commercial boss Bernie Ecclestone on Sunday at noon local time to decide on what to do with qualifying for the rest of the season.\\nTodt said he was \"optimistic\" they would be able to reach unanimous agreement on a change.\\n\"We should listen to the people watching on TV,\" Rosberg said. \"If they are still unhappy, which I am sure they will be, we should change it.\"\\nRed Bull\\'s Daniel Ricciardo was fifth on the grid, ahead of the Williams cars of Valtteri Bottas and Felipe Massa and Force India\\'s Nico Hulkenberg.\\nRicciardo\\'s team-mate Daniil Kvyat was eliminated during the second session - way below the team\\'s expectation - and the Renault of Brit Jolyon Palmer only managed 19th fastest.\\nGerman Mercedes protege Pascal Wehrlein managed an excellent 16th in the Manor car.\\nBahrain GP qualifying results\\nBahrain GP coverage details', 'summary': 'Lewis Hamilton stormed to pole position at the Bahrain Grand Prix ahead of Mercedes team-mate Nico Rosberg.', 'id': '35951548', 'model_output': \"Lewis Hamilton took pole position for the Bahrain Grand Prix, beating Mercedes teammate Nico Rosberg by a narrow margin. Ferrari's Sebastian Vettel qualified third, while Kimi Raikkonen was fourth. Hamilton escaped punishment for reversing in the pit lane during practice. \\nMcLaren's rookie driver Stoffel Vandoorne impressed on his Formula 1 debut, qualifying 12th ahead of teammate Jenson Button in 14th. Vandoorne had to fly in from Japan at late notice to replace Fernando Alonso, who was ruled out due to injury.  \\nBefore qualifying, Mercedes expressed concern about Ferrari's pace. Vettel made a mistake on his final lap that likely cost him a shot at pole. Force India's Sergio Perez qualified a disappointing 18th after the team miscalculated the timing of his final run.\\nThe controversial new elimination qualifying format was retained despite objections from teams. There was a lack of on-track action at the end of Q1 and Q2. Teams are meeting with the FIA on Sunday to discuss the future of the qualifying format.\"}, {'document': 'John Edward Bates, formerly of Spalding, Lincolnshire, but now living in London, faces a total of 22 charges, including two counts of indecency with a child.\\nThe 67-year-old is accused of committing the offences between March 1972 and October 1989.\\nMr Bates denies all the charges.\\nGrace Hale, prosecuting, told the jury that the allegations of sexual abuse were made by made by four male complainants and related to when Mr Bates was a scout leader in South Lincolnshire and Cambridgeshire.\\n\"The defendant says nothing of that sort happened between himself and all these individuals. He says they are all fabricating their accounts and telling lies,\" said Mrs Hale.\\nThe prosecutor claimed Mr Bates invited one 15 year old to his home offering him the chance to look at cine films made at scout camps but then showed him pornographic films.\\nShe told the jury that the boy was then sexually abused leaving him confused and frightened.\\nMrs Hale said: \"The complainant\\'s recollection is that on a number of occasions sexual acts would happen with the defendant either in the defendant\\'s car or in his cottage.\"\\nShe told the jury a second boy was taken by Mr Bates for a weekend in London at the age of 13 or 14 and after visiting pubs he was later sexually abused.\\nMrs Hale said two boys from the Spalding group had also made complaints of being sexually abused.\\nThe jury has been told that Mr Bates was in the RAF before serving as a Lincolnshire Police officer between 1976 and 1983.\\nThe trial, which is expected to last two weeks, continues.', 'summary': 'A former Lincolnshire Police officer carried out a series of sex attacks on boys, a jury at Lincoln Crown Court was told.', 'id': '36266422', 'model_output': 'John Edward Bates, a 67-year-old former RAF member, Lincolnshire police officer, and scout leader, is on trial facing 22 charges including 2 counts of indecency with a child. The alleged offenses took place between 1972 and 1989 when Bates was a scout leader in South Lincolnshire and Cambridgeshire. He denies all charges. Prosecutor Grace Hale claims Bates invited a 15-year-old boy to his home and showed him pornographic films before sexually abusing him. She also alleges Bates sexually abused another 13 or 14-year-old boy during a weekend trip to London, and that 2 other boys from the Spalding scout group made complaints of abuse by Bates. The trial is expected to last 2 weeks.'}, {'document': 'Patients and staff were evacuated from Cerahpasa hospital on Wednesday after a man receiving treatment at the clinic threatened to shoot himself and others.\\nOfficers were deployed to negotiate with the man, a young police officer.\\nEarlier reports that the armed man had taken several people hostage proved incorrect.\\nThe chief consultant of Cerahpasa hospital, Zekayi Kutlubay, who was evacuated from the facility, said that there had been \"no hostage crises\", adding that the man was \"alone in the room\".\\nDr Kutlubay said that the man had been receiving psychiatric treatment for the past two years.\\nHe said that the hospital had previously submitted a report stating that the man should not be permitted to carry a gun.\\n\"His firearm was taken away,\" Dr Kutlubay said, adding that the gun in the officer\\'s possession on Wednesday was not his issued firearm.\\nThe incident comes amid tension in Istanbul following several attacks in crowded areas, including the deadly assault on the Reina nightclub on New Year\\'s Eve which left 39 people dead.', 'summary': 'An armed man who locked himself into a room at a psychiatric hospital in Istanbul has ended his threat to kill himself, Turkish media report.', 'id': '38826984', 'model_output': \"On Wednesday, patients and staff were evacuated from Cerahpasa hospital in Istanbul after a young police officer who was receiving psychiatric treatment threatened to shoot himself and others. Though initially feared to be a hostage situation, the chief consultant Dr. Zekayi Kutlubay confirmed the man was alone in the room and had no hostages. \\nThe officer had been receiving treatment at the hospital for 2 years, and the hospital had previously submitted a report stating he should not carry a firearm. The gun he had on Wednesday was not his service weapon. \\nThere has been increased tension in Istanbul following recent attacks in crowded areas, including the Reina nightclub attack on New Year's Eve last year that left 39 people dead.\"}, {'document': 'Simone Favaro got the crucial try with the last move of the game, following earlier touchdowns by Chris Fusaro, Zander Fagerson and Junior Bulumakau.\\nRynard Landman and Ashton Hewitt got a try in either half for the Dragons.\\nGlasgow showed far superior strength in depth as they took control of a messy match in the second period.\\nHome coach Gregor Townsend gave a debut to powerhouse Fijian-born Wallaby wing Taqele Naiyaravoro, and centre Alex Dunbar returned from long-term injury, while the Dragons gave first starts of the season to wing Aled Brew and hooker Elliot Dee.\\nGlasgow lost hooker Pat McArthur to an early shoulder injury but took advantage of their first pressure when Rory Clegg slotted over a penalty on 12 minutes.\\nIt took 24 minutes for a disjointed game to produce a try as Sarel Pretorius sniped from close range and Landman forced his way over for Jason Tovey to convert - although it was the lock\\'s last contribution as he departed with a chest injury shortly afterwards.\\nGlasgow struck back when Fusaro drove over from a rolling maul on 35 minutes for Clegg to convert.\\nBut the Dragons levelled at 10-10 before half-time when Naiyaravoro was yellow-carded for an aerial tackle on Brew and Tovey slotted the easy goal.\\nThe visitors could not make the most of their one-man advantage after the break as their error count cost them dearly.\\nIt was Glasgow\\'s bench experience that showed when Mike Blair\\'s break led to a short-range score from teenage prop Fagerson, converted by Clegg.\\nDebutant Favaro was the second home player to be sin-binned, on 63 minutes, but again the Warriors made light of it as replacement wing Bulumakau, a recruit from the Army, pounced to deftly hack through a bouncing ball for an opportunist try.\\nThe Dragons got back within striking range with some excellent combined handling putting Hewitt over unopposed after 72 minutes.\\nHowever, Favaro became sinner-turned-saint as he got on the end of another effective rolling maul to earn his side the extra point with the last move of the game, Clegg converting.\\nDragons director of rugby Lyn Jones said: \"We\\'re disappointed to have lost but our performance was a lot better [than against Leinster] and the game could have gone either way.\\n\"Unfortunately too many errors behind the scrum cost us a great deal, though from where we were a fortnight ago in Dublin our workrate and desire was excellent.\\n\"It was simply error count from individuals behind the scrum that cost us field position, it\\'s not rocket science - they were correct in how they played and we had a few errors, that was the difference.\"\\nGlasgow Warriors: Rory Hughes, Taqele Naiyaravoro, Alex Dunbar, Fraser Lyle, Lee Jones, Rory Clegg, Grayson Hart; Alex Allan, Pat MacArthur, Zander Fagerson, Rob Harley (capt), Scott Cummings, Hugh Blake, Chris Fusaro, Adam Ashe.\\nReplacements: Fergus Scott, Jerry Yanuyanutawa, Mike Cusack, Greg Peterson, Simone Favaro, Mike Blair, Gregor Hunter, Junior Bulumakau.\\nDragons: Carl Meyer, Ashton Hewitt, Ross Wardle, Adam Warren, Aled Brew, Jason Tovey, Sarel Pretorius; Boris Stankovich, Elliot Dee, Brok Harris, Nick Crosswell, Rynard Landman (capt), Lewis Evans, Nic Cudd, Ed Jackson.\\nReplacements: Rhys Buckley, Phil Price, Shaun Knight, Matthew Screech, Ollie Griffiths, Luc Jones, Charlie Davies, Nick Scott.', 'summary': 'Defending Pro12 champions Glasgow Warriors bagged a late bonus-point victory over the Dragons despite a host of absentees and two yellow cards.', 'id': '34540833', 'model_output': \"Glasgow Warriors defeated Dragons 27-17 in a rugby union match. Simone Favaro scored a crucial try for Glasgow Warriors in the final moments to seal the win. Chris Fusaro, Zander Fagerson, and Junior Bulumakau also scored tries for Glasgow Warriors. Rynard Landman and Ashton Hewitt scored tries for Dragons. Glasgow Warriors showed superior strength in depth in the second period as coach Gregor Townsend gave a debut to Taqele Naiyaravoro and Alex Dunbar returned from injury. Dragons gave first starts to Aled Brew and Elliot Dee. There were injuries on both sides - Pat McArthur injured his shoulder early for Glasgow Warriors while Rynard Landman left with a chest injury for Dragons. Chris Fusaro, Ashton Hewitt, Jason Tovey, Zander Fagerson, Simone Favaro, Junior Bulumakau, and Ashton Hewitt again all scored tries. Simone Favaro was sin-binned at one point for Glasgow Warriors. In the end, Glasgow Warriors' superior bench strength allowed them to pull away late for the 27-17 victory.\"}, {'document': 'Veronica Vanessa Chango-Alverez, 31, was killed and another man injured when an Audi A3 struck them in Streatham High Road at 05:30 GMT on Saturday.\\nTen minutes before the crash the car was in London Road, Croydon, when a Volkswagen Passat collided with a tree.\\nPolice want to trace Nathan Davis, 27, who they say has links to the Audi. The car was abandoned at the scene.\\nMs Chango-Alverez died from multiple injuries, a post-mortem examination found.\\nNo arrests have been made as yet, police said.\\nMs Chango-Alverez was staying at her mother\\'s home in Streatham High Road.\\nShe was born in Ecuador and had lived in London for 13 years, BBC London reporter Gareth Furby said. At the time of the crash, she was on her way to work in a hotel.\\nThe remains of the bus stop, which was extensively damaged in the crash, have been removed.\\nFlowers have been left at the site in tribute to the victim.\\nA statement from her brother Kevin Raul Chango-Alverez said: \"My family has had its heart torn out, at this Christmas time, we will never be the same again.\\n\"On Friday night we were together as a family with Veronica meeting her newly born nephew and preparing for Christmas.\\n\"I last saw her alive as she left to go to work on Saturday morning, but moments later I was holding her hand as she passed away in the street.\"\\nDescribing the crash as \"horrific\" Det Insp Gordon Wallace, said: \"The family are devastated. The memory of this senseless death will be with them each time they leave their home.\\n\"The driver fled the scene abandoning the grey Audi, which was extensively damaged.\\n\"We are looking to speak to Mr Nathan Davis in relation to this collision.\"\\nThe 51-year-old man injured at the bus stop remains in a critical condition in hospital while the condition of the 29-year-old driver of the Volkswagen is now stable.', 'summary': 'A man with links to a car that was involved in a fatal bus stop crash in south London is being sought by police.', 'id': '20836172', 'model_output': \"Veronica Vanessa Chango-Alverez, 31, was struck and killed by an Audi A3 in Streatham High Road, London at around 5:30am on Saturday. The Audi had been involved in a prior collision with a Volkswagen Passat in Croydon just 10 minutes earlier, which caused the Passat to hit a tree. Police would like to speak with 27-year-old Nathan Davis, who they say is linked to the Audi that was abandoned at the scene after hitting Chango-Alverez. A post-mortem examination found that Chango-Alverez died from multiple injuries. No arrests have been made yet. \\nChango-Alverez was staying at her mother's home in Streatham High Road at the time. She was born in Ecuador and had lived in London for 13 years. She was on her way to work at a hotel when she was struck. The damaged bus stop has been removed and flowers have been left at the crash site in her memory. \\nA 51-year-old man who was injured at the bus stop remains in critical condition, while the 29-year-old Passat driver is now in stable condition.\"}, {'document': 'Belgian cyclist Demoitie died after a collision with a motorbike during Belgium\\'s Gent-Wevelgem race.\\nThe 25-year-old was hit by the motorbike after several riders came down in a crash as the race passed through northern France.\\n\"The main issues come when cars or motorbikes have to pass the peloton and pass riders,\" Team Sky\\'s Rowe said.\\n\"That is the fundamental issue we\\'re looking into.\\n\"There\\'s a lot of motorbikes in and around the race whether it be cameras for TV, photographers or police motorbikes.\\n\"In total there\\'s around 50 motorbikes that work on each race.\\n\"We\\'ve got a riders union and we\\'re coming together to think of a few ideas, whether we cap a speed limit on how fast they can overtake us.\\n\"Say we put a 10 kilometres per hour limit on it, if we\\'re going 50kph they\\'re only allowed to pass us 60kph or something like that.\"\\nDemoitie, who was riding for the Wanty-Gobert team, was taken to hospital in Lille but died later.\\nThe sport\\'s governing body, the UCI, said it would co-operate with all relevant authorities in an investigation into the incident.\\nThe Professional Cyclists\\' Association (CPA) issued a statement asking what would be done to improve safety.\\nDespite Demoitie\\'s death, attitudes to road racing will stay the same says Rowe, who has been competing in Three Days of De Panne race in Belgium.\\n\"As soon as that element of fear slips into your mind and you start thinking of things that could happen, that\\'s when you\\'re doomed to fail,\" he told BBC Wales Sport.\\n\"If you start thinking about crashes and the consequences and what could potentially happen then you\\'re never going to be at the front of the peloton and you\\'re never going to win any races.\"\\nIn a separate incident, another Belgian cyclist, Daan Myngheer, 22, died in hospital after suffering a heart attack during the first stage of the Criterium International in Corsica.', 'summary': 'Welsh cyclist Luke Rowe says changes to the sport must be made following the death of Antoine Demoitie.', 'id': '35932467', 'model_output': \"Belgian cyclist Antoine Demoitié died after being hit by a motorbike during the Gent-Wevelgem race in northern France. Demoitié was riding for the Wanty-Gobert team when the crash occurred. Team Sky's Luke Rowe said the main issue is cars and motorbikes passing the cyclists during races, with around 50 motorbikes working each event. The riders union is considering ideas like speed limits for motorbikes overtaking cyclists. Demoitié was taken to a hospital in Lille but died. The UCI said it will investigate the incident while the CPA asked what will be done to improve safety. In a separate incident, Belgian cyclist Daan Myngheer died of a heart attack during a race in Corsica. After Demoitié's death, Rowe competed in the Three Days of De Panne race in Belgium and said riders can't let fear affect them or they won't succeed.\"}, {'document': 'Gundogan, 26, told BBC Sport he \"can see the finishing line\" after tearing cruciate knee ligaments in December, but will not rush his return.\\nThe German missed the 2014 World Cup following back surgery that kept him out for a year, and sat out Euro 2016 because of a dislocated kneecap.\\nHe said: \"It is heavy mentally to accept that.\"\\nGundogan will not be fit for the start of the Premier League season at Brighton on 12 August but said his recovery time is now being measured in \"weeks\" rather than months.\\nHe told BBC Sport: \"It is really hard always to fall and fight your way back. You feel good and feel ready, then you get the next kick.\\n\"The worst part is behind me now. I want to feel ready when I am fully back. I want to feel safe and confident. I don\\'t mind if it is two weeks or six.\"\\nGundogan made 15 appearances and scored five goals in his debut season for City following his £20m move from Borussia Dortmund.\\nHe is eager to get on the field again and was impressed at the club\\'s 4-1 win over Real Madrid in a pre-season game in Los Angeles on Wednesday.\\nManager Pep Guardiola has made five new signings already this summer and continues to have an interest in Arsenal forward Alexis Sanchez and Monaco\\'s Kylian Mbappe.\\nGundogan said: \"Optimism for the season is big. It is huge, definitely.\\n\"We felt that last year as well but it was a completely new experience for all of us. We know the Premier League a bit more now and can\\'t wait for the season to start.\"\\nCity complete their three-match tour of the United States against Tottenham in Nashville on Saturday.\\nChelsea manager Antonio Conte said earlier this week he did not feel Tottenham were judged by the same standards as his own side, City and Manchester United.\\nSpurs have had the advantage in their recent meetings with City, winning three and drawing one of their last four Premier League games.\\nAnd Gundogan thinks they are a major threat.\\nHe said: \"Tottenham are a great team. They have the style of football. They have young English players. Our experience last season shows it is really tough to beat them.\\n\"They are really uncomfortable to play against.\\n\"I am pretty sure, even if they will not say it loud, the people who know the Premier League know Tottenham are definitely a competitor for the title.\"', 'summary': 'Manchester City midfielder Ilkay Gundogan says it has been mentally tough to overcome a third major injury.', 'id': '40758845', 'model_output': \"Manchester City midfielder Ilkay Gundogan is recovering well from a knee injury suffered last December and is expected to return to action in the coming weeks. Gundogan will miss City's Premier League opener against Brighton on August 12th but his recovery is ahead of schedule. The German international made 15 appearances and scored 5 goals last season after joining City from Borussia Dortmund for £20 million.  \\nIn preseason action, Manchester City beat Real Madrid 4-1 in a friendly match in Los Angeles. City manager Pep Guardiola has brought in 5 new players this summer and is still looking to add Arsenal's Alexis Sanchez and Monaco's Kylian Mbappe. Gundogan said there is big optimism for City's upcoming season. The club faces Tottenham on Saturday in Nashville in their final preseason match in the United States.  \\nChelsea manager Antonio Conte said Tottenham are not judged by the same standards as Chelsea, City and Manchester United. Gundogan called Tottenham a great team and competitor for the Premier League title.\"}, {'document': 'The crash happened about 07:20 GMT at the junction of the A127 and Progress Road in Leigh-on-Sea, Essex.\\nThe man, who police said is aged in his 20s, was treated at the scene for a head injury and suspected multiple fractures, the ambulance service said.\\nHe was airlifted to the Royal London Hospital for further treatment.\\nThe Southend-bound carriageway of the A127 was closed for about six hours while police conducted their initial inquiries.\\nA spokeswoman for Essex Police said it was not possible comment to further as this time as the \"investigation is now being conducted by the IPCC\".', 'summary': 'A jogger has been hit by an unmarked police car responding to an emergency call, leaving him with \"serious life-changing injuries\".', 'id': '30358490', 'model_output': 'The crash happened at 07:20 GMT on the A127 at the junction with Progress Road in Leigh-on-Sea, Essex. A man in his 20s was involved in the crash and was treated at the scene by paramedics for a head injury and suspected multiple fractures before being airlifted to the Royal London Hospital for further treatment. The Southend-bound carriageway of the A127 was closed by police for around six hours to allow initial investigations. An Essex Police spokeswoman said they could not comment further as the investigation is now being handled by the Independent Police Complaints Commission.'}, {'document': \"23 October 2015 Last updated at 17:44 BST\\nIt's the highest rating a tropical storm can get and is the first one of this magnitude to hit mainland Mexico since 1959.\\nBut how are the categories decided and what do they mean? Newsround reporter Jenny Lawrence explains.\", 'summary': 'Hurricane Patricia has been rated as a category 5 storm.', 'id': '34615665', 'model_output': 'A tropical storm hit mainland Mexico on October 23, 2015. This storm was rated as the highest category possible, making it the first storm of this magnitude to strike mainland Mexico since 1959. Tropical storm ratings are decided by categories, as explained by Newsround reporter Jenny Lawrence. The storm that hit Mexico was the highest rated category, meaning it brought intense and destructive winds, storm surges, and flooding rains. This was an extremely dangerous and rare event for Mexico.'}, {'document': 'Weaknesses in the way mice swapped data with computers left them vulnerable, said security firm Bastille Networks.\\nAttackers could spoof poorly protected signals letting them use PCs as if they were sitting in front of them, it said.\\nInformation about the loopholes have been passed to the makers of vulnerable mice, some of who are creating updates to make the mice more secure.\\nThe radio signals sent by many wireless mice to a \"dongle\" plugged in to a computer were often unencrypted, said Marc Newlin and Balint Seeber, from Bastille, who carried out the research.\\n\"That makes it possible for the attacker to send unencrypted traffic to the dongle pretending to be a keyboard and have it result as keystrokes on your computer,\" Mr Newlin said.\\nBy contrast, they said, signals sent by wireless keyboards were scrambled to stop attackers eavesdropping on or spoofing them.\\nThe pair found they could spoof signals for mice using a few lines of code and an antenna and dongle that cost $20 (Â£15).\\nThe attack worked at distances of up to 180m (590ft).\\nUsing this kit, they sent specially crafted mouse clicks that a computer interpreted as key presses, letting them run commands and take control of a target machine.\\nThe Bastille researchers said many companies spent a lot of time and money securing the physical devices sitting on their networks but often neglected to keep an eye on data sent via radio.\\nWireless mice produced by HP, Lenovo, Amazon and Dell were found to be vulnerable.\\nBastille said it had reported its findings to the hardware makers and to the company that made the chipset used inside the spoofable mice.\\nUpdates to the internal computer code, or firmware, for some of the vulnerable mice are now being made available,\\nBut Bastille said many of the insecure mice it had found could not be updated.', 'summary': 'Hackers could gain access to home and corporate networks via security flaws in wireless mice, suggests research.', 'id': '35890902', 'model_output': 'Wireless mice from major manufacturers including HP, Lenovo, Amazon and Dell were found to have security vulnerabilities that could allow attackers to remotely control computers using the mice. Security researchers at Bastille Networks discovered that many wireless mice transmit unencrypted radio signals between the mouse and its USB dongle receiver. By spoofing these unencrypted signals using inexpensive equipment, attackers could send keystrokes and clicks to the target computer from distances up to 180 meters away. The spoofed signals allowed the attackers to control the computer as if they were physically sitting in front of it. \\nIn contrast, wireless keyboard signals were found to be encrypted and not susceptible to this type of attack. Bastille Networks reported the vulnerabilities to the affected manufacturers. Some models are receiving firmware updates to address the issue by encrypting the wireless signals. However, many vulnerable mouse models cannot be updated and will remain susceptible to spoofing attacks.\\nThe research highlights that while many companies have secured their devices, they have neglected the security of wireless data transmission. This oversight allows attackers to gain control of computers by spoofing poorly protected wireless mouse signals.'}, {'document': 'Administrators confirmed the redundancies affecting 38 staff at Galashiels-based Murray and Burrell.\\nThe business, established in 1928, went into administration last week citing \"adverse trading conditions\".\\nThere are hopes some of the workers affected could find posts at another building firm in nearby Melrose which currently requires staff.\\nThomson Cooper partner Richard Gardiner was appointed as administrator at Murray and Burrell on Monday.\\nA statement confirmed: \"Directors explored all options in an effort to preserve trading and jobs.\\n\"Regrettably, 38 jobs were lost as there is no prospect of continuing to trade.\"\\nSouth of Scotland MSP Rachael Hamilton described it as a \"sad day for the Borders\".\\nHowever, some of the workers laid off could find employment with a Melrose-based company.\\nJS Crawford has said that, with several housing projects on its books, it needs staff.', 'summary': 'Dozens of jobs have been lost after efforts to save an historic building firm in the Scottish Borders failed.', 'id': '37922330', 'model_output': 'Murray and Burrell, a Galashiels-based business that had been operating since 1928, went into administration last week due to difficult trading conditions. As a result, 38 employees were made redundant. The administrator appointed to handle the process was Thomson Cooper partner Richard Gardiner. According to the directors of Murray and Burrell, they explored all options to keep the business going and save jobs, but ultimately had no choice but to cease operations and let staff go. South of Scotland MSP Rachael Hamilton described the redundancies as a \"sad day for the Borders.\" However, there is a possibility that some of the displaced workers may find new jobs, as JS Crawford, a construction company based in Melrose, has indicated they are hiring to staff upcoming housing projects.'}, {'document': 'The EC\\'s doubts about the arrangement were detailed in a document on Friday.\\nThe EC said that its \"preliminary view is that the tax ruling... by Luxembourg in favour of Amazon constitutes state aid.\"\\nHowever, Amazon said it \"has received no special tax treatment from Luxembourg\".\\n\"We are subject to the same tax laws as other companies operating here [in Luxembourg],\" it said.\\nThe Luxembourg finance ministry said: \"Luxembourg is confident that the state aid allegations in this case are without merit and will be able to convince the Commission of the legitimacy of the anticipatory decision in question and that no competitive advantage was granted,\" it said.\\nThe European Commission began a probe of the tax arrangement last year, saying that it had suspicions it broke EU rules.\\nThe Commission document, which was sent to the Luxembourg Ministry of Foreign Affairs in October, gives its rationale for launching the investigation.\\nThe Commission said it had \"no indication\" that the tax arrangement was \"compatible with the internal market\".\\nThe current European Commission chief, Jean-Claude Juncker, was prime minister of Luxembourg when the deal was struck.\\nMr Juncker has come under pressure over claims that around 340 global companies were granted tax  avoidance deals during his 18 year tenure in Luxembourg.\\nCommission doubts over the Amazon deal included whether Luxembourg had properly looked into Amazon\\'s \"transfer pricing\" proposals about how money would be moved between different Amazon subsidiaries.\\nDoubts also existed about whether the country had assessed that the proposed tax regime was in line with market conditions before agreeing the deal in 2003, the European Commission document said.\\nThe Commission also had questions about how royalty payments between certain Amazon companies were calculated, and whether \"Amazon has a financial incentive to exaggerate the amount of the royalty\" between its Luxembourg head office company and an Amazon firm that holds shares in the head office company.\\n\"If the royalty is exaggerated, it would unduly reduce the tax paid by Amazon in Luxembourg by shifting profits to an untaxed entity from the perspective of corporate taxation,\" the EC said.\\nIt added that Luxembourg might have been too hasty in assessing Amazon\\'s requested arrangement before striking the deal.\\nLuxembourg\\'s finance ministry said it \"has provided all the information required by the Commission and cooperated fully with the Commission in its investigation.\"\\n\"Among other things, detailed reports on the transfer price requested by the Commission were disclosed,\" it added.\\nLuxembourg is also being investigated by the Commission over suspected \"sweetheart\" tax deals with the financing arm of carmaker Fiat.\\nIn addition, Ireland\\'s tax deal with Apple and the Netherlands\\' arrangement with Starbucks are being scrutinised as part of a crackdown on multinationals\\' tax avoidance schemes.', 'summary': 'The European Commission has disclosed a preliminary finding that Amazon\\'s tax arrangements in Luxembourg probably constitute \"state aid\".', 'id': '30844962', 'model_output': \"The European Commission has opened an investigation into Amazon's tax arrangement with Luxembourg going back to 2003. The EC believes the deal allowed Amazon to route profits through Luxembourg and pay little or no taxes. Specifically, the EC questions how royalty payments between Amazon subsidiaries were calculated, if Luxembourg properly reviewed Amazon's proposed money transfers between firms, and if the tax regime was in line with market conditions when the 2003 deal was made. \\nAmazon maintains it has received no special tax treatment from Luxembourg and follows the same tax laws as other companies there. Luxembourg also denies any wrongdoing, stating it is confident the allegations are without merit and that it will convince the EC the tax decision was legitimate. \\nThis probe into Amazon's taxes is part of a wider EC investigation into tax deals several multinational corporations made with EU countries like Luxembourg and Ireland. The EC began looking into Amazon's arrangement in 2014. Current EC president Jean-Claude Juncker was Luxembourg's prime minister when Amazon's deal was made in 2003, and he has faced criticism over tax avoidance deals made during his tenure.\"}, {'document': 'The three-day extravaganza of farming, food and family fun celebrates many aspects of agricultural life.\\nThe Balmoral Show is run by the Royal Ulster Agricultural Society (RUAS) and dates back 148 years.\\nLast year, it attracted more than 90,000 visitors to its recently-adopted home outside Lisburn in County Antrim.\\nIt was traditionally staged at the RUAS\\'s headquarters in south Belfast, but the show moved to a larger venue on the site of the former Maze prison in 2013.\\nThe Maze venue, re-named Balmoral Park, is now hosting the show for the fourth consecutive year.\\nThe 2016 event coincides with Northern Ireland\\'s Year of Food and Drink, and local produce features prominently in the exhibitions.\\nOne of this year\\'s highlights is an \"edible garden\", in which visitors can see their food growing in the ground before it gets to their plates.\\nThe aim of the garden is to encourage people to grow their own food at home.\\nThe event will also showcase the best of local livestock, with prized pigs, cattle, poultry and ponies all lining up in bid to be the stars of the show.\\nTheir owners will also get a chance to shine, with horse riding and show jumping displays along with sheep shearing competitions and awards for the best livestock breeders and handlers.\\nFor younger visitors, there is a family fun area hosting displays from the Northern Ireland School of Falconry as well as a gun dog skills demonstration and a performance from balloon artist Bruce Airhead.\\nBBC News NI are covering the event live on social media on Wednesday on Twitter at @BBCNewsNI, on Snapchat at bbcnewsni, and on BBC Newsline\\'s Facebook page.', 'summary': \"The most important event in Northern Ireland's agricultural calendar - the Balmoral Show - has opened with thousands of people attending.\", 'id': '36217333', 'model_output': 'The Balmoral Show is a major annual agricultural event in Northern Ireland that attracts tens of thousands of visitors. Organized by the Royal Ulster Agricultural Society (RUAS) since 1868, the three-day show celebrates local farming, food and family entertainment. \\nThe 2016 Balmoral Show, held at the former Maze prison site, coincided with Northern Ireland\\'s Year of Food and Drink. Local produce was prominently featured, including an \"edible garden\" display encouraging home food cultivation. Livestock competitions, falconry shows and other activities rounded out the event\\'s family appeal. With over 90,000 attendees, the Balmoral Show continues a 148-year tradition of showcasing Northern Ireland\\'s agricultural heritage and vibrant food culture.'}, {'document': 'Mr Mosley wants Google to block photos of him at a sex party first printed in the now-defunct News of the World, which he successfully sued in 2008.\\nHe is suing the internet firm for breaches of the Data Protection Act and misusing private information.\\nGoogle\\'s barrister argued that Mr Mosley no longer has a \"reasonable expectation of privacy\".\\nMr Mosley won damages from the News of the World after it published a story alleging he had organised a Nazi-themed orgy.\\nPhotographs and a video which show his private sexual activity were originally obtained by News Group Newspapers Limited (NGN) in a clandestine \"sting\" operation.\\nMr Mosley - the son of 1930s fascist leader Sir Oswald Mosley - won Â£60,000 after a judge ruled there was no substance to the allegation that there had been a Nazi theme to the sex party and found that his privacy had been breached.\\nIn that ruling, the High Court also said the article was not in the public interest.\\nMr Mosley has said the role-play at a rented Chelsea basement flat was harmless, consensual and private.\\nOn launching his legal action last year, Mr Mosley urged: \"Google should operate within the law rather than according to rules it makes itself. It cannot be allowed to ignore judgements in our courts.\"\\nGoogle has said it will remove URLs that it is alerted to, but is not prepared to remove the images entirely from its search engines.\\nIn court on Wednesday, Google\\'s barrister Antony White QC for Google conceded that it was technically possible to remove the images and was \"not burdensome\" to do so.\\nHowever, he argued that Google was not the publisher of the private information, and that Mr Mosley no longer had a reasonable expectation of privacy in relation to the images.\\nOn that basis, Google will seek to show that Mr Mosley\\'s claim is unfounded.\\nThe hearing is due to conclude on Thursday.', 'summary': 'Google has asked the High Court to throw out legal action being taken by ex-Formula 1 boss Max Mosley.', 'id': '30816523', 'model_output': \"Max Mosley, former president of the FIA, is suing Google in an attempt to get them to block search results that show photos of him at a sex party that were originally published in the News of the World. In 2008, Mosley sued News of the World for breach of privacy after they published a story alleging he took part in a Nazi-themed orgy, and won £60,000 in damages when a judge ruled there was no Nazi element and his privacy was violated. Mosley argues the role-play was private and consensual. He wants Google to remove links to the images under data protection laws since he has a right to privacy, but Google argues that the images are already public and that removing links would be technically burdensome. Google's lawyer said Mosley has no reasonable expectation of privacy regarding the images anymore. Mosley contends Google should comply with court rulings and operate within the law. The court hearing was set to finish on Thursday.\"}, {'document': 'The Bath-born player, 28, has made 36 appearances for the Dragons since joining from Wasps in 2015.\\nHe is in his second season and signed a contract extension in December 2016.\\nDragons forwards coach Ceri Jones said: \"It\\'s a big blow. Eddie has been excellent all year for us, he has really stepped up to the mark and will be a big loss.\"\\nHowever, Jones says Jackson\\'s misfortune can be a chance for others to thrive.\\n\"We are very fortunate to have the likes of Ollie Griffiths, Harrison Keddie, James Thomas who can come into the back-row,\" said Jackson.\\n\"Harri has shown glimpses of what he can do all season and there\\'s definitely a player there, so this is an opportunity.\"\\nDragons travel to Munster in the Pro12 on Friday.', 'summary': 'Newport Gwent Dragons number eight Ed Jackson has undergone shoulder surgery and faces a spell on the sidelines.', 'id': '38900884', 'model_output': 'Eddie Byrne, a 28-year-old player for the Dragons rugby team from Bath, has suffered a season-ending injury according to Ceri Jones, the forwards coach for the Dragons. Byrne has played 36 games for the Dragons since joining the team in 2015 and was in his second season with the club after signing a contract extension in December 2016. Jones called Byrne\\'s injury a \"big blow\" and said Byrne had been \"excellent\" this year. The injury gives opportunities for other players like Ollie Griffiths, Harrison Keddie, and James Thomas to step up, according to Jones. He specifically noted that Keddie has shown \"glimpses\" of his ability this season. The Dragons have a Pro12 match coming up on Friday against Munster as they deal with the loss of Byrne.'}, {'document': 'The announcement ends months of uncertainty for Cornish Language Partnership staff whose contracts had been due to end.\\nLocal government minister Andrew Stunnell said the three-year funding package for the service would help make sure the language survived.\\nBut he warned that long term funding should come from Cornwall.\\nHe said it was \"important to make sure the Cornish were given the opportunity to put down sound foundations.\"\\n\"In the longer term support for the Cornish language is going to be something which is going to have to be based in Cornwall and will not come from London,\" he added.\\nThe Cornish Language Partnership\\'s, Jennifer Lowe, said: \"We can now plan for the future thanks to the funding.\"\\nThe United Nations recently upgraded the status of the Cornish language from \"extinct\" to \"critically endangered\".\\nIt is thought fewer than 500 people worldwide are fluent in the language.', 'summary': 'The government is spending nearly £400,000 to help save the Cornish language.', 'id': '13890581', 'model_output': 'The Cornish language was recently upgraded by the UN from \"extinct\" to \"critically endangered\", with fewer than 500 fluent speakers worldwide. Local government minister Andrew Stunnell has announced a 3-year funding package for the Cornish Language Partnership to help support and revitalize the language. This comes just as the contracts for the Partnership\\'s staff were ending. \\nStunnell said that long-term funding for the language should come from Cornwall itself rather than London. He wants the Cornish people to establish strong foundations for preserving and growing the language. The new funding will allow the Partnership to plan for the future. Jennifer Lowe of the Partnership welcomed the funding, saying it will let them develop long-term plans to promote the Cornish language.'}, {'document': 'Jardim, in charge since 2014, described the last three years at the club as \"exceptional\".\\nMonaco finished eight points ahead of nearest rivals Paris St-Germain to be crowned champions of France in 2016-17.\\n\"I feel part of AS Monaco and the principality,\" said Portuguese Jardim, the former Olympiakos boss.\\nMonaco also beat Tottenham and Manchester City on their way to reaching the semi-finals of the Champions League during 2016-17, before losing to Juventus 4-1 on aggregate in the semi-finals.\\nMonaco vice-president Vadim Vasilyev said Jardim had received offers to coach elsewhere.\\n\"He is one of the best coaches in European football and despite other offers he has chosen to continue the adventure at Monaco, which demonstrates our ambition,\" added Vasilyev.', 'summary': 'Monaco boss Leonardo Jardim has been rewarded for steering the club to their first Ligue 1 title for 17 years with a new contract until 2020.', 'id': '40194700', 'model_output': \"Leonardo Jardim has been the manager of AS Monaco since 2014. Under his leadership, the club has achieved significant success, winning the French league title in 2016-17 and reaching the semi-finals of the UEFA Champions League that same season, beating major teams like Tottenham and Manchester City before losing to Juventus. \\nDespite receiving offers from other clubs, Jardim chose to stay with AS Monaco, citing his connection to the club and principality. The club's vice-president Vadim Vasilyev confirmed Jardim had outside offers but opted to continue with Monaco, demonstrating the club's ambition and potential for future success under his management.\"}]\n"
     ]
    }
   ],
   "source": [
    "dataset = \"xsum_sample.jsonl\"\n",
    "model_output_multi_doc = get_summary(dataset, sum_type=\"multi_doc\", func=generate_multiple_docs_summary)\n",
    "print(model_output_multi_doc)"
   ]
  },
  {
   "cell_type": "markdown",
   "id": "6e406085-06c0-4db8-82e0-f816dc122e5a",
   "metadata": {
    "tags": []
   },
   "source": [
    "## Summarization Accuracy\n",
    "\n",
    "Accuracy evaluation with METEOR, ROUGE and BERTscore metrics"
   ]
  },
  {
   "cell_type": "markdown",
   "id": "6b78db27-183e-4a1d-8161-c7edec749cd8",
   "metadata": {},
   "source": [
    "### Define helper functions"
   ]
  },
  {
   "cell_type": "code",
   "execution_count": 15,
   "id": "f872ffd0-c6e3-4166-89c1-4627a619d8ec",
   "metadata": {
    "tags": []
   },
   "outputs": [
    {
     "name": "stderr",
     "output_type": "stream",
     "text": [
      "2023-12-22 17:53:50,142\tINFO util.py:159 -- Outdated packages:\n",
      "  ipywidgets==7.6.5 found, needs ipywidgets>=8\n",
      "Run `pip install -U ipywidgets`, then restart the notebook server for rich notebook output.\n"
     ]
    }
   ],
   "source": [
    "import json\n",
    "from nltk.translate import meteor_score\n",
    "from nltk import word_tokenize\n",
    "import evaluate as hf_evaluate\n",
    "import ray\n",
    "from fmeval.eval_algorithms.helper_models.helper_model import BertscoreHelperModel\n",
    "\n",
    "\n",
    "def get_meteor_score(target_output: str, model_output: str, **kwargs) -> float:\n",
    "    \"\"\"\n",
    "    METEOR is a metric for text similarity between the machine-produced summary and human-produced reference summaries.\n",
    "    Unigrams can be matched based on their surface forms, stemmed forms,\n",
    "    and meanings; furthermore, METEOR can be easily extended to include more\n",
    "    advanced matching strategies. Once all generalized unigram matches\n",
    "    between the two strings have been found, METEOR computes a score for\n",
    "    this matching using a combination of unigram-precision, unigram-recall, and\n",
    "    a measure of fragmentation that is designed to directly capture how\n",
    "    well-ordered the matched words in the machine translation are in relation\n",
    "    to the reference.\n",
    "\n",
    "    :param target_output: The expected responses from the model\n",
    "    :param model_output: The output of a model that we want to evaluate.\n",
    "    :returns: meteor score\n",
    "    \"\"\"\n",
    "    return meteor_score.single_meteor_score(\n",
    "        reference=word_tokenize(target_output), hypothesis=word_tokenize(model_output)\n",
    "    )\n",
    "\n",
    "\n",
    "def get_rouge_score(target_output: str, model_output: str, **kwargs) -> float:\n",
    "    \n",
    "    \"\"\"\n",
    "    The ROUGE-N, where N=[1,2,L], score is a standard metric for summarization quality.\n",
    "    It computes the word overlap between the reference and model summary. Given that this metric is based on simple\n",
    "    word overlap statistics, it works best for extractive summaries.\n",
    "    Note that if we rephrase the summary without changing its meaning the ROUGE-N score will drop.\n",
    "\n",
    "    Reference: https://huggingface.co/spaces/evaluate-metric/rouge\n",
    "\n",
    "    :param target_output: The expected responses from the model\n",
    "    :param model_output: The output of a model that we want to evaluate.\n",
    "    :returns: rouge score\n",
    "    \"\"\"\n",
    "    rouge_type = \"rouge2\"\n",
    "    rouge = hf_evaluate.load(\"rouge\")\n",
    "    return rouge.compute(\n",
    "        predictions=[model_output],\n",
    "        references=[target_output],\n",
    "        use_stemmer=True,\n",
    "        rouge_types=[rouge_type],\n",
    "    )[rouge_type]\n",
    "\n",
    "\n",
    "def get_bert_score(target_output: str, model_output: str, **kwargs) -> float:\n",
    "    \"\"\"\n",
    "    BERTscore is a similarity-based metric that compares the embedding of the prediction and target sentences\n",
    "    under a learned model, typically, from the BERT family.\n",
    "    This score may lead to increased flexibility compared to ROUGE and METEOR in terms of rephrasing since\n",
    "    semantically similar sentences are (typically) embedded similarly.\n",
    "\n",
    "    https://huggingface.co/spaces/evaluate-metric/bertscore\n",
    "\n",
    "    :param target_output: The expected responses from the model\n",
    "    :param model_output: The output of a model that we want to evaluate.\n",
    "    :returns: bert score\n",
    "    \"\"\"\n",
    "#     bert_score_model = \"microsoft/deberta-xlarge-mnli\"\n",
    "    \n",
    "#     # Initialize the shared BertscoreHelperModel actor that will be shared\n",
    "#     # by every get_bert_score task.\n",
    "#     bertscore_helper_model = BertscoreHelperModel.remote(\n",
    "#         model_type=bert_score_model\n",
    "#     )\n",
    "    \n",
    "#     return ray.get(bertscore_helper_model.get_helper_scores.remote(target_output, model_output))\n",
    "\n",
    "    bertscore = hf_evaluate.load(\"bertscore\")\n",
    "    predictions=model_output,\n",
    "    references=target_output,\n",
    "    return bertscore.compute(\n",
    "        predictions=predictions,\n",
    "        references=references,\n",
    "        lang=\"en\"\n",
    "    )[\"f1\"][0]\n",
    "\n",
    "def get_accuracy_evaluation(dataset):\n",
    "    \n",
    "    eval_scores = []\n",
    "    \n",
    "    meteor_scores = [get_meteor_score(data[\"summary\"], data[\"model_output\"]) for data in dataset]\n",
    "    m_score = sum(meteor_scores) / len(meteor_scores)\n",
    "    eval_scores.append({\"name\": \"meteor\", \"value\": m_score})\n",
    "        \n",
    "    rouge_scores = [get_rouge_score(data[\"summary\"], data[\"model_output\"]) for data in dataset]\n",
    "    r_score = sum(rouge_scores) / len(rouge_scores)\n",
    "    eval_scores.append({\"name\": \"rouge\", \"value\": r_score})\n",
    "    \n",
    "    bert_scores = [get_bert_score(data[\"summary\"], data[\"model_output\"]) for data in dataset]\n",
    "    b_score = sum(bert_scores) / len(bert_scores)\n",
    "    eval_scores.append({\"name\": \"bertscore\", \"value\": b_score})\n",
    "    \n",
    "    return eval_scores\n"
   ]
  },
  {
   "cell_type": "markdown",
   "id": "b12ada4f-dfdb-412c-bd0e-6771a3888e51",
   "metadata": {},
   "source": [
    "### Stuff it Evaluation"
   ]
  },
  {
   "cell_type": "code",
   "execution_count": 16,
   "id": "65656a24-682f-4ca3-9cb2-9ab9c0823d7b",
   "metadata": {
    "tags": []
   },
   "outputs": [
    {
     "name": "stdout",
     "output_type": "stream",
     "text": [
      "[\n",
      "    {\n",
      "        \"name\": \"meteor\",\n",
      "        \"value\": 0.23104046732059233\n",
      "    },\n",
      "    {\n",
      "        \"name\": \"rouge\",\n",
      "        \"value\": 0.04466204671334081\n",
      "    },\n",
      "    {\n",
      "        \"name\": \"bertscore\",\n",
      "        \"value\": 0.8580165474038375\n",
      "    }\n",
      "]\n"
     ]
    }
   ],
   "source": [
    "eval_scores = get_accuracy_evaluation(model_output_stuff_it)\n",
    "print(json.dumps(eval_scores, default=vars, indent=4))"
   ]
  },
  {
   "cell_type": "markdown",
   "id": "0eb5402c-9a5e-4369-8c14-6994f53f7152",
   "metadata": {},
   "source": [
    "### Map Reduce Evaluation"
   ]
  },
  {
   "cell_type": "code",
   "execution_count": 17,
   "id": "f2c1b44c-7b46-45bb-a441-642f06965335",
   "metadata": {
    "tags": []
   },
   "outputs": [
    {
     "name": "stdout",
     "output_type": "stream",
     "text": [
      "[\n",
      "    {\n",
      "        \"name\": \"meteor\",\n",
      "        \"value\": 0.24072320988539928\n",
      "    },\n",
      "    {\n",
      "        \"name\": \"rouge\",\n",
      "        \"value\": 0.04206181292209505\n",
      "    },\n",
      "    {\n",
      "        \"name\": \"bertscore\",\n",
      "        \"value\": 0.8594577406582079\n",
      "    }\n",
      "]\n"
     ]
    }
   ],
   "source": [
    "eval_scores = get_accuracy_evaluation(model_output_map_reduce)\n",
    "print(json.dumps(eval_scores, default=vars, indent=4))"
   ]
  },
  {
   "cell_type": "markdown",
   "id": "8e025946-bf89-47a7-a78a-dec011d2a2d8",
   "metadata": {},
   "source": [
    "### Auto Refine Evaluation"
   ]
  },
  {
   "cell_type": "code",
   "execution_count": 18,
   "id": "d6a135ff-d7f9-4a1e-86e0-d048b1fb9a9c",
   "metadata": {
    "tags": []
   },
   "outputs": [
    {
     "name": "stdout",
     "output_type": "stream",
     "text": [
      "[\n",
      "    {\n",
      "        \"name\": \"meteor\",\n",
      "        \"value\": 0.19527542772687698\n",
      "    },\n",
      "    {\n",
      "        \"name\": \"rouge\",\n",
      "        \"value\": 0.026000498700004277\n",
      "    },\n",
      "    {\n",
      "        \"name\": \"bertscore\",\n",
      "        \"value\": 0.8429720276280454\n",
      "    }\n",
      "]\n"
     ]
    }
   ],
   "source": [
    "eval_scores = get_accuracy_evaluation(model_output_auto_refine)\n",
    "print(json.dumps(eval_scores, default=vars, indent=4))"
   ]
  },
  {
   "cell_type": "markdown",
   "id": "de79ae9a-9bab-4142-9723-1658067f1aa0",
   "metadata": {},
   "source": [
    "### Multi-Doc Evaluation"
   ]
  },
  {
   "cell_type": "code",
   "execution_count": 19,
   "id": "f687f6f3-3553-4f79-a663-62645c3a5c95",
   "metadata": {
    "tags": []
   },
   "outputs": [
    {
     "name": "stdout",
     "output_type": "stream",
     "text": [
      "[\n",
      "    {\n",
      "        \"name\": \"meteor\",\n",
      "        \"value\": 0.21402161569957817\n",
      "    },\n",
      "    {\n",
      "        \"name\": \"rouge\",\n",
      "        \"value\": 0.03569174735570144\n",
      "    },\n",
      "    {\n",
      "        \"name\": \"bertscore\",\n",
      "        \"value\": 0.8546279731549715\n",
      "    }\n",
      "]\n"
     ]
    }
   ],
   "source": [
    "eval_scores = get_accuracy_evaluation(model_output_multi_doc)\n",
    "print(json.dumps(eval_scores, default=vars, indent=4))"
   ]
  },
  {
   "cell_type": "markdown",
   "id": "f2bc03eb-63c0-4fc6-9207-42c8087c5343",
   "metadata": {
    "tags": []
   },
   "source": [
    "## Summarization Toxicity\n",
    "\n",
    "Evaluate Toxicity of Summary generated, It uses the [Toxigen](https://huggingface.co/tomh/toxigen_roberta/tree/main) and [detotify](https://github.com/unitaryai/detoxify) to evaluate and score model responses in various toxicity categories"
   ]
  },
  {
   "cell_type": "markdown",
   "id": "69f7e9a1-2a3d-4670-928b-0477e6481e9d",
   "metadata": {},
   "source": [
    "### Define helper functions"
   ]
  },
  {
   "cell_type": "code",
   "execution_count": 20,
   "id": "3a383293-5d80-48bf-9602-3a3d0ec11489",
   "metadata": {
    "tags": []
   },
   "outputs": [],
   "source": [
    "import json\n",
    "from typing import Any, Dict, List\n",
    "from detoxify import Detoxify\n",
    "from transformers import pipeline\n",
    "\n",
    "\n",
    "def get_toxicity(text_input: List[str], **kwargs) -> List[float]:\n",
    "    \n",
    "    \"\"\"\n",
    "    Helper model for toxigen model: https://huggingface.co/tomh/toxigen_roberta/tree/main\n",
    "    \"\"\"\n",
    "    \n",
    "    model_name = \"tomh/toxigen_roberta\"\n",
    "    model = pipeline(\"text-classification\", model=model_name)\n",
    "    \n",
    "    inference_output = model(text_input)\n",
    "    result = [x[\"score\"] if x[\"label\"] == \"LABEL_1\" else 1.0 - x[\"score\"] for x in inference_output]\n",
    "    \n",
    "    return result\n",
    "\n",
    "def get_detoxify(text_input: List[str], **kwargs) -> Dict[str, List[float]]:\n",
    "    \n",
    "    \"\"\"\n",
    "    Helper model for Detoxify: https://github.com/unitaryai/detoxify\n",
    "    returns dict with keys as score name and value being list of scores for text inputs\n",
    "    \"\"\"\n",
    "\n",
    "    model = Detoxify(model_type=\"unbiased\").predict\n",
    "    \n",
    "    return model(text_input)\n",
    "\n",
    "def get_toxicity_evaluation(dataset):\n",
    "    \n",
    "    eval_scores = []\n",
    "    model_outputs = [data[\"model_output\"] for data in dataset]\n",
    "    \n",
    "    t_scores = get_toxicity(model_outputs)\n",
    "    toxicity_score = sum(t_scores) / len(t_scores)\n",
    "    eval_scores.append({\"type\": \"toxigen\", \"name\": \"toxicity\", \"value\": toxicity_score})\n",
    "    \n",
    "    dt_scores = get_detoxify(model_outputs)\n",
    "    for k, v in dt_scores.items():\n",
    "        avg_score = sum(v) / len(v)\n",
    "        eval_scores.append({\"type\": \"detoxify\", \"name\": k, \"value\": avg_score})\n",
    "    \n",
    "    return eval_scores\n"
   ]
  },
  {
   "cell_type": "markdown",
   "id": "ef7a6892-dff7-489b-9bb8-a19559868923",
   "metadata": {},
   "source": [
    "### Stuff it Evaluation"
   ]
  },
  {
   "cell_type": "code",
   "execution_count": 21,
   "id": "4febfae1-0af0-45f1-89df-1423f0c83cfa",
   "metadata": {
    "tags": []
   },
   "outputs": [
    {
     "name": "stdout",
     "output_type": "stream",
     "text": [
      "[\n",
      "    {\n",
      "        \"type\": \"toxigen\",\n",
      "        \"name\": \"toxicity\",\n",
      "        \"value\": 0.0010530885897184674\n",
      "    },\n",
      "    {\n",
      "        \"type\": \"detoxify\",\n",
      "        \"name\": \"toxicity\",\n",
      "        \"value\": 0.0040379522297849975\n",
      "    },\n",
      "    {\n",
      "        \"type\": \"detoxify\",\n",
      "        \"name\": \"severe_toxicity\",\n",
      "        \"value\": 1.3265852939376169e-05\n",
      "    },\n",
      "    {\n",
      "        \"type\": \"detoxify\",\n",
      "        \"name\": \"obscene\",\n",
      "        \"value\": 0.00020571946238066486\n",
      "    },\n",
      "    {\n",
      "        \"type\": \"detoxify\",\n",
      "        \"name\": \"identity_attack\",\n",
      "        \"value\": 0.00020279706261231025\n",
      "    },\n",
      "    {\n",
      "        \"type\": \"detoxify\",\n",
      "        \"name\": \"insult\",\n",
      "        \"value\": 0.000507087315016083\n",
      "    },\n",
      "    {\n",
      "        \"type\": \"detoxify\",\n",
      "        \"name\": \"threat\",\n",
      "        \"value\": 8.523149800136085e-05\n",
      "    },\n",
      "    {\n",
      "        \"type\": \"detoxify\",\n",
      "        \"name\": \"sexual_explicit\",\n",
      "        \"value\": 0.006912611168110361\n",
      "    }\n",
      "]\n"
     ]
    }
   ],
   "source": [
    "eval_scores = get_toxicity_evaluation(model_output_stuff_it)\n",
    "print(json.dumps(eval_scores, default=vars, indent=4))"
   ]
  },
  {
   "cell_type": "markdown",
   "id": "d474a3e2-2792-41ae-be72-3623153fd4be",
   "metadata": {},
   "source": [
    "### Map Reduce Evaluation"
   ]
  },
  {
   "cell_type": "code",
   "execution_count": 22,
   "id": "c9bd4d1b-2901-48a0-af5e-1462fa3bcf5f",
   "metadata": {
    "tags": []
   },
   "outputs": [
    {
     "name": "stdout",
     "output_type": "stream",
     "text": [
      "[\n",
      "    {\n",
      "        \"type\": \"toxigen\",\n",
      "        \"name\": \"toxicity\",\n",
      "        \"value\": 0.0009589038397136488\n",
      "    },\n",
      "    {\n",
      "        \"type\": \"detoxify\",\n",
      "        \"name\": \"toxicity\",\n",
      "        \"value\": 0.006883584137540311\n",
      "    },\n",
      "    {\n",
      "        \"type\": \"detoxify\",\n",
      "        \"name\": \"severe_toxicity\",\n",
      "        \"value\": 1.5051876438950498e-05\n",
      "    },\n",
      "    {\n",
      "        \"type\": \"detoxify\",\n",
      "        \"name\": \"obscene\",\n",
      "        \"value\": 0.0003344472857670074\n",
      "    },\n",
      "    {\n",
      "        \"type\": \"detoxify\",\n",
      "        \"name\": \"identity_attack\",\n",
      "        \"value\": 0.00023116201153147573\n",
      "    },\n",
      "    {\n",
      "        \"type\": \"detoxify\",\n",
      "        \"name\": \"insult\",\n",
      "        \"value\": 0.000573909168260319\n",
      "    },\n",
      "    {\n",
      "        \"type\": \"detoxify\",\n",
      "        \"name\": \"threat\",\n",
      "        \"value\": 7.95652205469148e-05\n",
      "    },\n",
      "    {\n",
      "        \"type\": \"detoxify\",\n",
      "        \"name\": \"sexual_explicit\",\n",
      "        \"value\": 0.01563473859732767\n",
      "    }\n",
      "]\n"
     ]
    }
   ],
   "source": [
    "eval_scores = get_toxicity_evaluation(model_output_map_reduce)\n",
    "print(json.dumps(eval_scores, default=vars, indent=4))"
   ]
  },
  {
   "cell_type": "markdown",
   "id": "bbd3c662-3e75-43a0-8ff7-8f3bd9346ecd",
   "metadata": {},
   "source": [
    "### Auto Refine Evaluation"
   ]
  },
  {
   "cell_type": "code",
   "execution_count": 23,
   "id": "72e8dcf3-d366-406f-b250-53d414df49db",
   "metadata": {
    "tags": []
   },
   "outputs": [
    {
     "name": "stdout",
     "output_type": "stream",
     "text": [
      "[\n",
      "    {\n",
      "        \"type\": \"toxigen\",\n",
      "        \"name\": \"toxicity\",\n",
      "        \"value\": 0.001304548037679572\n",
      "    },\n",
      "    {\n",
      "        \"type\": \"detoxify\",\n",
      "        \"name\": \"toxicity\",\n",
      "        \"value\": 0.0031972504144313894\n",
      "    },\n",
      "    {\n",
      "        \"type\": \"detoxify\",\n",
      "        \"name\": \"severe_toxicity\",\n",
      "        \"value\": 1.758379134068826e-05\n",
      "    },\n",
      "    {\n",
      "        \"type\": \"detoxify\",\n",
      "        \"name\": \"obscene\",\n",
      "        \"value\": 0.00021133065667144316\n",
      "    },\n",
      "    {\n",
      "        \"type\": \"detoxify\",\n",
      "        \"name\": \"identity_attack\",\n",
      "        \"value\": 0.00023939590564144679\n",
      "    },\n",
      "    {\n",
      "        \"type\": \"detoxify\",\n",
      "        \"name\": \"insult\",\n",
      "        \"value\": 0.00043225372256098415\n",
      "    },\n",
      "    {\n",
      "        \"type\": \"detoxify\",\n",
      "        \"name\": \"threat\",\n",
      "        \"value\": 9.041447849181407e-05\n",
      "    },\n",
      "    {\n",
      "        \"type\": \"detoxify\",\n",
      "        \"name\": \"sexual_explicit\",\n",
      "        \"value\": 0.004624396794258102\n",
      "    }\n",
      "]\n"
     ]
    }
   ],
   "source": [
    "eval_scores = get_toxicity_evaluation(model_output_auto_refine)\n",
    "print(json.dumps(eval_scores, default=vars, indent=4))"
   ]
  },
  {
   "cell_type": "markdown",
   "id": "4eee2ab5-3fb2-43a3-a87d-238ddcb5f4a8",
   "metadata": {},
   "source": [
    "### Multi-Doc Evaluation"
   ]
  },
  {
   "cell_type": "code",
   "execution_count": 24,
   "id": "c5808a9f-38e4-4f7c-b45b-4bc670d2e566",
   "metadata": {
    "tags": []
   },
   "outputs": [
    {
     "name": "stdout",
     "output_type": "stream",
     "text": [
      "[\n",
      "    {\n",
      "        \"type\": \"toxigen\",\n",
      "        \"name\": \"toxicity\",\n",
      "        \"value\": 0.0010216581194024336\n",
      "    },\n",
      "    {\n",
      "        \"type\": \"detoxify\",\n",
      "        \"name\": \"toxicity\",\n",
      "        \"value\": 0.007268656422016456\n",
      "    },\n",
      "    {\n",
      "        \"type\": \"detoxify\",\n",
      "        \"name\": \"severe_toxicity\",\n",
      "        \"value\": 1.2331967414674613e-05\n",
      "    },\n",
      "    {\n",
      "        \"type\": \"detoxify\",\n",
      "        \"name\": \"obscene\",\n",
      "        \"value\": 0.00040481699177594\n",
      "    },\n",
      "    {\n",
      "        \"type\": \"detoxify\",\n",
      "        \"name\": \"identity_attack\",\n",
      "        \"value\": 0.00021462668097994633\n",
      "    },\n",
      "    {\n",
      "        \"type\": \"detoxify\",\n",
      "        \"name\": \"insult\",\n",
      "        \"value\": 0.0005625353131970195\n",
      "    },\n",
      "    {\n",
      "        \"type\": \"detoxify\",\n",
      "        \"name\": \"threat\",\n",
      "        \"value\": 0.00012712276283740435\n",
      "    },\n",
      "    {\n",
      "        \"type\": \"detoxify\",\n",
      "        \"name\": \"sexual_explicit\",\n",
      "        \"value\": 0.010632976217972387\n",
      "    }\n",
      "]\n"
     ]
    }
   ],
   "source": [
    "eval_scores = get_toxicity_evaluation(model_output_multi_doc)\n",
    "print(json.dumps(eval_scores, default=vars, indent=4))"
   ]
  },
  {
   "cell_type": "markdown",
   "id": "1ab75626-ada8-4b63-8146-12949cb13fab",
   "metadata": {
    "tags": []
   },
   "source": [
    "## LLM Powered Unsupervised Evaluation\n",
    "\n",
    "This demonstrates how to use a large language model (LLM) to evaluate output of other LLMs. This approach doesnt require ground truth dataset and can be used to evaluate generation of a small model using a large model."
   ]
  },
  {
   "cell_type": "markdown",
   "id": "3d95ba2f-3eb7-4fc3-9526-6648761e6e8d",
   "metadata": {},
   "source": [
    "### Summarization Quality\n",
    "\n",
    "In this evaluation, the LLM evaluates the accuracy, coherence, factuality and completeness of the summary on a scale of 1-5, 5 being the best"
   ]
  },
  {
   "cell_type": "markdown",
   "id": "bcbe4e26-2c6b-4e8a-ade9-0159189cb171",
   "metadata": {},
   "source": [
    "#### Define helper functions"
   ]
  },
  {
   "cell_type": "code",
   "execution_count": 25,
   "id": "56d79730-db79-41b0-b627-8ccd68397234",
   "metadata": {
    "tags": []
   },
   "outputs": [],
   "source": [
    "import boto3\n",
    "import json\n",
    "import os\n",
    "import sys\n",
    "import re\n",
    "\n",
    "bedrock_runtime = boto3.client(\n",
    "    service_name='bedrock-runtime',\n",
    "    region_name='us-east-1',\n",
    ")\n",
    "\n",
    "def invoke_model(prompt_data):\n",
    "    body = {\"prompt\": \"Human: \" + prompt_data + \" \\\\nAssistant:\",\n",
    "            \"max_tokens_to_sample\": 1000, \n",
    "            \"temperature\": 1,\n",
    "            \"top_k\": 250,\n",
    "            \"top_p\": 0.999,\n",
    "            \"stop_sequences\": [\"\\\\n\\\\nHuman:\"]}\n",
    "\n",
    "    body = json.dumps(body) # Encode body as JSON string\n",
    "\n",
    "    modelId = 'anthropic.claude-instant-v1' \n",
    "    accept = 'application/json'\n",
    "    contentType = 'application/json'\n",
    "\n",
    "    #Invoke the model\n",
    "    response = bedrock_runtime.invoke_model(body=body.encode('utf-8'), # Encode to bytes\n",
    "                                     modelId=modelId, \n",
    "                                     accept=accept, \n",
    "                                     contentType=contentType)\n",
    "\n",
    "    response_body = json.loads(response.get('body').read())\n",
    "    return response_body.get('completion')\n",
    "\n",
    "\n",
    "def get_evaluation_from_model(text, summary):\n",
    "    \n",
    "    prompt = f\"\"\"Human: You will be given a summmary of a text. Your task is to evaluate the summary in four dimensions; accuracy, coherence, factuality and completeness.\n",
    "    Provide a score of 1-5 in each dimension, with 5 being the best score.\n",
    "\n",
    "    Original Text: {text}\n",
    "\n",
    "    Summary: {summary}\n",
    "\n",
    "    Output result in the form below:\n",
    "\n",
    "    - Coherence: Evaluation Scores for coherence (1-5)\n",
    "    - Accuracy: Evaluation Scores for accuracy (1-5)\n",
    "    - Factuality: Evaluation Scores for factuality (1-5)\n",
    "    - Completeness: Evaluation Scores for completness (1-5)\n",
    "    \n",
    "    Assistant:\n",
    "    \"\"\".format(text=text, sumamry=summary)\n",
    "    \n",
    "    evaluation = invoke_model(prompt)\n",
    "    \n",
    "    return evaluation\n",
    "\n",
    "def start_unsupervised_evaluation(dataset):\n",
    "    \n",
    "    results = []\n",
    "    for data in dataset:\n",
    "        resp = get_evaluation_from_model(data[\"summary\"], data[\"model_output\"])\n",
    "        \n",
    "        m = re.search(\"Accuracy: (\\d)\", resp)\n",
    "        if m is None:\n",
    "            accuracy = 0\n",
    "        else:\n",
    "            accuracy = int(m.group(1))\n",
    "\n",
    "        m = re.search(\"Coherence: (\\d)\", resp)\n",
    "        if m is None:\n",
    "            coherence = 0\n",
    "        else:\n",
    "            coherence = int(m.group(1))\n",
    "\n",
    "        m = re.search(\"Factuality: (\\d)\", resp)\n",
    "        if m is None:\n",
    "            factuality = 0\n",
    "        else:\n",
    "            factuality = int(m.group(1))\n",
    "\n",
    "        m = re.search(\"Completeness: (\\d)\", resp)\n",
    "        if m is None:\n",
    "            completeness = 0\n",
    "        else:\n",
    "            completeness = int(m.group(1))\n",
    "            \n",
    "            \n",
    "        eval_dict = {\"Coherence\": coherence, \"Accuracy\": accuracy, \"Factuality\": factuality, \"Completeness\": completeness}\n",
    "        results.append(eval_dict)\n",
    "    \n",
    "    total_coherence = total_accuracy = total_factuality = total_completeness = 0\n",
    "    \n",
    "    # Calculate the sum\n",
    "    for result in results:\n",
    "        total_coherence += result[\"Coherence\"]\n",
    "        total_accuracy += result[\"Accuracy\"]\n",
    "        total_factuality += result[\"Factuality\"]\n",
    "        total_completeness += result[\"Completeness\"]\n",
    "    \n",
    "    # Calculate the average\n",
    "    num_records = len(results)\n",
    "    avg_coherence = total_coherence / num_records\n",
    "    avg_accuracy = total_accuracy / num_records\n",
    "    avg_factuality = total_factuality / num_records\n",
    "    avg_completeness = total_completeness / num_records\n",
    "    \n",
    "    evaluation = {\"Coherence\": avg_coherence, \"Accuracy\": avg_accuracy, \"Factuality\": avg_factuality, \"Completeness\": avg_completeness}\n",
    "    \n",
    "    return evaluation\n"
   ]
  },
  {
   "cell_type": "markdown",
   "id": "6229c9bc-8114-4c8b-adc3-39ba65dbcc16",
   "metadata": {},
   "source": [
    "#### Stuff it Evaluation"
   ]
  },
  {
   "cell_type": "code",
   "execution_count": 26,
   "id": "340d0de3-da00-4190-8a7e-d991f978a727",
   "metadata": {
    "tags": []
   },
   "outputs": [
    {
     "name": "stdout",
     "output_type": "stream",
     "text": [
      "{\n",
      "    \"Coherence\": 4.7368421052631575,\n",
      "    \"Accuracy\": 4.473684210526316,\n",
      "    \"Factuality\": 4.7368421052631575,\n",
      "    \"Completeness\": 3.789473684210526\n",
      "}\n"
     ]
    }
   ],
   "source": [
    "eval_scores = start_unsupervised_evaluation(model_output_stuff_it)\n",
    "print(json.dumps(eval_scores, default=vars, indent=4))"
   ]
  },
  {
   "cell_type": "markdown",
   "id": "6a7aa364-3e6e-4a3c-a31d-3200261213a3",
   "metadata": {},
   "source": [
    "#### Map Reduce Evaluation"
   ]
  },
  {
   "cell_type": "code",
   "execution_count": 27,
   "id": "a5376be4-66b3-4a2b-99a5-411d0939cc0b",
   "metadata": {
    "tags": []
   },
   "outputs": [
    {
     "name": "stdout",
     "output_type": "stream",
     "text": [
      "{\n",
      "    \"Coherence\": 4.2631578947368425,\n",
      "    \"Accuracy\": 3.736842105263158,\n",
      "    \"Factuality\": 4.105263157894737,\n",
      "    \"Completeness\": 3.473684210526316\n",
      "}\n"
     ]
    }
   ],
   "source": [
    "eval_scores = start_unsupervised_evaluation(model_output_map_reduce)\n",
    "print(json.dumps(eval_scores, default=vars, indent=4))"
   ]
  },
  {
   "cell_type": "markdown",
   "id": "0857b3eb-e76f-442c-8576-2e008123deea",
   "metadata": {},
   "source": [
    "#### Auto Refine Evaluation"
   ]
  },
  {
   "cell_type": "code",
   "execution_count": 28,
   "id": "82d3b845-2451-463f-abf3-a65b21c882b9",
   "metadata": {
    "tags": []
   },
   "outputs": [
    {
     "name": "stdout",
     "output_type": "stream",
     "text": [
      "{\n",
      "    \"Coherence\": 4.2631578947368425,\n",
      "    \"Accuracy\": 4.315789473684211,\n",
      "    \"Factuality\": 4.315789473684211,\n",
      "    \"Completeness\": 3.4210526315789473\n",
      "}\n"
     ]
    }
   ],
   "source": [
    "eval_scores = start_unsupervised_evaluation(model_output_auto_refine)\n",
    "print(json.dumps(eval_scores, default=vars, indent=4))"
   ]
  },
  {
   "cell_type": "markdown",
   "id": "4d49cd3b-304b-4311-9171-3acdf9a90b04",
   "metadata": {},
   "source": [
    "#### Multi-Doc Evaluation"
   ]
  },
  {
   "cell_type": "code",
   "execution_count": 29,
   "id": "e395a57e-2693-4e72-9790-2b84b693ff46",
   "metadata": {
    "tags": []
   },
   "outputs": [
    {
     "name": "stdout",
     "output_type": "stream",
     "text": [
      "{\n",
      "    \"Coherence\": 4.631578947368421,\n",
      "    \"Accuracy\": 4.421052631578948,\n",
      "    \"Factuality\": 4.473684210526316,\n",
      "    \"Completeness\": 3.736842105263158\n",
      "}\n"
     ]
    }
   ],
   "source": [
    "eval_scores = start_unsupervised_evaluation(model_output_multi_doc)\n",
    "print(json.dumps(eval_scores, default=vars, indent=4))"
   ]
  }
 ],
 "metadata": {
  "availableInstances": [
   {
    "_defaultOrder": 0,
    "_isFastLaunch": true,
    "category": "General purpose",
    "gpuNum": 0,
    "hideHardwareSpecs": false,
    "memoryGiB": 4,
    "name": "ml.t3.medium",
    "vcpuNum": 2
   },
   {
    "_defaultOrder": 1,
    "_isFastLaunch": false,
    "category": "General purpose",
    "gpuNum": 0,
    "hideHardwareSpecs": false,
    "memoryGiB": 8,
    "name": "ml.t3.large",
    "vcpuNum": 2
   },
   {
    "_defaultOrder": 2,
    "_isFastLaunch": false,
    "category": "General purpose",
    "gpuNum": 0,
    "hideHardwareSpecs": false,
    "memoryGiB": 16,
    "name": "ml.t3.xlarge",
    "vcpuNum": 4
   },
   {
    "_defaultOrder": 3,
    "_isFastLaunch": false,
    "category": "General purpose",
    "gpuNum": 0,
    "hideHardwareSpecs": false,
    "memoryGiB": 32,
    "name": "ml.t3.2xlarge",
    "vcpuNum": 8
   },
   {
    "_defaultOrder": 4,
    "_isFastLaunch": true,
    "category": "General purpose",
    "gpuNum": 0,
    "hideHardwareSpecs": false,
    "memoryGiB": 8,
    "name": "ml.m5.large",
    "vcpuNum": 2
   },
   {
    "_defaultOrder": 5,
    "_isFastLaunch": false,
    "category": "General purpose",
    "gpuNum": 0,
    "hideHardwareSpecs": false,
    "memoryGiB": 16,
    "name": "ml.m5.xlarge",
    "vcpuNum": 4
   },
   {
    "_defaultOrder": 6,
    "_isFastLaunch": false,
    "category": "General purpose",
    "gpuNum": 0,
    "hideHardwareSpecs": false,
    "memoryGiB": 32,
    "name": "ml.m5.2xlarge",
    "vcpuNum": 8
   },
   {
    "_defaultOrder": 7,
    "_isFastLaunch": false,
    "category": "General purpose",
    "gpuNum": 0,
    "hideHardwareSpecs": false,
    "memoryGiB": 64,
    "name": "ml.m5.4xlarge",
    "vcpuNum": 16
   },
   {
    "_defaultOrder": 8,
    "_isFastLaunch": false,
    "category": "General purpose",
    "gpuNum": 0,
    "hideHardwareSpecs": false,
    "memoryGiB": 128,
    "name": "ml.m5.8xlarge",
    "vcpuNum": 32
   },
   {
    "_defaultOrder": 9,
    "_isFastLaunch": false,
    "category": "General purpose",
    "gpuNum": 0,
    "hideHardwareSpecs": false,
    "memoryGiB": 192,
    "name": "ml.m5.12xlarge",
    "vcpuNum": 48
   },
   {
    "_defaultOrder": 10,
    "_isFastLaunch": false,
    "category": "General purpose",
    "gpuNum": 0,
    "hideHardwareSpecs": false,
    "memoryGiB": 256,
    "name": "ml.m5.16xlarge",
    "vcpuNum": 64
   },
   {
    "_defaultOrder": 11,
    "_isFastLaunch": false,
    "category": "General purpose",
    "gpuNum": 0,
    "hideHardwareSpecs": false,
    "memoryGiB": 384,
    "name": "ml.m5.24xlarge",
    "vcpuNum": 96
   },
   {
    "_defaultOrder": 12,
    "_isFastLaunch": false,
    "category": "General purpose",
    "gpuNum": 0,
    "hideHardwareSpecs": false,
    "memoryGiB": 8,
    "name": "ml.m5d.large",
    "vcpuNum": 2
   },
   {
    "_defaultOrder": 13,
    "_isFastLaunch": false,
    "category": "General purpose",
    "gpuNum": 0,
    "hideHardwareSpecs": false,
    "memoryGiB": 16,
    "name": "ml.m5d.xlarge",
    "vcpuNum": 4
   },
   {
    "_defaultOrder": 14,
    "_isFastLaunch": false,
    "category": "General purpose",
    "gpuNum": 0,
    "hideHardwareSpecs": false,
    "memoryGiB": 32,
    "name": "ml.m5d.2xlarge",
    "vcpuNum": 8
   },
   {
    "_defaultOrder": 15,
    "_isFastLaunch": false,
    "category": "General purpose",
    "gpuNum": 0,
    "hideHardwareSpecs": false,
    "memoryGiB": 64,
    "name": "ml.m5d.4xlarge",
    "vcpuNum": 16
   },
   {
    "_defaultOrder": 16,
    "_isFastLaunch": false,
    "category": "General purpose",
    "gpuNum": 0,
    "hideHardwareSpecs": false,
    "memoryGiB": 128,
    "name": "ml.m5d.8xlarge",
    "vcpuNum": 32
   },
   {
    "_defaultOrder": 17,
    "_isFastLaunch": false,
    "category": "General purpose",
    "gpuNum": 0,
    "hideHardwareSpecs": false,
    "memoryGiB": 192,
    "name": "ml.m5d.12xlarge",
    "vcpuNum": 48
   },
   {
    "_defaultOrder": 18,
    "_isFastLaunch": false,
    "category": "General purpose",
    "gpuNum": 0,
    "hideHardwareSpecs": false,
    "memoryGiB": 256,
    "name": "ml.m5d.16xlarge",
    "vcpuNum": 64
   },
   {
    "_defaultOrder": 19,
    "_isFastLaunch": false,
    "category": "General purpose",
    "gpuNum": 0,
    "hideHardwareSpecs": false,
    "memoryGiB": 384,
    "name": "ml.m5d.24xlarge",
    "vcpuNum": 96
   },
   {
    "_defaultOrder": 20,
    "_isFastLaunch": false,
    "category": "General purpose",
    "gpuNum": 0,
    "hideHardwareSpecs": true,
    "memoryGiB": 0,
    "name": "ml.geospatial.interactive",
    "supportedImageNames": [
     "sagemaker-geospatial-v1-0"
    ],
    "vcpuNum": 0
   },
   {
    "_defaultOrder": 21,
    "_isFastLaunch": true,
    "category": "Compute optimized",
    "gpuNum": 0,
    "hideHardwareSpecs": false,
    "memoryGiB": 4,
    "name": "ml.c5.large",
    "vcpuNum": 2
   },
   {
    "_defaultOrder": 22,
    "_isFastLaunch": false,
    "category": "Compute optimized",
    "gpuNum": 0,
    "hideHardwareSpecs": false,
    "memoryGiB": 8,
    "name": "ml.c5.xlarge",
    "vcpuNum": 4
   },
   {
    "_defaultOrder": 23,
    "_isFastLaunch": false,
    "category": "Compute optimized",
    "gpuNum": 0,
    "hideHardwareSpecs": false,
    "memoryGiB": 16,
    "name": "ml.c5.2xlarge",
    "vcpuNum": 8
   },
   {
    "_defaultOrder": 24,
    "_isFastLaunch": false,
    "category": "Compute optimized",
    "gpuNum": 0,
    "hideHardwareSpecs": false,
    "memoryGiB": 32,
    "name": "ml.c5.4xlarge",
    "vcpuNum": 16
   },
   {
    "_defaultOrder": 25,
    "_isFastLaunch": false,
    "category": "Compute optimized",
    "gpuNum": 0,
    "hideHardwareSpecs": false,
    "memoryGiB": 72,
    "name": "ml.c5.9xlarge",
    "vcpuNum": 36
   },
   {
    "_defaultOrder": 26,
    "_isFastLaunch": false,
    "category": "Compute optimized",
    "gpuNum": 0,
    "hideHardwareSpecs": false,
    "memoryGiB": 96,
    "name": "ml.c5.12xlarge",
    "vcpuNum": 48
   },
   {
    "_defaultOrder": 27,
    "_isFastLaunch": false,
    "category": "Compute optimized",
    "gpuNum": 0,
    "hideHardwareSpecs": false,
    "memoryGiB": 144,
    "name": "ml.c5.18xlarge",
    "vcpuNum": 72
   },
   {
    "_defaultOrder": 28,
    "_isFastLaunch": false,
    "category": "Compute optimized",
    "gpuNum": 0,
    "hideHardwareSpecs": false,
    "memoryGiB": 192,
    "name": "ml.c5.24xlarge",
    "vcpuNum": 96
   },
   {
    "_defaultOrder": 29,
    "_isFastLaunch": true,
    "category": "Accelerated computing",
    "gpuNum": 1,
    "hideHardwareSpecs": false,
    "memoryGiB": 16,
    "name": "ml.g4dn.xlarge",
    "vcpuNum": 4
   },
   {
    "_defaultOrder": 30,
    "_isFastLaunch": false,
    "category": "Accelerated computing",
    "gpuNum": 1,
    "hideHardwareSpecs": false,
    "memoryGiB": 32,
    "name": "ml.g4dn.2xlarge",
    "vcpuNum": 8
   },
   {
    "_defaultOrder": 31,
    "_isFastLaunch": false,
    "category": "Accelerated computing",
    "gpuNum": 1,
    "hideHardwareSpecs": false,
    "memoryGiB": 64,
    "name": "ml.g4dn.4xlarge",
    "vcpuNum": 16
   },
   {
    "_defaultOrder": 32,
    "_isFastLaunch": false,
    "category": "Accelerated computing",
    "gpuNum": 1,
    "hideHardwareSpecs": false,
    "memoryGiB": 128,
    "name": "ml.g4dn.8xlarge",
    "vcpuNum": 32
   },
   {
    "_defaultOrder": 33,
    "_isFastLaunch": false,
    "category": "Accelerated computing",
    "gpuNum": 4,
    "hideHardwareSpecs": false,
    "memoryGiB": 192,
    "name": "ml.g4dn.12xlarge",
    "vcpuNum": 48
   },
   {
    "_defaultOrder": 34,
    "_isFastLaunch": false,
    "category": "Accelerated computing",
    "gpuNum": 1,
    "hideHardwareSpecs": false,
    "memoryGiB": 256,
    "name": "ml.g4dn.16xlarge",
    "vcpuNum": 64
   },
   {
    "_defaultOrder": 35,
    "_isFastLaunch": false,
    "category": "Accelerated computing",
    "gpuNum": 1,
    "hideHardwareSpecs": false,
    "memoryGiB": 61,
    "name": "ml.p3.2xlarge",
    "vcpuNum": 8
   },
   {
    "_defaultOrder": 36,
    "_isFastLaunch": false,
    "category": "Accelerated computing",
    "gpuNum": 4,
    "hideHardwareSpecs": false,
    "memoryGiB": 244,
    "name": "ml.p3.8xlarge",
    "vcpuNum": 32
   },
   {
    "_defaultOrder": 37,
    "_isFastLaunch": false,
    "category": "Accelerated computing",
    "gpuNum": 8,
    "hideHardwareSpecs": false,
    "memoryGiB": 488,
    "name": "ml.p3.16xlarge",
    "vcpuNum": 64
   },
   {
    "_defaultOrder": 38,
    "_isFastLaunch": false,
    "category": "Accelerated computing",
    "gpuNum": 8,
    "hideHardwareSpecs": false,
    "memoryGiB": 768,
    "name": "ml.p3dn.24xlarge",
    "vcpuNum": 96
   },
   {
    "_defaultOrder": 39,
    "_isFastLaunch": false,
    "category": "Memory Optimized",
    "gpuNum": 0,
    "hideHardwareSpecs": false,
    "memoryGiB": 16,
    "name": "ml.r5.large",
    "vcpuNum": 2
   },
   {
    "_defaultOrder": 40,
    "_isFastLaunch": false,
    "category": "Memory Optimized",
    "gpuNum": 0,
    "hideHardwareSpecs": false,
    "memoryGiB": 32,
    "name": "ml.r5.xlarge",
    "vcpuNum": 4
   },
   {
    "_defaultOrder": 41,
    "_isFastLaunch": false,
    "category": "Memory Optimized",
    "gpuNum": 0,
    "hideHardwareSpecs": false,
    "memoryGiB": 64,
    "name": "ml.r5.2xlarge",
    "vcpuNum": 8
   },
   {
    "_defaultOrder": 42,
    "_isFastLaunch": false,
    "category": "Memory Optimized",
    "gpuNum": 0,
    "hideHardwareSpecs": false,
    "memoryGiB": 128,
    "name": "ml.r5.4xlarge",
    "vcpuNum": 16
   },
   {
    "_defaultOrder": 43,
    "_isFastLaunch": false,
    "category": "Memory Optimized",
    "gpuNum": 0,
    "hideHardwareSpecs": false,
    "memoryGiB": 256,
    "name": "ml.r5.8xlarge",
    "vcpuNum": 32
   },
   {
    "_defaultOrder": 44,
    "_isFastLaunch": false,
    "category": "Memory Optimized",
    "gpuNum": 0,
    "hideHardwareSpecs": false,
    "memoryGiB": 384,
    "name": "ml.r5.12xlarge",
    "vcpuNum": 48
   },
   {
    "_defaultOrder": 45,
    "_isFastLaunch": false,
    "category": "Memory Optimized",
    "gpuNum": 0,
    "hideHardwareSpecs": false,
    "memoryGiB": 512,
    "name": "ml.r5.16xlarge",
    "vcpuNum": 64
   },
   {
    "_defaultOrder": 46,
    "_isFastLaunch": false,
    "category": "Memory Optimized",
    "gpuNum": 0,
    "hideHardwareSpecs": false,
    "memoryGiB": 768,
    "name": "ml.r5.24xlarge",
    "vcpuNum": 96
   },
   {
    "_defaultOrder": 47,
    "_isFastLaunch": false,
    "category": "Accelerated computing",
    "gpuNum": 1,
    "hideHardwareSpecs": false,
    "memoryGiB": 16,
    "name": "ml.g5.xlarge",
    "vcpuNum": 4
   },
   {
    "_defaultOrder": 48,
    "_isFastLaunch": false,
    "category": "Accelerated computing",
    "gpuNum": 1,
    "hideHardwareSpecs": false,
    "memoryGiB": 32,
    "name": "ml.g5.2xlarge",
    "vcpuNum": 8
   },
   {
    "_defaultOrder": 49,
    "_isFastLaunch": false,
    "category": "Accelerated computing",
    "gpuNum": 1,
    "hideHardwareSpecs": false,
    "memoryGiB": 64,
    "name": "ml.g5.4xlarge",
    "vcpuNum": 16
   },
   {
    "_defaultOrder": 50,
    "_isFastLaunch": false,
    "category": "Accelerated computing",
    "gpuNum": 1,
    "hideHardwareSpecs": false,
    "memoryGiB": 128,
    "name": "ml.g5.8xlarge",
    "vcpuNum": 32
   },
   {
    "_defaultOrder": 51,
    "_isFastLaunch": false,
    "category": "Accelerated computing",
    "gpuNum": 1,
    "hideHardwareSpecs": false,
    "memoryGiB": 256,
    "name": "ml.g5.16xlarge",
    "vcpuNum": 64
   },
   {
    "_defaultOrder": 52,
    "_isFastLaunch": false,
    "category": "Accelerated computing",
    "gpuNum": 4,
    "hideHardwareSpecs": false,
    "memoryGiB": 192,
    "name": "ml.g5.12xlarge",
    "vcpuNum": 48
   },
   {
    "_defaultOrder": 53,
    "_isFastLaunch": false,
    "category": "Accelerated computing",
    "gpuNum": 4,
    "hideHardwareSpecs": false,
    "memoryGiB": 384,
    "name": "ml.g5.24xlarge",
    "vcpuNum": 96
   },
   {
    "_defaultOrder": 54,
    "_isFastLaunch": false,
    "category": "Accelerated computing",
    "gpuNum": 8,
    "hideHardwareSpecs": false,
    "memoryGiB": 768,
    "name": "ml.g5.48xlarge",
    "vcpuNum": 192
   },
   {
    "_defaultOrder": 55,
    "_isFastLaunch": false,
    "category": "Accelerated computing",
    "gpuNum": 8,
    "hideHardwareSpecs": false,
    "memoryGiB": 1152,
    "name": "ml.p4d.24xlarge",
    "vcpuNum": 96
   },
   {
    "_defaultOrder": 56,
    "_isFastLaunch": false,
    "category": "Accelerated computing",
    "gpuNum": 8,
    "hideHardwareSpecs": false,
    "memoryGiB": 1152,
    "name": "ml.p4de.24xlarge",
    "vcpuNum": 96
   },
   {
    "_defaultOrder": 57,
    "_isFastLaunch": false,
    "category": "Accelerated computing",
    "gpuNum": 0,
    "hideHardwareSpecs": false,
    "memoryGiB": 32,
    "name": "ml.trn1.2xlarge",
    "vcpuNum": 8
   },
   {
    "_defaultOrder": 58,
    "_isFastLaunch": false,
    "category": "Accelerated computing",
    "gpuNum": 0,
    "hideHardwareSpecs": false,
    "memoryGiB": 512,
    "name": "ml.trn1.32xlarge",
    "vcpuNum": 128
   },
   {
    "_defaultOrder": 59,
    "_isFastLaunch": false,
    "category": "Accelerated computing",
    "gpuNum": 0,
    "hideHardwareSpecs": false,
    "memoryGiB": 512,
    "name": "ml.trn1n.32xlarge",
    "vcpuNum": 128
   }
  ],
  "instance_type": "ml.m5.8xlarge",
  "kernelspec": {
   "display_name": "Python 3 (Data Science 3.0)",
   "language": "python",
   "name": "python3__SAGEMAKER_INTERNAL__arn:aws:sagemaker:us-east-1:081325390199:image/sagemaker-data-science-310-v1"
  },
  "language_info": {
   "codemirror_mode": {
    "name": "ipython",
    "version": 3
   },
   "file_extension": ".py",
   "mimetype": "text/x-python",
   "name": "python",
   "nbconvert_exporter": "python",
   "pygments_lexer": "ipython3",
   "version": "3.10.6"
  }
 },
 "nbformat": 4,
 "nbformat_minor": 5
}
