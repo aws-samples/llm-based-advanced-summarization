{
 "cells": [
  {
   "cell_type": "markdown",
   "id": "edc6dcc2-d366-4a13-997a-7afeb9636a33",
   "metadata": {},
   "source": [
    "# Download and Clean Sample Data #\n",
    "This notebook will download a few different lengeths of sample data for testing our summary algorithm.  First, we'll download a full length novel, Frakenstein by Mary Shelley.  Second, we'll download a short story, Flowers for Algernon.  Third, we'll download the 4 page Hills like White Elephants.  Forth, we'll download one of the longest factual wikipedia entries, which covers Elvis Presly.  Fifth, we'll look at a collection of word documents, to explore summarization of groups of texts.  For all of these, we'll clean them up into plain text, and a format expected by the summary algorithm.  The cleaning process is different for each because we're cleaning up HTML formatting, but the end goal is to have a simple string containing the document, or dict of strings for document groups and save it as a Pickle for use in other notebooks."
   ]
  },
  {
   "cell_type": "markdown",
   "id": "50f4c8d4-c54e-4948-a90f-ca2bac480f87",
   "metadata": {},
   "source": [
    "### Raw Text Locations: ###\n",
    "Frankenstein: https://www.gutenberg.org/files/84/84-h/84-h.htm\n",
    "\n",
    "\n",
    "Flowers for Algernon: https://www.alcaweb.org/arch.php/resource/view/172077\n",
    "\n",
    "\n",
    "Hills like White Elephants: https://www.macmillanhighered.com/BrainHoney/Resource/6702/digital_first_content/trunk/test/literature_full/asset/downloadables/AnnotatedText_HillsLikeWhiteElephants.html\n",
    "\n",
    "Elvis Presly: https://en.wikipedia.org/wiki/Elvis_Presley"
   ]
  },
  {
   "cell_type": "code",
   "execution_count": 4,
   "id": "5c325b8d-897c-4b0c-a01a-2aa0125104eb",
   "metadata": {
    "tags": []
   },
   "outputs": [],
   "source": [
    "#import dependancies\n",
    "import requests\n",
    "from bs4 import BeautifulSoup\n",
    "import pickle\n",
    "import re"
   ]
  },
  {
   "cell_type": "markdown",
   "id": "d4bac9b8-dc51-4cb4-ac94-33e3783de916",
   "metadata": {},
   "source": [
    "### Download and clean Frankenstein ###\n",
    "This is a full length book, to test creation of a summary based on a very long single text."
   ]
  },
  {
   "cell_type": "code",
   "execution_count": null,
   "id": "5bf70ca7-3671-424c-a0a9-2d902f3ac48a",
   "metadata": {
    "tags": []
   },
   "outputs": [],
   "source": [
    "#grab the text, using Beautiful Soup to parse the HTML\n",
    "url = \"https://www.gutenberg.org/files/84/84-h/84-h.htm\"\n",
    "response = requests.get(url)\n",
    "soup = BeautifulSoup(response.text, 'html.parser')\n",
    "raw_full_text = soup.text"
   ]
  },
  {
   "cell_type": "code",
   "execution_count": null,
   "id": "080ce072-fbb7-49ea-85e8-6aeea302e4a9",
   "metadata": {
    "tags": []
   },
   "outputs": [],
   "source": [
    "#Cut the top and bottom of the page, so that we only have the text of the book.\n",
    "raw_full_text = raw_full_text[raw_full_text.index(\"Letter 1\\n\\nTo Mrs. Saville, England.\"):raw_full_text.index(\"*** END OF THE PROJECT GUTENBERG EBOOK FRANKENSTEIN ***\")].replace(\"\\r\\n\",\" \").replace(\"\\n\", \" \")\n",
    "#encode some misc unicode charaters.\n",
    "full_text = raw_full_text.encode('raw_unicode_escape').decode()\n",
    "#show that we found the expected length\n",
    "words_count = len(full_text.split(\" \"))\n",
    "pages_count = int(words_count/500)#quick estimate, real page count is dependant on page and font size.\n",
    "print (\"Approximate word count:\",words_count)\n",
    "print (\"Approximate page count:\",pages_count)"
   ]
  },
  {
   "cell_type": "code",
   "execution_count": null,
   "id": "f550501a-b79e-4278-86a3-96468c352fe9",
   "metadata": {
    "tags": []
   },
   "outputs": [],
   "source": [
    "#save this clean text for later use\n",
    "with open('sample texts/frankenstien.pkl', 'wb') as file:\n",
    "    pickle.dump(full_text, file)"
   ]
  },
  {
   "cell_type": "markdown",
   "id": "9e2fdea2-d8bc-4bd5-b38c-9cb357e98191",
   "metadata": {},
   "source": [
    "### Download and clean Flowers for Algernon ###\n",
    "This is a short, to test creation of a summary based on a short story that is still longer than most context windows.  This story is also challenging because it contains poorly written english, representing the main charater's mental strength."
   ]
  },
  {
   "cell_type": "code",
   "execution_count": null,
   "id": "fae0395a-849a-431f-a1d5-bdf0d0f00197",
   "metadata": {
    "tags": []
   },
   "outputs": [],
   "source": [
    "#grab the text, using Beautiful Soup to parse the HTML\n",
    "url = \"https://www.alcaweb.org/arch.php/resource/view/172077\"\n",
    "response = requests.get(url)\n",
    "soup = BeautifulSoup(response.text, 'html.parser')\n",
    "raw_full_text = soup.text"
   ]
  },
  {
   "cell_type": "code",
   "execution_count": null,
   "id": "60dd6bf1-ab07-44c5-9182-5a775690043b",
   "metadata": {
    "tags": []
   },
   "outputs": [],
   "source": [
    "#Cut the top and bottom of the page, so that we only have the text of the book.\n",
    "start_text = \"Progris riport 1 martch 3.\"\n",
    "end_text = \"chanse put some flown on Algernons grave in the bak yard.\"\n",
    "full_text = raw_full_text[raw_full_text.index(start_text):raw_full_text.index(end_text)+len(end_text)].replace(\"\\r\\n\",\" \").replace(\"\\n\", \" \").replace(\"\\t\",\"\")\n",
    "\n",
    "#show that we found the expected length\n",
    "words_count = len(full_text.split(\" \"))\n",
    "pages_count = int(words_count/500)#quick estimate, real page count is dependant on page and font size.\n",
    "print (\"Approximate word count:\",words_count)\n",
    "print (\"Approximate page count:\",pages_count)"
   ]
  },
  {
   "cell_type": "code",
   "execution_count": null,
   "id": "aafbfb7c-fc86-4ac3-842f-18e0721f9584",
   "metadata": {
    "tags": []
   },
   "outputs": [],
   "source": [
    "#save this clean text for later use\n",
    "with open('sample texts/algernon.pkl', 'wb') as file:\n",
    "    pickle.dump(full_text, file)"
   ]
  },
  {
   "cell_type": "markdown",
   "id": "90f86b64-4525-455f-8b70-6398448b93a2",
   "metadata": {
    "tags": []
   },
   "source": [
    "### Download and clean Hills like White Elephants ###\n",
    "This is a short story, to test creation of a summary based text that is only a few pages long."
   ]
  },
  {
   "cell_type": "code",
   "execution_count": null,
   "id": "a4aa7f72-f8b9-4db5-aedf-6a35279b60af",
   "metadata": {
    "tags": []
   },
   "outputs": [],
   "source": [
    "#grab the text, using Beautiful Soup to parse the HTML\n",
    "url = \"https://www.macmillanhighered.com/BrainHoney/Resource/6702/digital_first_content/trunk/test/literature_full/asset/downloadables/AnnotatedText_HillsLikeWhiteElephants.html\"\n",
    "response = requests.get(url)\n",
    "soup = BeautifulSoup(response.text, 'html.parser')\n",
    "raw_full_text = soup.findAll('p')"
   ]
  },
  {
   "cell_type": "code",
   "execution_count": null,
   "id": "d447c590-a125-47b6-bc85-eac86a4fa822",
   "metadata": {
    "tags": []
   },
   "outputs": [],
   "source": [
    "#join the paragraphs together:\n",
    "raw_full_text_temp = []\n",
    "for p in raw_full_text:\n",
    "    raw_full_text_temp.append(p.text)\n",
    "raw_full_text = \" \".join(raw_full_text_temp)"
   ]
  },
  {
   "cell_type": "code",
   "execution_count": null,
   "id": "041200f4-2334-4572-b51a-d27fba25f74d",
   "metadata": {
    "tags": []
   },
   "outputs": [],
   "source": [
    "#Cut the top and bottom of the page, so that we only have the text of the book.\n",
    "start_text = \"The hills across the valley of the Ebro were long and white.\"\n",
    "end_text = \"“I feel fine,” she said. “There’s nothing wrong with me. I feel fine.”\"\n",
    "full_text = raw_full_text[raw_full_text.index(start_text):raw_full_text.index(end_text)+len(end_text)].replace(\"\\r\\n\",\" \").replace(\"\\n\", \" \").replace(\"\\t\",\"\")\n",
    "\n",
    "#show that we found the expected length\n",
    "words_count = len(full_text.split(\" \"))\n",
    "pages_count = int(words_count/500)#quick estimate, real page count is dependant on page and font size.\n",
    "print (\"Approximate word count:\",words_count)\n",
    "print (\"Approximate page count:\",pages_count)"
   ]
  },
  {
   "cell_type": "code",
   "execution_count": null,
   "id": "02fc474a-4037-451d-a2a7-37fab3e5aaad",
   "metadata": {
    "tags": []
   },
   "outputs": [],
   "source": [
    "#save this clean text for later use\n",
    "with open('sample texts/hills.pkl', 'wb') as file:\n",
    "    pickle.dump(full_text, file)"
   ]
  },
  {
   "cell_type": "markdown",
   "id": "a69f81eb-a105-4ece-9267-5aef2a93f391",
   "metadata": {
    "tags": []
   },
   "source": [
    "### Download and clean Elvis Presley's wikipedia article ###\n",
    "This is a long factual article, to test creation of a summary based on non-fiction text."
   ]
  },
  {
   "cell_type": "code",
   "execution_count": null,
   "id": "f94de46e-f440-4ff0-9834-ca1a0a2d4e11",
   "metadata": {
    "tags": []
   },
   "outputs": [],
   "source": [
    "#grab the text, using Beautiful Soup to parse the HTML\n",
    "url = \"https://en.wikipedia.org/w/api.php?format=xml&action=query&prop=extracts&titles=Elvis_Presley&redirects=true\"\n",
    "response = requests.get(url)\n",
    "soup = BeautifulSoup(response.text)"
   ]
  },
  {
   "cell_type": "code",
   "execution_count": null,
   "id": "a512e1bd-e49d-4474-a248-9996f156d1e8",
   "metadata": {
    "tags": []
   },
   "outputs": [],
   "source": [
    "#grab out the text:\n",
    "full_text_with_tags = soup.get_text()\n",
    "full_text = re.sub('<[^<]+?>', '', full_text_with_tags)\n",
    "\n",
    "#cut the top and bottom of the page\n",
    "start_text = \"Elvis Aaron Presley (January 8, 1935 – August 16, 1977), often referred\"\n",
    "end_text = \"albums. In the 1970s, his most heavily promoted and bestselling LP releases tended to be concert albums.\"\n",
    "full_text = full_text[full_text.index(start_text):full_text.index(end_text)+len(end_text)].replace(\"\\r\\n\",\" \").replace(\"\\n\", \" \").replace(\"\\t\",\"\")\n",
    "\n",
    "#print(full_text)"
   ]
  },
  {
   "cell_type": "code",
   "execution_count": null,
   "id": "526e4a25-aace-4ca6-8fb7-ef1ee5b69436",
   "metadata": {
    "tags": []
   },
   "outputs": [],
   "source": [
    "#show that we found the expected length\n",
    "words_count = len(full_text.split(\" \"))\n",
    "pages_count = int(words_count/500)#quick estimate, real page count is dependant on page and font size.\n",
    "print (\"Approximate word count:\",words_count)\n",
    "print (\"Approximate page count:\",pages_count)"
   ]
  },
  {
   "cell_type": "code",
   "execution_count": null,
   "id": "07f91f3e-b539-41cd-9222-eb6000752636",
   "metadata": {
    "tags": []
   },
   "outputs": [],
   "source": [
    "#save this clean text for later use\n",
    "with open('sample texts/elvis.pkl', 'wb') as file:\n",
    "    pickle.dump(full_text, file)"
   ]
  },
  {
   "cell_type": "markdown",
   "id": "67891824-eef4-46ad-ab24-e7cfb3c26fbc",
   "metadata": {},
   "source": [
    "## Clean the sample group of documents.\n",
    "The sample docs cleaned here are a collection of word documents.  These are not public, and so are not included in the git repo.  Feel free to drop in your own documents."
   ]
  },
  {
   "cell_type": "code",
   "execution_count": null,
   "id": "e309dc73-23e9-41f3-950f-dfe8282ae673",
   "metadata": {
    "tags": []
   },
   "outputs": [],
   "source": [
    "!pip install docx2txt"
   ]
  },
  {
   "cell_type": "code",
   "execution_count": null,
   "id": "4747c67b-e7e7-48e7-94b6-3f32b9b4cfc6",
   "metadata": {
    "tags": []
   },
   "outputs": [],
   "source": [
    "import docx2txt\n",
    "import glob\n",
    "\n",
    "directory = glob.glob('sample texts/*.docx')\n",
    "docs = {}\n",
    "for file_name in directory:\n",
    "    #print(file_name)\n",
    "    with open(file_name, 'rb') as infile:\n",
    "        doc = docx2txt.process(infile)\n",
    "        docs[file_name.replace(\"sample texts/docs/\",\"\")] = doc   \n",
    "\n",
    "print(\"Loaded in %s docs.\"%len(docs))"
   ]
  },
  {
   "cell_type": "markdown",
   "id": "a7468535-c73b-47fe-b6fc-5962e6888106",
   "metadata": {},
   "source": [
    "Alternativly, let's grab a bunch of amazon reviews, and use them as seperate documents.  \n",
    "Here are some 1 and 5 star reviews for https://www.amazon.com/dp/B09DXZB7JQ"
   ]
  },
  {
   "cell_type": "code",
   "execution_count": 2,
   "id": "e9dadd43-0c07-4447-a0e7-bbf2bbe1c34d",
   "metadata": {
    "tags": []
   },
   "outputs": [],
   "source": [
    "docs = {}\n",
    "docs[\"review_001\"] = \"My daughter absolutely loves this set from Panel Sound (not sure why named panel sound) but the bag is a great addition as it keeps the paddles and balls organized, its a messenger style bag as opposed to book bags but it does the trick. We have not used the included cooling towels as we have larger ones for us to use down here in S. Florida. My daughter loved it so much we bought a second set for her to play with my parents when she visits their house. I'm not a pickle ball specialist, but the paddles seem great to me and 60 days later the original ball she used (put her name on it) is still going strong.\"\n",
    "docs[\"review_002\"] = \"\"\"The Panel Sound USAPA Approved Pickleball Paddle Set has exceeded my expectations, delivering a complete package for pickleball enthusiasts of all skill levels. With its lightweight paddles, versatile ball options, and thoughtful accessories, this set caters to indoor and outdoor play with style and precision.\n",
    "Pros:\n",
    "Quality Paddles: The included fiberglass pickleball paddles are USAPA approved, ensuring professional-grade quality. Their lightweight yet sturdy construction enhances control and power during gameplay.\n",
    "Variety of Balls: The set includes both indoor and outdoor balls, offering adaptability to different playing environments. This flexibility lets you enjoy pickleball wherever you choose.\n",
    "Comprehensive Set: The addition of a carrying case, cooling towels, and various ball types demonstrates the manufacturer's attention to detail, making this set a convenient and complete solution for pickleball enthusiasts.\n",
    "Enhanced Gameplay: The paddles' lightweight design and responsive construction contribute to improved gameplay, allowing for precise shots and better maneuverability on the court.\n",
    "Durability and Portability: The quality materials used in the construction of the paddles and accessories ensure their longevity. The carrying case and cooling towels add portability and ease to your pickleball adventures.\n",
    "Cons:\n",
    "Cooling Towel Size: Some users might find the cooling towels on the smaller side, potentially requiring more frequent re-wetting during extended play sessions.\n",
    "Personal Preference: While the paddles are versatile, some players might have personal preferences for specific paddle designs or grip styles.\n",
    "In summary, the Panel Sound Pickleball Paddle Set offers an excellent combination of performance, variety, and convenience. The quality paddles, diverse ball options, and thoughtful extras like the carrying case and cooling towels create a comprehensive package for pickleball enthusiasts. While there might be minor considerations such as cooling towel size and personal preference, the overall benefits and attention to detail make this set a solid choice for enhancing your pickleball experience both indoors and outdoors.\"\"\"\n",
    "docs[\"review_003\"] = \"My husband and I were invited to play Pickleball with some friends and we’d never play before. We found these and they were a good value with a bag, balls, and towels included. We had to Google which balls were for where lol so I wish the instructions mentioned that, but overall they worked well! We’re no expert by any means but I’m petite and not athletic at all, and they’re surprisingly easy to move and handle. They also work for my husband and he’s a big larger. So far so good!\"\n",
    "docs[\"review_004\"] = \"\"\"Pickle ball is all the rage now. I live close to this tennis court and I have watched a mostly empty court now become used quite frequently. Decided to try pickle all and ordered this set after browsing a few reviews. Seems to be good.\n",
    "Grip is ehh..grippy and ergonomic\n",
    "Carrying case is a nice addition.\n",
    "Balls are seemingly good quality\n",
    "I have nothing to compare this to but i didn’t get the feeling that it is an inferior product. Seems good\"\"\"\n",
    "docs[\"review_005\"] = \"What can I say. My husband wanted these because it was a fad and we only used them once or twice. Hopefully we'll use them again. I love the carry case and everything it came with.\"\n",
    "docs[\"review_006\"] = \"These paddles were great at the start. But after only four individual days of play, they broke! At first, it was only one paddle that came loose during a game. I thought that was odd, being that we only used it according to its purpose. There was no rough treatment of the paddle, we were just playing a game. So, we borrowed a paddle from someone to finish our match. But during the game the second paddle became loose and started wobbling. Now there's no power or control in the paddle. It just wobbles around like a cracked piece of wood being held together by the grip tape! This is frustrating because the time for a return has passed and no one could've predicted that the paddle wouldn't last beyond a month. I would like a refund or at least new paddles.\"\n",
    "docs[\"review_007\"] = \"Feels too light with no power compared to other paddles i used. I wish i could return these but passed the 30 d timeline\"\n",
    "docs[\"review_008\"] = \"Do not buy! Product comes from China and cannot contact; the item is warranted and will not be honored because you can’t get in touch. Amazon will do nothing to help! Disgraceful.\"\n",
    "docs[\"review_009\"] = \"We used it once and the paddle broke in half. Get a different brand that’s more sturdy.\"\n",
    "docs[\"review_010\"] = \"I just bought these in June. It is March and one of the paddles is shattered inside. We were not careless in caring for them either. Poor Quality. I cannot find any information as to if there is a warranty on them either.\""
   ]
  },
  {
   "cell_type": "code",
   "execution_count": 5,
   "id": "a272f3a8-ffda-415c-8242-13230b55e9b2",
   "metadata": {
    "tags": []
   },
   "outputs": [],
   "source": [
    "#save this clean text for later use\n",
    "with open('sample texts/docs.pkl', 'wb') as file:\n",
    "    pickle.dump(docs, file)"
   ]
  },
  {
   "cell_type": "code",
   "execution_count": null,
   "id": "b5a35790-b527-4b08-9160-33bffdb584f4",
   "metadata": {},
   "outputs": [],
   "source": []
  }
 ],
 "metadata": {
  "availableInstances": [
   {
    "_defaultOrder": 0,
    "_isFastLaunch": true,
    "category": "General purpose",
    "gpuNum": 0,
    "hideHardwareSpecs": false,
    "memoryGiB": 4,
    "name": "ml.t3.medium",
    "vcpuNum": 2
   },
   {
    "_defaultOrder": 1,
    "_isFastLaunch": false,
    "category": "General purpose",
    "gpuNum": 0,
    "hideHardwareSpecs": false,
    "memoryGiB": 8,
    "name": "ml.t3.large",
    "vcpuNum": 2
   },
   {
    "_defaultOrder": 2,
    "_isFastLaunch": false,
    "category": "General purpose",
    "gpuNum": 0,
    "hideHardwareSpecs": false,
    "memoryGiB": 16,
    "name": "ml.t3.xlarge",
    "vcpuNum": 4
   },
   {
    "_defaultOrder": 3,
    "_isFastLaunch": false,
    "category": "General purpose",
    "gpuNum": 0,
    "hideHardwareSpecs": false,
    "memoryGiB": 32,
    "name": "ml.t3.2xlarge",
    "vcpuNum": 8
   },
   {
    "_defaultOrder": 4,
    "_isFastLaunch": true,
    "category": "General purpose",
    "gpuNum": 0,
    "hideHardwareSpecs": false,
    "memoryGiB": 8,
    "name": "ml.m5.large",
    "vcpuNum": 2
   },
   {
    "_defaultOrder": 5,
    "_isFastLaunch": false,
    "category": "General purpose",
    "gpuNum": 0,
    "hideHardwareSpecs": false,
    "memoryGiB": 16,
    "name": "ml.m5.xlarge",
    "vcpuNum": 4
   },
   {
    "_defaultOrder": 6,
    "_isFastLaunch": false,
    "category": "General purpose",
    "gpuNum": 0,
    "hideHardwareSpecs": false,
    "memoryGiB": 32,
    "name": "ml.m5.2xlarge",
    "vcpuNum": 8
   },
   {
    "_defaultOrder": 7,
    "_isFastLaunch": false,
    "category": "General purpose",
    "gpuNum": 0,
    "hideHardwareSpecs": false,
    "memoryGiB": 64,
    "name": "ml.m5.4xlarge",
    "vcpuNum": 16
   },
   {
    "_defaultOrder": 8,
    "_isFastLaunch": false,
    "category": "General purpose",
    "gpuNum": 0,
    "hideHardwareSpecs": false,
    "memoryGiB": 128,
    "name": "ml.m5.8xlarge",
    "vcpuNum": 32
   },
   {
    "_defaultOrder": 9,
    "_isFastLaunch": false,
    "category": "General purpose",
    "gpuNum": 0,
    "hideHardwareSpecs": false,
    "memoryGiB": 192,
    "name": "ml.m5.12xlarge",
    "vcpuNum": 48
   },
   {
    "_defaultOrder": 10,
    "_isFastLaunch": false,
    "category": "General purpose",
    "gpuNum": 0,
    "hideHardwareSpecs": false,
    "memoryGiB": 256,
    "name": "ml.m5.16xlarge",
    "vcpuNum": 64
   },
   {
    "_defaultOrder": 11,
    "_isFastLaunch": false,
    "category": "General purpose",
    "gpuNum": 0,
    "hideHardwareSpecs": false,
    "memoryGiB": 384,
    "name": "ml.m5.24xlarge",
    "vcpuNum": 96
   },
   {
    "_defaultOrder": 12,
    "_isFastLaunch": false,
    "category": "General purpose",
    "gpuNum": 0,
    "hideHardwareSpecs": false,
    "memoryGiB": 8,
    "name": "ml.m5d.large",
    "vcpuNum": 2
   },
   {
    "_defaultOrder": 13,
    "_isFastLaunch": false,
    "category": "General purpose",
    "gpuNum": 0,
    "hideHardwareSpecs": false,
    "memoryGiB": 16,
    "name": "ml.m5d.xlarge",
    "vcpuNum": 4
   },
   {
    "_defaultOrder": 14,
    "_isFastLaunch": false,
    "category": "General purpose",
    "gpuNum": 0,
    "hideHardwareSpecs": false,
    "memoryGiB": 32,
    "name": "ml.m5d.2xlarge",
    "vcpuNum": 8
   },
   {
    "_defaultOrder": 15,
    "_isFastLaunch": false,
    "category": "General purpose",
    "gpuNum": 0,
    "hideHardwareSpecs": false,
    "memoryGiB": 64,
    "name": "ml.m5d.4xlarge",
    "vcpuNum": 16
   },
   {
    "_defaultOrder": 16,
    "_isFastLaunch": false,
    "category": "General purpose",
    "gpuNum": 0,
    "hideHardwareSpecs": false,
    "memoryGiB": 128,
    "name": "ml.m5d.8xlarge",
    "vcpuNum": 32
   },
   {
    "_defaultOrder": 17,
    "_isFastLaunch": false,
    "category": "General purpose",
    "gpuNum": 0,
    "hideHardwareSpecs": false,
    "memoryGiB": 192,
    "name": "ml.m5d.12xlarge",
    "vcpuNum": 48
   },
   {
    "_defaultOrder": 18,
    "_isFastLaunch": false,
    "category": "General purpose",
    "gpuNum": 0,
    "hideHardwareSpecs": false,
    "memoryGiB": 256,
    "name": "ml.m5d.16xlarge",
    "vcpuNum": 64
   },
   {
    "_defaultOrder": 19,
    "_isFastLaunch": false,
    "category": "General purpose",
    "gpuNum": 0,
    "hideHardwareSpecs": false,
    "memoryGiB": 384,
    "name": "ml.m5d.24xlarge",
    "vcpuNum": 96
   },
   {
    "_defaultOrder": 20,
    "_isFastLaunch": false,
    "category": "General purpose",
    "gpuNum": 0,
    "hideHardwareSpecs": true,
    "memoryGiB": 0,
    "name": "ml.geospatial.interactive",
    "supportedImageNames": [
     "sagemaker-geospatial-v1-0"
    ],
    "vcpuNum": 0
   },
   {
    "_defaultOrder": 21,
    "_isFastLaunch": true,
    "category": "Compute optimized",
    "gpuNum": 0,
    "hideHardwareSpecs": false,
    "memoryGiB": 4,
    "name": "ml.c5.large",
    "vcpuNum": 2
   },
   {
    "_defaultOrder": 22,
    "_isFastLaunch": false,
    "category": "Compute optimized",
    "gpuNum": 0,
    "hideHardwareSpecs": false,
    "memoryGiB": 8,
    "name": "ml.c5.xlarge",
    "vcpuNum": 4
   },
   {
    "_defaultOrder": 23,
    "_isFastLaunch": false,
    "category": "Compute optimized",
    "gpuNum": 0,
    "hideHardwareSpecs": false,
    "memoryGiB": 16,
    "name": "ml.c5.2xlarge",
    "vcpuNum": 8
   },
   {
    "_defaultOrder": 24,
    "_isFastLaunch": false,
    "category": "Compute optimized",
    "gpuNum": 0,
    "hideHardwareSpecs": false,
    "memoryGiB": 32,
    "name": "ml.c5.4xlarge",
    "vcpuNum": 16
   },
   {
    "_defaultOrder": 25,
    "_isFastLaunch": false,
    "category": "Compute optimized",
    "gpuNum": 0,
    "hideHardwareSpecs": false,
    "memoryGiB": 72,
    "name": "ml.c5.9xlarge",
    "vcpuNum": 36
   },
   {
    "_defaultOrder": 26,
    "_isFastLaunch": false,
    "category": "Compute optimized",
    "gpuNum": 0,
    "hideHardwareSpecs": false,
    "memoryGiB": 96,
    "name": "ml.c5.12xlarge",
    "vcpuNum": 48
   },
   {
    "_defaultOrder": 27,
    "_isFastLaunch": false,
    "category": "Compute optimized",
    "gpuNum": 0,
    "hideHardwareSpecs": false,
    "memoryGiB": 144,
    "name": "ml.c5.18xlarge",
    "vcpuNum": 72
   },
   {
    "_defaultOrder": 28,
    "_isFastLaunch": false,
    "category": "Compute optimized",
    "gpuNum": 0,
    "hideHardwareSpecs": false,
    "memoryGiB": 192,
    "name": "ml.c5.24xlarge",
    "vcpuNum": 96
   },
   {
    "_defaultOrder": 29,
    "_isFastLaunch": true,
    "category": "Accelerated computing",
    "gpuNum": 1,
    "hideHardwareSpecs": false,
    "memoryGiB": 16,
    "name": "ml.g4dn.xlarge",
    "vcpuNum": 4
   },
   {
    "_defaultOrder": 30,
    "_isFastLaunch": false,
    "category": "Accelerated computing",
    "gpuNum": 1,
    "hideHardwareSpecs": false,
    "memoryGiB": 32,
    "name": "ml.g4dn.2xlarge",
    "vcpuNum": 8
   },
   {
    "_defaultOrder": 31,
    "_isFastLaunch": false,
    "category": "Accelerated computing",
    "gpuNum": 1,
    "hideHardwareSpecs": false,
    "memoryGiB": 64,
    "name": "ml.g4dn.4xlarge",
    "vcpuNum": 16
   },
   {
    "_defaultOrder": 32,
    "_isFastLaunch": false,
    "category": "Accelerated computing",
    "gpuNum": 1,
    "hideHardwareSpecs": false,
    "memoryGiB": 128,
    "name": "ml.g4dn.8xlarge",
    "vcpuNum": 32
   },
   {
    "_defaultOrder": 33,
    "_isFastLaunch": false,
    "category": "Accelerated computing",
    "gpuNum": 4,
    "hideHardwareSpecs": false,
    "memoryGiB": 192,
    "name": "ml.g4dn.12xlarge",
    "vcpuNum": 48
   },
   {
    "_defaultOrder": 34,
    "_isFastLaunch": false,
    "category": "Accelerated computing",
    "gpuNum": 1,
    "hideHardwareSpecs": false,
    "memoryGiB": 256,
    "name": "ml.g4dn.16xlarge",
    "vcpuNum": 64
   },
   {
    "_defaultOrder": 35,
    "_isFastLaunch": false,
    "category": "Accelerated computing",
    "gpuNum": 1,
    "hideHardwareSpecs": false,
    "memoryGiB": 61,
    "name": "ml.p3.2xlarge",
    "vcpuNum": 8
   },
   {
    "_defaultOrder": 36,
    "_isFastLaunch": false,
    "category": "Accelerated computing",
    "gpuNum": 4,
    "hideHardwareSpecs": false,
    "memoryGiB": 244,
    "name": "ml.p3.8xlarge",
    "vcpuNum": 32
   },
   {
    "_defaultOrder": 37,
    "_isFastLaunch": false,
    "category": "Accelerated computing",
    "gpuNum": 8,
    "hideHardwareSpecs": false,
    "memoryGiB": 488,
    "name": "ml.p3.16xlarge",
    "vcpuNum": 64
   },
   {
    "_defaultOrder": 38,
    "_isFastLaunch": false,
    "category": "Accelerated computing",
    "gpuNum": 8,
    "hideHardwareSpecs": false,
    "memoryGiB": 768,
    "name": "ml.p3dn.24xlarge",
    "vcpuNum": 96
   },
   {
    "_defaultOrder": 39,
    "_isFastLaunch": false,
    "category": "Memory Optimized",
    "gpuNum": 0,
    "hideHardwareSpecs": false,
    "memoryGiB": 16,
    "name": "ml.r5.large",
    "vcpuNum": 2
   },
   {
    "_defaultOrder": 40,
    "_isFastLaunch": false,
    "category": "Memory Optimized",
    "gpuNum": 0,
    "hideHardwareSpecs": false,
    "memoryGiB": 32,
    "name": "ml.r5.xlarge",
    "vcpuNum": 4
   },
   {
    "_defaultOrder": 41,
    "_isFastLaunch": false,
    "category": "Memory Optimized",
    "gpuNum": 0,
    "hideHardwareSpecs": false,
    "memoryGiB": 64,
    "name": "ml.r5.2xlarge",
    "vcpuNum": 8
   },
   {
    "_defaultOrder": 42,
    "_isFastLaunch": false,
    "category": "Memory Optimized",
    "gpuNum": 0,
    "hideHardwareSpecs": false,
    "memoryGiB": 128,
    "name": "ml.r5.4xlarge",
    "vcpuNum": 16
   },
   {
    "_defaultOrder": 43,
    "_isFastLaunch": false,
    "category": "Memory Optimized",
    "gpuNum": 0,
    "hideHardwareSpecs": false,
    "memoryGiB": 256,
    "name": "ml.r5.8xlarge",
    "vcpuNum": 32
   },
   {
    "_defaultOrder": 44,
    "_isFastLaunch": false,
    "category": "Memory Optimized",
    "gpuNum": 0,
    "hideHardwareSpecs": false,
    "memoryGiB": 384,
    "name": "ml.r5.12xlarge",
    "vcpuNum": 48
   },
   {
    "_defaultOrder": 45,
    "_isFastLaunch": false,
    "category": "Memory Optimized",
    "gpuNum": 0,
    "hideHardwareSpecs": false,
    "memoryGiB": 512,
    "name": "ml.r5.16xlarge",
    "vcpuNum": 64
   },
   {
    "_defaultOrder": 46,
    "_isFastLaunch": false,
    "category": "Memory Optimized",
    "gpuNum": 0,
    "hideHardwareSpecs": false,
    "memoryGiB": 768,
    "name": "ml.r5.24xlarge",
    "vcpuNum": 96
   },
   {
    "_defaultOrder": 47,
    "_isFastLaunch": false,
    "category": "Accelerated computing",
    "gpuNum": 1,
    "hideHardwareSpecs": false,
    "memoryGiB": 16,
    "name": "ml.g5.xlarge",
    "vcpuNum": 4
   },
   {
    "_defaultOrder": 48,
    "_isFastLaunch": false,
    "category": "Accelerated computing",
    "gpuNum": 1,
    "hideHardwareSpecs": false,
    "memoryGiB": 32,
    "name": "ml.g5.2xlarge",
    "vcpuNum": 8
   },
   {
    "_defaultOrder": 49,
    "_isFastLaunch": false,
    "category": "Accelerated computing",
    "gpuNum": 1,
    "hideHardwareSpecs": false,
    "memoryGiB": 64,
    "name": "ml.g5.4xlarge",
    "vcpuNum": 16
   },
   {
    "_defaultOrder": 50,
    "_isFastLaunch": false,
    "category": "Accelerated computing",
    "gpuNum": 1,
    "hideHardwareSpecs": false,
    "memoryGiB": 128,
    "name": "ml.g5.8xlarge",
    "vcpuNum": 32
   },
   {
    "_defaultOrder": 51,
    "_isFastLaunch": false,
    "category": "Accelerated computing",
    "gpuNum": 1,
    "hideHardwareSpecs": false,
    "memoryGiB": 256,
    "name": "ml.g5.16xlarge",
    "vcpuNum": 64
   },
   {
    "_defaultOrder": 52,
    "_isFastLaunch": false,
    "category": "Accelerated computing",
    "gpuNum": 4,
    "hideHardwareSpecs": false,
    "memoryGiB": 192,
    "name": "ml.g5.12xlarge",
    "vcpuNum": 48
   },
   {
    "_defaultOrder": 53,
    "_isFastLaunch": false,
    "category": "Accelerated computing",
    "gpuNum": 4,
    "hideHardwareSpecs": false,
    "memoryGiB": 384,
    "name": "ml.g5.24xlarge",
    "vcpuNum": 96
   },
   {
    "_defaultOrder": 54,
    "_isFastLaunch": false,
    "category": "Accelerated computing",
    "gpuNum": 8,
    "hideHardwareSpecs": false,
    "memoryGiB": 768,
    "name": "ml.g5.48xlarge",
    "vcpuNum": 192
   },
   {
    "_defaultOrder": 55,
    "_isFastLaunch": false,
    "category": "Accelerated computing",
    "gpuNum": 8,
    "hideHardwareSpecs": false,
    "memoryGiB": 1152,
    "name": "ml.p4d.24xlarge",
    "vcpuNum": 96
   },
   {
    "_defaultOrder": 56,
    "_isFastLaunch": false,
    "category": "Accelerated computing",
    "gpuNum": 8,
    "hideHardwareSpecs": false,
    "memoryGiB": 1152,
    "name": "ml.p4de.24xlarge",
    "vcpuNum": 96
   }
  ],
  "instance_type": "ml.t3.medium",
  "kernelspec": {
   "display_name": "Python 3 (Data Science 3.0)",
   "language": "python",
   "name": "python3__SAGEMAKER_INTERNAL__arn:aws:sagemaker:us-east-1:081325390199:image/sagemaker-data-science-310-v1"
  },
  "language_info": {
   "codemirror_mode": {
    "name": "ipython",
    "version": 3
   },
   "file_extension": ".py",
   "mimetype": "text/x-python",
   "name": "python",
   "nbconvert_exporter": "python",
   "pygments_lexer": "ipython3",
   "version": "3.10.6"
  }
 },
 "nbformat": 4,
 "nbformat_minor": 5
}
